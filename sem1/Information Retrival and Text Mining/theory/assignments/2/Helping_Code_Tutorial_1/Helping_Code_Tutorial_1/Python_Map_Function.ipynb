{
 "cells": [
  {
   "cell_type": "code",
   "execution_count": null,
   "metadata": {
    "colab": {
     "base_uri": "https://localhost:8080/"
    },
    "id": "7DJ5YZ_Nmoiw",
    "outputId": "df48385e-5c0f-4725-b555-6526376b1204"
   },
   "outputs": [
    {
     "name": "stdout",
     "output_type": "stream",
     "text": [
      "28.325445652008057\n"
     ]
    }
   ],
   "source": [
    "import time\n",
    "iterations = 100000000\n",
    "start = time.time()\n",
    "mylist = []\n",
    "for i in range(iterations):\n",
    "    mylist.append(i+1)\n",
    "end = time.time()\n",
    "print(end - start)"
   ]
  },
  {
   "cell_type": "code",
   "execution_count": null,
   "metadata": {
    "colab": {
     "base_uri": "https://localhost:8080/"
    },
    "id": "DPx5gB3Xo6jc",
    "outputId": "658b9dfc-26fd-49e4-fd60-d9c220551f4a"
   },
   "outputs": [
    {
     "name": "stdout",
     "output_type": "stream",
     "text": [
      "11.588674545288086\n"
     ]
    }
   ],
   "source": [
    "start = time.time()\n",
    "mylist = [i+1 for i in range(iterations)]\n",
    "end = time.time()\n",
    "print(end - start)"
   ]
  },
  {
   "cell_type": "code",
   "execution_count": null,
   "metadata": {
    "colab": {
     "base_uri": "https://localhost:8080/"
    },
    "id": "hhGNNYpwpB5z",
    "outputId": "ca8dbe44-bdca-4f17-fb57-2431aca83746"
   },
   "outputs": [
    {
     "name": "stdout",
     "output_type": "stream",
     "text": [
      "[2, 4, 6, 8]\n"
     ]
    }
   ],
   "source": [
    "# Python program to demonstrate working\n",
    "# of map.\n",
    "  \n",
    "# Return double of n\n",
    "def addition(n):\n",
    "    return n + n\n",
    "  \n",
    "# We double all numbers using map()\n",
    "numbers = (1, 2, 3, 4)\n",
    "result = map(addition, numbers)\n",
    "#print(result)\n",
    "print(list(result))"
   ]
  },
  {
   "cell_type": "code",
   "execution_count": null,
   "metadata": {
    "colab": {
     "base_uri": "https://localhost:8080/"
    },
    "id": "YYkHOHBgqzT_",
    "outputId": "795a483a-0f6e-46e2-9242-47183e4c7a07"
   },
   "outputs": [
    {
     "name": "stdout",
     "output_type": "stream",
     "text": [
      "<map object at 0x7f3e6ccd88d0>\n",
      "0.0012760162353515625\n",
      "[0, 1, 9, 20.25, 9801, 0.0064]\n"
     ]
    }
   ],
   "source": [
    "# function to square a given number\n",
    "start = time.time()\n",
    "def squareNum (a) :\n",
    "    return a * a\n",
    "  \n",
    "  \n",
    "listt = [0, -1, 3, 4.5, 99, .08]\n",
    "  \n",
    "# using 'map' to call the function\n",
    "# 'squareNum' for all the elements\n",
    "# of 'listt'\n",
    "x = map(squareNum, listt)\n",
    "  \n",
    "# map function returns a map\n",
    "# object at this particular \n",
    "# location\n",
    "print(x) \n",
    "end = time.time()\n",
    "print(end - start)\n",
    " \n",
    "# convert map to list\n",
    "print(list(x)) "
   ]
  },
  {
   "cell_type": "code",
   "execution_count": null,
   "metadata": {
    "colab": {
     "base_uri": "https://localhost:8080/"
    },
    "id": "aeNTNJO_rD-T",
    "outputId": "f681360d-242f-47eb-bc09-faf5affa76ca"
   },
   "outputs": [
    {
     "name": "stdout",
     "output_type": "stream",
     "text": [
      "0\n",
      "1\n",
      "9\n",
      "20.25\n",
      "9801\n",
      "0.0064\n",
      "0.003498077392578125\n"
     ]
    }
   ],
   "source": [
    "# alternate way to square all\n",
    "# elements of 'listt' using\n",
    "# 'for loop'\n",
    "start = time.time()  \n",
    "for i in listt :\n",
    "    square = i * i\n",
    "    print(square)\n",
    "end = time.time()\n",
    "print(end - start)"
   ]
  }
 ],
 "metadata": {
  "colab": {
   "name": "Python Map Function.ipynb",
   "provenance": []
  },
  "kernelspec": {
   "display_name": "Python 3 (ipykernel)",
   "language": "python",
   "name": "python3"
  },
  "language_info": {
   "codemirror_mode": {
    "name": "ipython",
    "version": 3
   },
   "file_extension": ".py",
   "mimetype": "text/x-python",
   "name": "python",
   "nbconvert_exporter": "python",
   "pygments_lexer": "ipython3",
   "version": "3.9.7"
  }
 },
 "nbformat": 4,
 "nbformat_minor": 1
}
