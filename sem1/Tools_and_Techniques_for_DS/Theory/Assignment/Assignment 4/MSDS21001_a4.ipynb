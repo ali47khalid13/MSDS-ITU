{
 "cells": [
  {
   "cell_type": "markdown",
   "id": "c468febe",
   "metadata": {},
   "source": [
    "# Import Libraries"
   ]
  },
  {
   "cell_type": "code",
   "execution_count": 1,
   "id": "3d63b4bb",
   "metadata": {},
   "outputs": [],
   "source": [
    "import numpy as np\n",
    "import pandas as pd\n",
    "import matplotlib.pyplot as plt\n",
    "import random \n",
    "from sklearn.decomposition import PCA"
   ]
  },
  {
   "cell_type": "markdown",
   "id": "e4e4bf4a",
   "metadata": {},
   "source": [
    "# Generate Data"
   ]
  },
  {
   "cell_type": "code",
   "execution_count": 37,
   "id": "9ba97d7a",
   "metadata": {},
   "outputs": [
    {
     "name": "stdout",
     "output_type": "stream",
     "text": [
      "means = [3, 8, 10, 17, 24]\n",
      "STDs = [0.9718553931256253, 1.8364686635702636, 1.659705807317983, 1.9355999898403429, 0.7160987493899766]\n"
     ]
    }
   ],
   "source": [
    "random.seed(0)\n",
    "k = 5\n",
    "max_dist_btw_mean = 5\n",
    "max_std = 2\n",
    "features = 10\n",
    "samples = 5000\n",
    "delta = 2\n",
    "means = [random.randint(max_dist_btw_mean*(i), ((max_dist_btw_mean*(i+1))-1)) for i in range (k)]\n",
    "stds = [random.random()*max_std for i in range(k)]\n",
    "print('means =', means)\n",
    "print ('STDs =', stds)"
   ]
  },
  {
   "cell_type": "code",
   "execution_count": 38,
   "id": "2a944ad9",
   "metadata": {},
   "outputs": [],
   "source": [
    "data = []\n",
    "for i in range (samples):\n",
    "    mean = random.choice(means)\n",
    "    index = means.index(mean)\n",
    "    std = stds[index]   \n",
    "    data.append(np.random.normal(mean,std, size=features))\n",
    "numpy_data =np.array(data)"
   ]
  },
  {
   "cell_type": "code",
   "execution_count": 39,
   "id": "e5cf4972",
   "metadata": {},
   "outputs": [
    {
     "data": {
      "text/html": [
       "<div>\n",
       "<style scoped>\n",
       "    .dataframe tbody tr th:only-of-type {\n",
       "        vertical-align: middle;\n",
       "    }\n",
       "\n",
       "    .dataframe tbody tr th {\n",
       "        vertical-align: top;\n",
       "    }\n",
       "\n",
       "    .dataframe thead th {\n",
       "        text-align: right;\n",
       "    }\n",
       "</style>\n",
       "<table border=\"1\" class=\"dataframe\">\n",
       "  <thead>\n",
       "    <tr style=\"text-align: right;\">\n",
       "      <th></th>\n",
       "      <th>Feature  0</th>\n",
       "      <th>Feature  1</th>\n",
       "      <th>Feature  2</th>\n",
       "      <th>Feature  3</th>\n",
       "      <th>Feature  4</th>\n",
       "      <th>Feature  5</th>\n",
       "      <th>Feature  6</th>\n",
       "      <th>Feature  7</th>\n",
       "      <th>Feature  8</th>\n",
       "      <th>Feature  9</th>\n",
       "    </tr>\n",
       "  </thead>\n",
       "  <tbody>\n",
       "    <tr>\n",
       "      <th>0</th>\n",
       "      <td>9.443790</td>\n",
       "      <td>8.972289</td>\n",
       "      <td>8.993243</td>\n",
       "      <td>9.034242</td>\n",
       "      <td>6.696437</td>\n",
       "      <td>7.178376</td>\n",
       "      <td>7.786755</td>\n",
       "      <td>5.936696</td>\n",
       "      <td>9.480524</td>\n",
       "      <td>3.807360</td>\n",
       "    </tr>\n",
       "    <tr>\n",
       "      <th>1</th>\n",
       "      <td>22.582420</td>\n",
       "      <td>23.193420</td>\n",
       "      <td>23.304606</td>\n",
       "      <td>23.216770</td>\n",
       "      <td>24.978527</td>\n",
       "      <td>23.617665</td>\n",
       "      <td>23.037707</td>\n",
       "      <td>23.783759</td>\n",
       "      <td>22.783463</td>\n",
       "      <td>22.751509</td>\n",
       "    </tr>\n",
       "    <tr>\n",
       "      <th>2</th>\n",
       "      <td>9.617343</td>\n",
       "      <td>9.615300</td>\n",
       "      <td>8.402546</td>\n",
       "      <td>7.512244</td>\n",
       "      <td>7.610382</td>\n",
       "      <td>5.759954</td>\n",
       "      <td>9.834501</td>\n",
       "      <td>9.557964</td>\n",
       "      <td>9.834157</td>\n",
       "      <td>10.210223</td>\n",
       "    </tr>\n",
       "    <tr>\n",
       "      <th>3</th>\n",
       "      <td>9.024677</td>\n",
       "      <td>12.936072</td>\n",
       "      <td>11.369692</td>\n",
       "      <td>8.400066</td>\n",
       "      <td>11.885257</td>\n",
       "      <td>13.572426</td>\n",
       "      <td>10.242193</td>\n",
       "      <td>9.633882</td>\n",
       "      <td>9.243970</td>\n",
       "      <td>9.084842</td>\n",
       "    </tr>\n",
       "    <tr>\n",
       "      <th>4</th>\n",
       "      <td>7.129265</td>\n",
       "      <td>6.635663</td>\n",
       "      <td>8.606662</td>\n",
       "      <td>7.700694</td>\n",
       "      <td>7.034404</td>\n",
       "      <td>7.327834</td>\n",
       "      <td>7.866228</td>\n",
       "      <td>8.626509</td>\n",
       "      <td>7.818284</td>\n",
       "      <td>6.253989</td>\n",
       "    </tr>\n",
       "  </tbody>\n",
       "</table>\n",
       "</div>"
      ],
      "text/plain": [
       "   Feature  0  Feature  1  Feature  2  Feature  3  Feature  4  Feature  5  \\\n",
       "0    9.443790    8.972289    8.993243    9.034242    6.696437    7.178376   \n",
       "1   22.582420   23.193420   23.304606   23.216770   24.978527   23.617665   \n",
       "2    9.617343    9.615300    8.402546    7.512244    7.610382    5.759954   \n",
       "3    9.024677   12.936072   11.369692    8.400066   11.885257   13.572426   \n",
       "4    7.129265    6.635663    8.606662    7.700694    7.034404    7.327834   \n",
       "\n",
       "   Feature  6  Feature  7  Feature  8  Feature  9  \n",
       "0    7.786755    5.936696    9.480524    3.807360  \n",
       "1   23.037707   23.783759   22.783463   22.751509  \n",
       "2    9.834501    9.557964    9.834157   10.210223  \n",
       "3   10.242193    9.633882    9.243970    9.084842  \n",
       "4    7.866228    8.626509    7.818284    6.253989  "
      ]
     },
     "execution_count": 39,
     "metadata": {},
     "output_type": "execute_result"
    }
   ],
   "source": [
    "df = pd.DataFrame(data, columns=['Feature {:2d}'.format(i)for i in range(features)])\n",
    "df.head()"
   ]
  },
  {
   "cell_type": "markdown",
   "id": "3caf9d83",
   "metadata": {},
   "source": [
    "# Visualize Data"
   ]
  },
  {
   "cell_type": "code",
   "execution_count": 40,
   "id": "18ad2b7b",
   "metadata": {},
   "outputs": [
    {
     "data": {
      "text/plain": [
       "<matplotlib.collections.PathCollection at 0x1ac5934d910>"
      ]
     },
     "execution_count": 40,
     "metadata": {},
     "output_type": "execute_result"
    },
    {
     "data": {
      "image/png": "[encoded data removed]",
      "text/plain": [
       "<Figure size 432x288 with 1 Axes>"
      ]
     },
     "metadata": {
      "needs_background": "light"
     },
     "output_type": "display_data"
    }
   ],
   "source": [
    "pca = PCA(2)\n",
    "pca_numpy_data = pca.fit_transform(numpy_data)\n",
    "plt.scatter(pca_numpy_data[: , 0] , pca_numpy_data[: , 1] )"
   ]
  },
  {
   "cell_type": "markdown",
   "id": "b85b7183",
   "metadata": {},
   "source": [
    "# K Means Clustering"
   ]
  },
  {
   "cell_type": "markdown",
   "id": "ea690ed8",
   "metadata": {},
   "source": [
    "## Functions"
   ]
  },
  {
   "cell_type": "code",
   "execution_count": 41,
   "id": "555a68e6",
   "metadata": {},
   "outputs": [],
   "source": [
    "def getEuclideanDistance(data,center):\n",
    "    return np.sqrt(np.sum(((data-center)**2),1))\n",
    "    \n",
    "def getManhattanDistance(data,center):\n",
    "    return np.sqrt(np.sum((np.abs(data-center)),1))\n",
    "\n",
    "def getSSE(data,centers,labels):\n",
    "    sse = 0\n",
    "    for i in range(centers.shape[0]):\n",
    "        sse += np.sum(((data[labels==i]-centers[i])**2))\n",
    "    return sse\n",
    "\n",
    "def calc_distances(data,centers, dist_type='euclidean'):\n",
    "    distance = []\n",
    "    for i, c in enumerate(centers):\n",
    "        if dist_type=='euclidean':\n",
    "            dist = getEuclideanDistance(data,c)\n",
    "        elif dist_type=='manhattan':\n",
    "            dist = getEuclideanDistance(data,c)\n",
    "        distance.append(dist)\n",
    "    return distance\n",
    "    \n",
    "def find_label(distance):\n",
    "    labels = np.argmin(distance,0)\n",
    "    return labels\n",
    "\n",
    "def update_centers(data,labels,k,centers):\n",
    "    new_centers =[]\n",
    "    for i in range(k):\n",
    "        if len(data[labels==i])==0:\n",
    "            new_centers.append(centers[i])\n",
    "        else:\n",
    "            new_centers.append(np.mean(data[labels==i],0))\n",
    "    return np.array(new_centers)\n",
    "\n",
    "def initialize_centers(data,k):\n",
    "    centers = []\n",
    "    for i in range(k):\n",
    "        centers.append(data[random.randint(0,samples-1)])\n",
    "    centers = np.array(centers)\n",
    "    return centers\n",
    "\n",
    "def k_means_fit(data,k,metric='euclidean'):\n",
    "    centers = initialize_centers(data,k)\n",
    "    i = 0\n",
    "    while True:\n",
    "        distances = calc_distances(data,centers,metric)\n",
    "        labels = find_label(distances)\n",
    "        new_centers = update_centers(data,labels,k,centers)\n",
    "        i = i+1\n",
    "        if np.sum(new_centers-centers)==0:\n",
    "            break\n",
    "        else:\n",
    "             centers = new_centers\n",
    "    sse = getSSE(data,centers,labels)\n",
    "    return new_centers,labels,sse,i"
   ]
  },
  {
   "cell_type": "markdown",
   "id": "eb28806a",
   "metadata": {},
   "source": [
    "## Applying K Means"
   ]
  },
  {
   "cell_type": "code",
   "execution_count": 44,
   "id": "473c9320",
   "metadata": {},
   "outputs": [
    {
     "name": "stdout",
     "output_type": "stream",
     "text": [
      "113581.33481179223\n"
     ]
    }
   ],
   "source": [
    "centers,labels,sse,iterations = k_means_fit(numpy_data,5)\n",
    "print(sse)"
   ]
  },
  {
   "cell_type": "markdown",
   "id": "688b1ce6",
   "metadata": {},
   "source": [
    "## Visualize Data After K Means"
   ]
  },
  {
   "cell_type": "code",
   "execution_count": 45,
   "id": "7a6b44b3",
   "metadata": {},
   "outputs": [
    {
     "data": {
      "image/png": "[encoded data removed]",
      "text/plain": [
       "<Figure size 432x288 with 1 Axes>"
      ]
     },
     "metadata": {
      "needs_background": "light"
     },
     "output_type": "display_data"
    }
   ],
   "source": [
    "pca1 = PCA(2)\n",
    "#pca2 = PCA(2)\n",
    "#Transform the data\n",
    "pca_numpy_data = pca1.fit_transform(numpy_data)\n",
    "u_labels = np.unique(labels)\n",
    "\n",
    "#Transform the centers\n",
    "pca_centers = pca1.fit_transform(centers)\n",
    "\n",
    "for i in u_labels:\n",
    "    plt.scatter(pca_numpy_data[labels == i , 0] , pca_numpy_data[labels == i , 1] , label = i)\n",
    "plt.scatter(pca_centers[:,0] , pca_centers[:,1] , s = 80, color = 'black')\n",
    "plt.legend()\n",
    "plt.show()"
   ]
  },
  {
   "cell_type": "markdown",
   "id": "84c23a24",
   "metadata": {},
   "source": [
    "# Sum of Squared errors (SSE)"
   ]
  },
  {
   "cell_type": "code",
   "execution_count": 16,
   "id": "3a6eafdd",
   "metadata": {},
   "outputs": [],
   "source": [
    "ks = [i for i in range (2,20)]"
   ]
  },
  {
   "cell_type": "markdown",
   "id": "f149bc05",
   "metadata": {},
   "source": [
    "## For euclidean distance"
   ]
  },
  {
   "cell_type": "code",
   "execution_count": 27,
   "id": "62752c6f",
   "metadata": {},
   "outputs": [],
   "source": [
    "SSE = []\n",
    "for k in ks:\n",
    "    _,_,sse,_ = k_means_fit(numpy_data,k,'euclidean')\n",
    "    SSE.append(sse)"
   ]
  },
  {
   "cell_type": "code",
   "execution_count": 28,
   "id": "5ad2dc70",
   "metadata": {},
   "outputs": [
    {
     "data": {
      "image/png": "[encoded data removed]",
      "text/plain": [
       "<Figure size 432x288 with 1 Axes>"
      ]
     },
     "metadata": {
      "needs_background": "light"
     },
     "output_type": "display_data"
    }
   ],
   "source": [
    "plt.plot(ks, SSE, 'bx-')\n",
    "plt.title('Elbow method for Selecting No. of Clusters')\n",
    "plt.xlabel('No of clusters')\n",
    "plt.ylabel('SSE')\n",
    "plt.show()"
   ]
  },
  {
   "cell_type": "markdown",
   "id": "c81b46e7",
   "metadata": {},
   "source": [
    "## For Manhattan Distance"
   ]
  },
  {
   "cell_type": "code",
   "execution_count": 31,
   "id": "a0823ef1",
   "metadata": {},
   "outputs": [],
   "source": [
    "SSE = []\n",
    "for k in ks:\n",
    "    _,_,sse,_ = k_means_fit(numpy_data,k,'manhattan')\n",
    "    SSE.append(sse)"
   ]
  },
  {
   "cell_type": "code",
   "execution_count": 32,
   "id": "c945e86a",
   "metadata": {},
   "outputs": [
    {
     "data": {
      "image/png": "[encoded data removed]",
      "text/plain": [
       "<Figure size 432x288 with 1 Axes>"
      ]
     },
     "metadata": {
      "needs_background": "light"
     },
     "output_type": "display_data"
    }
   ],
   "source": [
    "plt.plot(ks, SSE, 'bx-')\n",
    "plt.title('Elbow method for Selecting No. of Clusters')\n",
    "plt.xlabel('No of clusters')\n",
    "plt.ylabel('SSE')\n",
    "plt.show()"
   ]
  }
 ],
 "metadata": {
  "kernelspec": {
   "display_name": "Python 3 (ipykernel)",
   "language": "python",
   "name": "python3"
  },
  "language_info": {
   "codemirror_mode": {
    "name": "ipython",
    "version": 3
   },
   "file_extension": ".py",
   "mimetype": "text/x-python",
   "name": "python",
   "nbconvert_exporter": "python",
   "pygments_lexer": "ipython3",
   "version": "3.9.7"
  }
 },
 "nbformat": 4,
 "nbformat_minor": 5
}
