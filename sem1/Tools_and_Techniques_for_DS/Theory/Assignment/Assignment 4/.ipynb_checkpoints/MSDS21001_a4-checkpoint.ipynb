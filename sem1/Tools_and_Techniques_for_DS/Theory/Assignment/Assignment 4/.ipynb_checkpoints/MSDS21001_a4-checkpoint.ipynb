{
 "cells": [
  {
   "cell_type": "markdown",
   "id": "cf07d3ac",
   "metadata": {},
   "source": [
    "# Import Libraries"
   ]
  },
  {
   "cell_type": "code",
   "execution_count": 60,
   "id": "e9428cbd",
   "metadata": {},
   "outputs": [],
   "source": [
    "import numpy as np\n",
    "import pandas as pd\n",
    "import matplotlib.pyplot as plt\n",
    "import random \n",
    "from sklearn.decomposition import PCA"
   ]
  },
  {
   "cell_type": "markdown",
   "id": "e4e4bf4a",
   "metadata": {},
   "source": [
    "# Generate Data"
   ]
  },
  {
   "cell_type": "code",
   "execution_count": 61,
   "id": "9ba97d7a",
   "metadata": {},
   "outputs": [
    {
     "name": "stdout",
     "output_type": "stream",
     "text": [
      "means = [3, 8, 10, 17, 24]\n",
      "STDs = [0.9718553931256253, 1.8364686635702636, 1.659705807317983, 1.9355999898403429, 0.7160987493899766]\n"
     ]
    }
   ],
   "source": [
    "random.seed(0)\n",
    "k = 5\n",
    "max_dist_btw_mean = 5\n",
    "max_std = 2\n",
    "features = 10\n",
    "samples = 5000\n",
    "delta = 2\n",
    "means = [random.randint(max_dist_btw_mean*(i), ((max_dist_btw_mean*(i+1))-1)) for i in range (k)]\n",
    "stds = [random.random()*max_std for i in range(k)]\n",
    "print('means =', means)\n",
    "print ('STDs =', stds)"
   ]
  },
  {
   "cell_type": "code",
   "execution_count": 62,
   "id": "c20e1d8d",
   "metadata": {},
   "outputs": [],
   "source": [
    "data = []\n",
    "for i in range (samples):\n",
    "    mean = random.choice(means)\n",
    "    index = means.index(mean)\n",
    "    std = stds[index]   \n",
    "    data.append(np.random.normal(mean,std, size=features))\n",
    "numpy_data =np.array(data)"
   ]
  },
  {
   "cell_type": "code",
   "execution_count": 63,
   "id": "e5cf4972",
   "metadata": {},
   "outputs": [
    {
     "data": {
      "text/html": [
       "<div>\n",
       "<style scoped>\n",
       "    .dataframe tbody tr th:only-of-type {\n",
       "        vertical-align: middle;\n",
       "    }\n",
       "\n",
       "    .dataframe tbody tr th {\n",
       "        vertical-align: top;\n",
       "    }\n",
       "\n",
       "    .dataframe thead th {\n",
       "        text-align: right;\n",
       "    }\n",
       "</style>\n",
       "<table border=\"1\" class=\"dataframe\">\n",
       "  <thead>\n",
       "    <tr style=\"text-align: right;\">\n",
       "      <th></th>\n",
       "      <th>Feature  0</th>\n",
       "      <th>Feature  1</th>\n",
       "      <th>Feature  2</th>\n",
       "      <th>Feature  3</th>\n",
       "      <th>Feature  4</th>\n",
       "      <th>Feature  5</th>\n",
       "      <th>Feature  6</th>\n",
       "      <th>Feature  7</th>\n",
       "      <th>Feature  8</th>\n",
       "      <th>Feature  9</th>\n",
       "    </tr>\n",
       "  </thead>\n",
       "  <tbody>\n",
       "    <tr>\n",
       "      <th>0</th>\n",
       "      <td>9.151549</td>\n",
       "      <td>8.908317</td>\n",
       "      <td>9.862039</td>\n",
       "      <td>7.856259</td>\n",
       "      <td>4.949359</td>\n",
       "      <td>7.469625</td>\n",
       "      <td>8.076455</td>\n",
       "      <td>6.619342</td>\n",
       "      <td>6.132097</td>\n",
       "      <td>7.395003</td>\n",
       "    </tr>\n",
       "    <tr>\n",
       "      <th>1</th>\n",
       "      <td>23.168413</td>\n",
       "      <td>24.811228</td>\n",
       "      <td>23.316277</td>\n",
       "      <td>24.583674</td>\n",
       "      <td>23.563326</td>\n",
       "      <td>23.351563</td>\n",
       "      <td>22.939697</td>\n",
       "      <td>23.605221</td>\n",
       "      <td>23.313616</td>\n",
       "      <td>22.848963</td>\n",
       "    </tr>\n",
       "    <tr>\n",
       "      <th>2</th>\n",
       "      <td>10.457023</td>\n",
       "      <td>7.097175</td>\n",
       "      <td>6.650366</td>\n",
       "      <td>6.247321</td>\n",
       "      <td>7.767551</td>\n",
       "      <td>8.537263</td>\n",
       "      <td>7.410169</td>\n",
       "      <td>8.034490</td>\n",
       "      <td>11.188982</td>\n",
       "      <td>5.053496</td>\n",
       "    </tr>\n",
       "    <tr>\n",
       "      <th>3</th>\n",
       "      <td>6.429796</td>\n",
       "      <td>10.572889</td>\n",
       "      <td>9.771424</td>\n",
       "      <td>9.714159</td>\n",
       "      <td>11.290532</td>\n",
       "      <td>10.935486</td>\n",
       "      <td>7.887465</td>\n",
       "      <td>11.061520</td>\n",
       "      <td>9.405949</td>\n",
       "      <td>8.400826</td>\n",
       "    </tr>\n",
       "    <tr>\n",
       "      <th>4</th>\n",
       "      <td>6.368818</td>\n",
       "      <td>7.776940</td>\n",
       "      <td>5.085705</td>\n",
       "      <td>6.704887</td>\n",
       "      <td>7.913889</td>\n",
       "      <td>7.726023</td>\n",
       "      <td>5.089178</td>\n",
       "      <td>7.628598</td>\n",
       "      <td>11.090602</td>\n",
       "      <td>8.988048</td>\n",
       "    </tr>\n",
       "  </tbody>\n",
       "</table>\n",
       "</div>"
      ],
      "text/plain": [
       "   Feature  0  Feature  1  Feature  2  Feature  3  Feature  4  Feature  5  \\\n",
       "0    9.151549    8.908317    9.862039    7.856259    4.949359    7.469625   \n",
       "1   23.168413   24.811228   23.316277   24.583674   23.563326   23.351563   \n",
       "2   10.457023    7.097175    6.650366    6.247321    7.767551    8.537263   \n",
       "3    6.429796   10.572889    9.771424    9.714159   11.290532   10.935486   \n",
       "4    6.368818    7.776940    5.085705    6.704887    7.913889    7.726023   \n",
       "\n",
       "   Feature  6  Feature  7  Feature  8  Feature  9  \n",
       "0    8.076455    6.619342    6.132097    7.395003  \n",
       "1   22.939697   23.605221   23.313616   22.848963  \n",
       "2    7.410169    8.034490   11.188982    5.053496  \n",
       "3    7.887465   11.061520    9.405949    8.400826  \n",
       "4    5.089178    7.628598   11.090602    8.988048  "
      ]
     },
     "execution_count": 63,
     "metadata": {},
     "output_type": "execute_result"
    }
   ],
   "source": [
    "df = pd.DataFrame(data, columns=['Feature {:2d}'.format(i)for i in range(features)])\n",
    "df.head()"
   ]
  },
  {
   "cell_type": "markdown",
   "id": "32ca2710",
   "metadata": {},
   "source": [
    "# Visualize Data"
   ]
  },
  {
   "cell_type": "code",
   "execution_count": 64,
   "id": "1770f0c7",
   "metadata": {},
   "outputs": [
    {
     "data": {
      "text/plain": [
       "<matplotlib.collections.PathCollection at 0x1f960302a60>"
      ]
     },
     "execution_count": 64,
     "metadata": {},
     "output_type": "execute_result"
    },
    {
     "data": {
      "image/png": "[encoded data removed]",
      "text/plain": [
       "<Figure size 432x288 with 1 Axes>"
      ]
     },
     "metadata": {
      "needs_background": "light"
     },
     "output_type": "display_data"
    }
   ],
   "source": [
    "pca = PCA(2)\n",
    "pca_numpy_data = pca.fit_transform(numpy_data)\n",
    "plt.scatter(pca_numpy_data[: , 0] , pca_numpy_data[: , 1] )"
   ]
  },
  {
   "cell_type": "markdown",
   "id": "b85b7183",
   "metadata": {},
   "source": [
    "# K Means Clustering"
   ]
  },
  {
   "cell_type": "markdown",
   "id": "e21e4b46",
   "metadata": {},
   "source": [
    "## Functions"
   ]
  },
  {
   "cell_type": "code",
   "execution_count": 77,
   "id": "6d092dba",
   "metadata": {},
   "outputs": [],
   "source": [
    "def getEuclideanDistance(data,center):\n",
    "    return np.sqrt(np.sum(((data-center)**2),1))\n",
    "    \n",
    "def getManhattanDistance(data,center):\n",
    "    return np.sqrt(np.sum((np.abs(data-center)),1))\n",
    "\n",
    "def getSSE(data,centers,labels):\n",
    "    sse = 0\n",
    "    for i in range(centers.shape[0]):\n",
    "        sse += np.sum(((data[labels==i]-centers[i])**2))\n",
    "    return sse\n",
    "\n",
    "def calc_distances(data,centers, dist_type='euclidean'):\n",
    "    distance = []\n",
    "    for i, c in enumerate(centers):\n",
    "        if dist_type=='euclidean':\n",
    "            dist = getEuclideanDistance(data,c)\n",
    "        elif dist_type=='manhattan':\n",
    "            dist = getEuclideanDistance(data,c)\n",
    "        distance.append(dist)\n",
    "    return distance\n",
    "    \n",
    "def find_label(distance):\n",
    "    labels = np.argmin(distance,0)\n",
    "    return labels\n",
    "\n",
    "def update_centers(data,labels,k,centers):\n",
    "    new_centers =[]\n",
    "    for i in range(k):\n",
    "        if len(data[labels==i])==0:\n",
    "            new_centers.append(centers[i])\n",
    "        else:\n",
    "            new_centers.append(np.mean(data[labels==i],0))\n",
    "    return np.array(new_centers)\n",
    "\n",
    "def initialize_centers(data,k):\n",
    "    centers = []\n",
    "    for i in range(k):\n",
    "        centers.append(data[random.randint(0,samples-1)])\n",
    "    centers = np.array(centers)\n",
    "    return centers\n",
    "\n",
    "def k_means_fit(data,k,metric='euclidean'):\n",
    "    centers = initialize_centers(data,k)\n",
    "    i = 0\n",
    "    while True:\n",
    "        distances = calc_distances(data,centers,metric)\n",
    "        labels = find_label(distances)\n",
    "        new_centers = update_centers(data,labels,k,centers)\n",
    "        i = i+1\n",
    "        if np.sum(new_centers-centers)==0:\n",
    "            break\n",
    "        else:\n",
    "             centers = new_centers\n",
    "    sse = getSSE(data,centers,labels)\n",
    "    return new_centers,labels,sse,i"
   ]
  },
  {
   "cell_type": "markdown",
   "id": "98ef300f",
   "metadata": {},
   "source": [
    "## Applying K Means"
   ]
  },
  {
   "cell_type": "code",
   "execution_count": 68,
   "id": "322bcd56",
   "metadata": {},
   "outputs": [
    {
     "name": "stdout",
     "output_type": "stream",
     "text": [
      "114460.8133977232\n"
     ]
    }
   ],
   "source": [
    "centers,labels,sse,iterations = k_means_fit(numpy_data,5)\n",
    "print(sse)"
   ]
  },
  {
   "cell_type": "markdown",
   "id": "b820fd44",
   "metadata": {},
   "source": [
    "## Visualize Data After K Means"
   ]
  },
  {
   "cell_type": "code",
   "execution_count": 69,
   "id": "ab9d55c5",
   "metadata": {},
   "outputs": [
    {
     "data": {
      "image/png": "[encoded data removed]",
      "text/plain": [
       "<Figure size 432x288 with 1 Axes>"
      ]
     },
     "metadata": {
      "needs_background": "light"
     },
     "output_type": "display_data"
    }
   ],
   "source": [
    "pca1 = PCA(2)\n",
    "pca2 = PCA(2)\n",
    "#Transform the data\n",
    "pca_numpy_data = pca1.fit_transform(numpy_data)\n",
    "u_labels = np.unique(labels)\n",
    "\n",
    "#Transform the centers\n",
    "pca_centers = pca2.fit_transform(centers)\n",
    "\n",
    "for i in u_labels:\n",
    "    plt.scatter(pca_numpy_data[labels == i , 0] , pca_numpy_data[labels == i , 1] , label = i)\n",
    "plt.scatter(pca_centers[:,0] , pca_centers[:,1] , s = 80, color = 'black')\n",
    "plt.legend()\n",
    "plt.show()"
   ]
  },
  {
   "cell_type": "markdown",
   "id": "9bc85e1f",
   "metadata": {},
   "source": [
    "# Sum of Squared errors (SSE)"
   ]
  },
  {
   "cell_type": "code",
   "execution_count": 70,
   "id": "e25b3822",
   "metadata": {},
   "outputs": [],
   "source": [
    "ks = [i for i in range (2,20)]"
   ]
  },
  {
   "cell_type": "markdown",
   "id": "99931608",
   "metadata": {},
   "source": [
    "## For euclidean distance"
   ]
  },
  {
   "cell_type": "code",
   "execution_count": 73,
   "id": "b6084a35",
   "metadata": {},
   "outputs": [],
   "source": [
    "SSE = []\n",
    "for k in ks:\n",
    "    _,_,sse,_ = k_means_fit(numpy_data,k,'eucledian')\n",
    "    SSE.append(sse)"
   ]
  },
  {
   "cell_type": "code",
   "execution_count": 74,
   "id": "30904f46",
   "metadata": {},
   "outputs": [
    {
     "data": {
      "image/png": "[encoded data removed]",
      "text/plain": [
       "<Figure size 432x288 with 1 Axes>"
      ]
     },
     "metadata": {
      "needs_background": "light"
     },
     "output_type": "display_data"
    }
   ],
   "source": [
    "plt.plot(ks, SSE, 'bx-')\n",
    "plt.title('Elbow method for Selecting No. of Clusters')\n",
    "plt.xlabel('No of clusters')\n",
    "plt.ylabel('SSE')\n",
    "plt.show()"
   ]
  },
  {
   "cell_type": "markdown",
   "id": "e0d1b113",
   "metadata": {},
   "source": [
    "## For Manhattan Distance"
   ]
  },
  {
   "cell_type": "code",
   "execution_count": 78,
   "id": "4d32c94d",
   "metadata": {},
   "outputs": [],
   "source": [
    "SSE = []\n",
    "for k in ks:\n",
    "    _,_,sse,_ = k_means_fit(numpy_data,k,'manhattan')\n",
    "    SSE.append(sse)"
   ]
  },
  {
   "cell_type": "code",
   "execution_count": 79,
   "id": "5ec80d71",
   "metadata": {},
   "outputs": [
    {
     "data": {
      "image/png": "[encoded data removed]",
      "text/plain": [
       "<Figure size 432x288 with 1 Axes>"
      ]
     },
     "metadata": {
      "needs_background": "light"
     },
     "output_type": "display_data"
    }
   ],
   "source": [
    "plt.plot(ks, SSE, 'bx-')\n",
    "plt.title('Elbow method for Selecting No. of Clusters')\n",
    "plt.xlabel('No of clusters')\n",
    "plt.ylabel('SSE')\n",
    "plt.show()"
   ]
  }
 ],
 "metadata": {
  "kernelspec": {
   "display_name": "Python 3 (ipykernel)",
   "language": "python",
   "name": "python3"
  },
  "language_info": {
   "codemirror_mode": {
    "name": "ipython",
    "version": 3
   },
   "file_extension": ".py",
   "mimetype": "text/x-python",
   "name": "python",
   "nbconvert_exporter": "python",
   "pygments_lexer": "ipython3",
   "version": "3.9.7"
  }
 },
 "nbformat": 4,
 "nbformat_minor": 5
}
