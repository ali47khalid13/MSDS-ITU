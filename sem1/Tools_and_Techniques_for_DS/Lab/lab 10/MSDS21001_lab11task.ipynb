{
 "cells": [
  {
   "cell_type": "code",
   "execution_count": 11,
   "metadata": {
    "id": "SPMG67ABqBWu"
   },
   "outputs": [],
   "source": [
    "import numpy as np\n",
    "import pandas as pd\n",
    "import matplotlib.pyplot as plt\n",
    "from sklearn.cluster import KMeans\n",
    "from sklearn import datasets"
   ]
  },
  {
   "cell_type": "code",
   "execution_count": 12,
   "metadata": {
    "id": "M_mdm_5w9hn9"
   },
   "outputs": [],
   "source": [
    "from sklearn.datasets import make_blobs\n",
    "from matplotlib import pyplot\n",
    "from pandas import DataFrame\n",
    "# generate 2d classification dataset\n",
    "X, y = make_blobs(n_samples=6000, centers=5, n_features=10)\n",
    "# scatter plot, dots colored by class value\n",
    "data = pd.DataFrame(X, columns=['Feature {:2d}'.format(i)for i in range(10)])\n",
    "\n",
    "data\n",
    "df=data"
   ]
  },
  {
   "cell_type": "code",
   "execution_count": 13,
   "metadata": {
    "colab": {
     "base_uri": "https://localhost:8080/",
     "height": 423
    },
    "id": "4QQFGDpfuo6O",
    "outputId": "70363aae-b27b-4a19-e355-d5ad1f05ca1a"
   },
   "outputs": [
    {
     "data": {
      "text/html": [
       "<div>\n",
       "<style scoped>\n",
       "    .dataframe tbody tr th:only-of-type {\n",
       "        vertical-align: middle;\n",
       "    }\n",
       "\n",
       "    .dataframe tbody tr th {\n",
       "        vertical-align: top;\n",
       "    }\n",
       "\n",
       "    .dataframe thead th {\n",
       "        text-align: right;\n",
       "    }\n",
       "</style>\n",
       "<table border=\"1\" class=\"dataframe\">\n",
       "  <thead>\n",
       "    <tr style=\"text-align: right;\">\n",
       "      <th></th>\n",
       "      <th>Feature  0</th>\n",
       "      <th>Feature  1</th>\n",
       "      <th>Feature  2</th>\n",
       "      <th>Feature  3</th>\n",
       "      <th>Feature  4</th>\n",
       "      <th>Feature  5</th>\n",
       "      <th>Feature  6</th>\n",
       "      <th>Feature  7</th>\n",
       "      <th>Feature  8</th>\n",
       "      <th>Feature  9</th>\n",
       "    </tr>\n",
       "  </thead>\n",
       "  <tbody>\n",
       "    <tr>\n",
       "      <th>0</th>\n",
       "      <td>2.642806</td>\n",
       "      <td>-6.590429</td>\n",
       "      <td>-1.658338</td>\n",
       "      <td>-0.703650</td>\n",
       "      <td>-8.929862</td>\n",
       "      <td>-5.898121</td>\n",
       "      <td>-3.730479</td>\n",
       "      <td>6.300220</td>\n",
       "      <td>-11.109395</td>\n",
       "      <td>-7.208095</td>\n",
       "    </tr>\n",
       "    <tr>\n",
       "      <th>1</th>\n",
       "      <td>-3.864113</td>\n",
       "      <td>3.147245</td>\n",
       "      <td>5.689580</td>\n",
       "      <td>4.635072</td>\n",
       "      <td>-1.983071</td>\n",
       "      <td>2.226400</td>\n",
       "      <td>-9.207497</td>\n",
       "      <td>-3.126904</td>\n",
       "      <td>2.477353</td>\n",
       "      <td>-2.582042</td>\n",
       "    </tr>\n",
       "    <tr>\n",
       "      <th>2</th>\n",
       "      <td>3.360308</td>\n",
       "      <td>-3.311922</td>\n",
       "      <td>-1.448197</td>\n",
       "      <td>-0.347672</td>\n",
       "      <td>-8.654979</td>\n",
       "      <td>-5.791998</td>\n",
       "      <td>-0.672887</td>\n",
       "      <td>7.041589</td>\n",
       "      <td>-9.204313</td>\n",
       "      <td>-7.658656</td>\n",
       "    </tr>\n",
       "    <tr>\n",
       "      <th>3</th>\n",
       "      <td>9.326045</td>\n",
       "      <td>-9.525277</td>\n",
       "      <td>2.393784</td>\n",
       "      <td>-1.424977</td>\n",
       "      <td>-3.888093</td>\n",
       "      <td>7.775031</td>\n",
       "      <td>2.887021</td>\n",
       "      <td>-1.273641</td>\n",
       "      <td>-2.942654</td>\n",
       "      <td>-6.271988</td>\n",
       "    </tr>\n",
       "    <tr>\n",
       "      <th>4</th>\n",
       "      <td>-5.543435</td>\n",
       "      <td>3.463623</td>\n",
       "      <td>7.168092</td>\n",
       "      <td>5.419480</td>\n",
       "      <td>-0.295181</td>\n",
       "      <td>2.293976</td>\n",
       "      <td>-7.307801</td>\n",
       "      <td>-0.710739</td>\n",
       "      <td>-0.758411</td>\n",
       "      <td>-4.772015</td>\n",
       "    </tr>\n",
       "    <tr>\n",
       "      <th>...</th>\n",
       "      <td>...</td>\n",
       "      <td>...</td>\n",
       "      <td>...</td>\n",
       "      <td>...</td>\n",
       "      <td>...</td>\n",
       "      <td>...</td>\n",
       "      <td>...</td>\n",
       "      <td>...</td>\n",
       "      <td>...</td>\n",
       "      <td>...</td>\n",
       "    </tr>\n",
       "    <tr>\n",
       "      <th>5995</th>\n",
       "      <td>7.131970</td>\n",
       "      <td>-7.336505</td>\n",
       "      <td>-2.169405</td>\n",
       "      <td>9.629426</td>\n",
       "      <td>7.432646</td>\n",
       "      <td>2.387007</td>\n",
       "      <td>4.301119</td>\n",
       "      <td>8.586530</td>\n",
       "      <td>1.291508</td>\n",
       "      <td>-3.002227</td>\n",
       "    </tr>\n",
       "    <tr>\n",
       "      <th>5996</th>\n",
       "      <td>6.976154</td>\n",
       "      <td>-4.773462</td>\n",
       "      <td>-2.519640</td>\n",
       "      <td>9.828166</td>\n",
       "      <td>9.278255</td>\n",
       "      <td>1.623461</td>\n",
       "      <td>3.655387</td>\n",
       "      <td>7.969388</td>\n",
       "      <td>0.419509</td>\n",
       "      <td>-4.106627</td>\n",
       "    </tr>\n",
       "    <tr>\n",
       "      <th>5997</th>\n",
       "      <td>10.016385</td>\n",
       "      <td>-9.937510</td>\n",
       "      <td>3.075680</td>\n",
       "      <td>-6.192758</td>\n",
       "      <td>-3.050969</td>\n",
       "      <td>6.541521</td>\n",
       "      <td>2.243738</td>\n",
       "      <td>-3.065758</td>\n",
       "      <td>-0.549744</td>\n",
       "      <td>-6.930757</td>\n",
       "    </tr>\n",
       "    <tr>\n",
       "      <th>5998</th>\n",
       "      <td>-2.978981</td>\n",
       "      <td>5.048425</td>\n",
       "      <td>5.246358</td>\n",
       "      <td>4.534362</td>\n",
       "      <td>-0.666367</td>\n",
       "      <td>3.317580</td>\n",
       "      <td>-6.466236</td>\n",
       "      <td>-2.136623</td>\n",
       "      <td>0.222373</td>\n",
       "      <td>-1.527417</td>\n",
       "    </tr>\n",
       "    <tr>\n",
       "      <th>5999</th>\n",
       "      <td>-1.189917</td>\n",
       "      <td>4.194219</td>\n",
       "      <td>-4.795869</td>\n",
       "      <td>7.215839</td>\n",
       "      <td>0.463120</td>\n",
       "      <td>2.287125</td>\n",
       "      <td>-6.225640</td>\n",
       "      <td>0.312356</td>\n",
       "      <td>-2.352885</td>\n",
       "      <td>4.050921</td>\n",
       "    </tr>\n",
       "  </tbody>\n",
       "</table>\n",
       "<p>6000 rows × 10 columns</p>\n",
       "</div>"
      ],
      "text/plain": [
       "      Feature  0  Feature  1  Feature  2  Feature  3  Feature  4  Feature  5  \\\n",
       "0       2.642806   -6.590429   -1.658338   -0.703650   -8.929862   -5.898121   \n",
       "1      -3.864113    3.147245    5.689580    4.635072   -1.983071    2.226400   \n",
       "2       3.360308   -3.311922   -1.448197   -0.347672   -8.654979   -5.791998   \n",
       "3       9.326045   -9.525277    2.393784   -1.424977   -3.888093    7.775031   \n",
       "4      -5.543435    3.463623    7.168092    5.419480   -0.295181    2.293976   \n",
       "...          ...         ...         ...         ...         ...         ...   \n",
       "5995    7.131970   -7.336505   -2.169405    9.629426    7.432646    2.387007   \n",
       "5996    6.976154   -4.773462   -2.519640    9.828166    9.278255    1.623461   \n",
       "5997   10.016385   -9.937510    3.075680   -6.192758   -3.050969    6.541521   \n",
       "5998   -2.978981    5.048425    5.246358    4.534362   -0.666367    3.317580   \n",
       "5999   -1.189917    4.194219   -4.795869    7.215839    0.463120    2.287125   \n",
       "\n",
       "      Feature  6  Feature  7  Feature  8  Feature  9  \n",
       "0      -3.730479    6.300220  -11.109395   -7.208095  \n",
       "1      -9.207497   -3.126904    2.477353   -2.582042  \n",
       "2      -0.672887    7.041589   -9.204313   -7.658656  \n",
       "3       2.887021   -1.273641   -2.942654   -6.271988  \n",
       "4      -7.307801   -0.710739   -0.758411   -4.772015  \n",
       "...          ...         ...         ...         ...  \n",
       "5995    4.301119    8.586530    1.291508   -3.002227  \n",
       "5996    3.655387    7.969388    0.419509   -4.106627  \n",
       "5997    2.243738   -3.065758   -0.549744   -6.930757  \n",
       "5998   -6.466236   -2.136623    0.222373   -1.527417  \n",
       "5999   -6.225640    0.312356   -2.352885    4.050921  \n",
       "\n",
       "[6000 rows x 10 columns]"
      ]
     },
     "execution_count": 13,
     "metadata": {},
     "output_type": "execute_result"
    }
   ],
   "source": [
    "df"
   ]
  },
  {
   "cell_type": "code",
   "execution_count": 14,
   "metadata": {
    "colab": {
     "base_uri": "https://localhost:8080/"
    },
    "id": "WtGJjI7vupq0",
    "outputId": "6a998e08-9249-41dd-8a6f-3e303ae230dd"
   },
   "outputs": [
    {
     "data": {
      "text/plain": [
       "KMeans(init='random')"
      ]
     },
     "execution_count": 14,
     "metadata": {},
     "output_type": "execute_result"
    }
   ],
   "source": [
    "kmeans = KMeans(init=\"random\")\n",
    "kmeans.fit(df)"
   ]
  },
  {
   "cell_type": "code",
   "execution_count": 15,
   "metadata": {
    "colab": {
     "base_uri": "https://localhost:8080/"
    },
    "id": "3cehGkeRv4f5",
    "outputId": "44c7e7a5-a792-4ea8-978f-afdfed07cbe6"
   },
   "outputs": [
    {
     "data": {
      "text/plain": [
       "(array([[-3.75686874,  3.7697605 ,  6.76476328,  4.48691311, -1.27199706,\n",
       "          2.54578169, -6.93592176, -2.61691114, -0.09706653, -2.52657926],\n",
       "        [-1.2532508 ,  4.55107858, -3.49102667,  6.85443363,  1.41640791,\n",
       "          1.08437178, -4.3780562 ,  2.30175655, -3.67036575,  4.16707085],\n",
       "        [ 9.41859662, -8.39755658,  1.96767412, -4.23834093, -3.26548035,\n",
       "          6.62536796,  2.56091187, -1.64935993, -2.62288276, -7.21358543],\n",
       "        [ 3.23513614, -5.87446756, -0.97143113,  0.11524591, -8.30457174,\n",
       "         -6.46234616, -1.4896853 ,  6.10597469, -9.81022276, -7.10272744],\n",
       "        [-3.46878386,  4.24033822,  6.26346107,  4.17273427, -0.48652042,\n",
       "          1.95155733, -7.49298713, -2.45364865,  0.47924661, -3.38168189],\n",
       "        [ 5.81450221, -6.26638935, -3.26577534,  9.53922775,  6.939417  ,\n",
       "          1.70031079,  2.58649115,  7.6845941 ,  1.50639823, -3.35754278],\n",
       "        [ 6.52016347, -5.97580838, -3.12022051,  9.91145047,  6.23700292,\n",
       "          1.46350696,  3.49664957,  7.11423063,  1.09744349, -2.82162186],\n",
       "        [ 2.97142432, -5.88461258, -0.10917112, -0.35782348, -9.02126361,\n",
       "         -5.49419833, -1.16231953,  6.21350278, -9.31889236, -7.38776678]]),\n",
       " 25)"
      ]
     },
     "execution_count": 15,
     "metadata": {},
     "output_type": "execute_result"
    }
   ],
   "source": [
    "kmeans.cluster_centers_, kmeans.n_iter_"
   ]
  },
  {
   "cell_type": "code",
   "execution_count": 16,
   "metadata": {
    "colab": {
     "base_uri": "https://localhost:8080/"
    },
    "id": "dfMHDCGkwl6Z",
    "outputId": "566a4e99-4054-41b4-b4dc-d230f8d21b55"
   },
   "outputs": [
    {
     "data": {
      "text/plain": [
       "array([3, 4, 7, ..., 2, 0, 1])"
      ]
     },
     "execution_count": 16,
     "metadata": {},
     "output_type": "execute_result"
    }
   ],
   "source": [
    "kmeans.labels_"
   ]
  },
  {
   "cell_type": "code",
   "execution_count": 17,
   "metadata": {
    "id": "tGmJi4XS24Lv"
   },
   "outputs": [],
   "source": [
    "from sklearn.decomposition import PCA\n",
    "pca = PCA(2)\n",
    " \n",
    "#Transform the data\n",
    "df = pca.fit_transform(df)\n",
    "kmeans1 = KMeans(init=\"k-means++\",n_clusters=5,n_init=10,max_iter=100)\n",
    "label = kmeans1.fit_predict(df)"
   ]
  },
  {
   "cell_type": "code",
   "execution_count": 18,
   "metadata": {
    "colab": {
     "base_uri": "https://localhost:8080/",
     "height": 265
    },
    "id": "VMbtiPeC3-3z",
    "outputId": "b39b3f6b-a8f4-4bf6-9632-0eae6e3be869"
   },
   "outputs": [
    {
     "data": {
      "image/png": "[encoded data removed]",
      "text/plain": [
       "<Figure size 432x288 with 1 Axes>"
      ]
     },
     "metadata": {
      "needs_background": "light"
     },
     "output_type": "display_data"
    }
   ],
   "source": [
    "u_labels = np.unique(label)\n",
    " \n",
    "#Visualization\n",
    " \n",
    "for i in u_labels:\n",
    "    plt.scatter(df[label == i , 0] , df[label == i , 1] , label = i)\n",
    "plt.legend()\n",
    "plt.show()"
   ]
  },
  {
   "cell_type": "code",
   "execution_count": 19,
   "metadata": {
    "colab": {
     "base_uri": "https://localhost:8080/",
     "height": 265
    },
    "id": "SHTIrY7I1zjZ",
    "outputId": "09082ca0-c5ee-4f92-d71d-0afd84ea9ba6"
   },
   "outputs": [
    {
     "data": {
      "image/png": "[encoded data removed]",
      "text/plain": [
       "<Figure size 432x288 with 1 Axes>"
      ]
     },
     "metadata": {
      "needs_background": "light"
     },
     "output_type": "display_data"
    }
   ],
   "source": [
    "centroids = kmeans1.cluster_centers_\n",
    "u_labels = np.unique(label)\n",
    " \n",
    "\n",
    "for i in u_labels:\n",
    "    plt.scatter(df[label == i , 0] , df[label == i , 1] , label = i)\n",
    "plt.scatter(centroids[:,0] , centroids[:,1] , s = 80, color = 'black')\n",
    "plt.legend()\n",
    "plt.show()"
   ]
  },
  {
   "cell_type": "code",
   "execution_count": 20,
   "metadata": {
    "colab": {
     "base_uri": "https://localhost:8080/",
     "height": 295
    },
    "id": "Yz68cAVmxO2M",
    "outputId": "8a3478d9-f0f1-4919-e0cf-79fad9ab53bd"
   },
   "outputs": [
    {
     "data": {
      "image/png": "[encoded data removed]",
      "text/plain": [
       "<Figure size 432x288 with 1 Axes>"
      ]
     },
     "metadata": {
      "needs_background": "light"
     },
     "output_type": "display_data"
    }
   ],
   "source": [
    "SSE =[]\n",
    "for i in range(2, 10):\n",
    "    kmeans = KMeans(init=\"k-means++\",n_clusters=i,n_init=10,max_iter=100)\n",
    "    kmeans.fit(df)\n",
    "    SSE.append(kmeans.inertia_)\n",
    "import matplotlib.pyplot as plt\n",
    "plt.plot(range(2, 10), SSE, 'bx-')\n",
    "plt.title('Elbow method for Selecting No. of Clusters')\n",
    "plt.xlabel('No of clusters')\n",
    "plt.ylabel('SSE')\n",
    "plt.show()"
   ]
  }
 ],
 "metadata": {
  "colab": {
   "name": "Clustering.ipynb",
   "provenance": []
  },
  "kernelspec": {
   "display_name": "Python 3 (ipykernel)",
   "language": "python",
   "name": "python3"
  },
  "language_info": {
   "codemirror_mode": {
    "name": "ipython",
    "version": 3
   },
   "file_extension": ".py",
   "mimetype": "text/x-python",
   "name": "python",
   "nbconvert_exporter": "python",
   "pygments_lexer": "ipython3",
   "version": "3.9.7"
  }
 },
 "nbformat": 4,
 "nbformat_minor": 1
}
