{
 "cells": [
  {
   "cell_type": "markdown",
   "metadata": {
    "id": "1CMiStjyBrme"
   },
   "source": [
    "<h1>Lab Exercise 2</h1>"
   ]
  },
  {
   "cell_type": "markdown",
   "metadata": {
    "id": "NDVsVfsABrml"
   },
   "source": [
    "- [View data](https://www.kaggle.com/sulianova/feature-explanation-and-eda)"
   ]
  },
  {
   "cell_type": "markdown",
   "metadata": {
    "id": "h7Hh32edBrmm"
   },
   "source": [
    "# Data Introduction"
   ]
  },
  {
   "cell_type": "markdown",
   "metadata": {
    "id": "nWeYvGE1Brmm"
   },
   "source": [
    "\n",
    "    The \"Diagnostic Wisconsin Breast Cancer Database\" is a publicly available data set from the UCI machine learning repository. The dataset gives information about tumor features, that are computed from a digitized image of a fine needle aspirate (FNA) of a breast mass. For each observation there are 10 features, which describe tumor size, density, texture, symmetry, and other characteristics of the cell nuclei present in the image. The mean, standard error and \"worst\" mean (mean of the three largest values) of these features were computed for each image, resulting in 30 features. The categorical target feature indicates the type of the tumor.\n",
    "# <center>\n",
    "<img align=\"center\" src=\"http://www.jcytol.org/articles/2016/33/4/images/JCytol_2016_33_4_182_190449_f1.jpg\">\n",
    "<br>"
   ]
  },
  {
   "cell_type": "markdown",
   "metadata": {},
   "source": [
    "**Fine needle aspiration (FNA)**, also called fine needle biopsy, is a type of biopsy where a needle is inserted into a lump or mass to collect a sample of cells. These cells are then looked at under a microscope to help your doctor determine if the mass or lump is cancerous (malignant) or noncancerous (benign)."
   ]
  },
  {
   "cell_type": "markdown",
   "metadata": {
    "id": "8smNN1qdBrmm"
   },
   "source": [
    "### 1- Load the dataset and set the Index to 'id'"
   ]
  },
  {
   "cell_type": "code",
   "execution_count": null,
   "metadata": {
    "id": "VFAvMFkaBrmn"
   },
   "outputs": [],
   "source": []
  },
  {
   "cell_type": "markdown",
   "metadata": {
    "id": "AtNd8AkOBrmn"
   },
   "source": [
    "### 2- Please drop the 'Unnamed: 32' column"
   ]
  },
  {
   "cell_type": "code",
   "execution_count": null,
   "metadata": {
    "id": "qgs0gw-pBrmo"
   },
   "outputs": [],
   "source": []
  },
  {
   "cell_type": "markdown",
   "metadata": {},
   "source": [
    "### Look for any Issues and solve them"
   ]
  },
  {
   "cell_type": "code",
   "execution_count": null,
   "metadata": {},
   "outputs": [],
   "source": []
  },
  {
   "cell_type": "markdown",
   "metadata": {
    "id": "LXLa4bGhBrmo"
   },
   "source": [
    "### 3- Please to use 1,0 instead of 'M' and 'B' in the diagnosis column"
   ]
  },
  {
   "cell_type": "code",
   "execution_count": null,
   "metadata": {
    "id": "lZMubuJFBrmp"
   },
   "outputs": [],
   "source": []
  },
  {
   "cell_type": "markdown",
   "metadata": {
    "id": "BGnG00ymBrmp"
   },
   "source": [
    "### 4- Please split the data into training data and test data"
   ]
  },
  {
   "cell_type": "code",
   "execution_count": null,
   "metadata": {
    "id": "3IyC2WiHBrmp"
   },
   "outputs": [],
   "source": []
  },
  {
   "cell_type": "markdown",
   "metadata": {
    "id": "mxeHMckgBrmq"
   },
   "source": [
    "### 5- Apply Decision Tree"
   ]
  },
  {
   "cell_type": "code",
   "execution_count": null,
   "metadata": {
    "id": "S-6aImKKBrmq"
   },
   "outputs": [],
   "source": []
  },
  {
   "cell_type": "markdown",
   "metadata": {
    "id": "95zw5QHNBrmq"
   },
   "source": [
    "### 6- Show Precision, Recall and Accuracy on the Test Dataset"
   ]
  },
  {
   "cell_type": "code",
   "execution_count": null,
   "metadata": {
    "id": "x9BltzAtBrmq"
   },
   "outputs": [],
   "source": []
  }
 ],
 "metadata": {
  "colab": {
   "name": "Lab Quiz.ipynb",
   "provenance": []
  },
  "kernelspec": {
   "display_name": "Python 3 (ipykernel)",
   "language": "python",
   "name": "python3"
  },
  "language_info": {
   "codemirror_mode": {
    "name": "ipython",
    "version": 3
   },
   "file_extension": ".py",
   "mimetype": "text/x-python",
   "name": "python",
   "nbconvert_exporter": "python",
   "pygments_lexer": "ipython3",
   "version": "3.9.7"
  }
 },
 "nbformat": 4,
 "nbformat_minor": 1
}
