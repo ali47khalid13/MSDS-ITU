{
 "cells": [
  {
   "cell_type": "markdown",
   "id": "b6c409b8",
   "metadata": {},
   "source": [
    "<h2>Titanic: Machine Learning From Disaster</h2>"
   ]
  },
  {
   "cell_type": "markdown",
   "id": "9548a6f3",
   "metadata": {},
   "source": [
    "### Description"
   ]
  },
  {
   "cell_type": "markdown",
   "id": "451f4fb0",
   "metadata": {},
   "source": [
    "The sinking of the RMS Titanic is one of the most infamous shipwrecks in history.  On April 15, 1912, during her maiden voyage, the Titanic sank after colliding with an iceberg, killing 1502 out of 2224 passengers and crew. This sensational tragedy shocked the international community and led to better safety regulations for ships.\n",
    "\n",
    "One of the reasons that the shipwreck led to such loss of life was that there were not enough lifeboats for the passengers and crew. Although there was some element of luck involved in surviving the sinking, some groups of people were more likely to survive than others, such as women, children, and the upper-class."
   ]
  },
  {
   "cell_type": "markdown",
   "id": "82ab623f",
   "metadata": {},
   "source": [
    "### Data Dictionary"
   ]
  },
  {
   "cell_type": "markdown",
   "id": "8b1bd9f1",
   "metadata": {},
   "source": [
    "|<h3>**Variable**</h3>|<h3>**Definition**</h3>|<h3>**Key**</h3>|\n",
    "|:-|:-|:-|\n",
    "|PassengerId|Unique Identifier of each passenger||\n",
    "|Survived|Survival|0 = No, 1 = Yes|\n",
    "|Pclass|Ticket class|1 = 1st, 2 = 2nd, 3 = 3rd|\n",
    "|Name|Name of Passenger||\n",
    "|Sex|Gender||\n",
    "|Age|Age in years||\n",
    "|SibSp|# of siblings / spouses aboard the Titanic||\n",
    "|Parch|# of parents / children aboard the Titanic||\n",
    "|Ticket|Ticket number||\n",
    "|Fare|Passenger fare||\n",
    "|Cabin|Cabin number||\n",
    "|Embarked|Port of Embarkation|C = Cherbourg, Q = Queenstown, S = Southampton|"
   ]
  },
  {
   "cell_type": "code",
   "execution_count": 129,
   "id": "84bbb779",
   "metadata": {},
   "outputs": [],
   "source": [
    "import numpy as np # linear algebra\n",
    "import pandas as pd # data processing, CSV file I/O (e.g. pd.read_csv)"
   ]
  },
  {
   "cell_type": "code",
   "execution_count": 130,
   "id": "3cf5145b",
   "metadata": {},
   "outputs": [],
   "source": [
    "from pandas import Series,DataFrame\n",
    "import matplotlib.pyplot as plt\n",
    "import seaborn as sns\n",
    "sns.set_style('whitegrid')\n",
    "%matplotlib inline\n",
    "import warnings\n",
    "warnings.filterwarnings('ignore')"
   ]
  },
  {
   "cell_type": "code",
   "execution_count": 131,
   "id": "64daf8bd",
   "metadata": {},
   "outputs": [
    {
     "data": {
      "text/html": [
       "<div>\n",
       "<style scoped>\n",
       "    .dataframe tbody tr th:only-of-type {\n",
       "        vertical-align: middle;\n",
       "    }\n",
       "\n",
       "    .dataframe tbody tr th {\n",
       "        vertical-align: top;\n",
       "    }\n",
       "\n",
       "    .dataframe thead th {\n",
       "        text-align: right;\n",
       "    }\n",
       "</style>\n",
       "<table border=\"1\" class=\"dataframe\">\n",
       "  <thead>\n",
       "    <tr style=\"text-align: right;\">\n",
       "      <th></th>\n",
       "      <th>PassengerId</th>\n",
       "      <th>Survived</th>\n",
       "      <th>Pclass</th>\n",
       "      <th>Name</th>\n",
       "      <th>Sex</th>\n",
       "      <th>Age</th>\n",
       "      <th>SibSp</th>\n",
       "      <th>Parch</th>\n",
       "      <th>Ticket</th>\n",
       "      <th>Fare</th>\n",
       "      <th>Cabin</th>\n",
       "      <th>Embarked</th>\n",
       "    </tr>\n",
       "  </thead>\n",
       "  <tbody>\n",
       "    <tr>\n",
       "      <th>0</th>\n",
       "      <td>1</td>\n",
       "      <td>0</td>\n",
       "      <td>3</td>\n",
       "      <td>Braund, Mr. Owen Harris</td>\n",
       "      <td>male</td>\n",
       "      <td>22.0</td>\n",
       "      <td>1</td>\n",
       "      <td>0</td>\n",
       "      <td>A/5 21171</td>\n",
       "      <td>7.2500</td>\n",
       "      <td>NaN</td>\n",
       "      <td>S</td>\n",
       "    </tr>\n",
       "    <tr>\n",
       "      <th>1</th>\n",
       "      <td>2</td>\n",
       "      <td>1</td>\n",
       "      <td>1</td>\n",
       "      <td>Cumings, Mrs. John Bradley (Florence Briggs Th...</td>\n",
       "      <td>female</td>\n",
       "      <td>38.0</td>\n",
       "      <td>1</td>\n",
       "      <td>0</td>\n",
       "      <td>PC 17599</td>\n",
       "      <td>71.2833</td>\n",
       "      <td>C85</td>\n",
       "      <td>C</td>\n",
       "    </tr>\n",
       "    <tr>\n",
       "      <th>2</th>\n",
       "      <td>3</td>\n",
       "      <td>1</td>\n",
       "      <td>3</td>\n",
       "      <td>Heikkinen, Miss. Laina</td>\n",
       "      <td>female</td>\n",
       "      <td>26.0</td>\n",
       "      <td>0</td>\n",
       "      <td>0</td>\n",
       "      <td>STON/O2. 3101282</td>\n",
       "      <td>7.9250</td>\n",
       "      <td>NaN</td>\n",
       "      <td>S</td>\n",
       "    </tr>\n",
       "    <tr>\n",
       "      <th>3</th>\n",
       "      <td>4</td>\n",
       "      <td>1</td>\n",
       "      <td>1</td>\n",
       "      <td>Futrelle, Mrs. Jacques Heath (Lily May Peel)</td>\n",
       "      <td>female</td>\n",
       "      <td>35.0</td>\n",
       "      <td>1</td>\n",
       "      <td>0</td>\n",
       "      <td>113803</td>\n",
       "      <td>53.1000</td>\n",
       "      <td>C123</td>\n",
       "      <td>S</td>\n",
       "    </tr>\n",
       "    <tr>\n",
       "      <th>4</th>\n",
       "      <td>5</td>\n",
       "      <td>0</td>\n",
       "      <td>3</td>\n",
       "      <td>Allen, Mr. William Henry</td>\n",
       "      <td>male</td>\n",
       "      <td>35.0</td>\n",
       "      <td>0</td>\n",
       "      <td>0</td>\n",
       "      <td>373450</td>\n",
       "      <td>8.0500</td>\n",
       "      <td>NaN</td>\n",
       "      <td>S</td>\n",
       "    </tr>\n",
       "  </tbody>\n",
       "</table>\n",
       "</div>"
      ],
      "text/plain": [
       "   PassengerId  Survived  Pclass  \\\n",
       "0            1         0       3   \n",
       "1            2         1       1   \n",
       "2            3         1       3   \n",
       "3            4         1       1   \n",
       "4            5         0       3   \n",
       "\n",
       "                                                Name     Sex   Age  SibSp  \\\n",
       "0                            Braund, Mr. Owen Harris    male  22.0      1   \n",
       "1  Cumings, Mrs. John Bradley (Florence Briggs Th...  female  38.0      1   \n",
       "2                             Heikkinen, Miss. Laina  female  26.0      0   \n",
       "3       Futrelle, Mrs. Jacques Heath (Lily May Peel)  female  35.0      1   \n",
       "4                           Allen, Mr. William Henry    male  35.0      0   \n",
       "\n",
       "   Parch            Ticket     Fare Cabin Embarked  \n",
       "0      0         A/5 21171   7.2500   NaN        S  \n",
       "1      0          PC 17599  71.2833   C85        C  \n",
       "2      0  STON/O2. 3101282   7.9250   NaN        S  \n",
       "3      0            113803  53.1000  C123        S  \n",
       "4      0            373450   8.0500   NaN        S  "
      ]
     },
     "execution_count": 131,
     "metadata": {},
     "output_type": "execute_result"
    }
   ],
   "source": [
    "###Loading the data\n",
    "titanic_df = pd.read_csv('titanic_train.csv')\n",
    "titanic_df.head()"
   ]
  },
  {
   "cell_type": "markdown",
   "id": "d0a8ea59",
   "metadata": {},
   "source": [
    "#### Attributes in Data"
   ]
  },
  {
   "cell_type": "code",
   "execution_count": 132,
   "id": "eb2391ec",
   "metadata": {},
   "outputs": [
    {
     "name": "stdout",
     "output_type": "stream",
     "text": [
      "['PassengerId' 'Survived' 'Pclass' 'Name' 'Sex' 'Age' 'SibSp' 'Parch'\n",
      " 'Ticket' 'Fare' 'Cabin' 'Embarked']\n"
     ]
    }
   ],
   "source": [
    "print(titanic_df.columns.values)"
   ]
  },
  {
   "cell_type": "markdown",
   "id": "a0f214a5",
   "metadata": {},
   "source": [
    "#### Data types of Attributes"
   ]
  },
  {
   "cell_type": "code",
   "execution_count": 133,
   "id": "df52da47",
   "metadata": {},
   "outputs": [
    {
     "data": {
      "text/plain": [
       "PassengerId      int64\n",
       "Survived         int64\n",
       "Pclass           int64\n",
       "Name            object\n",
       "Sex             object\n",
       "Age            float64\n",
       "SibSp            int64\n",
       "Parch            int64\n",
       "Ticket          object\n",
       "Fare           float64\n",
       "Cabin           object\n",
       "Embarked        object\n",
       "dtype: object"
      ]
     },
     "execution_count": 133,
     "metadata": {},
     "output_type": "execute_result"
    }
   ],
   "source": [
    "titanic_df.dtypes"
   ]
  },
  {
   "cell_type": "markdown",
   "id": "2098b7bd",
   "metadata": {},
   "source": [
    "#### Describe the Data"
   ]
  },
  {
   "cell_type": "code",
   "execution_count": 134,
   "id": "16321fa7",
   "metadata": {},
   "outputs": [
    {
     "data": {
      "text/html": [
       "<div>\n",
       "<style scoped>\n",
       "    .dataframe tbody tr th:only-of-type {\n",
       "        vertical-align: middle;\n",
       "    }\n",
       "\n",
       "    .dataframe tbody tr th {\n",
       "        vertical-align: top;\n",
       "    }\n",
       "\n",
       "    .dataframe thead th {\n",
       "        text-align: right;\n",
       "    }\n",
       "</style>\n",
       "<table border=\"1\" class=\"dataframe\">\n",
       "  <thead>\n",
       "    <tr style=\"text-align: right;\">\n",
       "      <th></th>\n",
       "      <th>count</th>\n",
       "      <th>mean</th>\n",
       "      <th>std</th>\n",
       "      <th>min</th>\n",
       "      <th>25%</th>\n",
       "      <th>50%</th>\n",
       "      <th>75%</th>\n",
       "      <th>max</th>\n",
       "    </tr>\n",
       "  </thead>\n",
       "  <tbody>\n",
       "    <tr>\n",
       "      <th>PassengerId</th>\n",
       "      <td>891.0</td>\n",
       "      <td>446.000000</td>\n",
       "      <td>257.353842</td>\n",
       "      <td>1.00</td>\n",
       "      <td>223.5000</td>\n",
       "      <td>446.0000</td>\n",
       "      <td>668.5</td>\n",
       "      <td>891.0000</td>\n",
       "    </tr>\n",
       "    <tr>\n",
       "      <th>Survived</th>\n",
       "      <td>891.0</td>\n",
       "      <td>0.383838</td>\n",
       "      <td>0.486592</td>\n",
       "      <td>0.00</td>\n",
       "      <td>0.0000</td>\n",
       "      <td>0.0000</td>\n",
       "      <td>1.0</td>\n",
       "      <td>1.0000</td>\n",
       "    </tr>\n",
       "    <tr>\n",
       "      <th>Pclass</th>\n",
       "      <td>891.0</td>\n",
       "      <td>2.308642</td>\n",
       "      <td>0.836071</td>\n",
       "      <td>1.00</td>\n",
       "      <td>2.0000</td>\n",
       "      <td>3.0000</td>\n",
       "      <td>3.0</td>\n",
       "      <td>3.0000</td>\n",
       "    </tr>\n",
       "    <tr>\n",
       "      <th>Age</th>\n",
       "      <td>714.0</td>\n",
       "      <td>29.699118</td>\n",
       "      <td>14.526497</td>\n",
       "      <td>0.42</td>\n",
       "      <td>20.1250</td>\n",
       "      <td>28.0000</td>\n",
       "      <td>38.0</td>\n",
       "      <td>80.0000</td>\n",
       "    </tr>\n",
       "    <tr>\n",
       "      <th>SibSp</th>\n",
       "      <td>891.0</td>\n",
       "      <td>0.523008</td>\n",
       "      <td>1.102743</td>\n",
       "      <td>0.00</td>\n",
       "      <td>0.0000</td>\n",
       "      <td>0.0000</td>\n",
       "      <td>1.0</td>\n",
       "      <td>8.0000</td>\n",
       "    </tr>\n",
       "    <tr>\n",
       "      <th>Parch</th>\n",
       "      <td>891.0</td>\n",
       "      <td>0.381594</td>\n",
       "      <td>0.806057</td>\n",
       "      <td>0.00</td>\n",
       "      <td>0.0000</td>\n",
       "      <td>0.0000</td>\n",
       "      <td>0.0</td>\n",
       "      <td>6.0000</td>\n",
       "    </tr>\n",
       "    <tr>\n",
       "      <th>Fare</th>\n",
       "      <td>891.0</td>\n",
       "      <td>32.204208</td>\n",
       "      <td>49.693429</td>\n",
       "      <td>0.00</td>\n",
       "      <td>7.9104</td>\n",
       "      <td>14.4542</td>\n",
       "      <td>31.0</td>\n",
       "      <td>512.3292</td>\n",
       "    </tr>\n",
       "  </tbody>\n",
       "</table>\n",
       "</div>"
      ],
      "text/plain": [
       "             count        mean         std   min       25%       50%    75%  \\\n",
       "PassengerId  891.0  446.000000  257.353842  1.00  223.5000  446.0000  668.5   \n",
       "Survived     891.0    0.383838    0.486592  0.00    0.0000    0.0000    1.0   \n",
       "Pclass       891.0    2.308642    0.836071  1.00    2.0000    3.0000    3.0   \n",
       "Age          714.0   29.699118   14.526497  0.42   20.1250   28.0000   38.0   \n",
       "SibSp        891.0    0.523008    1.102743  0.00    0.0000    0.0000    1.0   \n",
       "Parch        891.0    0.381594    0.806057  0.00    0.0000    0.0000    0.0   \n",
       "Fare         891.0   32.204208   49.693429  0.00    7.9104   14.4542   31.0   \n",
       "\n",
       "                  max  \n",
       "PassengerId  891.0000  \n",
       "Survived       1.0000  \n",
       "Pclass         3.0000  \n",
       "Age           80.0000  \n",
       "SibSp          8.0000  \n",
       "Parch          6.0000  \n",
       "Fare         512.3292  "
      ]
     },
     "execution_count": 134,
     "metadata": {},
     "output_type": "execute_result"
    }
   ],
   "source": [
    "titanic_df.describe().T"
   ]
  },
  {
   "cell_type": "markdown",
   "id": "cce4c183",
   "metadata": {},
   "source": [
    "**Shape of the data**"
   ]
  },
  {
   "cell_type": "code",
   "execution_count": 135,
   "id": "28df4f34",
   "metadata": {},
   "outputs": [
    {
     "data": {
      "text/plain": [
       "(891, 12)"
      ]
     },
     "execution_count": 135,
     "metadata": {},
     "output_type": "execute_result"
    }
   ],
   "source": [
    "titanic_df.shape"
   ]
  },
  {
   "cell_type": "markdown",
   "id": "8369d841",
   "metadata": {},
   "source": [
    "**Dataset Info**"
   ]
  },
  {
   "cell_type": "code",
   "execution_count": 136,
   "id": "cf7243dc",
   "metadata": {},
   "outputs": [
    {
     "name": "stdout",
     "output_type": "stream",
     "text": [
      "<class 'pandas.core.frame.DataFrame'>\n",
      "RangeIndex: 891 entries, 0 to 890\n",
      "Data columns (total 12 columns):\n",
      " #   Column       Non-Null Count  Dtype  \n",
      "---  ------       --------------  -----  \n",
      " 0   PassengerId  891 non-null    int64  \n",
      " 1   Survived     891 non-null    int64  \n",
      " 2   Pclass       891 non-null    int64  \n",
      " 3   Name         891 non-null    object \n",
      " 4   Sex          891 non-null    object \n",
      " 5   Age          714 non-null    float64\n",
      " 6   SibSp        891 non-null    int64  \n",
      " 7   Parch        891 non-null    int64  \n",
      " 8   Ticket       891 non-null    object \n",
      " 9   Fare         891 non-null    float64\n",
      " 10  Cabin        204 non-null    object \n",
      " 11  Embarked     889 non-null    object \n",
      "dtypes: float64(2), int64(5), object(5)\n",
      "memory usage: 83.7+ KB\n"
     ]
    }
   ],
   "source": [
    "titanic_df.info()"
   ]
  },
  {
   "cell_type": "markdown",
   "id": "bf7cc9c4",
   "metadata": {},
   "source": [
    "## Lets do some Analysis and try to understand the dataset"
   ]
  },
  {
   "cell_type": "markdown",
   "id": "e783be76",
   "metadata": {},
   "source": [
    "### Who were the passengers on the titanic? (What age, gender, class etc)"
   ]
  },
  {
   "cell_type": "markdown",
   "id": "24b84356",
   "metadata": {},
   "source": [
    "### Distribution of gender"
   ]
  },
  {
   "cell_type": "code",
   "execution_count": 137,
   "id": "dada7f38",
   "metadata": {},
   "outputs": [
    {
     "data": {
      "text/plain": [
       "<seaborn.axisgrid.FacetGrid at 0x233d592bf40>"
      ]
     },
     "execution_count": 137,
     "metadata": {},
     "output_type": "execute_result"
    },
    {
     "data": {
      "image/png": "[encoded data removed]",
      "text/plain": [
       "<Figure size 360x360 with 1 Axes>"
      ]
     },
     "metadata": {
      "needs_background": "light"
     },
     "output_type": "display_data"
    }
   ],
   "source": [
    "###Gender Plot\n",
    "sns.catplot('Sex',data=titanic_df,kind='count')"
   ]
  },
  {
   "cell_type": "markdown",
   "id": "f1de885c",
   "metadata": {},
   "source": [
    "### Distribution of Passenger Class"
   ]
  },
  {
   "cell_type": "code",
   "execution_count": 138,
   "id": "d4586367",
   "metadata": {},
   "outputs": [
    {
     "data": {
      "text/plain": [
       "<seaborn.axisgrid.FacetGrid at 0x233d58cf730>"
      ]
     },
     "execution_count": 138,
     "metadata": {},
     "output_type": "execute_result"
    },
    {
     "data": {
      "image/png": "[encoded data removed]",
      "text/plain": [
       "<Figure size 360x360 with 1 Axes>"
      ]
     },
     "metadata": {
      "needs_background": "light"
     },
     "output_type": "display_data"
    }
   ],
   "source": [
    "### Class plot\n",
    "sns.catplot('Pclass',data=titanic_df,kind='count')"
   ]
  },
  {
   "cell_type": "markdown",
   "id": "16e091c8",
   "metadata": {},
   "source": [
    "### Distribution of gender in each Passenger Class"
   ]
  },
  {
   "cell_type": "code",
   "execution_count": 139,
   "id": "7a1624ec",
   "metadata": {},
   "outputs": [
    {
     "data": {
      "text/plain": [
       "<seaborn.axisgrid.FacetGrid at 0x233d58cfd30>"
      ]
     },
     "execution_count": 139,
     "metadata": {},
     "output_type": "execute_result"
    },
    {
     "data": {
      "image/png": "[encoded data removed]",
      "text/plain": [
       "<Figure size 426.125x360 with 1 Axes>"
      ]
     },
     "metadata": {
      "needs_background": "light"
     },
     "output_type": "display_data"
    }
   ],
   "source": [
    "###Interesting! More passengers are from class Three. Now lets find the gender ration among the classes\n",
    "sns.catplot('Pclass',data=titanic_df,hue='Sex',kind='count')"
   ]
  },
  {
   "cell_type": "markdown",
   "id": "c2441f68",
   "metadata": {},
   "source": [
    "### Distribution of Children, Males and Females "
   ]
  },
  {
   "cell_type": "code",
   "execution_count": 140,
   "id": "776f18d3",
   "metadata": {},
   "outputs": [],
   "source": [
    "##This gives us an insight that there are quite a few males than females in 3rd class. Now lets dig deeper and find the children among the passengers.\n",
    "def titanic_children(passenger):\n",
    "    age , sex = passenger\n",
    "    if age <16:\n",
    "        return 'child'\n",
    "    return sex\n",
    "\n",
    "titanic_df['person'] = titanic_df[['Age','Sex']].apply(titanic_children,axis=1)"
   ]
  },
  {
   "cell_type": "code",
   "execution_count": 141,
   "id": "ddbea962",
   "metadata": {},
   "outputs": [
    {
     "data": {
      "text/html": [
       "<div>\n",
       "<style scoped>\n",
       "    .dataframe tbody tr th:only-of-type {\n",
       "        vertical-align: middle;\n",
       "    }\n",
       "\n",
       "    .dataframe tbody tr th {\n",
       "        vertical-align: top;\n",
       "    }\n",
       "\n",
       "    .dataframe thead th {\n",
       "        text-align: right;\n",
       "    }\n",
       "</style>\n",
       "<table border=\"1\" class=\"dataframe\">\n",
       "  <thead>\n",
       "    <tr style=\"text-align: right;\">\n",
       "      <th></th>\n",
       "      <th>PassengerId</th>\n",
       "      <th>Survived</th>\n",
       "      <th>Pclass</th>\n",
       "      <th>Name</th>\n",
       "      <th>Sex</th>\n",
       "      <th>Age</th>\n",
       "      <th>SibSp</th>\n",
       "      <th>Parch</th>\n",
       "      <th>Ticket</th>\n",
       "      <th>Fare</th>\n",
       "      <th>Cabin</th>\n",
       "      <th>Embarked</th>\n",
       "      <th>person</th>\n",
       "    </tr>\n",
       "  </thead>\n",
       "  <tbody>\n",
       "    <tr>\n",
       "      <th>0</th>\n",
       "      <td>1</td>\n",
       "      <td>0</td>\n",
       "      <td>3</td>\n",
       "      <td>Braund, Mr. Owen Harris</td>\n",
       "      <td>male</td>\n",
       "      <td>22.0</td>\n",
       "      <td>1</td>\n",
       "      <td>0</td>\n",
       "      <td>A/5 21171</td>\n",
       "      <td>7.2500</td>\n",
       "      <td>NaN</td>\n",
       "      <td>S</td>\n",
       "      <td>male</td>\n",
       "    </tr>\n",
       "    <tr>\n",
       "      <th>1</th>\n",
       "      <td>2</td>\n",
       "      <td>1</td>\n",
       "      <td>1</td>\n",
       "      <td>Cumings, Mrs. John Bradley (Florence Briggs Th...</td>\n",
       "      <td>female</td>\n",
       "      <td>38.0</td>\n",
       "      <td>1</td>\n",
       "      <td>0</td>\n",
       "      <td>PC 17599</td>\n",
       "      <td>71.2833</td>\n",
       "      <td>C85</td>\n",
       "      <td>C</td>\n",
       "      <td>female</td>\n",
       "    </tr>\n",
       "    <tr>\n",
       "      <th>2</th>\n",
       "      <td>3</td>\n",
       "      <td>1</td>\n",
       "      <td>3</td>\n",
       "      <td>Heikkinen, Miss. Laina</td>\n",
       "      <td>female</td>\n",
       "      <td>26.0</td>\n",
       "      <td>0</td>\n",
       "      <td>0</td>\n",
       "      <td>STON/O2. 3101282</td>\n",
       "      <td>7.9250</td>\n",
       "      <td>NaN</td>\n",
       "      <td>S</td>\n",
       "      <td>female</td>\n",
       "    </tr>\n",
       "    <tr>\n",
       "      <th>3</th>\n",
       "      <td>4</td>\n",
       "      <td>1</td>\n",
       "      <td>1</td>\n",
       "      <td>Futrelle, Mrs. Jacques Heath (Lily May Peel)</td>\n",
       "      <td>female</td>\n",
       "      <td>35.0</td>\n",
       "      <td>1</td>\n",
       "      <td>0</td>\n",
       "      <td>113803</td>\n",
       "      <td>53.1000</td>\n",
       "      <td>C123</td>\n",
       "      <td>S</td>\n",
       "      <td>female</td>\n",
       "    </tr>\n",
       "    <tr>\n",
       "      <th>4</th>\n",
       "      <td>5</td>\n",
       "      <td>0</td>\n",
       "      <td>3</td>\n",
       "      <td>Allen, Mr. William Henry</td>\n",
       "      <td>male</td>\n",
       "      <td>35.0</td>\n",
       "      <td>0</td>\n",
       "      <td>0</td>\n",
       "      <td>373450</td>\n",
       "      <td>8.0500</td>\n",
       "      <td>NaN</td>\n",
       "      <td>S</td>\n",
       "      <td>male</td>\n",
       "    </tr>\n",
       "    <tr>\n",
       "      <th>5</th>\n",
       "      <td>6</td>\n",
       "      <td>0</td>\n",
       "      <td>3</td>\n",
       "      <td>Moran, Mr. James</td>\n",
       "      <td>male</td>\n",
       "      <td>NaN</td>\n",
       "      <td>0</td>\n",
       "      <td>0</td>\n",
       "      <td>330877</td>\n",
       "      <td>8.4583</td>\n",
       "      <td>NaN</td>\n",
       "      <td>Q</td>\n",
       "      <td>male</td>\n",
       "    </tr>\n",
       "    <tr>\n",
       "      <th>6</th>\n",
       "      <td>7</td>\n",
       "      <td>0</td>\n",
       "      <td>1</td>\n",
       "      <td>McCarthy, Mr. Timothy J</td>\n",
       "      <td>male</td>\n",
       "      <td>54.0</td>\n",
       "      <td>0</td>\n",
       "      <td>0</td>\n",
       "      <td>17463</td>\n",
       "      <td>51.8625</td>\n",
       "      <td>E46</td>\n",
       "      <td>S</td>\n",
       "      <td>male</td>\n",
       "    </tr>\n",
       "    <tr>\n",
       "      <th>7</th>\n",
       "      <td>8</td>\n",
       "      <td>0</td>\n",
       "      <td>3</td>\n",
       "      <td>Palsson, Master. Gosta Leonard</td>\n",
       "      <td>male</td>\n",
       "      <td>2.0</td>\n",
       "      <td>3</td>\n",
       "      <td>1</td>\n",
       "      <td>349909</td>\n",
       "      <td>21.0750</td>\n",
       "      <td>NaN</td>\n",
       "      <td>S</td>\n",
       "      <td>child</td>\n",
       "    </tr>\n",
       "    <tr>\n",
       "      <th>8</th>\n",
       "      <td>9</td>\n",
       "      <td>1</td>\n",
       "      <td>3</td>\n",
       "      <td>Johnson, Mrs. Oscar W (Elisabeth Vilhelmina Berg)</td>\n",
       "      <td>female</td>\n",
       "      <td>27.0</td>\n",
       "      <td>0</td>\n",
       "      <td>2</td>\n",
       "      <td>347742</td>\n",
       "      <td>11.1333</td>\n",
       "      <td>NaN</td>\n",
       "      <td>S</td>\n",
       "      <td>female</td>\n",
       "    </tr>\n",
       "    <tr>\n",
       "      <th>9</th>\n",
       "      <td>10</td>\n",
       "      <td>1</td>\n",
       "      <td>2</td>\n",
       "      <td>Nasser, Mrs. Nicholas (Adele Achem)</td>\n",
       "      <td>female</td>\n",
       "      <td>14.0</td>\n",
       "      <td>1</td>\n",
       "      <td>0</td>\n",
       "      <td>237736</td>\n",
       "      <td>30.0708</td>\n",
       "      <td>NaN</td>\n",
       "      <td>C</td>\n",
       "      <td>child</td>\n",
       "    </tr>\n",
       "  </tbody>\n",
       "</table>\n",
       "</div>"
      ],
      "text/plain": [
       "   PassengerId  Survived  Pclass  \\\n",
       "0            1         0       3   \n",
       "1            2         1       1   \n",
       "2            3         1       3   \n",
       "3            4         1       1   \n",
       "4            5         0       3   \n",
       "5            6         0       3   \n",
       "6            7         0       1   \n",
       "7            8         0       3   \n",
       "8            9         1       3   \n",
       "9           10         1       2   \n",
       "\n",
       "                                                Name     Sex   Age  SibSp  \\\n",
       "0                            Braund, Mr. Owen Harris    male  22.0      1   \n",
       "1  Cumings, Mrs. John Bradley (Florence Briggs Th...  female  38.0      1   \n",
       "2                             Heikkinen, Miss. Laina  female  26.0      0   \n",
       "3       Futrelle, Mrs. Jacques Heath (Lily May Peel)  female  35.0      1   \n",
       "4                           Allen, Mr. William Henry    male  35.0      0   \n",
       "5                                   Moran, Mr. James    male   NaN      0   \n",
       "6                            McCarthy, Mr. Timothy J    male  54.0      0   \n",
       "7                     Palsson, Master. Gosta Leonard    male   2.0      3   \n",
       "8  Johnson, Mrs. Oscar W (Elisabeth Vilhelmina Berg)  female  27.0      0   \n",
       "9                Nasser, Mrs. Nicholas (Adele Achem)  female  14.0      1   \n",
       "\n",
       "   Parch            Ticket     Fare Cabin Embarked  person  \n",
       "0      0         A/5 21171   7.2500   NaN        S    male  \n",
       "1      0          PC 17599  71.2833   C85        C  female  \n",
       "2      0  STON/O2. 3101282   7.9250   NaN        S  female  \n",
       "3      0            113803  53.1000  C123        S  female  \n",
       "4      0            373450   8.0500   NaN        S    male  \n",
       "5      0            330877   8.4583   NaN        Q    male  \n",
       "6      0             17463  51.8625   E46        S    male  \n",
       "7      1            349909  21.0750   NaN        S   child  \n",
       "8      2            347742  11.1333   NaN        S  female  \n",
       "9      0            237736  30.0708   NaN        C   child  "
      ]
     },
     "execution_count": 141,
     "metadata": {},
     "output_type": "execute_result"
    }
   ],
   "source": [
    "titanic_df.head(10)"
   ]
  },
  {
   "cell_type": "code",
   "execution_count": 142,
   "id": "71c6e30f",
   "metadata": {},
   "outputs": [
    {
     "data": {
      "text/plain": [
       "<seaborn.axisgrid.FacetGrid at 0x233d7ec1ee0>"
      ]
     },
     "execution_count": 142,
     "metadata": {},
     "output_type": "execute_result"
    },
    {
     "data": {
      "image/png": "[encoded data removed]",
      "text/plain": [
       "<Figure size 426.125x360 with 1 Axes>"
      ]
     },
     "metadata": {
      "needs_background": "light"
     },
     "output_type": "display_data"
    }
   ],
   "source": [
    "sns.factorplot('Pclass',data=titanic_df,hue='person',kind='count')"
   ]
  },
  {
   "cell_type": "markdown",
   "id": "43e5b194",
   "metadata": {},
   "source": [
    "### Distribution of Embarked"
   ]
  },
  {
   "cell_type": "code",
   "execution_count": 143,
   "id": "b939936e",
   "metadata": {},
   "outputs": [
    {
     "data": {
      "text/plain": [
       "<seaborn.axisgrid.FacetGrid at 0x233d7ec4be0>"
      ]
     },
     "execution_count": 143,
     "metadata": {},
     "output_type": "execute_result"
    },
    {
     "data": {
      "image/png": "[encoded data removed]",
      "text/plain": [
       "<Figure size 360x360 with 1 Axes>"
      ]
     },
     "metadata": {
      "needs_background": "light"
     },
     "output_type": "display_data"
    }
   ],
   "source": [
    "sns.factorplot('Embarked',data=titanic_df,kind='count')"
   ]
  },
  {
   "cell_type": "markdown",
   "id": "74e9b805",
   "metadata": {},
   "source": [
    "### Distribution of Embarked wrt Pclass"
   ]
  },
  {
   "cell_type": "code",
   "execution_count": 144,
   "id": "18dd2832",
   "metadata": {},
   "outputs": [
    {
     "data": {
      "text/plain": [
       "<seaborn.axisgrid.FacetGrid at 0x233d7f47cd0>"
      ]
     },
     "execution_count": 144,
     "metadata": {},
     "output_type": "execute_result"
    },
    {
     "data": {
      "image/png": "[encoded data removed]",
      "text/plain": [
       "<Figure size 401.625x360 with 1 Axes>"
      ]
     },
     "metadata": {
      "needs_background": "light"
     },
     "output_type": "display_data"
    }
   ],
   "source": [
    "sns.factorplot('Embarked',data=titanic_df,hue='Pclass',kind='count')"
   ]
  },
  {
   "cell_type": "code",
   "execution_count": 145,
   "id": "8bfef246",
   "metadata": {},
   "outputs": [
    {
     "data": {
      "text/plain": [
       "<seaborn.axisgrid.FacetGrid at 0x233d7ec4160>"
      ]
     },
     "execution_count": 145,
     "metadata": {},
     "output_type": "execute_result"
    },
    {
     "data": {
      "image/png": "[encoded data removed]",
      "text/plain": [
       "<Figure size 426.125x360 with 1 Axes>"
      ]
     },
     "metadata": {
      "needs_background": "light"
     },
     "output_type": "display_data"
    }
   ],
   "source": [
    "sns.factorplot('Embarked',data=titanic_df,hue='Sex',kind='count')"
   ]
  },
  {
   "cell_type": "markdown",
   "id": "596277a9",
   "metadata": {},
   "source": [
    "### Distribution of SibSp"
   ]
  },
  {
   "cell_type": "code",
   "execution_count": 146,
   "id": "0b278de3",
   "metadata": {},
   "outputs": [
    {
     "data": {
      "text/plain": [
       "<seaborn.axisgrid.FacetGrid at 0x233d7f534f0>"
      ]
     },
     "execution_count": 146,
     "metadata": {},
     "output_type": "execute_result"
    },
    {
     "data": {
      "image/png": "[encoded data removed]",
      "text/plain": [
       "<Figure size 360x360 with 1 Axes>"
      ]
     },
     "metadata": {
      "needs_background": "light"
     },
     "output_type": "display_data"
    }
   ],
   "source": [
    "sns.factorplot('SibSp',data=titanic_df,kind='count')"
   ]
  },
  {
   "cell_type": "markdown",
   "id": "1f68d14b",
   "metadata": {},
   "source": [
    "### Distribution of SibSp in each Pclass"
   ]
  },
  {
   "cell_type": "code",
   "execution_count": 147,
   "id": "93f6603e",
   "metadata": {},
   "outputs": [
    {
     "data": {
      "text/plain": [
       "<seaborn.axisgrid.FacetGrid at 0x233d7fcaee0>"
      ]
     },
     "execution_count": 147,
     "metadata": {},
     "output_type": "execute_result"
    },
    {
     "data": {
      "image/png": "[encoded data removed]",
      "text/plain": [
       "<Figure size 401.625x360 with 1 Axes>"
      ]
     },
     "metadata": {
      "needs_background": "light"
     },
     "output_type": "display_data"
    }
   ],
   "source": [
    "sns.factorplot('SibSp',data=titanic_df,hue='Pclass',kind='count')"
   ]
  },
  {
   "cell_type": "code",
   "execution_count": 148,
   "id": "3e97a49c",
   "metadata": {},
   "outputs": [
    {
     "data": {
      "text/plain": [
       "<AxesSubplot:>"
      ]
     },
     "execution_count": 148,
     "metadata": {},
     "output_type": "execute_result"
    },
    {
     "data": {
      "image/png": "[encoded data removed]",
      "text/plain": [
       "<Figure size 432x288 with 1 Axes>"
      ]
     },
     "metadata": {
      "needs_background": "light"
     },
     "output_type": "display_data"
    }
   ],
   "source": [
    "###Now let us look at the ages of the passengers\n",
    "\n",
    "titanic_df['Age'].hist(bins=20)"
   ]
  },
  {
   "cell_type": "markdown",
   "id": "702fb555",
   "metadata": {},
   "source": [
    "## Now lets analyze the Distribution of Survived passangers and not survived"
   ]
  },
  {
   "cell_type": "code",
   "execution_count": 149,
   "id": "5efee979",
   "metadata": {},
   "outputs": [
    {
     "data": {
      "text/plain": [
       "<seaborn.axisgrid.FacetGrid at 0x233d807aee0>"
      ]
     },
     "execution_count": 149,
     "metadata": {},
     "output_type": "execute_result"
    },
    {
     "data": {
      "image/png": "[encoded data removed]",
      "text/plain": [
       "<Figure size 407x360 with 1 Axes>"
      ]
     },
     "metadata": {
      "needs_background": "light"
     },
     "output_type": "display_data"
    }
   ],
   "source": [
    "sns.factorplot('person',data=titanic_df,hue='Survived',kind='count')"
   ]
  },
  {
   "cell_type": "code",
   "execution_count": 150,
   "id": "46bb8b80",
   "metadata": {},
   "outputs": [
    {
     "data": {
      "text/plain": [
       "<seaborn.axisgrid.FacetGrid at 0x233d586bac0>"
      ]
     },
     "execution_count": 150,
     "metadata": {},
     "output_type": "execute_result"
    },
    {
     "data": {
      "image/png": "[encoded data removed]",
      "text/plain": [
       "<Figure size 407x360 with 1 Axes>"
      ]
     },
     "metadata": {
      "needs_background": "light"
     },
     "output_type": "display_data"
    }
   ],
   "source": [
    "sns.factorplot('Pclass',data=titanic_df,hue='Survived',kind='count')"
   ]
  },
  {
   "cell_type": "code",
   "execution_count": 151,
   "id": "8f661cc4",
   "metadata": {},
   "outputs": [
    {
     "data": {
      "text/plain": [
       "<seaborn.axisgrid.FacetGrid at 0x233d5d2f910>"
      ]
     },
     "execution_count": 151,
     "metadata": {},
     "output_type": "execute_result"
    },
    {
     "data": {
      "image/png": "[encoded data removed]",
      "text/plain": [
       "<Figure size 407x360 with 1 Axes>"
      ]
     },
     "metadata": {
      "needs_background": "light"
     },
     "output_type": "display_data"
    }
   ],
   "source": [
    "sns.factorplot('Embarked',data=titanic_df,hue='Survived',kind='count')"
   ]
  },
  {
   "cell_type": "code",
   "execution_count": 152,
   "id": "d9dc92a0",
   "metadata": {},
   "outputs": [
    {
     "data": {
      "text/plain": [
       "<seaborn.axisgrid.FacetGrid at 0x233d5b078b0>"
      ]
     },
     "execution_count": 152,
     "metadata": {},
     "output_type": "execute_result"
    },
    {
     "data": {
      "image/png": "[encoded data removed]",
      "text/plain": [
       "<Figure size 407x360 with 1 Axes>"
      ]
     },
     "metadata": {
      "needs_background": "light"
     },
     "output_type": "display_data"
    }
   ],
   "source": [
    "sns.factorplot('SibSp',data=titanic_df,hue='Survived',kind='count')"
   ]
  },
  {
   "cell_type": "code",
   "execution_count": 153,
   "id": "2d90daa6",
   "metadata": {},
   "outputs": [
    {
     "data": {
      "text/plain": [
       "<seaborn.axisgrid.FacetGrid at 0x233d55f3bb0>"
      ]
     },
     "execution_count": 153,
     "metadata": {},
     "output_type": "execute_result"
    },
    {
     "data": {
      "image/png": "[encoded data removed]",
      "text/plain": [
       "<Figure size 407x360 with 1 Axes>"
      ]
     },
     "metadata": {
      "needs_background": "light"
     },
     "output_type": "display_data"
    }
   ],
   "source": [
    "sns.factorplot('SibSp',data=titanic_df[titanic_df.Sex=='male'],hue='Survived',kind='count')"
   ]
  },
  {
   "cell_type": "code",
   "execution_count": 154,
   "id": "62208e5f",
   "metadata": {},
   "outputs": [
    {
     "data": {
      "text/plain": [
       "<seaborn.axisgrid.FacetGrid at 0x233d5673e50>"
      ]
     },
     "execution_count": 154,
     "metadata": {},
     "output_type": "execute_result"
    },
    {
     "data": {
      "image/png": "[encoded data removed]",
      "text/plain": [
       "<Figure size 407x360 with 1 Axes>"
      ]
     },
     "metadata": {
      "needs_background": "light"
     },
     "output_type": "display_data"
    }
   ],
   "source": [
    "sns.factorplot('SibSp',data=titanic_df[titanic_df.Sex=='female'],hue='Survived',kind='count')"
   ]
  },
  {
   "cell_type": "markdown",
   "id": "6747bd34",
   "metadata": {},
   "source": [
    "## Preprocessing"
   ]
  },
  {
   "cell_type": "markdown",
   "id": "43b46453",
   "metadata": {},
   "source": [
    "**Check for the duplicate rows**"
   ]
  },
  {
   "cell_type": "code",
   "execution_count": 155,
   "id": "e4fdb3bc",
   "metadata": {},
   "outputs": [
    {
     "data": {
      "text/plain": [
       "0"
      ]
     },
     "execution_count": 155,
     "metadata": {},
     "output_type": "execute_result"
    }
   ],
   "source": [
    "titanic_df.duplicated().sum()"
   ]
  },
  {
   "cell_type": "markdown",
   "id": "24a20dcd",
   "metadata": {},
   "source": [
    "**Check for the null values**"
   ]
  },
  {
   "cell_type": "code",
   "execution_count": 156,
   "id": "8b230b1c",
   "metadata": {
    "scrolled": true
   },
   "outputs": [
    {
     "data": {
      "text/plain": [
       "PassengerId      0\n",
       "Survived         0\n",
       "Pclass           0\n",
       "Name             0\n",
       "Sex              0\n",
       "Age            177\n",
       "SibSp            0\n",
       "Parch            0\n",
       "Ticket           0\n",
       "Fare             0\n",
       "Cabin          687\n",
       "Embarked         2\n",
       "person           0\n",
       "dtype: int64"
      ]
     },
     "execution_count": 156,
     "metadata": {},
     "output_type": "execute_result"
    }
   ],
   "source": [
    "titanic_df.isnull().sum()"
   ]
  },
  {
   "cell_type": "code",
   "execution_count": 157,
   "id": "c809bfca",
   "metadata": {},
   "outputs": [
    {
     "data": {
      "text/plain": [
       "29.69911764705882"
      ]
     },
     "execution_count": 157,
     "metadata": {},
     "output_type": "execute_result"
    }
   ],
   "source": [
    "###Mean age of the passengers\n",
    "titanic_df['Age'].mean()"
   ]
  },
  {
   "cell_type": "code",
   "execution_count": 158,
   "id": "14a7424c",
   "metadata": {},
   "outputs": [],
   "source": [
    "titanic_df['Age'] = titanic_df['Age'].fillna(titanic_df['Age'].mean())"
   ]
  },
  {
   "cell_type": "code",
   "execution_count": 159,
   "id": "dde5e1df",
   "metadata": {},
   "outputs": [
    {
     "data": {
      "text/plain": [
       "PassengerId      0\n",
       "Survived         0\n",
       "Pclass           0\n",
       "Name             0\n",
       "Sex              0\n",
       "Age              0\n",
       "SibSp            0\n",
       "Parch            0\n",
       "Ticket           0\n",
       "Fare             0\n",
       "Cabin          687\n",
       "Embarked         2\n",
       "person           0\n",
       "dtype: int64"
      ]
     },
     "execution_count": 159,
     "metadata": {},
     "output_type": "execute_result"
    }
   ],
   "source": [
    "titanic_df.isnull().sum()"
   ]
  },
  {
   "cell_type": "code",
   "execution_count": 160,
   "id": "07a8af38",
   "metadata": {},
   "outputs": [
    {
     "data": {
      "text/plain": [
       "S    644\n",
       "C    168\n",
       "Q     77\n",
       "Name: Embarked, dtype: int64"
      ]
     },
     "execution_count": 160,
     "metadata": {},
     "output_type": "execute_result"
    }
   ],
   "source": [
    "titanic_df['Embarked'].value_counts()"
   ]
  },
  {
   "cell_type": "code",
   "execution_count": 161,
   "id": "c9de8ead",
   "metadata": {},
   "outputs": [],
   "source": [
    "titanic_df['Embarked'] = titanic_df['Embarked'].fillna('S')"
   ]
  },
  {
   "cell_type": "code",
   "execution_count": 162,
   "id": "eca7feda",
   "metadata": {},
   "outputs": [
    {
     "data": {
      "text/plain": [
       "PassengerId      0\n",
       "Survived         0\n",
       "Pclass           0\n",
       "Name             0\n",
       "Sex              0\n",
       "Age              0\n",
       "SibSp            0\n",
       "Parch            0\n",
       "Ticket           0\n",
       "Fare             0\n",
       "Cabin          687\n",
       "Embarked         0\n",
       "person           0\n",
       "dtype: int64"
      ]
     },
     "execution_count": 162,
     "metadata": {},
     "output_type": "execute_result"
    }
   ],
   "source": [
    "titanic_df.isnull().sum()"
   ]
  },
  {
   "cell_type": "code",
   "execution_count": 163,
   "id": "a0b9a81a",
   "metadata": {},
   "outputs": [
    {
     "data": {
      "text/plain": [
       "0       NaN\n",
       "1       C85\n",
       "2       NaN\n",
       "3      C123\n",
       "4       NaN\n",
       "       ... \n",
       "886     NaN\n",
       "887     B42\n",
       "888     NaN\n",
       "889    C148\n",
       "890     NaN\n",
       "Name: Cabin, Length: 891, dtype: object"
      ]
     },
     "execution_count": 163,
     "metadata": {},
     "output_type": "execute_result"
    }
   ],
   "source": [
    "titanic_df['Cabin']"
   ]
  },
  {
   "cell_type": "code",
   "execution_count": 164,
   "id": "61cbdf25",
   "metadata": {},
   "outputs": [],
   "source": [
    "titanic_df.Cabin.fillna(value=\"UKN\", inplace=True)"
   ]
  },
  {
   "cell_type": "markdown",
   "id": "a51c769e",
   "metadata": {},
   "source": [
    "### Lets drop some irrelevent attributes"
   ]
  },
  {
   "cell_type": "code",
   "execution_count": 165,
   "id": "1ee82e3e",
   "metadata": {},
   "outputs": [],
   "source": [
    "titanic_df.drop(['PassengerId', 'Ticket' ], axis=1, inplace=True)"
   ]
  },
  {
   "cell_type": "code",
   "execution_count": 166,
   "id": "cf2f61ab",
   "metadata": {},
   "outputs": [
    {
     "data": {
      "text/html": [
       "<div>\n",
       "<style scoped>\n",
       "    .dataframe tbody tr th:only-of-type {\n",
       "        vertical-align: middle;\n",
       "    }\n",
       "\n",
       "    .dataframe tbody tr th {\n",
       "        vertical-align: top;\n",
       "    }\n",
       "\n",
       "    .dataframe thead th {\n",
       "        text-align: right;\n",
       "    }\n",
       "</style>\n",
       "<table border=\"1\" class=\"dataframe\">\n",
       "  <thead>\n",
       "    <tr style=\"text-align: right;\">\n",
       "      <th></th>\n",
       "      <th>Survived</th>\n",
       "      <th>Pclass</th>\n",
       "      <th>Name</th>\n",
       "      <th>Sex</th>\n",
       "      <th>Age</th>\n",
       "      <th>SibSp</th>\n",
       "      <th>Parch</th>\n",
       "      <th>Fare</th>\n",
       "      <th>Cabin</th>\n",
       "      <th>Embarked</th>\n",
       "      <th>person</th>\n",
       "    </tr>\n",
       "  </thead>\n",
       "  <tbody>\n",
       "    <tr>\n",
       "      <th>0</th>\n",
       "      <td>0</td>\n",
       "      <td>3</td>\n",
       "      <td>Braund, Mr. Owen Harris</td>\n",
       "      <td>male</td>\n",
       "      <td>22.000000</td>\n",
       "      <td>1</td>\n",
       "      <td>0</td>\n",
       "      <td>7.2500</td>\n",
       "      <td>UKN</td>\n",
       "      <td>S</td>\n",
       "      <td>male</td>\n",
       "    </tr>\n",
       "    <tr>\n",
       "      <th>1</th>\n",
       "      <td>1</td>\n",
       "      <td>1</td>\n",
       "      <td>Cumings, Mrs. John Bradley (Florence Briggs Th...</td>\n",
       "      <td>female</td>\n",
       "      <td>38.000000</td>\n",
       "      <td>1</td>\n",
       "      <td>0</td>\n",
       "      <td>71.2833</td>\n",
       "      <td>C85</td>\n",
       "      <td>C</td>\n",
       "      <td>female</td>\n",
       "    </tr>\n",
       "    <tr>\n",
       "      <th>2</th>\n",
       "      <td>1</td>\n",
       "      <td>3</td>\n",
       "      <td>Heikkinen, Miss. Laina</td>\n",
       "      <td>female</td>\n",
       "      <td>26.000000</td>\n",
       "      <td>0</td>\n",
       "      <td>0</td>\n",
       "      <td>7.9250</td>\n",
       "      <td>UKN</td>\n",
       "      <td>S</td>\n",
       "      <td>female</td>\n",
       "    </tr>\n",
       "    <tr>\n",
       "      <th>3</th>\n",
       "      <td>1</td>\n",
       "      <td>1</td>\n",
       "      <td>Futrelle, Mrs. Jacques Heath (Lily May Peel)</td>\n",
       "      <td>female</td>\n",
       "      <td>35.000000</td>\n",
       "      <td>1</td>\n",
       "      <td>0</td>\n",
       "      <td>53.1000</td>\n",
       "      <td>C123</td>\n",
       "      <td>S</td>\n",
       "      <td>female</td>\n",
       "    </tr>\n",
       "    <tr>\n",
       "      <th>4</th>\n",
       "      <td>0</td>\n",
       "      <td>3</td>\n",
       "      <td>Allen, Mr. William Henry</td>\n",
       "      <td>male</td>\n",
       "      <td>35.000000</td>\n",
       "      <td>0</td>\n",
       "      <td>0</td>\n",
       "      <td>8.0500</td>\n",
       "      <td>UKN</td>\n",
       "      <td>S</td>\n",
       "      <td>male</td>\n",
       "    </tr>\n",
       "    <tr>\n",
       "      <th>5</th>\n",
       "      <td>0</td>\n",
       "      <td>3</td>\n",
       "      <td>Moran, Mr. James</td>\n",
       "      <td>male</td>\n",
       "      <td>29.699118</td>\n",
       "      <td>0</td>\n",
       "      <td>0</td>\n",
       "      <td>8.4583</td>\n",
       "      <td>UKN</td>\n",
       "      <td>Q</td>\n",
       "      <td>male</td>\n",
       "    </tr>\n",
       "    <tr>\n",
       "      <th>6</th>\n",
       "      <td>0</td>\n",
       "      <td>1</td>\n",
       "      <td>McCarthy, Mr. Timothy J</td>\n",
       "      <td>male</td>\n",
       "      <td>54.000000</td>\n",
       "      <td>0</td>\n",
       "      <td>0</td>\n",
       "      <td>51.8625</td>\n",
       "      <td>E46</td>\n",
       "      <td>S</td>\n",
       "      <td>male</td>\n",
       "    </tr>\n",
       "    <tr>\n",
       "      <th>7</th>\n",
       "      <td>0</td>\n",
       "      <td>3</td>\n",
       "      <td>Palsson, Master. Gosta Leonard</td>\n",
       "      <td>male</td>\n",
       "      <td>2.000000</td>\n",
       "      <td>3</td>\n",
       "      <td>1</td>\n",
       "      <td>21.0750</td>\n",
       "      <td>UKN</td>\n",
       "      <td>S</td>\n",
       "      <td>child</td>\n",
       "    </tr>\n",
       "    <tr>\n",
       "      <th>8</th>\n",
       "      <td>1</td>\n",
       "      <td>3</td>\n",
       "      <td>Johnson, Mrs. Oscar W (Elisabeth Vilhelmina Berg)</td>\n",
       "      <td>female</td>\n",
       "      <td>27.000000</td>\n",
       "      <td>0</td>\n",
       "      <td>2</td>\n",
       "      <td>11.1333</td>\n",
       "      <td>UKN</td>\n",
       "      <td>S</td>\n",
       "      <td>female</td>\n",
       "    </tr>\n",
       "    <tr>\n",
       "      <th>9</th>\n",
       "      <td>1</td>\n",
       "      <td>2</td>\n",
       "      <td>Nasser, Mrs. Nicholas (Adele Achem)</td>\n",
       "      <td>female</td>\n",
       "      <td>14.000000</td>\n",
       "      <td>1</td>\n",
       "      <td>0</td>\n",
       "      <td>30.0708</td>\n",
       "      <td>UKN</td>\n",
       "      <td>C</td>\n",
       "      <td>child</td>\n",
       "    </tr>\n",
       "  </tbody>\n",
       "</table>\n",
       "</div>"
      ],
      "text/plain": [
       "   Survived  Pclass                                               Name  \\\n",
       "0         0       3                            Braund, Mr. Owen Harris   \n",
       "1         1       1  Cumings, Mrs. John Bradley (Florence Briggs Th...   \n",
       "2         1       3                             Heikkinen, Miss. Laina   \n",
       "3         1       1       Futrelle, Mrs. Jacques Heath (Lily May Peel)   \n",
       "4         0       3                           Allen, Mr. William Henry   \n",
       "5         0       3                                   Moran, Mr. James   \n",
       "6         0       1                            McCarthy, Mr. Timothy J   \n",
       "7         0       3                     Palsson, Master. Gosta Leonard   \n",
       "8         1       3  Johnson, Mrs. Oscar W (Elisabeth Vilhelmina Berg)   \n",
       "9         1       2                Nasser, Mrs. Nicholas (Adele Achem)   \n",
       "\n",
       "      Sex        Age  SibSp  Parch     Fare Cabin Embarked  person  \n",
       "0    male  22.000000      1      0   7.2500   UKN        S    male  \n",
       "1  female  38.000000      1      0  71.2833   C85        C  female  \n",
       "2  female  26.000000      0      0   7.9250   UKN        S  female  \n",
       "3  female  35.000000      1      0  53.1000  C123        S  female  \n",
       "4    male  35.000000      0      0   8.0500   UKN        S    male  \n",
       "5    male  29.699118      0      0   8.4583   UKN        Q    male  \n",
       "6    male  54.000000      0      0  51.8625   E46        S    male  \n",
       "7    male   2.000000      3      1  21.0750   UKN        S   child  \n",
       "8  female  27.000000      0      2  11.1333   UKN        S  female  \n",
       "9  female  14.000000      1      0  30.0708   UKN        C   child  "
      ]
     },
     "execution_count": 166,
     "metadata": {},
     "output_type": "execute_result"
    }
   ],
   "source": [
    "titanic_df.head(10)"
   ]
  },
  {
   "cell_type": "markdown",
   "id": "8ec4fd03",
   "metadata": {},
   "source": [
    "### Do name and Cabin are irrelevent attributes?"
   ]
  },
  {
   "cell_type": "code",
   "execution_count": 167,
   "id": "26790960",
   "metadata": {},
   "outputs": [],
   "source": [
    "titanic_df[\"Title\"] = titanic_df.Name.str.extract(\"([A-Za-z]+)\\.\")"
   ]
  },
  {
   "cell_type": "code",
   "execution_count": 168,
   "id": "b20c92dd",
   "metadata": {},
   "outputs": [
    {
     "data": {
      "text/html": [
       "<div>\n",
       "<style scoped>\n",
       "    .dataframe tbody tr th:only-of-type {\n",
       "        vertical-align: middle;\n",
       "    }\n",
       "\n",
       "    .dataframe tbody tr th {\n",
       "        vertical-align: top;\n",
       "    }\n",
       "\n",
       "    .dataframe thead th {\n",
       "        text-align: right;\n",
       "    }\n",
       "</style>\n",
       "<table border=\"1\" class=\"dataframe\">\n",
       "  <thead>\n",
       "    <tr style=\"text-align: right;\">\n",
       "      <th></th>\n",
       "      <th>Survived</th>\n",
       "      <th>Pclass</th>\n",
       "      <th>Name</th>\n",
       "      <th>Sex</th>\n",
       "      <th>Age</th>\n",
       "      <th>SibSp</th>\n",
       "      <th>Parch</th>\n",
       "      <th>Fare</th>\n",
       "      <th>Cabin</th>\n",
       "      <th>Embarked</th>\n",
       "      <th>person</th>\n",
       "      <th>Title</th>\n",
       "    </tr>\n",
       "  </thead>\n",
       "  <tbody>\n",
       "    <tr>\n",
       "      <th>0</th>\n",
       "      <td>0</td>\n",
       "      <td>3</td>\n",
       "      <td>Braund, Mr. Owen Harris</td>\n",
       "      <td>male</td>\n",
       "      <td>22.0</td>\n",
       "      <td>1</td>\n",
       "      <td>0</td>\n",
       "      <td>7.2500</td>\n",
       "      <td>UKN</td>\n",
       "      <td>S</td>\n",
       "      <td>male</td>\n",
       "      <td>Mr</td>\n",
       "    </tr>\n",
       "    <tr>\n",
       "      <th>1</th>\n",
       "      <td>1</td>\n",
       "      <td>1</td>\n",
       "      <td>Cumings, Mrs. John Bradley (Florence Briggs Th...</td>\n",
       "      <td>female</td>\n",
       "      <td>38.0</td>\n",
       "      <td>1</td>\n",
       "      <td>0</td>\n",
       "      <td>71.2833</td>\n",
       "      <td>C85</td>\n",
       "      <td>C</td>\n",
       "      <td>female</td>\n",
       "      <td>Mrs</td>\n",
       "    </tr>\n",
       "    <tr>\n",
       "      <th>2</th>\n",
       "      <td>1</td>\n",
       "      <td>3</td>\n",
       "      <td>Heikkinen, Miss. Laina</td>\n",
       "      <td>female</td>\n",
       "      <td>26.0</td>\n",
       "      <td>0</td>\n",
       "      <td>0</td>\n",
       "      <td>7.9250</td>\n",
       "      <td>UKN</td>\n",
       "      <td>S</td>\n",
       "      <td>female</td>\n",
       "      <td>Miss</td>\n",
       "    </tr>\n",
       "    <tr>\n",
       "      <th>3</th>\n",
       "      <td>1</td>\n",
       "      <td>1</td>\n",
       "      <td>Futrelle, Mrs. Jacques Heath (Lily May Peel)</td>\n",
       "      <td>female</td>\n",
       "      <td>35.0</td>\n",
       "      <td>1</td>\n",
       "      <td>0</td>\n",
       "      <td>53.1000</td>\n",
       "      <td>C123</td>\n",
       "      <td>S</td>\n",
       "      <td>female</td>\n",
       "      <td>Mrs</td>\n",
       "    </tr>\n",
       "    <tr>\n",
       "      <th>4</th>\n",
       "      <td>0</td>\n",
       "      <td>3</td>\n",
       "      <td>Allen, Mr. William Henry</td>\n",
       "      <td>male</td>\n",
       "      <td>35.0</td>\n",
       "      <td>0</td>\n",
       "      <td>0</td>\n",
       "      <td>8.0500</td>\n",
       "      <td>UKN</td>\n",
       "      <td>S</td>\n",
       "      <td>male</td>\n",
       "      <td>Mr</td>\n",
       "    </tr>\n",
       "  </tbody>\n",
       "</table>\n",
       "</div>"
      ],
      "text/plain": [
       "   Survived  Pclass                                               Name  \\\n",
       "0         0       3                            Braund, Mr. Owen Harris   \n",
       "1         1       1  Cumings, Mrs. John Bradley (Florence Briggs Th...   \n",
       "2         1       3                             Heikkinen, Miss. Laina   \n",
       "3         1       1       Futrelle, Mrs. Jacques Heath (Lily May Peel)   \n",
       "4         0       3                           Allen, Mr. William Henry   \n",
       "\n",
       "      Sex   Age  SibSp  Parch     Fare Cabin Embarked  person Title  \n",
       "0    male  22.0      1      0   7.2500   UKN        S    male    Mr  \n",
       "1  female  38.0      1      0  71.2833   C85        C  female   Mrs  \n",
       "2  female  26.0      0      0   7.9250   UKN        S  female  Miss  \n",
       "3  female  35.0      1      0  53.1000  C123        S  female   Mrs  \n",
       "4    male  35.0      0      0   8.0500   UKN        S    male    Mr  "
      ]
     },
     "execution_count": 168,
     "metadata": {},
     "output_type": "execute_result"
    }
   ],
   "source": [
    "titanic_df.head()"
   ]
  },
  {
   "cell_type": "code",
   "execution_count": 169,
   "id": "6cb1d24d",
   "metadata": {},
   "outputs": [],
   "source": [
    "titanic_df['has_cabin']=1"
   ]
  },
  {
   "cell_type": "code",
   "execution_count": 170,
   "id": "e7e74cfe",
   "metadata": {},
   "outputs": [],
   "source": [
    "titanic_df.loc[titanic_df.Cabin == \"UKN\",'has_cabin'] = 0"
   ]
  },
  {
   "cell_type": "code",
   "execution_count": 171,
   "id": "a08c6fa4",
   "metadata": {},
   "outputs": [
    {
     "data": {
      "text/html": [
       "<div>\n",
       "<style scoped>\n",
       "    .dataframe tbody tr th:only-of-type {\n",
       "        vertical-align: middle;\n",
       "    }\n",
       "\n",
       "    .dataframe tbody tr th {\n",
       "        vertical-align: top;\n",
       "    }\n",
       "\n",
       "    .dataframe thead th {\n",
       "        text-align: right;\n",
       "    }\n",
       "</style>\n",
       "<table border=\"1\" class=\"dataframe\">\n",
       "  <thead>\n",
       "    <tr style=\"text-align: right;\">\n",
       "      <th></th>\n",
       "      <th>Survived</th>\n",
       "      <th>Pclass</th>\n",
       "      <th>Name</th>\n",
       "      <th>Sex</th>\n",
       "      <th>Age</th>\n",
       "      <th>SibSp</th>\n",
       "      <th>Parch</th>\n",
       "      <th>Fare</th>\n",
       "      <th>Cabin</th>\n",
       "      <th>Embarked</th>\n",
       "      <th>person</th>\n",
       "      <th>Title</th>\n",
       "      <th>has_cabin</th>\n",
       "    </tr>\n",
       "  </thead>\n",
       "  <tbody>\n",
       "    <tr>\n",
       "      <th>0</th>\n",
       "      <td>0</td>\n",
       "      <td>3</td>\n",
       "      <td>Braund, Mr. Owen Harris</td>\n",
       "      <td>male</td>\n",
       "      <td>22.0</td>\n",
       "      <td>1</td>\n",
       "      <td>0</td>\n",
       "      <td>7.2500</td>\n",
       "      <td>UKN</td>\n",
       "      <td>S</td>\n",
       "      <td>male</td>\n",
       "      <td>Mr</td>\n",
       "      <td>0</td>\n",
       "    </tr>\n",
       "    <tr>\n",
       "      <th>1</th>\n",
       "      <td>1</td>\n",
       "      <td>1</td>\n",
       "      <td>Cumings, Mrs. John Bradley (Florence Briggs Th...</td>\n",
       "      <td>female</td>\n",
       "      <td>38.0</td>\n",
       "      <td>1</td>\n",
       "      <td>0</td>\n",
       "      <td>71.2833</td>\n",
       "      <td>C85</td>\n",
       "      <td>C</td>\n",
       "      <td>female</td>\n",
       "      <td>Mrs</td>\n",
       "      <td>1</td>\n",
       "    </tr>\n",
       "    <tr>\n",
       "      <th>2</th>\n",
       "      <td>1</td>\n",
       "      <td>3</td>\n",
       "      <td>Heikkinen, Miss. Laina</td>\n",
       "      <td>female</td>\n",
       "      <td>26.0</td>\n",
       "      <td>0</td>\n",
       "      <td>0</td>\n",
       "      <td>7.9250</td>\n",
       "      <td>UKN</td>\n",
       "      <td>S</td>\n",
       "      <td>female</td>\n",
       "      <td>Miss</td>\n",
       "      <td>0</td>\n",
       "    </tr>\n",
       "    <tr>\n",
       "      <th>3</th>\n",
       "      <td>1</td>\n",
       "      <td>1</td>\n",
       "      <td>Futrelle, Mrs. Jacques Heath (Lily May Peel)</td>\n",
       "      <td>female</td>\n",
       "      <td>35.0</td>\n",
       "      <td>1</td>\n",
       "      <td>0</td>\n",
       "      <td>53.1000</td>\n",
       "      <td>C123</td>\n",
       "      <td>S</td>\n",
       "      <td>female</td>\n",
       "      <td>Mrs</td>\n",
       "      <td>1</td>\n",
       "    </tr>\n",
       "    <tr>\n",
       "      <th>4</th>\n",
       "      <td>0</td>\n",
       "      <td>3</td>\n",
       "      <td>Allen, Mr. William Henry</td>\n",
       "      <td>male</td>\n",
       "      <td>35.0</td>\n",
       "      <td>0</td>\n",
       "      <td>0</td>\n",
       "      <td>8.0500</td>\n",
       "      <td>UKN</td>\n",
       "      <td>S</td>\n",
       "      <td>male</td>\n",
       "      <td>Mr</td>\n",
       "      <td>0</td>\n",
       "    </tr>\n",
       "  </tbody>\n",
       "</table>\n",
       "</div>"
      ],
      "text/plain": [
       "   Survived  Pclass                                               Name  \\\n",
       "0         0       3                            Braund, Mr. Owen Harris   \n",
       "1         1       1  Cumings, Mrs. John Bradley (Florence Briggs Th...   \n",
       "2         1       3                             Heikkinen, Miss. Laina   \n",
       "3         1       1       Futrelle, Mrs. Jacques Heath (Lily May Peel)   \n",
       "4         0       3                           Allen, Mr. William Henry   \n",
       "\n",
       "      Sex   Age  SibSp  Parch     Fare Cabin Embarked  person Title  has_cabin  \n",
       "0    male  22.0      1      0   7.2500   UKN        S    male    Mr          0  \n",
       "1  female  38.0      1      0  71.2833   C85        C  female   Mrs          1  \n",
       "2  female  26.0      0      0   7.9250   UKN        S  female  Miss          0  \n",
       "3  female  35.0      1      0  53.1000  C123        S  female   Mrs          1  \n",
       "4    male  35.0      0      0   8.0500   UKN        S    male    Mr          0  "
      ]
     },
     "execution_count": 171,
     "metadata": {},
     "output_type": "execute_result"
    }
   ],
   "source": [
    "titanic_df.head()"
   ]
  },
  {
   "cell_type": "code",
   "execution_count": 172,
   "id": "34bee9f9",
   "metadata": {},
   "outputs": [],
   "source": [
    "titanic_df.drop(['Name','Cabin'],inplace=True,axis=1)"
   ]
  },
  {
   "cell_type": "code",
   "execution_count": 173,
   "id": "ab15efca",
   "metadata": {},
   "outputs": [],
   "source": [
    "titanic_df['Family_Members'] = titanic_df['SibSp'] + titanic_df['Parch']"
   ]
  },
  {
   "cell_type": "code",
   "execution_count": 174,
   "id": "319e6213",
   "metadata": {},
   "outputs": [
    {
     "data": {
      "text/html": [
       "<div>\n",
       "<style scoped>\n",
       "    .dataframe tbody tr th:only-of-type {\n",
       "        vertical-align: middle;\n",
       "    }\n",
       "\n",
       "    .dataframe tbody tr th {\n",
       "        vertical-align: top;\n",
       "    }\n",
       "\n",
       "    .dataframe thead th {\n",
       "        text-align: right;\n",
       "    }\n",
       "</style>\n",
       "<table border=\"1\" class=\"dataframe\">\n",
       "  <thead>\n",
       "    <tr style=\"text-align: right;\">\n",
       "      <th></th>\n",
       "      <th>Survived</th>\n",
       "      <th>Pclass</th>\n",
       "      <th>Sex</th>\n",
       "      <th>Age</th>\n",
       "      <th>SibSp</th>\n",
       "      <th>Parch</th>\n",
       "      <th>Fare</th>\n",
       "      <th>Embarked</th>\n",
       "      <th>person</th>\n",
       "      <th>Title</th>\n",
       "      <th>has_cabin</th>\n",
       "      <th>Family_Members</th>\n",
       "    </tr>\n",
       "  </thead>\n",
       "  <tbody>\n",
       "    <tr>\n",
       "      <th>0</th>\n",
       "      <td>0</td>\n",
       "      <td>3</td>\n",
       "      <td>male</td>\n",
       "      <td>22.0</td>\n",
       "      <td>1</td>\n",
       "      <td>0</td>\n",
       "      <td>7.2500</td>\n",
       "      <td>S</td>\n",
       "      <td>male</td>\n",
       "      <td>Mr</td>\n",
       "      <td>0</td>\n",
       "      <td>1</td>\n",
       "    </tr>\n",
       "    <tr>\n",
       "      <th>1</th>\n",
       "      <td>1</td>\n",
       "      <td>1</td>\n",
       "      <td>female</td>\n",
       "      <td>38.0</td>\n",
       "      <td>1</td>\n",
       "      <td>0</td>\n",
       "      <td>71.2833</td>\n",
       "      <td>C</td>\n",
       "      <td>female</td>\n",
       "      <td>Mrs</td>\n",
       "      <td>1</td>\n",
       "      <td>1</td>\n",
       "    </tr>\n",
       "    <tr>\n",
       "      <th>2</th>\n",
       "      <td>1</td>\n",
       "      <td>3</td>\n",
       "      <td>female</td>\n",
       "      <td>26.0</td>\n",
       "      <td>0</td>\n",
       "      <td>0</td>\n",
       "      <td>7.9250</td>\n",
       "      <td>S</td>\n",
       "      <td>female</td>\n",
       "      <td>Miss</td>\n",
       "      <td>0</td>\n",
       "      <td>0</td>\n",
       "    </tr>\n",
       "    <tr>\n",
       "      <th>3</th>\n",
       "      <td>1</td>\n",
       "      <td>1</td>\n",
       "      <td>female</td>\n",
       "      <td>35.0</td>\n",
       "      <td>1</td>\n",
       "      <td>0</td>\n",
       "      <td>53.1000</td>\n",
       "      <td>S</td>\n",
       "      <td>female</td>\n",
       "      <td>Mrs</td>\n",
       "      <td>1</td>\n",
       "      <td>1</td>\n",
       "    </tr>\n",
       "    <tr>\n",
       "      <th>4</th>\n",
       "      <td>0</td>\n",
       "      <td>3</td>\n",
       "      <td>male</td>\n",
       "      <td>35.0</td>\n",
       "      <td>0</td>\n",
       "      <td>0</td>\n",
       "      <td>8.0500</td>\n",
       "      <td>S</td>\n",
       "      <td>male</td>\n",
       "      <td>Mr</td>\n",
       "      <td>0</td>\n",
       "      <td>0</td>\n",
       "    </tr>\n",
       "  </tbody>\n",
       "</table>\n",
       "</div>"
      ],
      "text/plain": [
       "   Survived  Pclass     Sex   Age  SibSp  Parch     Fare Embarked  person  \\\n",
       "0         0       3    male  22.0      1      0   7.2500        S    male   \n",
       "1         1       1  female  38.0      1      0  71.2833        C  female   \n",
       "2         1       3  female  26.0      0      0   7.9250        S  female   \n",
       "3         1       1  female  35.0      1      0  53.1000        S  female   \n",
       "4         0       3    male  35.0      0      0   8.0500        S    male   \n",
       "\n",
       "  Title  has_cabin  Family_Members  \n",
       "0    Mr          0               1  \n",
       "1   Mrs          1               1  \n",
       "2  Miss          0               0  \n",
       "3   Mrs          1               1  \n",
       "4    Mr          0               0  "
      ]
     },
     "execution_count": 174,
     "metadata": {},
     "output_type": "execute_result"
    }
   ],
   "source": [
    "titanic_df.head()"
   ]
  },
  {
   "cell_type": "code",
   "execution_count": 175,
   "id": "83aa4205",
   "metadata": {},
   "outputs": [
    {
     "name": "stdout",
     "output_type": "stream",
     "text": [
      "{'male': 0, 'female': 1}\n",
      "{'S': 0, 'C': 1, 'Q': 2}\n",
      "{'male': 0, 'female': 1, 'child': 2}\n",
      "{'Mr': 0, 'Mrs': 1, 'Miss': 2, 'Master': 3, 'Don': 4, 'Rev': 5, 'Dr': 6, 'Mme': 7, 'Ms': 8, 'Major': 9, 'Lady': 10, 'Sir': 11, 'Mlle': 12, 'Col': 13, 'Capt': 14, 'Countess': 15, 'Jonkheer': 16}\n"
     ]
    }
   ],
   "source": [
    "for Col in ['Sex','Embarked','person','Title']:\n",
    "    Unique_entries = titanic_df[Col].unique()\n",
    "    D = {}\n",
    "    for i in range(len(Unique_entries)):\n",
    "        D[Unique_entries[i]]=i\n",
    "    print(D)"
   ]
  },
  {
   "cell_type": "code",
   "execution_count": 176,
   "id": "d7142904",
   "metadata": {},
   "outputs": [],
   "source": [
    "for Col in ['Sex','Embarked','person','Title']:\n",
    "    Unique_entries = titanic_df[Col].unique()\n",
    "    D = {}\n",
    "    for i in range(len(Unique_entries)):\n",
    "        D[Unique_entries[i]]=i\n",
    "    titanic_df[Col] = titanic_df[Col].map(D)"
   ]
  },
  {
   "cell_type": "code",
   "execution_count": 177,
   "id": "115d958f",
   "metadata": {},
   "outputs": [
    {
     "data": {
      "text/html": [
       "<div>\n",
       "<style scoped>\n",
       "    .dataframe tbody tr th:only-of-type {\n",
       "        vertical-align: middle;\n",
       "    }\n",
       "\n",
       "    .dataframe tbody tr th {\n",
       "        vertical-align: top;\n",
       "    }\n",
       "\n",
       "    .dataframe thead th {\n",
       "        text-align: right;\n",
       "    }\n",
       "</style>\n",
       "<table border=\"1\" class=\"dataframe\">\n",
       "  <thead>\n",
       "    <tr style=\"text-align: right;\">\n",
       "      <th></th>\n",
       "      <th>Survived</th>\n",
       "      <th>Pclass</th>\n",
       "      <th>Sex</th>\n",
       "      <th>Age</th>\n",
       "      <th>SibSp</th>\n",
       "      <th>Parch</th>\n",
       "      <th>Fare</th>\n",
       "      <th>Embarked</th>\n",
       "      <th>person</th>\n",
       "      <th>Title</th>\n",
       "      <th>has_cabin</th>\n",
       "      <th>Family_Members</th>\n",
       "    </tr>\n",
       "  </thead>\n",
       "  <tbody>\n",
       "    <tr>\n",
       "      <th>0</th>\n",
       "      <td>0</td>\n",
       "      <td>3</td>\n",
       "      <td>0</td>\n",
       "      <td>22.0</td>\n",
       "      <td>1</td>\n",
       "      <td>0</td>\n",
       "      <td>7.2500</td>\n",
       "      <td>0</td>\n",
       "      <td>0</td>\n",
       "      <td>0</td>\n",
       "      <td>0</td>\n",
       "      <td>1</td>\n",
       "    </tr>\n",
       "    <tr>\n",
       "      <th>1</th>\n",
       "      <td>1</td>\n",
       "      <td>1</td>\n",
       "      <td>1</td>\n",
       "      <td>38.0</td>\n",
       "      <td>1</td>\n",
       "      <td>0</td>\n",
       "      <td>71.2833</td>\n",
       "      <td>1</td>\n",
       "      <td>1</td>\n",
       "      <td>1</td>\n",
       "      <td>1</td>\n",
       "      <td>1</td>\n",
       "    </tr>\n",
       "    <tr>\n",
       "      <th>2</th>\n",
       "      <td>1</td>\n",
       "      <td>3</td>\n",
       "      <td>1</td>\n",
       "      <td>26.0</td>\n",
       "      <td>0</td>\n",
       "      <td>0</td>\n",
       "      <td>7.9250</td>\n",
       "      <td>0</td>\n",
       "      <td>1</td>\n",
       "      <td>2</td>\n",
       "      <td>0</td>\n",
       "      <td>0</td>\n",
       "    </tr>\n",
       "    <tr>\n",
       "      <th>3</th>\n",
       "      <td>1</td>\n",
       "      <td>1</td>\n",
       "      <td>1</td>\n",
       "      <td>35.0</td>\n",
       "      <td>1</td>\n",
       "      <td>0</td>\n",
       "      <td>53.1000</td>\n",
       "      <td>0</td>\n",
       "      <td>1</td>\n",
       "      <td>1</td>\n",
       "      <td>1</td>\n",
       "      <td>1</td>\n",
       "    </tr>\n",
       "    <tr>\n",
       "      <th>4</th>\n",
       "      <td>0</td>\n",
       "      <td>3</td>\n",
       "      <td>0</td>\n",
       "      <td>35.0</td>\n",
       "      <td>0</td>\n",
       "      <td>0</td>\n",
       "      <td>8.0500</td>\n",
       "      <td>0</td>\n",
       "      <td>0</td>\n",
       "      <td>0</td>\n",
       "      <td>0</td>\n",
       "      <td>0</td>\n",
       "    </tr>\n",
       "  </tbody>\n",
       "</table>\n",
       "</div>"
      ],
      "text/plain": [
       "   Survived  Pclass  Sex   Age  SibSp  Parch     Fare  Embarked  person  \\\n",
       "0         0       3    0  22.0      1      0   7.2500         0       0   \n",
       "1         1       1    1  38.0      1      0  71.2833         1       1   \n",
       "2         1       3    1  26.0      0      0   7.9250         0       1   \n",
       "3         1       1    1  35.0      1      0  53.1000         0       1   \n",
       "4         0       3    0  35.0      0      0   8.0500         0       0   \n",
       "\n",
       "   Title  has_cabin  Family_Members  \n",
       "0      0          0               1  \n",
       "1      1          1               1  \n",
       "2      2          0               0  \n",
       "3      1          1               1  \n",
       "4      0          0               0  "
      ]
     },
     "execution_count": 177,
     "metadata": {},
     "output_type": "execute_result"
    }
   ],
   "source": [
    "titanic_df.head()"
   ]
  },
  {
   "cell_type": "markdown",
   "id": "1b39c9fa",
   "metadata": {},
   "source": [
    "### Train test split"
   ]
  },
  {
   "cell_type": "code",
   "execution_count": 178,
   "id": "77bc7b8e",
   "metadata": {},
   "outputs": [],
   "source": [
    "X = titanic_df.drop([\"Survived\"], 1)\n",
    "Y = titanic_df[\"Survived\"]"
   ]
  },
  {
   "cell_type": "code",
   "execution_count": 179,
   "id": "d5163b10",
   "metadata": {},
   "outputs": [],
   "source": [
    "from sklearn.model_selection import train_test_split"
   ]
  },
  {
   "cell_type": "code",
   "execution_count": 180,
   "id": "e9501c77",
   "metadata": {},
   "outputs": [],
   "source": [
    "X_train, X_test, Y_train, Y_test = train_test_split(X, Y, test_size=0.2)"
   ]
  },
  {
   "cell_type": "code",
   "execution_count": 182,
   "id": "ba58f3d1",
   "metadata": {},
   "outputs": [
    {
     "data": {
      "text/plain": [
       "(712, 11)"
      ]
     },
     "execution_count": 182,
     "metadata": {},
     "output_type": "execute_result"
    }
   ],
   "source": [
    "X_train.shape"
   ]
  },
  {
   "cell_type": "code",
   "execution_count": 183,
   "id": "bfb7a7e1",
   "metadata": {},
   "outputs": [
    {
     "data": {
      "text/plain": [
       "(179, 11)"
      ]
     },
     "execution_count": 183,
     "metadata": {},
     "output_type": "execute_result"
    }
   ],
   "source": [
    "X_test.shape"
   ]
  },
  {
   "cell_type": "markdown",
   "id": "747518c7",
   "metadata": {},
   "source": [
    "### Model Training and Predictions"
   ]
  },
  {
   "cell_type": "code",
   "execution_count": 194,
   "id": "f33ea1bc",
   "metadata": {},
   "outputs": [],
   "source": [
    "from sklearn.tree import DecisionTreeClassifier"
   ]
  },
  {
   "cell_type": "code",
   "execution_count": 199,
   "id": "3c4e5a77",
   "metadata": {},
   "outputs": [],
   "source": [
    "DT = DecisionTreeClassifier()"
   ]
  },
  {
   "cell_type": "code",
   "execution_count": 200,
   "id": "ca011450",
   "metadata": {},
   "outputs": [
    {
     "data": {
      "text/plain": [
       "DecisionTreeClassifier()"
      ]
     },
     "execution_count": 200,
     "metadata": {},
     "output_type": "execute_result"
    }
   ],
   "source": [
    "DT.fit(X_train,Y_train)"
   ]
  },
  {
   "cell_type": "code",
   "execution_count": 201,
   "id": "2c7c92bf",
   "metadata": {},
   "outputs": [],
   "source": [
    "Y_pred = DT.predict(X_test)"
   ]
  },
  {
   "cell_type": "code",
   "execution_count": 202,
   "id": "532889f1",
   "metadata": {},
   "outputs": [
    {
     "name": "stdout",
     "output_type": "stream",
     "text": [
      "Accuracy:  0.7262569832402235\n",
      "Precision:  0.7313432835820896\n",
      "Recall:  0.6666666666666667\n"
     ]
    }
   ],
   "source": [
    "from sklearn.metrics import accuracy_score,precision_score,f1_score\n",
    "print(\"Accuracy: \", accuracy_score(Y_test,Y_pred))\n",
    "print(\"Precision: \", precision_score(Y_test,Y_pred))\n",
    "print(\"Recall: \", f1_score(Y_test,Y_pred))\n"
   ]
  },
  {
   "cell_type": "code",
   "execution_count": 203,
   "id": "59f44994",
   "metadata": {},
   "outputs": [],
   "source": [
    "from sklearn import tree"
   ]
  },
  {
   "cell_type": "code",
   "execution_count": 204,
   "id": "245a6c33",
   "metadata": {},
   "outputs": [
    {
     "data": {
      "text/plain": [
       "[Text(195.5315984003878, 212.71304347826086, 'X[7] <= 0.5\\ngini = 0.465\\nsamples = 712\\nvalue = [450, 262]'),\n",
       " Text(117.25302956858944, 203.2591304347826, 'X[9] <= 0.5\\ngini = 0.262\\nsamples = 432\\nvalue = [365, 67]'),\n",
       " Text(40.40969461948619, 193.80521739130435, 'X[5] <= 7.763\\ngini = 0.187\\nsamples = 354\\nvalue = [317, 37]'),\n",
       " Text(12.983034415899176, 184.3513043478261, 'X[2] <= 28.35\\ngini = 0.074\\nsamples = 78\\nvalue = [75, 3]'),\n",
       " Text(7.789820649539506, 174.89739130434782, 'X[2] <= 26.0\\ngini = 0.153\\nsamples = 24\\nvalue = [22, 2]'),\n",
       " Text(5.193213766359671, 165.44347826086957, 'X[2] <= 23.75\\ngini = 0.083\\nsamples = 23\\nvalue = [22, 1]'),\n",
       " Text(2.5966068831798355, 155.98956521739132, 'gini = 0.0\\nsamples = 15\\nvalue = [15, 0]'),\n",
       " Text(7.789820649539506, 155.98956521739132, 'X[2] <= 24.5\\ngini = 0.219\\nsamples = 8\\nvalue = [7, 1]'),\n",
       " Text(5.193213766359671, 146.53565217391304, 'X[5] <= 7.096\\ngini = 0.444\\nsamples = 3\\nvalue = [2, 1]'),\n",
       " Text(2.5966068831798355, 137.08173913043478, 'gini = 0.0\\nsamples = 1\\nvalue = [1, 0]'),\n",
       " Text(7.789820649539506, 137.08173913043478, 'X[5] <= 7.319\\ngini = 0.5\\nsamples = 2\\nvalue = [1, 1]'),\n",
       " Text(5.193213766359671, 127.62782608695652, 'gini = 0.0\\nsamples = 1\\nvalue = [0, 1]'),\n",
       " Text(10.386427532719342, 127.62782608695652, 'gini = 0.0\\nsamples = 1\\nvalue = [1, 0]'),\n",
       " Text(10.386427532719342, 146.53565217391304, 'gini = 0.0\\nsamples = 5\\nvalue = [5, 0]'),\n",
       " Text(10.386427532719342, 165.44347826086957, 'gini = 0.0\\nsamples = 1\\nvalue = [0, 1]'),\n",
       " Text(18.17624818225885, 174.89739130434782, 'X[5] <= 7.744\\ngini = 0.036\\nsamples = 54\\nvalue = [53, 1]'),\n",
       " Text(15.579641299079013, 165.44347826086957, 'gini = 0.0\\nsamples = 40\\nvalue = [40, 0]'),\n",
       " Text(20.772855065438684, 165.44347826086957, 'X[2] <= 30.35\\ngini = 0.133\\nsamples = 14\\nvalue = [13, 1]'),\n",
       " Text(18.17624818225885, 155.98956521739132, 'gini = 0.198\\nsamples = 9\\nvalue = [8, 1]'),\n",
       " Text(23.369461948618518, 155.98956521739132, 'gini = 0.0\\nsamples = 5\\nvalue = [5, 0]'),\n",
       " Text(67.83635482307321, 184.3513043478261, 'X[5] <= 7.798\\ngini = 0.216\\nsamples = 276\\nvalue = [242, 34]'),\n",
       " Text(28.56267571497819, 174.89739130434782, 'X[2] <= 20.0\\ngini = 0.408\\nsamples = 14\\nvalue = [10, 4]'),\n",
       " Text(25.966068831798353, 165.44347826086957, 'gini = 0.0\\nsamples = 2\\nvalue = [2, 0]'),\n",
       " Text(31.159282598158025, 165.44347826086957, 'X[2] <= 30.35\\ngini = 0.444\\nsamples = 12\\nvalue = [8, 4]'),\n",
       " Text(28.56267571497819, 155.98956521739132, 'X[2] <= 29.35\\ngini = 0.48\\nsamples = 10\\nvalue = [6, 4]'),\n",
       " Text(25.966068831798353, 146.53565217391304, 'X[2] <= 27.5\\ngini = 0.444\\nsamples = 9\\nvalue = [6, 3]'),\n",
       " Text(23.369461948618518, 137.08173913043478, 'X[2] <= 26.5\\ngini = 0.49\\nsamples = 7\\nvalue = [4, 3]'),\n",
       " Text(20.772855065438684, 127.62782608695652, 'X[2] <= 25.5\\ngini = 0.444\\nsamples = 6\\nvalue = [4, 2]'),\n",
       " Text(18.17624818225885, 118.17391304347825, 'X[10] <= 0.5\\ngini = 0.48\\nsamples = 5\\nvalue = [3, 2]'),\n",
       " Text(15.579641299079013, 108.72, 'X[2] <= 22.5\\ngini = 0.444\\nsamples = 3\\nvalue = [2, 1]'),\n",
       " Text(12.983034415899176, 99.26608695652173, 'X[5] <= 7.785\\ngini = 0.5\\nsamples = 2\\nvalue = [1, 1]'),\n",
       " Text(10.386427532719342, 89.81217391304348, 'gini = 0.0\\nsamples = 1\\nvalue = [1, 0]'),\n",
       " Text(15.579641299079013, 89.81217391304348, 'gini = 0.0\\nsamples = 1\\nvalue = [0, 1]'),\n",
       " Text(18.17624818225885, 99.26608695652173, 'gini = 0.0\\nsamples = 1\\nvalue = [1, 0]'),\n",
       " Text(20.772855065438684, 108.72, 'gini = 0.5\\nsamples = 2\\nvalue = [1, 1]'),\n",
       " Text(23.369461948618518, 118.17391304347825, 'gini = 0.0\\nsamples = 1\\nvalue = [1, 0]'),\n",
       " Text(25.966068831798353, 127.62782608695652, 'gini = 0.0\\nsamples = 1\\nvalue = [0, 1]'),\n",
       " Text(28.56267571497819, 137.08173913043478, 'gini = 0.0\\nsamples = 2\\nvalue = [2, 0]'),\n",
       " Text(31.159282598158025, 146.53565217391304, 'gini = 0.0\\nsamples = 1\\nvalue = [0, 1]'),\n",
       " Text(33.75588948133786, 155.98956521739132, 'gini = 0.0\\nsamples = 2\\nvalue = [2, 0]'),\n",
       " Text(107.11003393116822, 174.89739130434782, 'X[2] <= 45.5\\ngini = 0.203\\nsamples = 262\\nvalue = [232, 30]'),\n",
       " Text(104.51342704798837, 165.44347826086957, 'X[2] <= 44.5\\ngini = 0.219\\nsamples = 240\\nvalue = [210, 30]'),\n",
       " Text(101.91682016480854, 155.98956521739132, 'X[5] <= 54.248\\ngini = 0.208\\nsamples = 238\\nvalue = [210, 28]'),\n",
       " Text(58.4236548715463, 146.53565217391304, 'X[5] <= 7.91\\ngini = 0.193\\nsamples = 222\\nvalue = [198, 24]'),\n",
       " Text(36.3524963645177, 137.08173913043478, 'X[2] <= 31.0\\ngini = 0.091\\nsamples = 42\\nvalue = [40, 2]'),\n",
       " Text(31.159282598158025, 127.62782608695652, 'X[6] <= 0.5\\ngini = 0.053\\nsamples = 37\\nvalue = [36, 1]'),\n",
       " Text(28.56267571497819, 118.17391304347825, 'gini = 0.0\\nsamples = 33\\nvalue = [33, 0]'),\n",
       " Text(33.75588948133786, 118.17391304347825, 'X[2] <= 29.35\\ngini = 0.375\\nsamples = 4\\nvalue = [3, 1]'),\n",
       " Text(31.159282598158025, 108.72, 'gini = 0.0\\nsamples = 1\\nvalue = [0, 1]'),\n",
       " Text(36.3524963645177, 108.72, 'gini = 0.0\\nsamples = 3\\nvalue = [3, 0]'),\n",
       " Text(41.54571013087737, 127.62782608695652, 'X[5] <= 7.875\\ngini = 0.32\\nsamples = 5\\nvalue = [4, 1]'),\n",
       " Text(38.94910324769753, 118.17391304347825, 'gini = 0.0\\nsamples = 1\\nvalue = [0, 1]'),\n",
       " Text(44.142317014057205, 118.17391304347825, 'gini = 0.0\\nsamples = 4\\nvalue = [4, 0]'),\n",
       " Text(80.4948133785749, 137.08173913043478, 'X[5] <= 7.988\\ngini = 0.215\\nsamples = 180\\nvalue = [158, 22]'),\n",
       " Text(51.932137663596706, 127.62782608695652, 'X[2] <= 41.5\\ngini = 0.486\\nsamples = 12\\nvalue = [7, 5]'),\n",
       " Text(49.335530780416875, 118.17391304347825, 'X[3] <= 1.5\\ngini = 0.463\\nsamples = 11\\nvalue = [7, 4]'),\n",
       " Text(46.738923897237036, 108.72, 'X[10] <= 0.5\\ngini = 0.48\\nsamples = 10\\nvalue = [6, 4]'),\n",
       " Text(44.142317014057205, 99.26608695652173, 'X[2] <= 26.0\\ngini = 0.444\\nsamples = 9\\nvalue = [6, 3]'),\n",
       " Text(41.54571013087737, 89.81217391304348, 'gini = 0.0\\nsamples = 3\\nvalue = [3, 0]'),\n",
       " Text(46.738923897237036, 89.81217391304348, 'X[2] <= 31.5\\ngini = 0.5\\nsamples = 6\\nvalue = [3, 3]'),\n",
       " Text(44.142317014057205, 80.35826086956521, 'gini = 0.0\\nsamples = 1\\nvalue = [0, 1]'),\n",
       " Text(49.335530780416875, 80.35826086956521, 'X[2] <= 35.5\\ngini = 0.48\\nsamples = 5\\nvalue = [3, 2]'),\n",
       " Text(46.738923897237036, 70.90434782608696, 'gini = 0.444\\nsamples = 3\\nvalue = [2, 1]'),\n",
       " Text(51.932137663596706, 70.90434782608696, 'gini = 0.5\\nsamples = 2\\nvalue = [1, 1]'),\n",
       " Text(49.335530780416875, 99.26608695652173, 'gini = 0.0\\nsamples = 1\\nvalue = [0, 1]'),\n",
       " Text(51.932137663596706, 108.72, 'gini = 0.0\\nsamples = 1\\nvalue = [1, 0]'),\n",
       " Text(54.528744546776544, 118.17391304347825, 'gini = 0.0\\nsamples = 1\\nvalue = [0, 1]'),\n",
       " Text(109.05748909355309, 127.62782608695652, 'X[2] <= 34.5\\ngini = 0.182\\nsamples = 168\\nvalue = [151, 17]'),\n",
       " Text(80.4948133785749, 118.17391304347825, 'X[0] <= 1.5\\ngini = 0.204\\nsamples = 139\\nvalue = [123, 16]'),\n",
       " Text(59.72195831313621, 108.72, 'X[6] <= 0.5\\ngini = 0.408\\nsamples = 7\\nvalue = [5, 2]'),\n",
       " Text(57.12535142995638, 99.26608695652173, 'X[5] <= 26.237\\ngini = 0.444\\nsamples = 3\\nvalue = [1, 2]'),\n",
       " Text(54.528744546776544, 89.81217391304348, 'gini = 0.0\\nsamples = 1\\nvalue = [1, 0]'),\n",
       " Text(59.72195831313621, 89.81217391304348, 'gini = 0.0\\nsamples = 2\\nvalue = [0, 2]'),\n",
       " Text(62.31856519631605, 99.26608695652173, 'gini = 0.0\\nsamples = 4\\nvalue = [4, 0]'),\n",
       " Text(101.26766844401358, 108.72, 'X[6] <= 0.5\\ngini = 0.19\\nsamples = 132\\nvalue = [118, 14]'),\n",
       " Text(83.09142026175473, 99.26608695652173, 'X[5] <= 9.673\\ngini = 0.163\\nsamples = 112\\nvalue = [102, 10]'),\n",
       " Text(64.91517207949589, 89.81217391304348, 'X[2] <= 19.5\\ngini = 0.237\\nsamples = 51\\nvalue = [44, 7]'),\n",
       " Text(59.72195831313621, 80.35826086956521, 'X[5] <= 8.104\\ngini = 0.397\\nsamples = 11\\nvalue = [8, 3]'),\n",
       " Text(57.12535142995638, 70.90434782608696, 'X[2] <= 17.0\\ngini = 0.48\\nsamples = 5\\nvalue = [2, 3]'),\n",
       " Text(54.528744546776544, 61.45043478260868, 'gini = 0.5\\nsamples = 2\\nvalue = [1, 1]'),\n",
       " Text(59.72195831313621, 61.45043478260868, 'X[2] <= 18.5\\ngini = 0.444\\nsamples = 3\\nvalue = [1, 2]'),\n",
       " Text(57.12535142995638, 51.99652173913043, 'gini = 0.0\\nsamples = 1\\nvalue = [0, 1]'),\n",
       " Text(62.31856519631605, 51.99652173913043, 'gini = 0.5\\nsamples = 2\\nvalue = [1, 1]'),\n",
       " Text(62.31856519631605, 70.90434782608696, 'gini = 0.0\\nsamples = 6\\nvalue = [6, 0]'),\n",
       " Text(70.10838584585555, 80.35826086956521, 'X[5] <= 8.081\\ngini = 0.18\\nsamples = 40\\nvalue = [36, 4]'),\n",
       " Text(67.51177896267572, 70.90434782608696, 'gini = 0.0\\nsamples = 22\\nvalue = [22, 0]'),\n",
       " Text(72.7049927290354, 70.90434782608696, 'X[2] <= 26.5\\ngini = 0.346\\nsamples = 18\\nvalue = [14, 4]'),\n",
       " Text(70.10838584585555, 61.45043478260868, 'gini = 0.0\\nsamples = 8\\nvalue = [8, 0]'),\n",
       " Text(75.30159961221523, 61.45043478260868, 'X[2] <= 27.5\\ngini = 0.48\\nsamples = 10\\nvalue = [6, 4]'),\n",
       " Text(72.7049927290354, 51.99652173913043, 'gini = 0.0\\nsamples = 1\\nvalue = [0, 1]'),\n",
       " Text(77.89820649539506, 51.99652173913043, 'X[5] <= 8.238\\ngini = 0.444\\nsamples = 9\\nvalue = [6, 3]'),\n",
       " Text(75.30159961221523, 42.54260869565218, 'gini = 0.0\\nsamples = 1\\nvalue = [0, 1]'),\n",
       " Text(80.4948133785749, 42.54260869565218, 'X[5] <= 9.492\\ngini = 0.375\\nsamples = 8\\nvalue = [6, 2]'),\n",
       " Text(77.89820649539506, 33.0886956521739, 'gini = 0.0\\nsamples = 4\\nvalue = [4, 0]'),\n",
       " Text(83.09142026175473, 33.0886956521739, 'X[2] <= 28.5\\ngini = 0.5\\nsamples = 4\\nvalue = [2, 2]'),\n",
       " Text(80.4948133785749, 23.634782608695645, 'gini = 0.0\\nsamples = 1\\nvalue = [1, 0]'),\n",
       " Text(85.68802714493457, 23.634782608695645, 'X[2] <= 29.35\\ngini = 0.444\\nsamples = 3\\nvalue = [1, 2]'),\n",
       " Text(83.09142026175473, 14.180869565217392, 'gini = 0.0\\nsamples = 1\\nvalue = [0, 1]'),\n",
       " Text(88.28463402811441, 14.180869565217392, 'X[2] <= 29.85\\ngini = 0.5\\nsamples = 2\\nvalue = [1, 1]'),\n",
       " Text(85.68802714493457, 4.726956521739112, 'gini = 0.0\\nsamples = 1\\nvalue = [1, 0]'),\n",
       " Text(90.88124091129424, 4.726956521739112, 'gini = 0.0\\nsamples = 1\\nvalue = [0, 1]'),\n",
       " Text(101.26766844401358, 89.81217391304348, 'X[0] <= 2.5\\ngini = 0.094\\nsamples = 61\\nvalue = [58, 3]'),\n",
       " Text(98.67106156083375, 80.35826086956521, 'X[2] <= 29.35\\ngini = 0.149\\nsamples = 37\\nvalue = [34, 3]'),\n",
       " Text(93.47784779447407, 70.90434782608696, 'X[5] <= 11.0\\ngini = 0.083\\nsamples = 23\\nvalue = [22, 1]'),\n",
       " Text(90.88124091129424, 61.45043478260868, 'X[2] <= 21.0\\ngini = 0.245\\nsamples = 7\\nvalue = [6, 1]'),\n",
       " Text(88.28463402811441, 51.99652173913043, 'X[2] <= 17.5\\ngini = 0.5\\nsamples = 2\\nvalue = [1, 1]'),\n",
       " Text(85.68802714493457, 42.54260869565218, 'gini = 0.0\\nsamples = 1\\nvalue = [1, 0]'),\n",
       " Text(90.88124091129424, 42.54260869565218, 'gini = 0.0\\nsamples = 1\\nvalue = [0, 1]'),\n",
       " Text(93.47784779447407, 51.99652173913043, 'gini = 0.0\\nsamples = 5\\nvalue = [5, 0]'),\n",
       " Text(96.07445467765392, 61.45043478260868, 'gini = 0.0\\nsamples = 16\\nvalue = [16, 0]'),\n",
       " Text(103.86427532719341, 70.90434782608696, 'X[2] <= 29.85\\ngini = 0.245\\nsamples = 14\\nvalue = [12, 2]'),\n",
       " Text(101.26766844401358, 61.45043478260868, 'gini = 0.0\\nsamples = 1\\nvalue = [0, 1]'),\n",
       " Text(106.46088221037326, 61.45043478260868, 'X[5] <= 23.5\\ngini = 0.142\\nsamples = 13\\nvalue = [12, 1]'),\n",
       " Text(103.86427532719341, 51.99652173913043, 'gini = 0.0\\nsamples = 10\\nvalue = [10, 0]'),\n",
       " Text(109.05748909355309, 51.99652173913043, 'X[2] <= 31.5\\ngini = 0.444\\nsamples = 3\\nvalue = [2, 1]'),\n",
       " Text(106.46088221037326, 42.54260869565218, 'gini = 0.0\\nsamples = 1\\nvalue = [1, 0]'),\n",
       " Text(111.65409597673292, 42.54260869565218, 'X[2] <= 33.0\\ngini = 0.5\\nsamples = 2\\nvalue = [1, 1]'),\n",
       " Text(109.05748909355309, 33.0886956521739, 'gini = 0.0\\nsamples = 1\\nvalue = [0, 1]'),\n",
       " Text(114.25070285991276, 33.0886956521739, 'gini = 0.0\\nsamples = 1\\nvalue = [1, 0]'),\n",
       " Text(103.86427532719341, 80.35826086956521, 'gini = 0.0\\nsamples = 24\\nvalue = [24, 0]'),\n",
       " Text(119.44391662627243, 99.26608695652173, 'X[10] <= 1.5\\ngini = 0.32\\nsamples = 20\\nvalue = [16, 4]'),\n",
       " Text(114.25070285991276, 89.81217391304348, 'X[2] <= 26.5\\ngini = 0.124\\nsamples = 15\\nvalue = [14, 1]'),\n",
       " Text(111.65409597673292, 80.35826086956521, 'X[5] <= 16.917\\ngini = 0.444\\nsamples = 3\\nvalue = [2, 1]'),\n",
       " Text(109.05748909355309, 70.90434782608696, 'gini = 0.0\\nsamples = 2\\nvalue = [2, 0]'),\n",
       " Text(114.25070285991276, 70.90434782608696, 'gini = 0.0\\nsamples = 1\\nvalue = [0, 1]'),\n",
       " Text(116.8473097430926, 80.35826086956521, 'gini = 0.0\\nsamples = 12\\nvalue = [12, 0]'),\n",
       " Text(124.6371303926321, 89.81217391304348, 'X[5] <= 18.71\\ngini = 0.48\\nsamples = 5\\nvalue = [2, 3]'),\n",
       " Text(122.04052350945227, 80.35826086956521, 'gini = 0.0\\nsamples = 2\\nvalue = [0, 2]'),\n",
       " Text(127.23373727581193, 80.35826086956521, 'X[6] <= 1.5\\ngini = 0.444\\nsamples = 3\\nvalue = [2, 1]'),\n",
       " Text(124.6371303926321, 70.90434782608696, 'gini = 0.0\\nsamples = 2\\nvalue = [2, 0]'),\n",
       " Text(129.83034415899178, 70.90434782608696, 'gini = 0.0\\nsamples = 1\\nvalue = [0, 1]'),\n",
       " Text(137.62016480853129, 118.17391304347825, 'X[2] <= 41.5\\ngini = 0.067\\nsamples = 29\\nvalue = [28, 1]'),\n",
       " Text(135.02355792535144, 108.72, 'gini = 0.0\\nsamples = 17\\nvalue = [17, 0]'),\n",
       " Text(140.2167716917111, 108.72, 'X[10] <= 0.5\\ngini = 0.153\\nsamples = 12\\nvalue = [11, 1]'),\n",
       " Text(137.62016480853129, 99.26608695652173, 'X[0] <= 2.5\\ngini = 0.278\\nsamples = 6\\nvalue = [5, 1]'),\n",
       " Text(135.02355792535144, 89.81217391304348, 'X[8] <= 2.5\\ngini = 0.5\\nsamples = 2\\nvalue = [1, 1]'),\n",
       " Text(132.4269510421716, 80.35826086956521, 'gini = 0.0\\nsamples = 1\\nvalue = [0, 1]'),\n",
       " Text(137.62016480853129, 80.35826086956521, 'gini = 0.0\\nsamples = 1\\nvalue = [1, 0]'),\n",
       " Text(140.2167716917111, 89.81217391304348, 'gini = 0.0\\nsamples = 4\\nvalue = [4, 0]'),\n",
       " Text(142.81337857489095, 99.26608695652173, 'gini = 0.0\\nsamples = 6\\nvalue = [6, 0]'),\n",
       " Text(145.4099854580708, 146.53565217391304, 'X[5] <= 63.023\\ngini = 0.375\\nsamples = 16\\nvalue = [12, 4]'),\n",
       " Text(142.81337857489095, 137.08173913043478, 'X[2] <= 28.85\\ngini = 0.444\\nsamples = 6\\nvalue = [2, 4]'),\n",
       " Text(140.2167716917111, 127.62782608695652, 'gini = 0.0\\nsamples = 1\\nvalue = [1, 0]'),\n",
       " Text(145.4099854580708, 127.62782608695652, 'X[2] <= 30.85\\ngini = 0.32\\nsamples = 5\\nvalue = [1, 4]'),\n",
       " Text(142.81337857489095, 118.17391304347825, 'gini = 0.444\\nsamples = 3\\nvalue = [1, 2]'),\n",
       " Text(148.0065923412506, 118.17391304347825, 'gini = 0.0\\nsamples = 2\\nvalue = [0, 2]'),\n",
       " Text(148.0065923412506, 137.08173913043478, 'gini = 0.0\\nsamples = 10\\nvalue = [10, 0]'),\n",
       " Text(107.11003393116822, 155.98956521739132, 'gini = 0.0\\nsamples = 2\\nvalue = [0, 2]'),\n",
       " Text(109.70664081434805, 165.44347826086957, 'gini = 0.0\\nsamples = 22\\nvalue = [22, 0]'),\n",
       " Text(194.0963645176927, 193.80521739130435, 'X[2] <= 60.5\\ngini = 0.473\\nsamples = 78\\nvalue = [48, 30]'),\n",
       " Text(188.90315075133302, 184.3513043478261, 'X[8] <= 10.0\\ngini = 0.485\\nsamples = 70\\nvalue = [41, 29]'),\n",
       " Text(186.3065438681532, 174.89739130434782, 'X[2] <= 36.25\\ngini = 0.479\\nsamples = 68\\nvalue = [41, 27]'),\n",
       " Text(172.67435773145905, 165.44347826086957, 'X[2] <= 31.5\\ngini = 0.499\\nsamples = 38\\nvalue = [20, 18]'),\n",
       " Text(166.18284052350947, 155.98956521739132, 'X[5] <= 161.192\\ngini = 0.466\\nsamples = 27\\nvalue = [17, 10]'),\n",
       " Text(163.58623364032962, 146.53565217391304, 'X[2] <= 28.5\\ngini = 0.491\\nsamples = 23\\nvalue = [13, 10]'),\n",
       " Text(158.39301987396996, 137.08173913043478, 'X[2] <= 24.5\\ngini = 0.463\\nsamples = 11\\nvalue = [4, 7]'),\n",
       " Text(155.79641299079012, 127.62782608695652, 'X[4] <= 1.5\\ngini = 0.32\\nsamples = 5\\nvalue = [4, 1]'),\n",
       " Text(153.1998061076103, 118.17391304347825, 'gini = 0.0\\nsamples = 4\\nvalue = [4, 0]'),\n",
       " Text(158.39301987396996, 118.17391304347825, 'gini = 0.0\\nsamples = 1\\nvalue = [0, 1]'),\n",
       " Text(160.9896267571498, 127.62782608695652, 'gini = 0.0\\nsamples = 6\\nvalue = [0, 6]'),\n",
       " Text(168.77944740668931, 137.08173913043478, 'X[5] <= 42.75\\ngini = 0.375\\nsamples = 12\\nvalue = [9, 3]'),\n",
       " Text(166.18284052350947, 127.62782608695652, 'X[5] <= 28.875\\ngini = 0.49\\nsamples = 7\\nvalue = [4, 3]'),\n",
       " Text(163.58623364032962, 118.17391304347825, 'gini = 0.0\\nsamples = 3\\nvalue = [3, 0]'),\n",
       " Text(168.77944740668931, 118.17391304347825, 'X[2] <= 29.35\\ngini = 0.375\\nsamples = 4\\nvalue = [1, 3]'),\n",
       " Text(166.18284052350947, 108.72, 'gini = 0.0\\nsamples = 1\\nvalue = [1, 0]'),\n",
       " Text(171.37605428986913, 108.72, 'gini = 0.0\\nsamples = 3\\nvalue = [0, 3]'),\n",
       " Text(171.37605428986913, 127.62782608695652, 'gini = 0.0\\nsamples = 5\\nvalue = [5, 0]'),\n",
       " Text(168.77944740668931, 146.53565217391304, 'gini = 0.0\\nsamples = 4\\nvalue = [4, 0]'),\n",
       " Text(179.16587493940864, 155.98956521739132, 'X[2] <= 35.5\\ngini = 0.397\\nsamples = 11\\nvalue = [3, 8]'),\n",
       " Text(176.56926805622882, 146.53565217391304, 'gini = 0.0\\nsamples = 5\\nvalue = [0, 5]'),\n",
       " Text(181.76248182258848, 146.53565217391304, 'X[6] <= 0.5\\ngini = 0.5\\nsamples = 6\\nvalue = [3, 3]'),\n",
       " Text(179.16587493940864, 137.08173913043478, 'X[3] <= 0.5\\ngini = 0.375\\nsamples = 4\\nvalue = [1, 3]'),\n",
       " Text(176.56926805622882, 127.62782608695652, 'gini = 0.0\\nsamples = 2\\nvalue = [0, 2]'),\n",
       " Text(181.76248182258848, 127.62782608695652, 'X[5] <= 99.425\\ngini = 0.5\\nsamples = 2\\nvalue = [1, 1]'),\n",
       " Text(179.16587493940864, 118.17391304347825, 'gini = 0.0\\nsamples = 1\\nvalue = [1, 0]'),\n",
       " Text(184.35908870576833, 118.17391304347825, 'gini = 0.0\\nsamples = 1\\nvalue = [0, 1]'),\n",
       " Text(184.35908870576833, 137.08173913043478, 'gini = 0.0\\nsamples = 2\\nvalue = [2, 0]'),\n",
       " Text(199.93873000484734, 165.44347826086957, 'X[2] <= 47.5\\ngini = 0.42\\nsamples = 30\\nvalue = [21, 9]'),\n",
       " Text(194.74551623848765, 155.98956521739132, 'X[2] <= 43.0\\ngini = 0.278\\nsamples = 18\\nvalue = [15, 3]'),\n",
       " Text(192.14890935530784, 146.53565217391304, 'X[4] <= 0.5\\ngini = 0.444\\nsamples = 9\\nvalue = [6, 3]'),\n",
       " Text(189.552302472128, 137.08173913043478, 'X[5] <= 16.969\\ngini = 0.5\\nsamples = 6\\nvalue = [3, 3]'),\n",
       " Text(186.95569558894815, 127.62782608695652, 'gini = 0.0\\nsamples = 2\\nvalue = [2, 0]'),\n",
       " Text(192.14890935530784, 127.62782608695652, 'X[2] <= 37.5\\ngini = 0.375\\nsamples = 4\\nvalue = [1, 3]'),\n",
       " Text(189.552302472128, 118.17391304347825, 'gini = 0.0\\nsamples = 1\\nvalue = [1, 0]'),\n",
       " Text(194.74551623848765, 118.17391304347825, 'gini = 0.0\\nsamples = 3\\nvalue = [0, 3]'),\n",
       " Text(194.74551623848765, 137.08173913043478, 'gini = 0.0\\nsamples = 3\\nvalue = [3, 0]'),\n",
       " Text(197.3421231216675, 146.53565217391304, 'gini = 0.0\\nsamples = 9\\nvalue = [9, 0]'),\n",
       " Text(205.131943771207, 155.98956521739132, 'X[2] <= 49.5\\ngini = 0.5\\nsamples = 12\\nvalue = [6, 6]'),\n",
       " Text(202.53533688802716, 146.53565217391304, 'gini = 0.0\\nsamples = 4\\nvalue = [0, 4]'),\n",
       " Text(207.72855065438682, 146.53565217391304, 'X[8] <= 4.5\\ngini = 0.375\\nsamples = 8\\nvalue = [6, 2]'),\n",
       " Text(205.131943771207, 137.08173913043478, 'X[2] <= 58.0\\ngini = 0.245\\nsamples = 7\\nvalue = [6, 1]'),\n",
       " Text(202.53533688802716, 127.62782608695652, 'gini = 0.0\\nsamples = 6\\nvalue = [6, 0]'),\n",
       " Text(207.72855065438682, 127.62782608695652, 'gini = 0.0\\nsamples = 1\\nvalue = [0, 1]'),\n",
       " Text(210.32515753756667, 137.08173913043478, 'gini = 0.0\\nsamples = 1\\nvalue = [0, 1]'),\n",
       " Text(191.49975763451286, 174.89739130434782, 'gini = 0.0\\nsamples = 2\\nvalue = [0, 2]'),\n",
       " Text(199.28957828405237, 184.3513043478261, 'X[2] <= 75.5\\ngini = 0.219\\nsamples = 8\\nvalue = [7, 1]'),\n",
       " Text(196.69297140087252, 174.89739130434782, 'gini = 0.0\\nsamples = 7\\nvalue = [7, 0]'),\n",
       " Text(201.8861851672322, 174.89739130434782, 'gini = 0.0\\nsamples = 1\\nvalue = [0, 1]'),\n",
       " Text(273.8101672321862, 203.2591304347826, 'X[0] <= 2.5\\ngini = 0.423\\nsamples = 280\\nvalue = [85, 195]'),\n",
       " Text(245.37935046049446, 193.80521739130435, 'X[5] <= 28.856\\ngini = 0.108\\nsamples = 140\\nvalue = [8, 132]'),\n",
       " Text(237.58952981095496, 184.3513043478261, 'X[5] <= 28.231\\ngini = 0.191\\nsamples = 56\\nvalue = [6, 50]'),\n",
       " Text(234.9929229277751, 174.89739130434782, 'X[2] <= 56.0\\ngini = 0.165\\nsamples = 55\\nvalue = [5, 50]'),\n",
       " Text(229.79970916141545, 165.44347826086957, 'X[4] <= 0.5\\ngini = 0.14\\nsamples = 53\\nvalue = [4, 49]'),\n",
       " Text(227.2031022782356, 155.98956521739132, 'X[10] <= 0.5\\ngini = 0.208\\nsamples = 34\\nvalue = [4, 30]'),\n",
       " Text(218.11497818710617, 146.53565217391304, 'X[8] <= 1.5\\ngini = 0.137\\nsamples = 27\\nvalue = [2, 25]'),\n",
       " Text(215.51837130392633, 137.08173913043478, 'gini = 0.0\\nsamples = 11\\nvalue = [0, 11]'),\n",
       " Text(220.71158507028602, 137.08173913043478, 'X[2] <= 37.0\\ngini = 0.219\\nsamples = 16\\nvalue = [2, 14]'),\n",
       " Text(215.51837130392633, 127.62782608695652, 'X[2] <= 25.5\\ngini = 0.142\\nsamples = 13\\nvalue = [1, 12]'),\n",
       " Text(212.9217644207465, 118.17391304347825, 'X[2] <= 21.5\\ngini = 0.375\\nsamples = 4\\nvalue = [1, 3]'),\n",
       " Text(210.32515753756667, 108.72, 'gini = 0.0\\nsamples = 2\\nvalue = [0, 2]'),\n",
       " Text(215.51837130392633, 108.72, 'X[9] <= 0.5\\ngini = 0.5\\nsamples = 2\\nvalue = [1, 1]'),\n",
       " Text(212.9217644207465, 99.26608695652173, 'gini = 0.0\\nsamples = 1\\nvalue = [1, 0]'),\n",
       " Text(218.11497818710617, 99.26608695652173, 'gini = 0.0\\nsamples = 1\\nvalue = [0, 1]'),\n",
       " Text(218.11497818710617, 118.17391304347825, 'gini = 0.0\\nsamples = 9\\nvalue = [0, 9]'),\n",
       " Text(225.90479883664568, 127.62782608695652, 'X[2] <= 43.5\\ngini = 0.444\\nsamples = 3\\nvalue = [1, 2]'),\n",
       " Text(223.30819195346584, 118.17391304347825, 'gini = 0.0\\nsamples = 1\\nvalue = [1, 0]'),\n",
       " Text(228.50140571982553, 118.17391304347825, 'gini = 0.0\\nsamples = 2\\nvalue = [0, 2]'),\n",
       " Text(236.29122636936503, 146.53565217391304, 'X[2] <= 40.0\\ngini = 0.408\\nsamples = 7\\nvalue = [2, 5]'),\n",
       " Text(233.6946194861852, 137.08173913043478, 'X[5] <= 22.5\\ngini = 0.278\\nsamples = 6\\nvalue = [1, 5]'),\n",
       " Text(231.09801260300534, 127.62782608695652, 'gini = 0.0\\nsamples = 1\\nvalue = [1, 0]'),\n",
       " Text(236.29122636936503, 127.62782608695652, 'gini = 0.0\\nsamples = 5\\nvalue = [0, 5]'),\n",
       " Text(238.88783325254485, 137.08173913043478, 'gini = 0.0\\nsamples = 1\\nvalue = [1, 0]'),\n",
       " Text(232.39631604459527, 155.98956521739132, 'gini = 0.0\\nsamples = 19\\nvalue = [0, 19]'),\n",
       " Text(240.18613669413477, 165.44347826086957, 'X[0] <= 1.5\\ngini = 0.5\\nsamples = 2\\nvalue = [1, 1]'),\n",
       " Text(237.58952981095496, 155.98956521739132, 'gini = 0.0\\nsamples = 1\\nvalue = [0, 1]'),\n",
       " Text(242.78274357731462, 155.98956521739132, 'gini = 0.0\\nsamples = 1\\nvalue = [1, 0]'),\n",
       " Text(240.18613669413477, 174.89739130434782, 'gini = 0.0\\nsamples = 1\\nvalue = [1, 0]'),\n",
       " Text(253.16917111003394, 184.3513043478261, 'X[2] <= 2.5\\ngini = 0.046\\nsamples = 84\\nvalue = [2, 82]'),\n",
       " Text(247.97595734367428, 174.89739130434782, 'X[1] <= 0.5\\ngini = 0.444\\nsamples = 3\\nvalue = [1, 2]'),\n",
       " Text(245.37935046049446, 165.44347826086957, 'gini = 0.0\\nsamples = 2\\nvalue = [0, 2]'),\n",
       " Text(250.57256422685413, 165.44347826086957, 'gini = 0.0\\nsamples = 1\\nvalue = [1, 0]'),\n",
       " Text(258.3623848763936, 174.89739130434782, 'X[10] <= 2.5\\ngini = 0.024\\nsamples = 81\\nvalue = [1, 80]'),\n",
       " Text(255.7657779932138, 165.44347826086957, 'gini = 0.0\\nsamples = 71\\nvalue = [0, 71]'),\n",
       " Text(260.95899175957345, 165.44347826086957, 'X[2] <= 24.5\\ngini = 0.18\\nsamples = 10\\nvalue = [1, 9]'),\n",
       " Text(258.3623848763936, 155.98956521739132, 'gini = 0.0\\nsamples = 9\\nvalue = [0, 9]'),\n",
       " Text(263.5555986427533, 155.98956521739132, 'gini = 0.0\\nsamples = 1\\nvalue = [1, 0]'),\n",
       " Text(302.2409840038779, 193.80521739130435, 'X[5] <= 20.825\\ngini = 0.495\\nsamples = 140\\nvalue = [77, 63]'),\n",
       " Text(285.2616093068347, 184.3513043478261, 'X[2] <= 7.5\\ngini = 0.486\\nsamples = 101\\nvalue = [42, 59]'),\n",
       " Text(273.9420261754726, 174.89739130434782, 'X[5] <= 10.798\\ngini = 0.124\\nsamples = 15\\nvalue = [1, 14]'),\n",
       " Text(271.34541929229283, 165.44347826086957, 'X[9] <= 0.5\\ngini = 0.5\\nsamples = 2\\nvalue = [1, 1]'),\n",
       " Text(268.748812409113, 155.98956521739132, 'gini = 0.0\\nsamples = 1\\nvalue = [0, 1]'),\n",
       " Text(273.9420261754726, 155.98956521739132, 'gini = 0.0\\nsamples = 1\\nvalue = [1, 0]'),\n",
       " Text(276.53863305865247, 165.44347826086957, 'gini = 0.0\\nsamples = 13\\nvalue = [0, 13]'),\n",
       " Text(296.5811924381968, 174.89739130434782, 'X[6] <= 1.5\\ngini = 0.499\\nsamples = 86\\nvalue = [41, 45]'),\n",
       " Text(281.73184682501216, 165.44347826086957, 'X[8] <= 2.5\\ngini = 0.496\\nsamples = 64\\nvalue = [35, 29]'),\n",
       " Text(279.1352399418323, 155.98956521739132, 'X[8] <= 1.5\\ngini = 0.489\\nsamples = 61\\nvalue = [35, 26]'),\n",
       " Text(267.6127968977218, 146.53565217391304, 'X[5] <= 17.6\\ngini = 0.495\\nsamples = 29\\nvalue = [13, 16]'),\n",
       " Text(260.14755210857976, 137.08173913043478, 'X[2] <= 38.0\\ngini = 0.469\\nsamples = 24\\nvalue = [9, 15]'),\n",
       " Text(253.00688317983523, 127.62782608695652, 'X[10] <= 1.5\\ngini = 0.42\\nsamples = 20\\nvalue = [6, 14]'),\n",
       " Text(246.51536597188561, 118.17391304347825, 'X[5] <= 8.367\\ngini = 0.278\\nsamples = 12\\nvalue = [2, 10]'),\n",
       " Text(241.32215220552595, 108.72, 'X[6] <= 0.5\\ngini = 0.444\\nsamples = 3\\nvalue = [1, 2]'),\n",
       " Text(238.72554532234614, 99.26608695652173, 'gini = 0.0\\nsamples = 1\\nvalue = [1, 0]'),\n",
       " Text(243.9187590887058, 99.26608695652173, 'gini = 0.0\\nsamples = 2\\nvalue = [0, 2]'),\n",
       " Text(251.7085797382453, 108.72, 'X[2] <= 26.5\\ngini = 0.198\\nsamples = 9\\nvalue = [1, 8]'),\n",
       " Text(249.11197285506546, 99.26608695652173, 'X[5] <= 15.975\\ngini = 0.375\\nsamples = 4\\nvalue = [1, 3]'),\n",
       " Text(246.51536597188561, 89.81217391304348, 'gini = 0.0\\nsamples = 3\\nvalue = [0, 3]'),\n",
       " Text(251.7085797382453, 89.81217391304348, 'gini = 0.0\\nsamples = 1\\nvalue = [1, 0]'),\n",
       " Text(254.30518662142512, 99.26608695652173, 'gini = 0.0\\nsamples = 5\\nvalue = [0, 5]'),\n",
       " Text(259.4984003877848, 118.17391304347825, 'X[5] <= 10.798\\ngini = 0.5\\nsamples = 8\\nvalue = [4, 4]'),\n",
       " Text(256.901793504605, 108.72, 'gini = 0.0\\nsamples = 2\\nvalue = [2, 0]'),\n",
       " Text(262.09500727096463, 108.72, 'X[2] <= 27.5\\ngini = 0.444\\nsamples = 6\\nvalue = [2, 4]'),\n",
       " Text(259.4984003877848, 99.26608695652173, 'gini = 0.0\\nsamples = 2\\nvalue = [0, 2]'),\n",
       " Text(264.6916141541445, 99.26608695652173, 'X[10] <= 2.5\\ngini = 0.5\\nsamples = 4\\nvalue = [2, 2]'),\n",
       " Text(262.09500727096463, 89.81217391304348, 'X[2] <= 28.5\\ngini = 0.444\\nsamples = 3\\nvalue = [2, 1]'),\n",
       " Text(259.4984003877848, 80.35826086956521, 'gini = 0.0\\nsamples = 1\\nvalue = [1, 0]'),\n",
       " Text(264.6916141541445, 80.35826086956521, 'X[2] <= 29.35\\ngini = 0.5\\nsamples = 2\\nvalue = [1, 1]'),\n",
       " Text(262.09500727096463, 70.90434782608696, 'gini = 0.0\\nsamples = 1\\nvalue = [0, 1]'),\n",
       " Text(267.2882210373243, 70.90434782608696, 'gini = 0.0\\nsamples = 1\\nvalue = [1, 0]'),\n",
       " Text(267.2882210373243, 89.81217391304348, 'gini = 0.0\\nsamples = 1\\nvalue = [0, 1]'),\n",
       " Text(267.2882210373243, 127.62782608695652, 'X[2] <= 55.0\\ngini = 0.375\\nsamples = 4\\nvalue = [3, 1]'),\n",
       " Text(264.6916141541445, 118.17391304347825, 'gini = 0.0\\nsamples = 3\\nvalue = [3, 0]'),\n",
       " Text(269.88482792050416, 118.17391304347825, 'gini = 0.0\\nsamples = 1\\nvalue = [0, 1]'),\n",
       " Text(275.0780416868638, 137.08173913043478, 'X[5] <= 20.369\\ngini = 0.32\\nsamples = 5\\nvalue = [4, 1]'),\n",
       " Text(272.481434803684, 127.62782608695652, 'gini = 0.0\\nsamples = 4\\nvalue = [4, 0]'),\n",
       " Text(277.67464857004364, 127.62782608695652, 'gini = 0.0\\nsamples = 1\\nvalue = [0, 1]'),\n",
       " Text(290.6576829859428, 146.53565217391304, 'X[5] <= 7.988\\ngini = 0.43\\nsamples = 32\\nvalue = [22, 10]'),\n",
       " Text(285.4644692195832, 137.08173913043478, 'X[2] <= 27.5\\ngini = 0.498\\nsamples = 17\\nvalue = [8, 9]'),\n",
       " Text(282.86786233640333, 127.62782608695652, 'X[5] <= 7.763\\ngini = 0.426\\nsamples = 13\\nvalue = [4, 9]'),\n",
       " Text(280.2712554532235, 118.17391304347825, 'gini = 0.0\\nsamples = 4\\nvalue = [0, 4]'),\n",
       " Text(285.4644692195832, 118.17391304347825, 'X[2] <= 25.5\\ngini = 0.494\\nsamples = 9\\nvalue = [4, 5]'),\n",
       " Text(282.86786233640333, 108.72, 'X[3] <= 0.5\\ngini = 0.444\\nsamples = 6\\nvalue = [4, 2]'),\n",
       " Text(280.2712554532235, 99.26608695652173, 'gini = 0.0\\nsamples = 4\\nvalue = [4, 0]'),\n",
       " Text(285.4644692195832, 99.26608695652173, 'gini = 0.0\\nsamples = 2\\nvalue = [0, 2]'),\n",
       " Text(288.06107610276297, 108.72, 'gini = 0.0\\nsamples = 3\\nvalue = [0, 3]'),\n",
       " Text(288.06107610276297, 127.62782608695652, 'gini = 0.0\\nsamples = 4\\nvalue = [4, 0]'),\n",
       " Text(295.8508967523025, 137.08173913043478, 'X[2] <= 29.85\\ngini = 0.124\\nsamples = 15\\nvalue = [14, 1]'),\n",
       " Text(293.25428986912266, 127.62782608695652, 'gini = 0.0\\nsamples = 12\\nvalue = [12, 0]'),\n",
       " Text(298.44750363548235, 127.62782608695652, 'X[5] <= 11.031\\ngini = 0.444\\nsamples = 3\\nvalue = [2, 1]'),\n",
       " Text(295.8508967523025, 118.17391304347825, 'gini = 0.0\\nsamples = 2\\nvalue = [2, 0]'),\n",
       " Text(301.0441105186622, 118.17391304347825, 'gini = 0.0\\nsamples = 1\\nvalue = [0, 1]'),\n",
       " Text(284.328453708192, 155.98956521739132, 'gini = 0.0\\nsamples = 3\\nvalue = [0, 3]'),\n",
       " Text(311.4305380513815, 165.44347826086957, 'X[2] <= 30.1\\ngini = 0.397\\nsamples = 22\\nvalue = [6, 16]'),\n",
       " Text(308.8339311682017, 155.98956521739132, 'X[5] <= 7.681\\ngini = 0.32\\nsamples = 20\\nvalue = [4, 16]'),\n",
       " Text(306.2373242850218, 146.53565217391304, 'gini = 0.0\\nsamples = 1\\nvalue = [1, 0]'),\n",
       " Text(311.4305380513815, 146.53565217391304, 'X[5] <= 7.744\\ngini = 0.266\\nsamples = 19\\nvalue = [3, 16]'),\n",
       " Text(308.8339311682017, 137.08173913043478, 'gini = 0.0\\nsamples = 3\\nvalue = [0, 3]'),\n",
       " Text(314.02714493456136, 137.08173913043478, 'X[5] <= 7.769\\ngini = 0.305\\nsamples = 16\\nvalue = [3, 13]'),\n",
       " Text(308.8339311682017, 127.62782608695652, 'X[2] <= 18.5\\ngini = 0.444\\nsamples = 6\\nvalue = [2, 4]'),\n",
       " Text(306.2373242850218, 118.17391304347825, 'gini = 0.0\\nsamples = 1\\nvalue = [0, 1]'),\n",
       " Text(311.4305380513815, 118.17391304347825, 'X[2] <= 21.5\\ngini = 0.48\\nsamples = 5\\nvalue = [2, 3]'),\n",
       " Text(308.8339311682017, 108.72, 'gini = 0.0\\nsamples = 1\\nvalue = [1, 0]'),\n",
       " Text(314.02714493456136, 108.72, 'X[2] <= 25.85\\ngini = 0.375\\nsamples = 4\\nvalue = [1, 3]'),\n",
       " Text(311.4305380513815, 99.26608695652173, 'gini = 0.0\\nsamples = 1\\nvalue = [0, 1]'),\n",
       " Text(316.6237518177412, 99.26608695652173, 'gini = 0.444\\nsamples = 3\\nvalue = [1, 2]'),\n",
       " Text(319.220358700921, 127.62782608695652, 'X[5] <= 8.008\\ngini = 0.18\\nsamples = 10\\nvalue = [1, 9]'),\n",
       " Text(316.6237518177412, 118.17391304347825, 'gini = 0.0\\nsamples = 6\\nvalue = [0, 6]'),\n",
       " Text(321.81696558410084, 118.17391304347825, 'X[3] <= 0.5\\ngini = 0.375\\nsamples = 4\\nvalue = [1, 3]'),\n",
       " Text(319.220358700921, 108.72, 'gini = 0.0\\nsamples = 1\\nvalue = [1, 0]'),\n",
       " Text(324.4135724672807, 108.72, 'gini = 0.0\\nsamples = 3\\nvalue = [0, 3]'),\n",
       " Text(314.02714493456136, 155.98956521739132, 'gini = 0.0\\nsamples = 2\\nvalue = [2, 0]'),\n",
       " Text(319.220358700921, 184.3513043478261, 'X[4] <= 0.5\\ngini = 0.184\\nsamples = 39\\nvalue = [35, 4]'),\n",
       " Text(316.6237518177412, 174.89739130434782, 'gini = 0.0\\nsamples = 1\\nvalue = [0, 1]'),\n",
       " Text(321.81696558410084, 174.89739130434782, 'X[10] <= 5.5\\ngini = 0.145\\nsamples = 38\\nvalue = [35, 3]'),\n",
       " Text(319.220358700921, 165.44347826086957, 'gini = 0.0\\nsamples = 26\\nvalue = [26, 0]'),\n",
       " Text(324.4135724672807, 165.44347826086957, 'X[2] <= 5.5\\ngini = 0.375\\nsamples = 12\\nvalue = [9, 3]'),\n",
       " Text(319.220358700921, 155.98956521739132, 'X[5] <= 31.331\\ngini = 0.444\\nsamples = 3\\nvalue = [1, 2]'),\n",
       " Text(316.6237518177412, 146.53565217391304, 'gini = 0.0\\nsamples = 1\\nvalue = [1, 0]'),\n",
       " Text(321.81696558410084, 146.53565217391304, 'gini = 0.0\\nsamples = 2\\nvalue = [0, 2]'),\n",
       " Text(329.6067862336404, 155.98956521739132, 'X[8] <= 1.5\\ngini = 0.198\\nsamples = 9\\nvalue = [8, 1]'),\n",
       " Text(327.01017935046053, 146.53565217391304, 'X[5] <= 31.331\\ngini = 0.5\\nsamples = 2\\nvalue = [1, 1]'),\n",
       " Text(324.4135724672807, 137.08173913043478, 'gini = 0.0\\nsamples = 1\\nvalue = [1, 0]'),\n",
       " Text(329.6067862336404, 137.08173913043478, 'gini = 0.0\\nsamples = 1\\nvalue = [0, 1]'),\n",
       " Text(332.2033931168202, 146.53565217391304, 'gini = 0.0\\nsamples = 7\\nvalue = [7, 0]')]"
      ]
     },
     "execution_count": 204,
     "metadata": {},
     "output_type": "execute_result"
    },
    {
     "data": {
      "image/png": "[encoded data removed]",
      "text/plain": [
       "<Figure size 432x288 with 1 Axes>"
      ]
     },
     "metadata": {
      "needs_background": "light"
     },
     "output_type": "display_data"
    }
   ],
   "source": [
    "tree.plot_tree(DT)"
   ]
  },
  {
   "cell_type": "code",
   "execution_count": null,
   "id": "309d7593",
   "metadata": {},
   "outputs": [],
   "source": []
  }
 ],
 "metadata": {
  "kernelspec": {
   "display_name": "Python 3",
   "language": "python",
   "name": "python3"
  },
  "language_info": {
   "codemirror_mode": {
    "name": "ipython",
    "version": 3
   },
   "file_extension": ".py",
   "mimetype": "text/x-python",
   "name": "python",
   "nbconvert_exporter": "python",
   "pygments_lexer": "ipython3",
   "version": "3.8.8"
  }
 },
 "nbformat": 4,
 "nbformat_minor": 5
}
