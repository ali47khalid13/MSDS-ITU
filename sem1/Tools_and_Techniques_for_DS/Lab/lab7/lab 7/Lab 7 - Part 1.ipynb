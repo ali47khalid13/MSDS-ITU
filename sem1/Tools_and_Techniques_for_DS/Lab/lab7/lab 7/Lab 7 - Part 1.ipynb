{
 "cells": [
  {
   "cell_type": "markdown",
   "id": "e5d3116f",
   "metadata": {
    "id": "sYWYxXwAf-sd"
   },
   "source": [
    "# Practical Machine learning walkthrough\n"
   ]
  },
  {
   "cell_type": "code",
   "execution_count": 1,
   "id": "7bedfa82",
   "metadata": {
    "id": "QwoUoxE4f-sl",
    "outputId": "d588c033-14b3-4b4e-cc97-ffac646712ea"
   },
   "outputs": [],
   "source": [
    "import numpy as np\n",
    "import pandas as pd"
   ]
  },
  {
   "cell_type": "code",
   "execution_count": 2,
   "id": "cb43d4c9",
   "metadata": {},
   "outputs": [
    {
     "data": {
      "text/plain": [
       "pandas.core.frame.DataFrame"
      ]
     },
     "execution_count": 2,
     "metadata": {},
     "output_type": "execute_result"
    }
   ],
   "source": [
    "iris = pd.read_csv('Iris.csv')\n",
    "type(iris)"
   ]
  },
  {
   "cell_type": "code",
   "execution_count": 3,
   "id": "6f2d8abf",
   "metadata": {},
   "outputs": [
    {
     "data": {
      "text/html": [
       "<div>\n",
       "<style scoped>\n",
       "    .dataframe tbody tr th:only-of-type {\n",
       "        vertical-align: middle;\n",
       "    }\n",
       "\n",
       "    .dataframe tbody tr th {\n",
       "        vertical-align: top;\n",
       "    }\n",
       "\n",
       "    .dataframe thead th {\n",
       "        text-align: right;\n",
       "    }\n",
       "</style>\n",
       "<table border=\"1\" class=\"dataframe\">\n",
       "  <thead>\n",
       "    <tr style=\"text-align: right;\">\n",
       "      <th></th>\n",
       "      <th>Id</th>\n",
       "      <th>SepalLengthCm</th>\n",
       "      <th>SepalWidthCm</th>\n",
       "      <th>PetalLengthCm</th>\n",
       "      <th>PetalWidthCm</th>\n",
       "      <th>Species</th>\n",
       "    </tr>\n",
       "  </thead>\n",
       "  <tbody>\n",
       "    <tr>\n",
       "      <th>0</th>\n",
       "      <td>1</td>\n",
       "      <td>5.1</td>\n",
       "      <td>3.5</td>\n",
       "      <td>1.4</td>\n",
       "      <td>0.2</td>\n",
       "      <td>Iris-setosa</td>\n",
       "    </tr>\n",
       "    <tr>\n",
       "      <th>1</th>\n",
       "      <td>2</td>\n",
       "      <td>4.9</td>\n",
       "      <td>3.0</td>\n",
       "      <td>1.4</td>\n",
       "      <td>0.2</td>\n",
       "      <td>Iris-setosa</td>\n",
       "    </tr>\n",
       "    <tr>\n",
       "      <th>2</th>\n",
       "      <td>3</td>\n",
       "      <td>4.7</td>\n",
       "      <td>3.2</td>\n",
       "      <td>1.3</td>\n",
       "      <td>0.2</td>\n",
       "      <td>Iris-setosa</td>\n",
       "    </tr>\n",
       "    <tr>\n",
       "      <th>3</th>\n",
       "      <td>4</td>\n",
       "      <td>4.6</td>\n",
       "      <td>3.1</td>\n",
       "      <td>1.5</td>\n",
       "      <td>0.2</td>\n",
       "      <td>Iris-setosa</td>\n",
       "    </tr>\n",
       "    <tr>\n",
       "      <th>4</th>\n",
       "      <td>5</td>\n",
       "      <td>5.0</td>\n",
       "      <td>3.6</td>\n",
       "      <td>1.4</td>\n",
       "      <td>0.2</td>\n",
       "      <td>Iris-setosa</td>\n",
       "    </tr>\n",
       "  </tbody>\n",
       "</table>\n",
       "</div>"
      ],
      "text/plain": [
       "   Id  SepalLengthCm  SepalWidthCm  PetalLengthCm  PetalWidthCm      Species\n",
       "0   1            5.1           3.5            1.4           0.2  Iris-setosa\n",
       "1   2            4.9           3.0            1.4           0.2  Iris-setosa\n",
       "2   3            4.7           3.2            1.3           0.2  Iris-setosa\n",
       "3   4            4.6           3.1            1.5           0.2  Iris-setosa\n",
       "4   5            5.0           3.6            1.4           0.2  Iris-setosa"
      ]
     },
     "execution_count": 3,
     "metadata": {},
     "output_type": "execute_result"
    }
   ],
   "source": [
    "iris.head(5)"
   ]
  },
  {
   "cell_type": "code",
   "execution_count": 4,
   "id": "22cd769c",
   "metadata": {},
   "outputs": [
    {
     "data": {
      "text/plain": [
       "Index(['Id', 'SepalLengthCm', 'SepalWidthCm', 'PetalLengthCm', 'PetalWidthCm',\n",
       "       'Species'],\n",
       "      dtype='object')"
      ]
     },
     "execution_count": 4,
     "metadata": {},
     "output_type": "execute_result"
    }
   ],
   "source": [
    "iris.columns"
   ]
  },
  {
   "cell_type": "code",
   "execution_count": 5,
   "id": "82ed080e",
   "metadata": {},
   "outputs": [
    {
     "data": {
      "text/plain": [
       "Iris-setosa        50\n",
       "Iris-versicolor    50\n",
       "Iris-virginica     50\n",
       "Name: Species, dtype: int64"
      ]
     },
     "execution_count": 5,
     "metadata": {},
     "output_type": "execute_result"
    }
   ],
   "source": [
    "# Let's see how many examples we have of each species as well as the data type for \n",
    "# each species\n",
    "iris[\"Species\"].value_counts()"
   ]
  },
  {
   "cell_type": "code",
   "execution_count": 6,
   "id": "f8b8dbd8",
   "metadata": {},
   "outputs": [
    {
     "data": {
      "text/plain": [
       "<AxesSubplot:xlabel='SepalLengthCm', ylabel='SepalWidthCm'>"
      ]
     },
     "execution_count": 6,
     "metadata": {},
     "output_type": "execute_result"
    },
    {
     "data": {
      "image/png": "[encoded data removed]",
      "text/plain": [
       "<Figure size 432x288 with 1 Axes>"
      ]
     },
     "metadata": {
      "needs_background": "light"
     },
     "output_type": "display_data"
    }
   ],
   "source": [
    "iris.plot(kind=\"scatter\", x=\"SepalLengthCm\", y=\"SepalWidthCm\")"
   ]
  },
  {
   "cell_type": "code",
   "execution_count": 7,
   "id": "9a72d31a",
   "metadata": {
    "id": "DuzT5eygf-sn"
   },
   "outputs": [],
   "source": [
    "iris.drop(\"Id\",axis=1,inplace=True)\n",
    "\n",
    "# store feature matrix in \"X\"\n",
    "X = iris.drop(\"Species\",axis=1)\n",
    "\n",
    "# store response vector in \"y\"\n",
    "y = iris['Species']"
   ]
  },
  {
   "cell_type": "markdown",
   "id": "3270138b",
   "metadata": {
    "id": "fCkHs_oCf-so"
   },
   "source": [
    "# Cross Validation"
   ]
  },
  {
   "cell_type": "code",
   "execution_count": 9,
   "id": "473f05ae",
   "metadata": {
    "id": "xOiB8z8Tf-sp",
    "outputId": "353534e8-db4b-45e2-c7d3-de7a77b92cf9"
   },
   "outputs": [
    {
     "data": {
      "image/png": "[encoded data removed]",
      "text/plain": [
       "<Figure size 864x144 with 1 Axes>"
      ]
     },
     "metadata": {
      "needs_background": "light"
     },
     "output_type": "display_data"
    }
   ],
   "source": [
    "import mglearn\n",
    "mglearn.plots.plot_cross_validation()"
   ]
  },
  {
   "cell_type": "code",
   "execution_count": 10,
   "id": "ccbf6a67",
   "metadata": {
    "id": "nsXb4OBbf-sp",
    "outputId": "5b289331-2bad-47bf-ce3a-eb23dc097764"
   },
   "outputs": [
    {
     "name": "stdout",
     "output_type": "stream",
     "text": [
      "cross-validation scores:  [0.96666667 0.96666667 0.9        0.96666667 1.        ]\n",
      "Mean Cross-validation score:  0.9600000000000002\n"
     ]
    }
   ],
   "source": [
    "from sklearn.tree import DecisionTreeClassifier\n",
    "from sklearn import metrics\n",
    "from sklearn.model_selection import cross_val_score\n",
    "dtc = DecisionTreeClassifier()\n",
    "scores = cross_val_score(dtc, X, y,cv=5)\n",
    "print(\"cross-validation scores: \", scores)\n",
    "print (\"Mean Cross-validation score: \", scores.mean())"
   ]
  },
  {
   "cell_type": "code",
   "execution_count": 11,
   "id": "4767b555",
   "metadata": {
    "id": "YmNQx9L3f-sq",
    "outputId": "c1b5c029-7137-4f8c-e57b-4a88ef4ce1bc"
   },
   "outputs": [
    {
     "name": "stdout",
     "output_type": "stream",
     "text": [
      "cross-validation scores:  [1.         0.93333333 1.         0.93333333 0.93333333 0.86666667\n",
      " 0.93333333 0.93333333 1.         1.        ]\n"
     ]
    },
    {
     "data": {
      "text/plain": [
       "0.9533333333333334"
      ]
     },
     "execution_count": 11,
     "metadata": {},
     "output_type": "execute_result"
    }
   ],
   "source": [
    "scores = cross_val_score(dtc, X, y, cv=10)\n",
    "print(\"cross-validation scores: \", scores)\n",
    "scores.mean()"
   ]
  },
  {
   "cell_type": "markdown",
   "id": "88c442e7",
   "metadata": {
    "id": "xDhvIcUdf-sr"
   },
   "source": [
    "# Stratified K-Fold cross-validation"
   ]
  },
  {
   "cell_type": "code",
   "execution_count": 12,
   "id": "552c7ccb",
   "metadata": {
    "id": "qi4-z2cvf-sr",
    "outputId": "8bae16ac-ea46-4cb1-e3ff-c56a95334f51"
   },
   "outputs": [
    {
     "name": "stdout",
     "output_type": "stream",
     "text": [
      "0         Iris-setosa\n",
      "1         Iris-setosa\n",
      "2         Iris-setosa\n",
      "3         Iris-setosa\n",
      "4         Iris-setosa\n",
      "            ...      \n",
      "145    Iris-virginica\n",
      "146    Iris-virginica\n",
      "147    Iris-virginica\n",
      "148    Iris-virginica\n",
      "149    Iris-virginica\n",
      "Name: Species, Length: 150, dtype: object\n"
     ]
    }
   ],
   "source": [
    "print(y)"
   ]
  },
  {
   "cell_type": "code",
   "execution_count": 13,
   "id": "d83152d7",
   "metadata": {
    "id": "VdvxozPif-ss",
    "outputId": "41fab823-2647-4874-b24f-8f15cd408216"
   },
   "outputs": [
    {
     "data": {
      "image/png": "[encoded data removed]",
      "text/plain": [
       "<Figure size 864x360 with 2 Axes>"
      ]
     },
     "metadata": {
      "needs_background": "light"
     },
     "output_type": "display_data"
    }
   ],
   "source": [
    "#% matplotlib inline\n",
    "mglearn.plots.plot_stratified_cross_validation()"
   ]
  },
  {
   "cell_type": "markdown",
   "id": "2172eab1",
   "metadata": {
    "id": "G4WryqZif-st"
   },
   "source": [
    "# Improving a model using hypermeters\n",
    "----\n",
    "'criterion' : [\"gini\", \"entropy\"]\n",
    "\n",
    "'splitter' : [\"best\", \"random\"]\n",
    "\n",
    "'max_depthint' : [3, 5, 7, 10]"
   ]
  },
  {
   "cell_type": "markdown",
   "id": "e1d80493",
   "metadata": {
    "id": "dnoJBvMef-st"
   },
   "source": [
    "# The danger of overfitting the parameters and the validation set"
   ]
  },
  {
   "cell_type": "code",
   "execution_count": 14,
   "id": "80958750",
   "metadata": {
    "id": "PQVgJVYSf-su",
    "outputId": "4ab6be06-f664-4c22-d6d6-08b26deca354"
   },
   "outputs": [
    {
     "name": "stdout",
     "output_type": "stream",
     "text": [
      "threefold_split\n"
     ]
    },
    {
     "data": {
      "image/png": "[encoded data removed]",
      "text/plain": [
       "<Figure size 1080x72 with 1 Axes>"
      ]
     },
     "metadata": {
      "needs_background": "light"
     },
     "output_type": "display_data"
    }
   ],
   "source": [
    "print(\"threefold_split\")\n",
    "mglearn.plots.plot_threefold_split()"
   ]
  },
  {
   "cell_type": "markdown",
   "id": "8b9f23db",
   "metadata": {
    "id": "ALr3y4Mnf-sv"
   },
   "source": [
    "# GridSearchCV (A meta classifier)\n",
    "----\n",
    "To use the GridSearchCV class, you first need to specify the\n",
    "parameters you want to search over using a dictionary. GridSearchCV will then perform\n",
    "all the necessary model fits. The keys of the dictionary are the names of parameters\n",
    "we want to adjust"
   ]
  },
  {
   "cell_type": "code",
   "execution_count": 37,
   "id": "10b2ba3a",
   "metadata": {
    "id": "0AZuyMb3f-sv",
    "outputId": "644c9112-3430-49fa-fcd0-e69820dbc874"
   },
   "outputs": [
    {
     "name": "stdout",
     "output_type": "stream",
     "text": [
      "{'criterion': ['gini', 'entropy'], 'splitter': ['best', 'random'], 'max_depth': [3, 5, 7, 10]}\n"
     ]
    }
   ],
   "source": [
    "param_grid = {'criterion' : [\"gini\", \"entropy\"],\n",
    "              'splitter' : [\"best\", \"random\"],\n",
    "              'max_depth' : [3, 5, 7, 10]}\n",
    "print (param_grid)"
   ]
  },
  {
   "cell_type": "code",
   "execution_count": 38,
   "id": "6307cd00",
   "metadata": {
    "id": "kGTWhckmf-sv",
    "outputId": "8bb35bf0-7827-46b5-c70a-c64f55140f00"
   },
   "outputs": [
    {
     "data": {
      "text/plain": [
       "GridSearchCV(cv=5, estimator=DecisionTreeClassifier(),\n",
       "             param_grid={'criterion': ['gini', 'entropy'],\n",
       "                         'max_depth': [3, 5, 7, 10],\n",
       "                         'splitter': ['best', 'random']})"
      ]
     },
     "execution_count": 38,
     "metadata": {},
     "output_type": "execute_result"
    }
   ],
   "source": [
    "from sklearn.model_selection import train_test_split\n",
    "from sklearn.model_selection import GridSearchCV\n",
    "X_train, X_test, y_train, y_test = train_test_split(X, y, stratify=y, random_state=0)\n",
    "\n",
    "grid_search = GridSearchCV(DecisionTreeClassifier(), param_grid, cv=5)\n",
    "grid_search.fit(X_train, y_train)"
   ]
  },
  {
   "cell_type": "markdown",
   "id": "e996b665",
   "metadata": {
    "id": "nRXrAS5lf-sw"
   },
   "source": [
    "Fitting the GridSearchCV object not only searches for the best parameters, it also\n",
    "automatically fits a new model on the whole training dataset with the parameters that\n",
    "yielded the best cross-validation performance."
   ]
  },
  {
   "cell_type": "code",
   "execution_count": 39,
   "id": "b8703068",
   "metadata": {
    "id": "wq_Qj3H2f-sw",
    "outputId": "e26d2b4e-fc58-47e0-bd29-0b06b78cee66"
   },
   "outputs": [
    {
     "data": {
      "text/plain": [
       "0.9473684210526315"
      ]
     },
     "execution_count": 39,
     "metadata": {},
     "output_type": "execute_result"
    }
   ],
   "source": [
    "grid_search.score(X_test, y_test)"
   ]
  },
  {
   "cell_type": "markdown",
   "id": "c21ff480",
   "metadata": {
    "id": "QpashI38f-sx"
   },
   "source": [
    "Choosing the parameters using cross-validation, we found a model that achieves\n",
    "best accuracy on the test set. The important part here is that we did not use the\n",
    "test set to choose the parameters.\n",
    "\n",
    "The parameters that were found are scored in the best_params_ attribute, and the\n",
    "best cross-validation accuracy (the mean accuracy over the different splits for this\n",
    "parameter setting) is stored in best_score_:"
   ]
  },
  {
   "cell_type": "code",
   "execution_count": 40,
   "id": "3cbfd38a",
   "metadata": {
    "id": "okxfdUkof-sx",
    "outputId": "131a1ec1-57f7-4e6d-e0a8-c7c6fd456202"
   },
   "outputs": [
    {
     "name": "stdout",
     "output_type": "stream",
     "text": [
      "{'criterion': 'entropy', 'max_depth': 3, 'splitter': 'random'}\n",
      "0.9557312252964426\n"
     ]
    }
   ],
   "source": [
    "print(grid_search.best_params_)\n",
    "print(grid_search.best_score_)"
   ]
  },
  {
   "cell_type": "markdown",
   "id": "895006d8",
   "metadata": {
    "id": "_51K7IxQf-sy"
   },
   "source": [
    "Again, be careful not to confuse best_score_ with the generalization performance of\n",
    "the model as computed by the score method on the test set. Using the score method\n",
    "(or evaluating the output of the predict method) employs a model trained on the\n",
    "whole training set. The best_score_ attribute stores the mean validation crossvalidation\n",
    "accuracy, with cross-validation performed on the training set.\n",
    "\n",
    "Sometimes it is helpful to have access to the actual model that was found, for example\n",
    "to look at coefficients or feature importances. You can access the model with the best\n",
    "parameters trained on the whole training set using the best_estimator_ attribute.\n",
    "\n",
    "Because grid_search itself has predict and score methods, using best_estimator_\n",
    "is not needed to make predictions or evaluate the model."
   ]
  },
  {
   "cell_type": "code",
   "execution_count": 41,
   "id": "df8c9e5b",
   "metadata": {
    "id": "LO8RO3Ghf-sy",
    "outputId": "8cd11f01-81c7-41a8-fdff-2d7deb9f2731"
   },
   "outputs": [
    {
     "data": {
      "text/plain": [
       "DecisionTreeClassifier(criterion='entropy', max_depth=3, splitter='random')"
      ]
     },
     "execution_count": 41,
     "metadata": {},
     "output_type": "execute_result"
    }
   ],
   "source": [
    "grid_search.best_estimator_"
   ]
  },
  {
   "cell_type": "markdown",
   "id": "386aa185",
   "metadata": {
    "id": "r-2wNg5Tf-sy"
   },
   "source": [
    "# Analyzing the results of cross-validation"
   ]
  },
  {
   "cell_type": "code",
   "execution_count": 42,
   "id": "ba375f78",
   "metadata": {
    "id": "6Vcl-GHnf-sz"
   },
   "outputs": [
    {
     "data": {
      "text/plain": [
       "{'mean_fit_time': array([0.00674472, 0.00312471, 0.00526156, 0.        , 0.        ,\n",
       "        0.00414691, 0.        , 0.00178418, 0.00319943, 0.00480742,\n",
       "        0.00159063, 0.00314889, 0.        , 0.00656767, 0.00383973,\n",
       "        0.00392804]),\n",
       " 'std_fit_time': array([0.00343291, 0.00624943, 0.00664132, 0.        , 0.        ,\n",
       "        0.00608091, 0.        , 0.00356836, 0.00391855, 0.00392541,\n",
       "        0.00198868, 0.00629778, 0.        , 0.00805892, 0.00656232,\n",
       "        0.00611146]),\n",
       " 'mean_score_time': array([0.00164499, 0.00313048, 0.        , 0.00627542, 0.00312729,\n",
       "        0.00230575, 0.00312538, 0.00157919, 0.        , 0.00320272,\n",
       "        0.00319905, 0.00312304, 0.00312505, 0.00292344, 0.00327311,\n",
       "        0.00315437]),\n",
       " 'std_score_time': array([0.00328999, 0.00626097, 0.        , 0.00768583, 0.00625458,\n",
       "        0.00461149, 0.00625076, 0.00315838, 0.        , 0.00392252,\n",
       "        0.00391803, 0.00624609, 0.0062501 , 0.00584688, 0.0062417 ,\n",
       "        0.00630875]),\n",
       " 'param_criterion': masked_array(data=['gini', 'gini', 'gini', 'gini', 'gini', 'gini', 'gini',\n",
       "                    'gini', 'entropy', 'entropy', 'entropy', 'entropy',\n",
       "                    'entropy', 'entropy', 'entropy', 'entropy'],\n",
       "              mask=[False, False, False, False, False, False, False, False,\n",
       "                    False, False, False, False, False, False, False, False],\n",
       "        fill_value='?',\n",
       "             dtype=object),\n",
       " 'param_max_depth': masked_array(data=[3, 3, 5, 5, 7, 7, 10, 10, 3, 3, 5, 5, 7, 7, 10, 10],\n",
       "              mask=[False, False, False, False, False, False, False, False,\n",
       "                    False, False, False, False, False, False, False, False],\n",
       "        fill_value='?',\n",
       "             dtype=object),\n",
       " 'param_splitter': masked_array(data=['best', 'random', 'best', 'random', 'best', 'random',\n",
       "                    'best', 'random', 'best', 'random', 'best', 'random',\n",
       "                    'best', 'random', 'best', 'random'],\n",
       "              mask=[False, False, False, False, False, False, False, False,\n",
       "                    False, False, False, False, False, False, False, False],\n",
       "        fill_value='?',\n",
       "             dtype=object),\n",
       " 'params': [{'criterion': 'gini', 'max_depth': 3, 'splitter': 'best'},\n",
       "  {'criterion': 'gini', 'max_depth': 3, 'splitter': 'random'},\n",
       "  {'criterion': 'gini', 'max_depth': 5, 'splitter': 'best'},\n",
       "  {'criterion': 'gini', 'max_depth': 5, 'splitter': 'random'},\n",
       "  {'criterion': 'gini', 'max_depth': 7, 'splitter': 'best'},\n",
       "  {'criterion': 'gini', 'max_depth': 7, 'splitter': 'random'},\n",
       "  {'criterion': 'gini', 'max_depth': 10, 'splitter': 'best'},\n",
       "  {'criterion': 'gini', 'max_depth': 10, 'splitter': 'random'},\n",
       "  {'criterion': 'entropy', 'max_depth': 3, 'splitter': 'best'},\n",
       "  {'criterion': 'entropy', 'max_depth': 3, 'splitter': 'random'},\n",
       "  {'criterion': 'entropy', 'max_depth': 5, 'splitter': 'best'},\n",
       "  {'criterion': 'entropy', 'max_depth': 5, 'splitter': 'random'},\n",
       "  {'criterion': 'entropy', 'max_depth': 7, 'splitter': 'best'},\n",
       "  {'criterion': 'entropy', 'max_depth': 7, 'splitter': 'random'},\n",
       "  {'criterion': 'entropy', 'max_depth': 10, 'splitter': 'best'},\n",
       "  {'criterion': 'entropy', 'max_depth': 10, 'splitter': 'random'}],\n",
       " 'split0_test_score': array([0.91304348, 0.86956522, 0.91304348, 0.91304348, 0.91304348,\n",
       "        0.86956522, 0.91304348, 0.95652174, 0.7826087 , 0.91304348,\n",
       "        0.91304348, 0.86956522, 0.86956522, 0.95652174, 0.86956522,\n",
       "        0.86956522]),\n",
       " 'split1_test_score': array([0.86956522, 0.91304348, 0.91304348, 0.95652174, 0.86956522,\n",
       "        0.95652174, 0.91304348, 0.95652174, 0.86956522, 0.95652174,\n",
       "        0.86956522, 0.91304348, 0.91304348, 0.95652174, 0.91304348,\n",
       "        0.95652174]),\n",
       " 'split2_test_score': array([0.95454545, 0.95454545, 0.95454545, 0.90909091, 0.95454545,\n",
       "        0.81818182, 0.95454545, 0.86363636, 0.95454545, 0.95454545,\n",
       "        0.95454545, 0.95454545, 0.95454545, 0.95454545, 0.95454545,\n",
       "        0.95454545]),\n",
       " 'split3_test_score': array([0.95454545, 0.86363636, 0.95454545, 0.90909091, 0.95454545,\n",
       "        0.86363636, 0.95454545, 0.95454545, 0.95454545, 0.95454545,\n",
       "        0.95454545, 0.90909091, 0.95454545, 1.        , 0.95454545,\n",
       "        0.81818182]),\n",
       " 'split4_test_score': array([0.95454545, 0.95454545, 1.        , 0.95454545, 0.95454545,\n",
       "        0.95454545, 0.86363636, 0.90909091, 0.95454545, 1.        ,\n",
       "        0.86363636, 0.90909091, 0.86363636, 0.90909091, 0.90909091,\n",
       "        0.90909091]),\n",
       " 'mean_test_score': array([0.92924901, 0.91106719, 0.94703557, 0.9284585 , 0.92924901,\n",
       "        0.89249012, 0.91976285, 0.92806324, 0.90316206, 0.95573123,\n",
       "        0.91106719, 0.91106719, 0.91106719, 0.95533597, 0.9201581 ,\n",
       "        0.90158103]),\n",
       " 'std_test_score': array([0.03389544, 0.03938711, 0.03233868, 0.0221626 , 0.03389544,\n",
       "        0.05446233, 0.03364563, 0.03696445, 0.06867696, 0.02751511,\n",
       "        0.03938711, 0.02692393, 0.03938711, 0.02876428, 0.0319303 ,\n",
       "        0.05265083]),\n",
       " 'rank_test_score': array([ 4, 10,  3,  6,  4, 16,  9,  7, 14,  1, 11, 11, 11,  2,  8, 15])}"
      ]
     },
     "execution_count": 42,
     "metadata": {},
     "output_type": "execute_result"
    }
   ],
   "source": [
    "#grid_search.grid_scores_\n",
    "grid_search.cv_results_"
   ]
  },
  {
   "cell_type": "code",
   "execution_count": 44,
   "id": "4172ddbc",
   "metadata": {
    "id": "5R6X0dUaf-sz"
   },
   "outputs": [],
   "source": [
    "# Plot the accuracy score on y-axis in a single graph for the following experiments\n",
    "#criterion: ['gini','entropy']\n",
    "#max_depth: [3, 5, 7]"
   ]
  },
  {
   "cell_type": "code",
   "execution_count": 46,
   "id": "e45ef73f",
   "metadata": {},
   "outputs": [
    {
     "data": {
      "text/plain": [
       "GridSearchCV(cv=5, estimator=DecisionTreeClassifier(),\n",
       "             param_grid={'criterion': ['gini', 'entropy'],\n",
       "                         'max_depth': [3, 5, 7]})"
      ]
     },
     "execution_count": 46,
     "metadata": {},
     "output_type": "execute_result"
    }
   ],
   "source": [
    "from sklearn.model_selection import train_test_split\n",
    "from sklearn.model_selection import GridSearchCV\n",
    "\n",
    "param_grid = {'criterion' : [\"gini\", \"entropy\"],\n",
    "              'max_depth' : [3, 5, 7]}\n",
    "\n",
    "X_train, X_test, y_train, y_test = train_test_split(X, y, stratify=y, random_state=0)\n",
    "\n",
    "grid_search = GridSearchCV(DecisionTreeClassifier(), param_grid, cv=5)\n",
    "grid_search.fit(X_train, y_train)"
   ]
  },
  {
   "cell_type": "code",
   "execution_count": 47,
   "id": "410238d0",
   "metadata": {},
   "outputs": [
    {
     "data": {
      "text/plain": [
       "0.9473684210526315"
      ]
     },
     "execution_count": 47,
     "metadata": {},
     "output_type": "execute_result"
    }
   ],
   "source": [
    "grid_search.score(X_test, y_test)"
   ]
  },
  {
   "cell_type": "code",
   "execution_count": 58,
   "id": "88abf2d0",
   "metadata": {},
   "outputs": [
    {
     "data": {
      "text/plain": [
       "<matplotlib.legend.Legend at 0x1d116382df0>"
      ]
     },
     "execution_count": 58,
     "metadata": {},
     "output_type": "execute_result"
    },
    {
     "data": {
      "image/png": "[encoded data removed]",
      "text/plain": [
       "<Figure size 432x288 with 1 Axes>"
      ]
     },
     "metadata": {
      "needs_background": "light"
     },
     "output_type": "display_data"
    }
   ],
   "source": [
    "import matplotlib.pyplot as plt \n",
    "\n",
    "x = np.array(['gini_3','gini_5','gini_7','entropy_3','entropy_5','entropy_7'])\n",
    "y = grid_search.cv_results_['mean_test_score']\n",
    "\n",
    "plt.bar(x[0],y[0],label = x[0])\n",
    "plt.bar(x[1],y[1],label = x[1])\n",
    "plt.bar(x[2],y[2],label = x[2])\n",
    "plt.bar(x[3],y[3],label = x[3])\n",
    "plt.bar(x[4],y[4],label = x[4])\n",
    "plt.bar(x[5],y[5],label = x[5])\n",
    "plt.legend()"
   ]
  },
  {
   "cell_type": "code",
   "execution_count": 68,
   "id": "d84b0aed",
   "metadata": {
    "id": "Hl2QI2FAf-sz"
   },
   "outputs": [
    {
     "data": {
      "text/plain": [
       "[1.0, 1.0, 1.0, 1.0]"
      ]
     },
     "execution_count": 68,
     "metadata": {},
     "output_type": "execute_result"
    }
   ],
   "source": [
    "# Plot the accuracy on y-axis and value of K on X-axis using \n",
    "# KNN Classifier 3 5 7 9 \n",
    "from sklearn.neighbors import KNeighborsClassifier\n",
    "\n",
    "\n",
    "iris = pd.read_csv('Iris.csv')\n",
    "type(iris)\n",
    "iris.drop(\"Id\",axis=1,inplace=True)\n",
    "\n",
    "# store feature matrix in \"X\"\n",
    "X = iris.drop(\"Species\",axis=1)\n",
    "\n",
    "# store response vector in \"y\"\n",
    "y = iris['Species']\n",
    "\n",
    "X_train, X_test, y_train, y_test = train_test_split(X, y, stratify=y, random_state=0)\n",
    "\n",
    "knn_3 = KNeighborsClassifier(n_neighbors=3)\n",
    "knn_5 = KNeighborsClassifier(n_neighbors=5)\n",
    "knn_7 = KNeighborsClassifier(n_neighbors=7)\n",
    "knn_9 = KNeighborsClassifier(n_neighbors=9)\n",
    "\n",
    "knn_3.fit(X_train, y_train)\n",
    "knn_5.fit(X_train, y_train)\n",
    "knn_7.fit(X_train, y_train)\n",
    "knn_9.fit(X_train, y_train)\n",
    "\n",
    "accuracy = [knn_3.score(X_test, y_test), knn_5.score(X_test, y_test),knn_7.score(X_test, y_test),knn_9.score(X_test, y_test)]"
   ]
  },
  {
   "cell_type": "code",
   "execution_count": 69,
   "id": "62cb06c7",
   "metadata": {},
   "outputs": [
    {
     "data": {
      "text/plain": [
       "<matplotlib.legend.Legend at 0x1d1165bcb50>"
      ]
     },
     "execution_count": 69,
     "metadata": {},
     "output_type": "execute_result"
    },
    {
     "data": {
      "image/png": "[encoded data removed]",
      "text/plain": [
       "<Figure size 432x288 with 1 Axes>"
      ]
     },
     "metadata": {
      "needs_background": "light"
     },
     "output_type": "display_data"
    }
   ],
   "source": [
    "\n",
    "\n",
    "x = np.array(['3','5','7','9'])\n",
    "y = accuracy\n",
    "\n",
    "plt.bar(x[0],y[0],label = 'k=3')\n",
    "plt.bar(x[1],y[1],label = 'k=5')\n",
    "plt.bar(x[2],y[2],label = 'k=7')\n",
    "plt.bar(x[3],y[3],label = 'k=9')\n",
    "plt.legend()"
   ]
  }
 ],
 "metadata": {
  "kernelspec": {
   "display_name": "Python 3 (ipykernel)",
   "language": "python",
   "name": "python3"
  },
  "language_info": {
   "codemirror_mode": {
    "name": "ipython",
    "version": 3
   },
   "file_extension": ".py",
   "mimetype": "text/x-python",
   "name": "python",
   "nbconvert_exporter": "python",
   "pygments_lexer": "ipython3",
   "version": "3.9.7"
  }
 },
 "nbformat": 4,
 "nbformat_minor": 5
}
