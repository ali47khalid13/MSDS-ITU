{
 "cells": [
  {
   "cell_type": "markdown",
   "id": "f9e1ede2",
   "metadata": {},
   "source": [
    "# Lab 9 Task\n",
    "\n",
    "Given the code for today's lab your job is to develop a pipeline for dataset of breast cancer, iris, boston or any other dataset. Your pipeline needs to have at least 3 preprocessors and a classifier of your choice. Then initialize the parameters for grid search and fit the data. Report the best settings for which the validation score is maximum and compute test score for it."
   ]
  },
  {
   "cell_type": "markdown",
   "id": "b627bc08",
   "metadata": {},
   "source": [
    "### Importing Libraries"
   ]
  },
  {
   "cell_type": "code",
   "execution_count": 1,
   "id": "b9705daa",
   "metadata": {},
   "outputs": [],
   "source": [
    "# Importing Requierd Libraries\n",
    "\n",
    "from sklearn.datasets import load_breast_cancer\n",
    "from sklearn.model_selection import train_test_split\n",
    "from sklearn.preprocessing import MinMaxScaler, StandardScaler\n",
    "from sklearn.pipeline import Pipeline\n",
    "from sklearn.model_selection import GridSearchCV\n",
    "from sklearn.decomposition import PCA\n",
    "from sklearn.naive_bayes import GaussianNB"
   ]
  },
  {
   "cell_type": "markdown",
   "id": "4ece85ab",
   "metadata": {},
   "source": [
    "### Loading data"
   ]
  },
  {
   "cell_type": "code",
   "execution_count": 2,
   "id": "07a14c68",
   "metadata": {},
   "outputs": [],
   "source": [
    "# load the data\n",
    "cancer = load_breast_cancer()\n",
    "\n",
    "# split the data \n",
    "X_train, X_test, y_train, y_test = train_test_split(cancer.data, cancer.target, random_state=0)"
   ]
  },
  {
   "cell_type": "markdown",
   "id": "1dc2740b",
   "metadata": {},
   "source": [
    "### Create Pipeline"
   ]
  },
  {
   "cell_type": "code",
   "execution_count": 3,
   "id": "8bd14d00",
   "metadata": {},
   "outputs": [
    {
     "name": "stdout",
     "output_type": "stream",
     "text": [
      "Test score: 0.86\n"
     ]
    }
   ],
   "source": [
    "# create pipeline \n",
    "pipe = Pipeline([ (\"scaler1\", MinMaxScaler()), (\"pca\",PCA()) ,(\"scaler2\",StandardScaler()), (\"NB\", GaussianNB())])\n",
    "\n",
    "# fit the pipe for default values of parametrs\n",
    "pipe.fit(X_train, y_train)\n",
    "\n",
    "print(\"Test score: {:.2f}\".format(pipe.score(X_test, y_test)))"
   ]
  },
  {
   "cell_type": "markdown",
   "id": "5274b0f8",
   "metadata": {},
   "source": [
    "### Grid Search"
   ]
  },
  {
   "cell_type": "code",
   "execution_count": 4,
   "id": "4a4d52cd",
   "metadata": {},
   "outputs": [
    {
     "name": "stdout",
     "output_type": "stream",
     "text": [
      "Best Parameters: {'NB__var_smoothing': 1e-09, 'pca__n_components': 6}\n",
      "Best Scores: 0.9461012311901505\n",
      "Prediction Score: 0.9230769230769231\n"
     ]
    }
   ],
   "source": [
    "# Specify paarmetrs for grid Search\n",
    "param_grid = {'NB__var_smoothing' : [1e-09, 1e-10, 1e-08,1e-11],\n",
    "             'pca__n_components': [2,3,4,5,6]}\n",
    "\n",
    "#perform Grid Search and print the best score and parameters. \n",
    "grid_search = GridSearchCV(pipe, param_grid, cv=5)\n",
    "grid_search.fit(X_train, y_train)\n",
    "\n",
    "print('Best Parameters: ' + str(grid_search.best_params_))\n",
    "print('Best Scores: ' + str(grid_search.best_score_))\n",
    "\n",
    "# report accuracy on test data using best parmeters\n",
    "print('Prediction Score: ' + str(grid_search.score(X_test, y_test)))\n"
   ]
  }
 ],
 "metadata": {
  "kernelspec": {
   "display_name": "Python 3 (ipykernel)",
   "language": "python",
   "name": "python3"
  },
  "language_info": {
   "codemirror_mode": {
    "name": "ipython",
    "version": 3
   },
   "file_extension": ".py",
   "mimetype": "text/x-python",
   "name": "python",
   "nbconvert_exporter": "python",
   "pygments_lexer": "ipython3",
   "version": "3.9.7"
  }
 },
 "nbformat": 4,
 "nbformat_minor": 5
}
