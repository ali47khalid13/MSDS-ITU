{
 "cells": [
  {
   "cell_type": "code",
   "execution_count": 76,
   "id": "38dee279",
   "metadata": {},
   "outputs": [],
   "source": [
    "# Import required libraries\n",
    "import pandas as pd\n",
    "import numpy as np \n",
    "import matplotlib.pyplot as plt\n",
    "import sklearn\n",
    "from sklearn.neural_network import MLPClassifier\n",
    "from sklearn.neural_network import MLPRegressor\n",
    "\n",
    "# Import necessary modules\n",
    "from sklearn.model_selection import train_test_split\n",
    "from sklearn.metrics import mean_squared_error\n",
    "from math import sqrt\n",
    "from sklearn.metrics import r2_score"
   ]
  },
  {
   "cell_type": "code",
   "execution_count": 103,
   "id": "297c5bcf",
   "metadata": {},
   "outputs": [
    {
     "name": "stdout",
     "output_type": "stream",
     "text": [
      "   road_count  date  Month  Houses  road_length  NTLsum  Populationsum     AQI\n",
      "0        1608     1     10   15032   350843.501    1238    283844.8952  58.645\n",
      "1        1608     2     10   15032   350843.501    1238    283844.8952  64.690\n",
      "2        1608     3     10   15032   350843.501    1238    283844.8952  82.500\n",
      "(920, 8)\n"
     ]
    },
    {
     "data": {
      "text/plain": [
       "road_count         int64\n",
       "date               int64\n",
       "Month              int64\n",
       "Houses             int64\n",
       "road_length      float64\n",
       "NTLsum             int64\n",
       "Populationsum    float64\n",
       "AQI              float64\n",
       "dtype: object"
      ]
     },
     "execution_count": 103,
     "metadata": {},
     "output_type": "execute_result"
    }
   ],
   "source": [
    "df = pd.read_csv('ML_DATA.csv') \n",
    "df = df[['road_count','date','Month','Houses','road_length','NTLsum','Populationsum','AQI']] #\n",
    "print(df.head(3))\n",
    "print(df.shape)\n",
    "df.describe().transpose()\n",
    "df.dtypes"
   ]
  },
  {
   "cell_type": "code",
   "execution_count": 104,
   "id": "c65c9c3d",
   "metadata": {},
   "outputs": [
    {
     "data": {
      "text/html": [
       "<div>\n",
       "<style scoped>\n",
       "    .dataframe tbody tr th:only-of-type {\n",
       "        vertical-align: middle;\n",
       "    }\n",
       "\n",
       "    .dataframe tbody tr th {\n",
       "        vertical-align: top;\n",
       "    }\n",
       "\n",
       "    .dataframe thead th {\n",
       "        text-align: right;\n",
       "    }\n",
       "</style>\n",
       "<table border=\"1\" class=\"dataframe\">\n",
       "  <thead>\n",
       "    <tr style=\"text-align: right;\">\n",
       "      <th></th>\n",
       "      <th>count</th>\n",
       "      <th>mean</th>\n",
       "      <th>std</th>\n",
       "      <th>min</th>\n",
       "      <th>25%</th>\n",
       "      <th>50%</th>\n",
       "      <th>75%</th>\n",
       "      <th>max</th>\n",
       "    </tr>\n",
       "  </thead>\n",
       "  <tbody>\n",
       "    <tr>\n",
       "      <th>road_count</th>\n",
       "      <td>920.0</td>\n",
       "      <td>0.441311</td>\n",
       "      <td>0.235062</td>\n",
       "      <td>0.282051</td>\n",
       "      <td>0.305413</td>\n",
       "      <td>0.315670</td>\n",
       "      <td>0.409687</td>\n",
       "      <td>1.0</td>\n",
       "    </tr>\n",
       "    <tr>\n",
       "      <th>date</th>\n",
       "      <td>920.0</td>\n",
       "      <td>0.510870</td>\n",
       "      <td>0.285776</td>\n",
       "      <td>0.032258</td>\n",
       "      <td>0.258065</td>\n",
       "      <td>0.516129</td>\n",
       "      <td>0.750000</td>\n",
       "      <td>1.0</td>\n",
       "    </tr>\n",
       "    <tr>\n",
       "      <th>Month</th>\n",
       "      <td>920.0</td>\n",
       "      <td>0.916667</td>\n",
       "      <td>0.068447</td>\n",
       "      <td>0.833333</td>\n",
       "      <td>0.833333</td>\n",
       "      <td>0.916667</td>\n",
       "      <td>1.000000</td>\n",
       "      <td>1.0</td>\n",
       "    </tr>\n",
       "    <tr>\n",
       "      <th>Houses</th>\n",
       "      <td>920.0</td>\n",
       "      <td>0.479568</td>\n",
       "      <td>0.330849</td>\n",
       "      <td>0.022551</td>\n",
       "      <td>0.156257</td>\n",
       "      <td>0.446985</td>\n",
       "      <td>0.733182</td>\n",
       "      <td>1.0</td>\n",
       "    </tr>\n",
       "    <tr>\n",
       "      <th>road_length</th>\n",
       "      <td>920.0</td>\n",
       "      <td>0.709988</td>\n",
       "      <td>0.142101</td>\n",
       "      <td>0.558275</td>\n",
       "      <td>0.622549</td>\n",
       "      <td>0.663117</td>\n",
       "      <td>0.796996</td>\n",
       "      <td>1.0</td>\n",
       "    </tr>\n",
       "    <tr>\n",
       "      <th>NTLsum</th>\n",
       "      <td>920.0</td>\n",
       "      <td>0.788673</td>\n",
       "      <td>0.123889</td>\n",
       "      <td>0.642395</td>\n",
       "      <td>0.675297</td>\n",
       "      <td>0.793959</td>\n",
       "      <td>0.834951</td>\n",
       "      <td>1.0</td>\n",
       "    </tr>\n",
       "    <tr>\n",
       "      <th>Populationsum</th>\n",
       "      <td>920.0</td>\n",
       "      <td>0.874858</td>\n",
       "      <td>0.102356</td>\n",
       "      <td>0.674319</td>\n",
       "      <td>0.790227</td>\n",
       "      <td>0.902278</td>\n",
       "      <td>0.963269</td>\n",
       "      <td>1.0</td>\n",
       "    </tr>\n",
       "    <tr>\n",
       "      <th>AQI</th>\n",
       "      <td>920.0</td>\n",
       "      <td>398.612573</td>\n",
       "      <td>181.078926</td>\n",
       "      <td>44.780000</td>\n",
       "      <td>243.145147</td>\n",
       "      <td>424.139124</td>\n",
       "      <td>538.390000</td>\n",
       "      <td>829.6</td>\n",
       "    </tr>\n",
       "  </tbody>\n",
       "</table>\n",
       "</div>"
      ],
      "text/plain": [
       "               count        mean         std        min         25%  \\\n",
       "road_count     920.0    0.441311    0.235062   0.282051    0.305413   \n",
       "date           920.0    0.510870    0.285776   0.032258    0.258065   \n",
       "Month          920.0    0.916667    0.068447   0.833333    0.833333   \n",
       "Houses         920.0    0.479568    0.330849   0.022551    0.156257   \n",
       "road_length    920.0    0.709988    0.142101   0.558275    0.622549   \n",
       "NTLsum         920.0    0.788673    0.123889   0.642395    0.675297   \n",
       "Populationsum  920.0    0.874858    0.102356   0.674319    0.790227   \n",
       "AQI            920.0  398.612573  181.078926  44.780000  243.145147   \n",
       "\n",
       "                      50%         75%    max  \n",
       "road_count       0.315670    0.409687    1.0  \n",
       "date             0.516129    0.750000    1.0  \n",
       "Month            0.916667    1.000000    1.0  \n",
       "Houses           0.446985    0.733182    1.0  \n",
       "road_length      0.663117    0.796996    1.0  \n",
       "NTLsum           0.793959    0.834951    1.0  \n",
       "Populationsum    0.902278    0.963269    1.0  \n",
       "AQI            424.139124  538.390000  829.6  "
      ]
     },
     "execution_count": 104,
     "metadata": {},
     "output_type": "execute_result"
    }
   ],
   "source": [
    "target_column = ['AQI'] \n",
    "predictors = list(set(list(df.columns))-set(target_column))\n",
    "df[predictors] = df[predictors]/df[predictors].max()\n",
    "df.describe().transpose()"
   ]
  },
  {
   "cell_type": "code",
   "execution_count": 105,
   "id": "fcef768f",
   "metadata": {},
   "outputs": [
    {
     "name": "stdout",
     "output_type": "stream",
     "text": [
      "(644, 7)\n",
      "(276, 7)\n"
     ]
    }
   ],
   "source": [
    "X = df[predictors].values\n",
    "y = df[target_column].values\n",
    "\n",
    "X_train, X_test, y_train, y_test = train_test_split(X, y, test_size=0.30, random_state=40)\n",
    "print(X_train.shape); print(X_test.shape)"
   ]
  },
  {
   "cell_type": "code",
   "execution_count": 144,
   "id": "b3699e4c",
   "metadata": {},
   "outputs": [
    {
     "name": "stderr",
     "output_type": "stream",
     "text": [
      "C:\\ProgramData\\Anaconda3\\lib\\site-packages\\sklearn\\utils\\validation.py:63: DataConversionWarning: A column-vector y was passed when a 1d array was expected. Please change the shape of y to (n_samples, ), for example using ravel().\n",
      "  return f(*args, **kwargs)\n"
     ]
    },
    {
     "name": "stdout",
     "output_type": "stream",
     "text": [
      "[[244.77     ]\n",
      " [209.5664921]\n",
      " [500.       ]\n",
      " [266.57     ]\n",
      " [460.98     ]\n",
      " [462.3      ]\n",
      " [391.78     ]\n",
      " [ 65.47     ]\n",
      " [375.39     ]\n",
      " [602.8033333]]\n",
      "[294.14657284 230.44318828 536.60297655 264.44691379 610.27363019\n",
      " 485.40440141 329.00537475 163.970768   428.78809159 514.72824467]\n"
     ]
    }
   ],
   "source": [
    "from sklearn.neural_network import MLPRegressor\n",
    "\n",
    "mlp = MLPRegressor(hidden_layer_sizes=(8,8,8), activation='relu', solver='adam', max_iter=100000)\n",
    "mlp.fit(X_train,y_train)\n",
    "\n",
    "predict_train = mlp.predict(X_train)\n",
    "predict_test = mlp.predict(X_test)\n",
    "print(y_test[0:10])\n",
    "print(predict_test[0:10])"
   ]
  },
  {
   "cell_type": "code",
   "execution_count": 145,
   "id": "d8696fde",
   "metadata": {},
   "outputs": [
    {
     "data": {
      "text/plain": [
       "0.6001181623091367"
      ]
     },
     "execution_count": 145,
     "metadata": {},
     "output_type": "execute_result"
    }
   ],
   "source": [
    "mlp.score(X_test, y_test)"
   ]
  },
  {
   "cell_type": "code",
   "execution_count": 146,
   "id": "a8f5de8c",
   "metadata": {},
   "outputs": [
    {
     "data": {
      "text/plain": [
       "13182.451666560344"
      ]
     },
     "execution_count": 146,
     "metadata": {},
     "output_type": "execute_result"
    }
   ],
   "source": [
    "mean_squared_error(y_test, predict_test)"
   ]
  }
 ],
 "metadata": {
  "kernelspec": {
   "display_name": "Python 3 (ipykernel)",
   "language": "python",
   "name": "python3"
  },
  "language_info": {
   "codemirror_mode": {
    "name": "ipython",
    "version": 3
   },
   "file_extension": ".py",
   "mimetype": "text/x-python",
   "name": "python",
   "nbconvert_exporter": "python",
   "pygments_lexer": "ipython3",
   "version": "3.9.7"
  }
 },
 "nbformat": 4,
 "nbformat_minor": 5
}
