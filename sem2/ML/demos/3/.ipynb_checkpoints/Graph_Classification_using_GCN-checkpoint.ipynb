{
 "cells": [
  {
   "cell_type": "code",
   "execution_count": 1,
   "metadata": {
    "colab": {
     "base_uri": "https://localhost:8080/"
    },
    "id": "HZZ4_Fc37T5m",
    "outputId": "433b4272-f761-4d72-8835-9e70eb510370"
   },
   "outputs": [
    {
     "name": "stdout",
     "output_type": "stream",
     "text": [
      "  Building wheel for torch-scatter (setup.py) ... \u001b[?25l\u001b[?25hdone\n",
      "\u001b[K     |████████████████████████████████| 48 kB 2.3 MB/s \n",
      "\u001b[?25h  Building wheel for torch-sparse (setup.py) ... \u001b[?25l\u001b[?25hdone\n",
      "\u001b[K     |████████████████████████████████| 407 kB 5.3 MB/s \n",
      "\u001b[?25h  Building wheel for torch-geometric (setup.py) ... \u001b[?25l\u001b[?25hdone\n"
     ]
    }
   ],
   "source": [
    "# Install torch geometric\n",
    "#This cell will take almost 10-15 mins\n",
    "!pip install -q torch-scatter -f https://pytorch-geometric.com/whl/torch-1.7.0+cu101.html\n",
    "!pip install -q torch-sparse -f https://pytorch-geometric.com/whl/torch-1.7.0+cu101.html\n",
    "!pip install -q torch-geometric"
   ]
  },
  {
   "cell_type": "code",
   "execution_count": 2,
   "metadata": {
    "colab": {
     "base_uri": "https://localhost:8080/"
    },
    "id": "QBlmIax67aK0",
    "outputId": "4fd4bf32-cb40-491f-d44e-cc50ab854a94"
   },
   "outputs": [
    {
     "name": "stderr",
     "output_type": "stream",
     "text": [
      "Downloading https://www.chrsmrrs.com/graphkerneldatasets/MUTAG.zip\n"
     ]
    },
    {
     "name": "stdout",
     "output_type": "stream",
     "text": [
      "\n",
      "Dataset: MUTAG(188):\n",
      "====================\n",
      "Number of graphs: 188\n",
      "Number of features: 7\n",
      "Number of classes: 2\n",
      "\n",
      "Data(edge_index=[2, 38], x=[17, 7], edge_attr=[38, 4], y=[1])\n",
      "=============================================================\n",
      "Number of nodes: 17\n",
      "Number of edges: 38\n",
      "Average node degree: 2.24\n",
      "Has isolated nodes: False\n",
      "Has self-loops: False\n",
      "Is undirected: True\n"
     ]
    },
    {
     "name": "stderr",
     "output_type": "stream",
     "text": [
      "Extracting data/TUDataset/MUTAG/MUTAG.zip\n",
      "Processing...\n",
      "Done!\n"
     ]
    }
   ],
   "source": [
    "import torch\n",
    "from torch_geometric.datasets import TUDataset\n",
    "\n",
    "dataset = TUDataset(root='data/TUDataset', name='MUTAG')\n",
    "\n",
    "print()\n",
    "print(f'Dataset: {dataset}:')\n",
    "print('====================')\n",
    "print(f'Number of graphs: {len(dataset)}')\n",
    "print(f'Number of features: {dataset.num_features}')\n",
    "print(f'Number of classes: {dataset.num_classes}')\n",
    "\n",
    "data = dataset[0]  # Get the first graph object.\n",
    "\n",
    "print()\n",
    "print(data)\n",
    "print('=============================================================')\n",
    "\n",
    "# Gather some statistics about the first graph.\n",
    "print(f'Number of nodes: {data.num_nodes}')\n",
    "print(f'Number of edges: {data.num_edges}')\n",
    "print(f'Average node degree: {data.num_edges / data.num_nodes:.2f}')\n",
    "print(f'Has isolated nodes: {data.has_isolated_nodes()}')\n",
    "print(f'Has self-loops: {data.has_self_loops()}')\n",
    "print(f'Is undirected: {data.is_undirected()}')"
   ]
  },
  {
   "cell_type": "code",
   "execution_count": 3,
   "metadata": {
    "colab": {
     "base_uri": "https://localhost:8080/"
    },
    "id": "7zDr5ao2OeHL",
    "outputId": "ce82a5fa-7170-40a6-d82e-1552c1415b50"
   },
   "outputs": [
    {
     "name": "stdout",
     "output_type": "stream",
     "text": [
      "\n",
      "Data(edge_index=[2, 28], x=[13, 7], edge_attr=[28, 4], y=[1])\n",
      "=============================================================\n",
      "Number of nodes: 13\n",
      "Number of edges: 28\n",
      "Average node degree: 2.15\n",
      "Has isolated nodes: False\n",
      "Has self-loops: False\n",
      "Is undirected: True\n"
     ]
    }
   ],
   "source": [
    "data = dataset[1]  # Get the first graph object.\n",
    "\n",
    "print()\n",
    "print(data)\n",
    "print('=============================================================')\n",
    "\n",
    "# Gather some statistics about the first graph.\n",
    "print(f'Number of nodes: {data.num_nodes}')\n",
    "print(f'Number of edges: {data.num_edges}')\n",
    "print(f'Average node degree: {data.num_edges / data.num_nodes:.2f}')\n",
    "print(f'Has isolated nodes: {data.has_isolated_nodes()}')\n",
    "print(f'Has self-loops: {data.has_self_loops()}')\n",
    "print(f'Is undirected: {data.is_undirected()}')"
   ]
  },
  {
   "cell_type": "code",
   "execution_count": 4,
   "metadata": {
    "colab": {
     "base_uri": "https://localhost:8080/"
    },
    "id": "aFCCY1HrPtsb",
    "outputId": "6b4a460f-4419-4741-e721-7c780e957cdf"
   },
   "outputs": [
    {
     "name": "stdout",
     "output_type": "stream",
     "text": [
      "Number of training graphs: 150\n",
      "Number of test graphs: 38\n"
     ]
    }
   ],
   "source": [
    "torch.manual_seed(12345)\n",
    "dataset = dataset.shuffle()\n",
    "\n",
    "train_dataset = dataset[:150]\n",
    "test_dataset = dataset[150:]\n",
    "\n",
    "print(f'Number of training graphs: {len(train_dataset)}')\n",
    "print(f'Number of test graphs: {len(test_dataset)}')"
   ]
  },
  {
   "cell_type": "code",
   "execution_count": 5,
   "metadata": {
    "colab": {
     "base_uri": "https://localhost:8080/"
    },
    "id": "IXr_bQ4mQj3z",
    "outputId": "b185d7ec-285a-4c75-ed62-12db6b863cdd"
   },
   "outputs": [
    {
     "name": "stdout",
     "output_type": "stream",
     "text": [
      "Step 1:\n",
      "=======\n",
      "Number of graphs in the current batch: 64\n",
      "DataBatch(edge_index=[2, 2636], x=[1188, 7], edge_attr=[2636, 4], y=[64], batch=[1188], ptr=[65])\n",
      "\n",
      "Step 2:\n",
      "=======\n",
      "Number of graphs in the current batch: 64\n",
      "DataBatch(edge_index=[2, 2506], x=[1139, 7], edge_attr=[2506, 4], y=[64], batch=[1139], ptr=[65])\n",
      "\n",
      "Step 3:\n",
      "=======\n",
      "Number of graphs in the current batch: 22\n",
      "DataBatch(edge_index=[2, 852], x=[387, 7], edge_attr=[852, 4], y=[22], batch=[387], ptr=[23])\n",
      "\n"
     ]
    }
   ],
   "source": [
    "from torch_geometric.loader import DataLoader\n",
    "\n",
    "train_loader = DataLoader(train_dataset, batch_size=64, shuffle=True)\n",
    "test_loader = DataLoader(test_dataset, batch_size=64, shuffle=False)\n",
    "\n",
    "for step, data in enumerate(train_loader):\n",
    "    print(f'Step {step + 1}:')\n",
    "    print('=======')\n",
    "    print(f'Number of graphs in the current batch: {data.num_graphs}')\n",
    "    print(data)\n",
    "    print()"
   ]
  },
  {
   "cell_type": "code",
   "execution_count": 6,
   "metadata": {
    "colab": {
     "base_uri": "https://localhost:8080/"
    },
    "id": "f887CIU3Pzwc",
    "outputId": "8246998c-58c8-4fd5-b019-1b9101d8482d"
   },
   "outputs": [
    {
     "name": "stdout",
     "output_type": "stream",
     "text": [
      "GCN(\n",
      "  (conv1): GCNConv(7, 64)\n",
      "  (conv2): GCNConv(64, 64)\n",
      "  (lin): Linear(in_features=64, out_features=2, bias=True)\n",
      ")\n"
     ]
    }
   ],
   "source": [
    "from torch.nn import Linear\n",
    "import torch.nn.functional as F\n",
    "from torch_geometric.nn import GCNConv\n",
    "from torch_geometric.nn import global_mean_pool\n",
    "\n",
    "\n",
    "class GCN(torch.nn.Module):\n",
    "    def __init__(self, hidden_channels):\n",
    "        super(GCN, self).__init__()\n",
    "        torch.manual_seed(12345)\n",
    "        self.conv1 = GCNConv(dataset.num_node_features, hidden_channels)\n",
    "        self.conv2 = GCNConv(hidden_channels, hidden_channels)\n",
    "        \n",
    "        self.lin = Linear(hidden_channels, dataset.num_classes)\n",
    "\n",
    "    def forward(self, x, edge_index, batch):\n",
    "        # Obtain node embeddings \n",
    "        x = self.conv1(x, edge_index)\n",
    "        x = x.relu()\n",
    "        x = self.conv2(x, edge_index)\n",
    "        x = x.relu()\n",
    "        \n",
    "        # Readout layer\n",
    "        x = global_mean_pool(x, batch)  # [batch_size, hidden_channels]\n",
    "\n",
    "        # Apply a final classifier\n",
    "        x = F.dropout(x, p=0.5, training=self.training)\n",
    "        x = self.lin(x)\n",
    "        \n",
    "        return x\n",
    "\n",
    "model = GCN(hidden_channels=64)\n",
    "print(model)"
   ]
  },
  {
   "cell_type": "code",
   "execution_count": 7,
   "metadata": {
    "colab": {
     "base_uri": "https://localhost:8080/"
    },
    "id": "_GrfunwdQEZl",
    "outputId": "6ef00a23-87e8-48e9-fd58-ce95175f8517"
   },
   "outputs": [
    {
     "name": "stdout",
     "output_type": "stream",
     "text": [
      "Epoch: 001, Train Acc: 0.6467\n",
      "Epoch: 002, Train Acc: 0.6467\n",
      "Epoch: 003, Train Acc: 0.6467\n",
      "Epoch: 004, Train Acc: 0.6467\n",
      "Epoch: 005, Train Acc: 0.6467\n",
      "Epoch: 006, Train Acc: 0.6467\n",
      "Epoch: 007, Train Acc: 0.6467\n",
      "Epoch: 008, Train Acc: 0.6800\n",
      "Epoch: 009, Train Acc: 0.7000\n",
      "Epoch: 010, Train Acc: 0.7067\n",
      "Epoch: 011, Train Acc: 0.6800\n",
      "Epoch: 012, Train Acc: 0.6933\n",
      "Epoch: 013, Train Acc: 0.7267\n",
      "Epoch: 014, Train Acc: 0.7133\n",
      "Epoch: 015, Train Acc: 0.7067\n",
      "Epoch: 016, Train Acc: 0.7467\n",
      "Epoch: 017, Train Acc: 0.7267\n",
      "Epoch: 018, Train Acc: 0.7133\n",
      "Epoch: 019, Train Acc: 0.7000\n",
      "Epoch: 020, Train Acc: 0.7467\n",
      "Epoch: 021, Train Acc: 0.7467\n",
      "Epoch: 022, Train Acc: 0.7267\n",
      "Epoch: 023, Train Acc: 0.7467\n",
      "Epoch: 024, Train Acc: 0.7467\n",
      "Epoch: 025, Train Acc: 0.6867\n",
      "Epoch: 026, Train Acc: 0.7200\n",
      "Epoch: 027, Train Acc: 0.7467\n",
      "Epoch: 028, Train Acc: 0.7600\n",
      "Epoch: 029, Train Acc: 0.7267\n",
      "Epoch: 030, Train Acc: 0.7400\n",
      "Epoch: 031, Train Acc: 0.7533\n",
      "Epoch: 032, Train Acc: 0.7733\n",
      "Epoch: 033, Train Acc: 0.7533\n",
      "Epoch: 034, Train Acc: 0.7400\n",
      "Epoch: 035, Train Acc: 0.7333\n",
      "Epoch: 036, Train Acc: 0.7400\n",
      "Epoch: 037, Train Acc: 0.7600\n",
      "Epoch: 038, Train Acc: 0.7467\n",
      "Epoch: 039, Train Acc: 0.7333\n",
      "Epoch: 040, Train Acc: 0.7333\n",
      "Epoch: 041, Train Acc: 0.7800\n",
      "Epoch: 042, Train Acc: 0.7533\n",
      "Epoch: 043, Train Acc: 0.7467\n",
      "Epoch: 044, Train Acc: 0.7467\n",
      "Epoch: 045, Train Acc: 0.7667\n",
      "Epoch: 046, Train Acc: 0.7667\n",
      "Epoch: 047, Train Acc: 0.7467\n",
      "Epoch: 048, Train Acc: 0.7800\n",
      "Epoch: 049, Train Acc: 0.7600\n"
     ]
    }
   ],
   "source": [
    "optimizer = torch.optim.Adam(model.parameters(), lr=0.01)\n",
    "criterion = torch.nn.CrossEntropyLoss()\n",
    "model.train()\n",
    "for epoch in range(1, 50):\n",
    "  correct = 0  \n",
    "  for data in train_loader:  # Iterate in batches over the training dataset.\n",
    "    out = model(data.x, data.edge_index, data.batch)  # Perform a single forward pass.\n",
    "    loss = criterion(out, data.y)  # Compute the loss.\n",
    "    loss.backward()  # Derive gradients.\n",
    "    optimizer.step()  # Update parameters based on gradients.\n",
    "    optimizer.zero_grad()  # Clear gradients.\n",
    "    pred = out.argmax(dim=1)  # Use the class with highest probability.\n",
    "    correct += int((pred == data.y).sum())  # Check against ground-truth labels.\n",
    "  \n",
    "  train_acc = correct / len(train_loader.dataset)  \n",
    "  \n",
    "  print(f'Epoch: {epoch:03d}, Train Acc: {train_acc:.4f}')"
   ]
  },
  {
   "cell_type": "code",
   "execution_count": 10,
   "metadata": {
    "colab": {
     "base_uri": "https://localhost:8080/"
    },
    "id": "or_EXChoRs9l",
    "outputId": "a84f5469-92e9-43bf-b03d-587e935f1a1e"
   },
   "outputs": [
    {
     "name": "stdout",
     "output_type": "stream",
     "text": [
      "Test Acc: 0.7632\n"
     ]
    }
   ],
   "source": [
    "model.eval()\n",
    "correct = 0\n",
    "for data in test_loader:  # Iterate in batches over the training dataset.\n",
    "  out = model(data.x, data.edge_index, data.batch)  # Perform a single forward pass.\n",
    "  loss = criterion(out, data.y)  # Compute the loss.\n",
    "  pred = out.argmax(dim=1)  # Use the class with highest probability.\n",
    "  correct += int((pred == data.y).sum())  # Check against ground-truth labels.\n",
    "\n",
    "test_acc = correct / len(test_loader.dataset)  \n",
    "  \n",
    "print(f'Test Acc: {test_acc:.4f}')"
   ]
  },
  {
   "cell_type": "code",
   "execution_count": null,
   "metadata": {
    "id": "3Q6EYiGvTJa2"
   },
   "outputs": [],
   "source": []
  }
 ],
 "metadata": {
  "colab": {
   "name": "Graph Classification using GCN.ipynb",
   "provenance": []
  },
  "kernelspec": {
   "display_name": "Python 3 (ipykernel)",
   "language": "python",
   "name": "python3"
  },
  "language_info": {
   "codemirror_mode": {
    "name": "ipython",
    "version": 3
   },
   "file_extension": ".py",
   "mimetype": "text/x-python",
   "name": "python",
   "nbconvert_exporter": "python",
   "pygments_lexer": "ipython3",
   "version": "3.9.7"
  }
 },
 "nbformat": 4,
 "nbformat_minor": 1
}
