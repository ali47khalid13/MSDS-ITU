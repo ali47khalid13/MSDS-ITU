{
 "cells": [
  {
   "cell_type": "code",
   "execution_count": null,
   "metadata": {
    "colab": {
     "base_uri": "https://localhost:8080/"
    },
    "id": "LtaW-Rsy54AW",
    "outputId": "15c23e5b-9548-4790-cf9f-b3c4c0de8130"
   },
   "outputs": [],
   "source": [
    "# Install torch geometric\n",
    "#This cell will take almost 10-15 mins\n",
    "!pip install -q torch-scatter -f https://pytorch-geometric.com/whl/torch-1.7.0+cu101.html\n",
    "!pip install -q torch-sparse -f https://pytorch-geometric.com/whl/torch-1.7.0+cu101.html\n",
    "!pip install -q torch-geometric"
   ]
  },
  {
   "cell_type": "code",
   "execution_count": 12,
   "metadata": {
    "colab": {
     "base_uri": "https://localhost:8080/"
    },
    "id": "mIl-3Z136VDC",
    "outputId": "c7db7208-9240-47e7-b6af-7658b51d2ca4"
   },
   "outputs": [
    {
     "name": "stdout",
     "output_type": "stream",
     "text": [
      "\n",
      "Dataset: Cora():\n",
      "======================\n",
      "Number of graphs: 1\n",
      "Number of features: 1433\n",
      "Number of classes: 7\n",
      "\n",
      "Data(x=[2708, 1433], edge_index=[2, 10556], y=[2708], train_mask=[2708], val_mask=[2708], test_mask=[2708])\n",
      "===========================================================================================================\n",
      "Number of nodes: torch.float32\n",
      "Number of edges: 10556\n",
      "Average node degree: 3.90\n",
      "Number of training nodes: 140\n",
      "Training node label rate: 0.05\n",
      "Has isolated nodes: False\n",
      "Has self-loops: False\n",
      "Is undirected: True\n"
     ]
    }
   ],
   "source": [
    "from torch_geometric.datasets import Planetoid\n",
    "from torch_geometric.transforms import NormalizeFeatures\n",
    "\n",
    "dataset = Planetoid(root='data/Planetoid', name='Cora', transform=NormalizeFeatures())\n",
    "\n",
    "print()\n",
    "print(f'Dataset: {dataset}:')\n",
    "print('======================')\n",
    "print(f'Number of graphs: {len(dataset)}')\n",
    "print(f'Number of features: {dataset.num_features}')\n",
    "\n",
    "print(f'Number of classes: {dataset.num_classes}')\n",
    "\n",
    "data = dataset[0]  # Get the first graph object.\n",
    "\n",
    "print()\n",
    "print(data)\n",
    "print('===========================================================================================================')\n",
    "\n",
    "# Gather some statistics about the graph.\n",
    "print(f'Number of nodes: {data.x.dtype}')\n",
    "print(f'Number of edges: {data.num_edges}')\n",
    "print(f'Average node degree: {data.num_edges / data.num_nodes:.2f}')\n",
    "print(f'Number of training nodes: {data.train_mask.sum()}')\n",
    "print(f'Training node label rate: {int(data.train_mask.sum()) / data.num_nodes:.2f}')\n",
    "print(f'Has isolated nodes: {data.has_isolated_nodes()}')\n",
    "print(f'Has self-loops: {data.has_self_loops()}')\n",
    "print(f'Is undirected: {data.is_undirected()}')"
   ]
  },
  {
   "cell_type": "code",
   "execution_count": 9,
   "metadata": {
    "colab": {
     "base_uri": "https://localhost:8080/"
    },
    "id": "3LMlt7hZ5DSx",
    "outputId": "9a0ca589-bbba-4d86-9838-9c3352d7fe6a"
   },
   "outputs": [
    {
     "name": "stdout",
     "output_type": "stream",
     "text": [
      "GCN(\n",
      "  (conv1): GCNConv(1433, 128)\n",
      "  (conv2): GCNConv(128, 7)\n",
      ")\n"
     ]
    }
   ],
   "source": [
    "import torch\n",
    "from torch.nn import Linear\n",
    "from torch_geometric.nn import GCNConv\n",
    "import torch.nn.functional as F\n",
    "\n",
    "class GCN(torch.nn.Module):\n",
    "  def __init__(self, hidden_channels):\n",
    "    super().__init__()\n",
    "    torch.manual_seed(1234567)\n",
    "    self.conv1 = GCNConv(dataset.num_features, hidden_channels)\n",
    "    self.conv2 = GCNConv(hidden_channels, dataset.num_classes)\n",
    "    \n",
    "\n",
    "  def forward(self, x, edge_index):\n",
    "    x = self.conv1(x, edge_index)\n",
    "    x = x.relu()\n",
    "    x = F.dropout(x, p=0.5, training=self.training)\n",
    "    x = self.conv2(x, edge_index)\n",
    "    \n",
    "    return x\n",
    "\n",
    "model = GCN(hidden_channels=128)\n",
    "print(model)"
   ]
  },
  {
   "cell_type": "code",
   "execution_count": 10,
   "metadata": {
    "colab": {
     "base_uri": "https://localhost:8080/"
    },
    "id": "XwuqA8s69ycL",
    "outputId": "c443a6f6-17c5-4067-e0cc-5df50e2715d0"
   },
   "outputs": [
    {
     "name": "stdout",
     "output_type": "stream",
     "text": [
      "Epoch: 000, Train Loss: 1.9459, Accuracy: 0.1286\n",
      "Epoch: 001, Train Loss: 1.9253, Accuracy: 0.5071\n",
      "Epoch: 002, Train Loss: 1.9056, Accuracy: 0.6071\n",
      "Epoch: 003, Train Loss: 1.8736, Accuracy: 0.8071\n",
      "Epoch: 004, Train Loss: 1.8391, Accuracy: 0.8071\n",
      "Epoch: 005, Train Loss: 1.8024, Accuracy: 0.7929\n",
      "Epoch: 006, Train Loss: 1.7534, Accuracy: 0.8571\n",
      "Epoch: 007, Train Loss: 1.7116, Accuracy: 0.8143\n",
      "Epoch: 008, Train Loss: 1.6537, Accuracy: 0.8286\n",
      "Epoch: 009, Train Loss: 1.5866, Accuracy: 0.8643\n",
      "Epoch: 010, Train Loss: 1.5399, Accuracy: 0.8500\n",
      "Epoch: 011, Train Loss: 1.4716, Accuracy: 0.8643\n",
      "Epoch: 012, Train Loss: 1.3925, Accuracy: 0.9143\n",
      "Epoch: 013, Train Loss: 1.3135, Accuracy: 0.9000\n",
      "Epoch: 014, Train Loss: 1.2689, Accuracy: 0.9000\n",
      "Epoch: 015, Train Loss: 1.1770, Accuracy: 0.9286\n",
      "Epoch: 016, Train Loss: 1.0833, Accuracy: 0.9643\n",
      "Epoch: 017, Train Loss: 1.0208, Accuracy: 0.9643\n",
      "Epoch: 018, Train Loss: 0.9130, Accuracy: 0.9857\n",
      "Epoch: 019, Train Loss: 0.8550, Accuracy: 0.9643\n",
      "Epoch: 020, Train Loss: 0.7836, Accuracy: 0.9714\n",
      "Epoch: 021, Train Loss: 0.7344, Accuracy: 0.9357\n",
      "Epoch: 022, Train Loss: 0.6504, Accuracy: 0.9786\n",
      "Epoch: 023, Train Loss: 0.6163, Accuracy: 0.9643\n",
      "Epoch: 024, Train Loss: 0.5594, Accuracy: 0.9571\n",
      "Epoch: 025, Train Loss: 0.4755, Accuracy: 0.9571\n",
      "Epoch: 026, Train Loss: 0.4550, Accuracy: 0.9643\n",
      "Epoch: 027, Train Loss: 0.3893, Accuracy: 0.9643\n",
      "Epoch: 028, Train Loss: 0.3288, Accuracy: 0.9643\n",
      "Epoch: 029, Train Loss: 0.3044, Accuracy: 0.9500\n",
      "Epoch: 030, Train Loss: 0.2549, Accuracy: 0.9643\n",
      "Epoch: 031, Train Loss: 0.2061, Accuracy: 0.9714\n",
      "Epoch: 032, Train Loss: 0.2066, Accuracy: 0.9786\n",
      "Epoch: 033, Train Loss: 0.2220, Accuracy: 0.9571\n",
      "Epoch: 034, Train Loss: 0.1566, Accuracy: 0.9571\n",
      "Epoch: 035, Train Loss: 0.1877, Accuracy: 0.9500\n",
      "Epoch: 036, Train Loss: 0.2172, Accuracy: 0.9571\n",
      "Epoch: 037, Train Loss: 0.1978, Accuracy: 0.9429\n",
      "Epoch: 038, Train Loss: 0.2480, Accuracy: 0.9071\n",
      "Epoch: 039, Train Loss: 0.2464, Accuracy: 0.9214\n",
      "Epoch: 040, Train Loss: 0.2442, Accuracy: 0.9071\n",
      "Epoch: 041, Train Loss: 0.2036, Accuracy: 0.9429\n",
      "Epoch: 042, Train Loss: 0.1922, Accuracy: 0.9571\n",
      "Epoch: 043, Train Loss: 0.1581, Accuracy: 0.9500\n",
      "Epoch: 044, Train Loss: 0.1060, Accuracy: 0.9571\n",
      "Epoch: 045, Train Loss: 0.1026, Accuracy: 0.9714\n",
      "Epoch: 046, Train Loss: 0.0593, Accuracy: 0.9786\n",
      "Epoch: 047, Train Loss: 0.0818, Accuracy: 0.9643\n",
      "Epoch: 048, Train Loss: 0.1149, Accuracy: 0.9429\n",
      "Epoch: 049, Train Loss: 0.1388, Accuracy: 0.9643\n"
     ]
    }
   ],
   "source": [
    "criterion = torch.nn.CrossEntropyLoss()  # Define loss criterion.\n",
    "optimizer = torch.optim.Adam(model.parameters(), lr=0.01)  # Define optimizer.\n",
    "model.train()\n",
    "for epoch in range(50):\n",
    "  out = model(data.x, data.edge_index)  # Perform a single forward pass.\n",
    "  loss = criterion(out[data.train_mask], data.y[data.train_mask])  # Compute the loss solely based on the training nodes.\n",
    "  pred = out.argmax(dim=1)  # Use the class with highest probability.\n",
    "  train_correct = pred[data.train_mask] == data.y[data.train_mask]  # Check against ground-truth labels.\n",
    "  train_acc = int(train_correct.sum()) / int(data.train_mask.sum())  # Derive ratio of correct predictions.\n",
    "\n",
    "  loss.backward()  # Derive gradients.\n",
    "  optimizer.step()  # Update parameters based on gradients.\n",
    "\n",
    "    \n",
    "  print(f'Epoch: {epoch:03d}, Train Loss: {loss:.4f}, Accuracy: {train_acc:.4f}')"
   ]
  },
  {
   "cell_type": "code",
   "execution_count": 11,
   "metadata": {
    "colab": {
     "base_uri": "https://localhost:8080/"
    },
    "id": "Z3gIP-eD-IGf",
    "outputId": "cc219910-1b38-444b-8245-a74cee00605c"
   },
   "outputs": [
    {
     "name": "stdout",
     "output_type": "stream",
     "text": [
      "Test accuracy: 0.7660\n"
     ]
    }
   ],
   "source": [
    "model.eval()\n",
    "out = model(data.x, data.edge_index)\n",
    "pred = out.argmax(dim=1)  # Use the class with highest probability.\n",
    "test_correct = pred[data.test_mask] == data.y[data.test_mask]  # Check against ground-truth labels.\n",
    "test_acc = int(test_correct.sum()) / int(data.test_mask.sum())  # Derive ratio of correct predictions.\n",
    "print(f'Test accuracy: {test_acc:.4f}')"
   ]
  },
  {
   "cell_type": "code",
   "execution_count": null,
   "metadata": {
    "id": "BvKl5YrbKpjz"
   },
   "outputs": [],
   "source": []
  }
 ],
 "metadata": {
  "colab": {
   "collapsed_sections": [],
   "name": "Node Classification Using GCN.ipynb",
   "provenance": []
  },
  "kernelspec": {
   "display_name": "Python 3 (ipykernel)",
   "language": "python",
   "name": "python3"
  },
  "language_info": {
   "codemirror_mode": {
    "name": "ipython",
    "version": 3
   },
   "file_extension": ".py",
   "mimetype": "text/x-python",
   "name": "python",
   "nbconvert_exporter": "python",
   "pygments_lexer": "ipython3",
   "version": "3.9.7"
  }
 },
 "nbformat": 4,
 "nbformat_minor": 1
}
