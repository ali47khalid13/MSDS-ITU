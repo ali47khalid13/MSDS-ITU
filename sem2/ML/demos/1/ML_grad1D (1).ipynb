{
 "cells": [
  {
   "cell_type": "markdown",
   "metadata": {},
   "source": [
    "## Gradient Descent for Functions of One Variable\n",
    "\n",
    "Consider the function\n",
    "\n",
    "$$f(x) = .1 x^2 + \\sin(.1 (x-2)^2)$$"
   ]
  },
  {
   "cell_type": "markdown",
   "metadata": {},
   "source": [
    "The derivative for that function is\n",
    "\n",
    "$$f'(x) = .2 x+ \\cos(.1 (x-2)^2)(.2(x-2))$$"
   ]
  },
  {
   "cell_type": "markdown",
   "metadata": {},
   "source": [
    "Let's graph the function first:"
   ]
  },
  {
   "cell_type": "code",
   "execution_count": 7,
   "metadata": {},
   "outputs": [],
   "source": [
    "#Needed to display images inline in Jupyter\n",
    "%matplotlib inline  \n",
    "####################################\n",
    "\n",
    "from numpy import *\n",
    "from matplotlib.pyplot import *\n",
    "\n",
    "def f(x):\n",
    "    return .1*x**2 + sin(.1*(x-2)**2)\n",
    "\n",
    "def dfdx(x):\n",
    "    return .2*x+cos(.1*(x-2)**2)*(.2*(x-2))\n"
   ]
  },
  {
   "cell_type": "code",
   "execution_count": 2,
   "metadata": {},
   "outputs": [],
   "source": [
    "# How to check gradient?"
   ]
  },
  {
   "cell_type": "code",
   "execution_count": 8,
   "metadata": {},
   "outputs": [
    {
     "name": "stdout",
     "output_type": "stream",
     "text": [
      "0.40000200000056546\n",
      "0.4\n"
     ]
    }
   ],
   "source": [
    "x = 2\n",
    "h = 0.00001\n",
    "\n",
    "print ((f(x + h) - f(x)) / h)\n",
    "print (dfdx(x))"
   ]
  },
  {
   "cell_type": "code",
   "execution_count": 9,
   "metadata": {},
   "outputs": [
    {
     "data": {
      "image/png": "[encoded data removed]",
      "text/plain": [
       "<Figure size 432x288 with 1 Axes>"
      ]
     },
     "metadata": {
      "needs_background": "light"
     },
     "output_type": "display_data"
    }
   ],
   "source": [
    "x = arange(-10, 10, .1)\n",
    "y = f(x)\n",
    "\n",
    "figure(1)\n",
    "plot(x, y)\n",
    "xlabel(\"x\")\n",
    "ylabel(\"$.1 x^2 + sin(.1 (x-2)^2)$\")\n",
    "show()"
   ]
  },
  {
   "cell_type": "markdown",
   "metadata": {},
   "source": [
    "We can now write the gradient descent algorithm"
   ]
  },
  {
   "cell_type": "code",
   "execution_count": 10,
   "metadata": {},
   "outputs": [],
   "source": [
    "def grad_descent(f, dfdx, init_x, alpha):\n",
    "    EPS = 1e-3\n",
    "    prev_x = init_x-2*EPS\n",
    "    x = init_x\n",
    "    \n",
    "    iter = 0\n",
    "    while abs(x - prev_x) >  EPS:\n",
    "        prev_x = x\n",
    "        x -= alpha*dfdx(x)\n",
    "        \n",
    "        print (\"Iter %d: x = %.2f, f(x) = %.8f\"  % (iter, x, f(x)))\n",
    "        iter += 1\n",
    "        if iter > 1000:\n",
    "            break\n",
    "    \n",
    "    return x"
   ]
  },
  {
   "cell_type": "markdown",
   "metadata": {},
   "source": [
    "Let's try running gradient descent starting from the initial guess of 8."
   ]
  },
  {
   "cell_type": "code",
   "execution_count": 14,
   "metadata": {},
   "outputs": [
    {
     "name": "stdout",
     "output_type": "stream",
     "text": [
      "Iter 0: x = -3.12, f(x) = 1.47103128\n",
      "Iter 1: x = -4.44, f(x) = 1.12585683\n",
      "Iter 2: x = -3.48, f(x) = 1.34952920\n",
      "Iter 3: x = -5.43, f(x) = 2.24836394\n",
      "Iter 4: x = 5.34, f(x) = 3.74399535\n",
      "Iter 5: x = -1.48, f(x) = 1.15234943\n",
      "Iter 6: x = 1.23, f(x) = 0.21096863\n",
      "Iter 7: x = 0.76, f(x) = 0.21053260\n",
      "Iter 8: x = 1.22, f(x) = 0.20977272\n",
      "Iter 9: x = 0.78, f(x) = 0.20938007\n",
      "Iter 10: x = 1.21, f(x) = 0.20871642\n",
      "Iter 11: x = 0.79, f(x) = 0.20836240\n",
      "Iter 12: x = 1.20, f(x) = 0.20778117\n",
      "Iter 13: x = 0.80, f(x) = 0.20746168\n",
      "Iter 14: x = 1.19, f(x) = 0.20695136\n",
      "Iter 15: x = 0.81, f(x) = 0.20666277\n",
      "Iter 16: x = 1.18, f(x) = 0.20621370\n",
      "Iter 17: x = 0.82, f(x) = 0.20595286\n",
      "Iter 18: x = 1.17, f(x) = 0.20555687\n",
      "Iter 19: x = 0.83, f(x) = 0.20532097\n",
      "Iter 20: x = 1.16, f(x) = 0.20497116\n",
      "Iter 21: x = 0.84, f(x) = 0.20475772\n",
      "Iter 22: x = 1.15, f(x) = 0.20444819\n",
      "Iter 23: x = 0.85, f(x) = 0.20425499\n",
      "Iter 24: x = 1.14, f(x) = 0.20398068\n",
      "Iter 25: x = 0.86, f(x) = 0.20380575\n",
      "Iter 26: x = 1.13, f(x) = 0.20356232\n",
      "Iter 27: x = 0.86, f(x) = 0.20340390\n",
      "Iter 28: x = 1.13, f(x) = 0.20318760\n",
      "Iter 29: x = 0.87, f(x) = 0.20304410\n",
      "Iter 30: x = 1.12, f(x) = 0.20285168\n",
      "Iter 31: x = 0.88, f(x) = 0.20272168\n",
      "Iter 32: x = 1.11, f(x) = 0.20255034\n",
      "Iter 33: x = 0.88, f(x) = 0.20243255\n",
      "Iter 34: x = 1.11, f(x) = 0.20227982\n",
      "Iter 35: x = 0.89, f(x) = 0.20217309\n",
      "Iter 36: x = 1.10, f(x) = 0.20203683\n",
      "Iter 37: x = 0.89, f(x) = 0.20194013\n",
      "Iter 38: x = 1.10, f(x) = 0.20181846\n",
      "Iter 39: x = 0.90, f(x) = 0.20173083\n",
      "Iter 40: x = 1.09, f(x) = 0.20162211\n",
      "Iter 41: x = 0.90, f(x) = 0.20154271\n",
      "Iter 42: x = 1.09, f(x) = 0.20144550\n",
      "Iter 43: x = 0.91, f(x) = 0.20137355\n",
      "Iter 44: x = 1.08, f(x) = 0.20128657\n",
      "Iter 45: x = 0.91, f(x) = 0.20122138\n",
      "Iter 46: x = 1.08, f(x) = 0.20114351\n",
      "Iter 47: x = 0.92, f(x) = 0.20108444\n",
      "Iter 48: x = 1.07, f(x) = 0.20101469\n",
      "Iter 49: x = 0.92, f(x) = 0.20096118\n",
      "Iter 50: x = 1.07, f(x) = 0.20089866\n",
      "Iter 51: x = 0.93, f(x) = 0.20085018\n",
      "Iter 52: x = 1.07, f(x) = 0.20079413\n",
      "Iter 53: x = 0.93, f(x) = 0.20075022\n",
      "Iter 54: x = 1.06, f(x) = 0.20069993\n",
      "Iter 55: x = 0.93, f(x) = 0.20066016\n",
      "Iter 56: x = 1.06, f(x) = 0.20061503\n",
      "Iter 57: x = 0.94, f(x) = 0.20057901\n",
      "Iter 58: x = 1.06, f(x) = 0.20053850\n",
      "Iter 59: x = 0.94, f(x) = 0.20050588\n",
      "Iter 60: x = 1.05, f(x) = 0.20046950\n",
      "Iter 61: x = 0.94, f(x) = 0.20043995\n",
      "Iter 62: x = 1.05, f(x) = 0.20040727\n",
      "Iter 63: x = 0.94, f(x) = 0.20038052\n",
      "Iter 64: x = 1.05, f(x) = 0.20035115\n",
      "Iter 65: x = 0.95, f(x) = 0.20032694\n",
      "Iter 66: x = 1.05, f(x) = 0.20030054\n",
      "Iter 67: x = 0.95, f(x) = 0.20027862\n",
      "Iter 68: x = 1.04, f(x) = 0.20025488\n",
      "Iter 69: x = 0.95, f(x) = 0.20023504\n",
      "Iter 70: x = 1.04, f(x) = 0.20021369\n",
      "Iter 71: x = 0.95, f(x) = 0.20019573\n",
      "Iter 72: x = 1.04, f(x) = 0.20017652\n",
      "Iter 73: x = 0.96, f(x) = 0.20016027\n",
      "Iter 74: x = 1.04, f(x) = 0.20014299\n",
      "Iter 75: x = 0.96, f(x) = 0.20012828\n",
      "Iter 76: x = 1.04, f(x) = 0.20011273\n",
      "Iter 77: x = 0.96, f(x) = 0.20009942\n",
      "Iter 78: x = 1.03, f(x) = 0.20008543\n",
      "Iter 79: x = 0.96, f(x) = 0.20007338\n",
      "Iter 80: x = 1.03, f(x) = 0.20006078\n",
      "Iter 81: x = 0.96, f(x) = 0.20004989\n",
      "Iter 82: x = 1.03, f(x) = 0.20003854\n",
      "Iter 83: x = 0.97, f(x) = 0.20002869\n",
      "Iter 84: x = 1.03, f(x) = 0.20001847\n",
      "Iter 85: x = 0.97, f(x) = 0.20000955\n",
      "Iter 86: x = 1.03, f(x) = 0.20000035\n",
      "Iter 87: x = 0.97, f(x) = 0.19999229\n",
      "Iter 88: x = 1.03, f(x) = 0.19998400\n",
      "Iter 89: x = 0.97, f(x) = 0.19997671\n",
      "Iter 90: x = 1.02, f(x) = 0.19996924\n",
      "Iter 91: x = 0.97, f(x) = 0.19996264\n",
      "Iter 92: x = 1.02, f(x) = 0.19995591\n",
      "Iter 93: x = 0.97, f(x) = 0.19994995\n",
      "Iter 94: x = 1.02, f(x) = 0.19994389\n",
      "Iter 95: x = 0.97, f(x) = 0.19993849\n",
      "Iter 96: x = 1.02, f(x) = 0.19993303\n",
      "Iter 97: x = 0.98, f(x) = 0.19992815\n",
      "Iter 98: x = 1.02, f(x) = 0.19992322\n",
      "Iter 99: x = 0.98, f(x) = 0.19991882\n",
      "Iter 100: x = 1.02, f(x) = 0.19991438\n",
      "Iter 101: x = 0.98, f(x) = 0.19991039\n",
      "Iter 102: x = 1.02, f(x) = 0.19990639\n",
      "Iter 103: x = 0.98, f(x) = 0.19990278\n",
      "Iter 104: x = 1.02, f(x) = 0.19989918\n",
      "Iter 105: x = 0.98, f(x) = 0.19989592\n",
      "Iter 106: x = 1.01, f(x) = 0.19989266\n",
      "Iter 107: x = 0.98, f(x) = 0.19988972\n",
      "Iter 108: x = 1.01, f(x) = 0.19988679\n",
      "Iter 109: x = 0.98, f(x) = 0.19988412\n",
      "Iter 110: x = 1.01, f(x) = 0.19988148\n",
      "Iter 111: x = 0.98, f(x) = 0.19987907\n",
      "Iter 112: x = 1.01, f(x) = 0.19987669\n",
      "Iter 113: x = 0.98, f(x) = 0.19987451\n",
      "Iter 114: x = 1.01, f(x) = 0.19987236\n",
      "Iter 115: x = 0.98, f(x) = 0.19987040\n",
      "Iter 116: x = 1.01, f(x) = 0.19986846\n",
      "Iter 117: x = 0.98, f(x) = 0.19986668\n",
      "Iter 118: x = 1.01, f(x) = 0.19986493\n",
      "Iter 119: x = 0.98, f(x) = 0.19986333\n",
      "Iter 120: x = 1.01, f(x) = 0.19986175\n",
      "Iter 121: x = 0.99, f(x) = 0.19986030\n",
      "Iter 122: x = 1.01, f(x) = 0.19985887\n",
      "Iter 123: x = 0.99, f(x) = 0.19985756\n",
      "Iter 124: x = 1.01, f(x) = 0.19985628\n",
      "Iter 125: x = 0.99, f(x) = 0.19985509\n",
      "Iter 126: x = 1.01, f(x) = 0.19985394\n",
      "Iter 127: x = 0.99, f(x) = 0.19985287\n",
      "Iter 128: x = 1.01, f(x) = 0.19985182\n",
      "Iter 129: x = 0.99, f(x) = 0.19985085\n",
      "Iter 130: x = 1.01, f(x) = 0.19984991\n",
      "Iter 131: x = 0.99, f(x) = 0.19984904\n",
      "Iter 132: x = 1.01, f(x) = 0.19984819\n",
      "Iter 133: x = 0.99, f(x) = 0.19984740\n",
      "Iter 134: x = 1.01, f(x) = 0.19984663\n",
      "Iter 135: x = 0.99, f(x) = 0.19984592\n",
      "Iter 136: x = 1.01, f(x) = 0.19984522\n",
      "Iter 137: x = 0.99, f(x) = 0.19984458\n",
      "Iter 138: x = 1.01, f(x) = 0.19984395\n",
      "Iter 139: x = 0.99, f(x) = 0.19984337\n",
      "Iter 140: x = 1.00, f(x) = 0.19984281\n",
      "Iter 141: x = 0.99, f(x) = 0.19984228\n",
      "Iter 142: x = 1.00, f(x) = 0.19984177\n",
      "Iter 143: x = 0.99, f(x) = 0.19984130\n",
      "Iter 144: x = 1.00, f(x) = 0.19984084\n",
      "Iter 145: x = 0.99, f(x) = 0.19984041\n",
      "Iter 146: x = 1.00, f(x) = 0.19984000\n",
      "Iter 147: x = 0.99, f(x) = 0.19983961\n",
      "Iter 148: x = 1.00, f(x) = 0.19983923\n",
      "Iter 149: x = 0.99, f(x) = 0.19983888\n",
      "Iter 150: x = 1.00, f(x) = 0.19983855\n",
      "Iter 151: x = 0.99, f(x) = 0.19983823\n",
      "Iter 152: x = 1.00, f(x) = 0.19983793\n",
      "Iter 153: x = 0.99, f(x) = 0.19983764\n",
      "Iter 154: x = 1.00, f(x) = 0.19983736\n",
      "Iter 155: x = 0.99, f(x) = 0.19983711\n",
      "Iter 156: x = 1.00, f(x) = 0.19983686\n",
      "Iter 157: x = 0.99, f(x) = 0.19983663\n",
      "Iter 158: x = 1.00, f(x) = 0.19983640\n",
      "Iter 159: x = 0.99, f(x) = 0.19983619\n",
      "Iter 160: x = 1.00, f(x) = 0.19983599\n",
      "Iter 161: x = 0.99, f(x) = 0.19983580\n",
      "Iter 162: x = 1.00, f(x) = 0.19983562\n",
      "Iter 163: x = 0.99, f(x) = 0.19983544\n",
      "Iter 164: x = 1.00, f(x) = 0.19983528\n",
      "Iter 165: x = 0.99, f(x) = 0.19983513\n",
      "Iter 166: x = 1.00, f(x) = 0.19983498\n",
      "Iter 167: x = 0.99, f(x) = 0.19983484\n",
      "Iter 168: x = 1.00, f(x) = 0.19983470\n",
      "Iter 169: x = 0.99, f(x) = 0.19983458\n",
      "Iter 170: x = 1.00, f(x) = 0.19983445\n",
      "Iter 171: x = 0.99, f(x) = 0.19983434\n",
      "Iter 172: x = 1.00, f(x) = 0.19983423\n",
      "Iter 173: x = 0.99, f(x) = 0.19983413\n",
      "Iter 174: x = 1.00, f(x) = 0.19983403\n",
      "Iter 175: x = 0.99, f(x) = 0.19983394\n",
      "Iter 176: x = 1.00, f(x) = 0.19983385\n",
      "Iter 177: x = 0.99, f(x) = 0.19983376\n",
      "Iter 178: x = 1.00, f(x) = 0.19983368\n",
      "Iter 179: x = 0.99, f(x) = 0.19983361\n",
      "Iter 180: x = 1.00, f(x) = 0.19983353\n",
      "Iter 181: x = 0.99, f(x) = 0.19983347\n",
      "Iter 182: x = 1.00, f(x) = 0.19983340\n",
      "Iter 183: x = 1.00, f(x) = 0.19983334\n",
      "Iter 184: x = 1.00, f(x) = 0.19983328\n",
      "Iter 185: x = 1.00, f(x) = 0.19983322\n",
      "Iter 186: x = 1.00, f(x) = 0.19983317\n",
      "Iter 187: x = 1.00, f(x) = 0.19983312\n",
      "Iter 188: x = 1.00, f(x) = 0.19983307\n",
      "Iter 189: x = 1.00, f(x) = 0.19983303\n",
      "Iter 190: x = 1.00, f(x) = 0.19983298\n",
      "Iter 191: x = 1.00, f(x) = 0.19983294\n",
      "Iter 192: x = 1.00, f(x) = 0.19983290\n",
      "Iter 193: x = 1.00, f(x) = 0.19983286\n",
      "Iter 194: x = 1.00, f(x) = 0.19983283\n",
      "Iter 195: x = 1.00, f(x) = 0.19983279\n",
      "Iter 196: x = 1.00, f(x) = 0.19983276\n",
      "Iter 197: x = 1.00, f(x) = 0.19983273\n",
      "Iter 198: x = 1.00, f(x) = 0.19983270\n",
      "Iter 199: x = 1.00, f(x) = 0.19983268\n",
      "Iter 200: x = 1.00, f(x) = 0.19983265\n",
      "Iter 201: x = 1.00, f(x) = 0.19983263\n",
      "Iter 202: x = 1.00, f(x) = 0.19983260\n",
      "Iter 203: x = 1.00, f(x) = 0.19983258\n",
      "Iter 204: x = 1.00, f(x) = 0.19983256\n",
      "Iter 205: x = 1.00, f(x) = 0.19983254\n",
      "Iter 206: x = 1.00, f(x) = 0.19983252\n",
      "Iter 207: x = 1.00, f(x) = 0.19983250\n",
      "Iter 208: x = 1.00, f(x) = 0.19983248\n",
      "Iter 209: x = 1.00, f(x) = 0.19983247\n",
      "Iter 210: x = 1.00, f(x) = 0.19983245\n",
      "Iter 211: x = 1.00, f(x) = 0.19983244\n",
      "Iter 212: x = 1.00, f(x) = 0.19983242\n",
      "Iter 213: x = 1.00, f(x) = 0.19983241\n",
      "Iter 214: x = 1.00, f(x) = 0.19983240\n",
      "Iter 215: x = 1.00, f(x) = 0.19983238\n",
      "Iter 216: x = 1.00, f(x) = 0.19983237\n",
      "Iter 217: x = 1.00, f(x) = 0.19983236\n",
      "Iter 218: x = 1.00, f(x) = 0.19983235\n",
      "Iter 219: x = 1.00, f(x) = 0.19983234\n",
      "Iter 220: x = 1.00, f(x) = 0.19983233\n",
      "Iter 221: x = 1.00, f(x) = 0.19983232\n",
      "Iter 222: x = 1.00, f(x) = 0.19983231\n",
      "Iter 223: x = 1.00, f(x) = 0.19983231\n",
      "Iter 224: x = 1.00, f(x) = 0.19983230\n",
      "Iter 225: x = 1.00, f(x) = 0.19983229\n",
      "Iter 226: x = 1.00, f(x) = 0.19983228\n",
      "Iter 227: x = 1.00, f(x) = 0.19983228\n",
      "Iter 228: x = 1.00, f(x) = 0.19983227\n",
      "Iter 229: x = 1.00, f(x) = 0.19983227\n",
      "Iter 230: x = 1.00, f(x) = 0.19983226\n",
      "Iter 231: x = 1.00, f(x) = 0.19983225\n",
      "Iter 232: x = 1.00, f(x) = 0.19983225\n",
      "Iter 233: x = 1.00, f(x) = 0.19983225\n",
      "Iter 234: x = 1.00, f(x) = 0.19983224\n",
      "Iter 235: x = 1.00, f(x) = 0.19983224\n",
      "Iter 236: x = 1.00, f(x) = 0.19983223\n",
      "Iter 237: x = 1.00, f(x) = 0.19983223\n",
      "Iter 238: x = 1.00, f(x) = 0.19983222\n",
      "Iter 239: x = 1.00, f(x) = 0.19983222\n",
      "Iter 240: x = 1.00, f(x) = 0.19983222\n",
      "Iter 241: x = 1.00, f(x) = 0.19983221\n",
      "Iter 242: x = 1.00, f(x) = 0.19983221\n",
      "Iter 243: x = 1.00, f(x) = 0.19983221\n",
      "Iter 244: x = 1.00, f(x) = 0.19983221\n",
      "Iter 245: x = 1.00, f(x) = 0.19983220\n",
      "Iter 246: x = 1.00, f(x) = 0.19983220\n"
     ]
    },
    {
     "data": {
      "text/plain": [
       "0.997960511339129"
      ]
     },
     "execution_count": 14,
     "metadata": {},
     "output_type": "execute_result"
    }
   ],
   "source": [
    "grad_descent(f, dfdx, -10, 5)"
   ]
  },
  {
   "cell_type": "markdown",
   "metadata": {},
   "source": [
    "Let's demonstrate that we could end up in a bad local minimum:"
   ]
  },
  {
   "cell_type": "code",
   "execution_count": 12,
   "metadata": {},
   "outputs": [
    {
     "name": "stdout",
     "output_type": "stream",
     "text": [
      "Iter 0: x = -9.86, f(x) = 10.72445485\n",
      "Iter 1: x = -9.65, f(x) = 10.15546120\n",
      "Iter 2: x = -9.33, f(x) = 8.97870439\n",
      "Iter 3: x = -8.93, f(x) = 7.38225688\n",
      "Iter 4: x = -8.57, f(x) = 6.36281078\n",
      "Iter 5: x = -8.36, f(x) = 6.02562664\n",
      "Iter 6: x = -8.25, f(x) = 5.92208683\n",
      "Iter 7: x = -8.18, f(x) = 5.88458284\n",
      "Iter 8: x = -8.14, f(x) = 5.86899112\n",
      "Iter 9: x = -8.11, f(x) = 5.86187514\n",
      "Iter 10: x = -8.09, f(x) = 5.85841604\n",
      "Iter 11: x = -8.07, f(x) = 5.85665967\n",
      "Iter 12: x = -8.06, f(x) = 5.85574003\n",
      "Iter 13: x = -8.06, f(x) = 5.85524777\n",
      "Iter 14: x = -8.05, f(x) = 5.85498001\n",
      "Iter 15: x = -8.05, f(x) = 5.85483264\n",
      "Iter 16: x = -8.04, f(x) = 5.85475083\n",
      "Iter 17: x = -8.04, f(x) = 5.85470511\n",
      "Iter 18: x = -8.04, f(x) = 5.85467944\n",
      "Iter 19: x = -8.04, f(x) = 5.85466498\n",
      "Iter 20: x = -8.04, f(x) = 5.85465681\n"
     ]
    },
    {
     "data": {
      "text/plain": [
       "-8.036475915977233"
      ]
     },
     "execution_count": 12,
     "metadata": {},
     "output_type": "execute_result"
    }
   ],
   "source": [
    "grad_descent(f, dfdx, -10, 0.1)"
   ]
  },
  {
   "cell_type": "code",
   "execution_count": null,
   "metadata": {
    "collapsed": true
   },
   "outputs": [],
   "source": []
  }
 ],
 "metadata": {
  "kernelspec": {
   "display_name": "Python 3",
   "language": "python",
   "name": "python3"
  },
  "language_info": {
   "codemirror_mode": {
    "name": "ipython",
    "version": 3
   },
   "file_extension": ".py",
   "mimetype": "text/x-python",
   "name": "python",
   "nbconvert_exporter": "python",
   "pygments_lexer": "ipython3",
   "version": "3.8.8"
  }
 },
 "nbformat": 4,
 "nbformat_minor": 1
}
