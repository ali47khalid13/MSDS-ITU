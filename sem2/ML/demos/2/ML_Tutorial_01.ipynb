{
 "cells": [
  {
   "cell_type": "markdown",
   "metadata": {
    "id": "d2R6OghbcSU7"
   },
   "source": [
    "**Sequence of tutorial**\n",
    "1. Getting started with Google Colab\n",
    "2. Loading and normalizing data\n",
    "3. Intializing Neural Network Class\n",
    "4. Initializing loss and optimizer Class\n",
    "5. Training the Model\n",
    "6. Saving and Loading the Model\n",
    "7. Testing the model\n",
    "8. Custom dataset class and dataloaders"
   ]
  },
  {
   "cell_type": "code",
   "execution_count": 1,
   "metadata": {
    "colab": {
     "base_uri": "https://localhost:8080/"
    },
    "id": "tUgWXB4Rq9nP",
    "outputId": "449c2645-18a2-42d0-bb81-8c34f91ea07e"
   },
   "outputs": [
    {
     "name": "stdout",
     "output_type": "stream",
     "text": [
      "Drive already mounted at /content/drive; to attempt to forcibly remount, call drive.mount(\"/content/drive\", force_remount=True).\n"
     ]
    }
   ],
   "source": [
    "from google.colab import drive\n",
    "drive.mount('/content/drive')"
   ]
  },
  {
   "cell_type": "code",
   "execution_count": 2,
   "metadata": {
    "id": "gxvpO1N2uJtu"
   },
   "outputs": [],
   "source": [
    "import zipfile\n",
    "with zipfile.ZipFile('/content/drive/MyDrive/MNIST_Data.zip', 'r') as zip_ref:\n",
    "    zip_ref.extractall('/content/MNIST_Data')"
   ]
  },
  {
   "cell_type": "code",
   "execution_count": 3,
   "metadata": {
    "id": "BGUEpe6mu8go"
   },
   "outputs": [],
   "source": [
    "import torch\n",
    "import torchvision\n",
    "from torchvision import transforms, datasets"
   ]
  },
  {
   "cell_type": "code",
   "execution_count": 4,
   "metadata": {
    "id": "1UoSrFcqvnEl"
   },
   "outputs": [],
   "source": [
    "device = torch.device('cuda' if torch.cuda.is_available() else 'cpu')"
   ]
  },
  {
   "cell_type": "markdown",
   "metadata": {
    "id": "Z6VnEHZyu9Bo"
   },
   "source": [
    "**Load and Normalize MNIST data**"
   ]
  },
  {
   "cell_type": "code",
   "execution_count": 5,
   "metadata": {
    "id": "JEn9ra95rwWu"
   },
   "outputs": [],
   "source": [
    "transform = transforms.Compose([transforms.Grayscale(), \n",
    "                                         transforms.ToTensor(),\n",
    "                                         #transforms.Resize((28,28)), \n",
    "                                         transforms.Normalize(0,0.5)])"
   ]
  },
  {
   "cell_type": "code",
   "execution_count": 37,
   "metadata": {
    "id": "tCZVVespryLn"
   },
   "outputs": [],
   "source": [
    "batch_size = 4\n",
    "train_set = datasets.ImageFolder('/content/MNIST_Data/train', \n",
    "                                 transform=transform)\n",
    "train_loader = torch.utils.data.DataLoader(train_set, batch_size=batch_size, shuffle=True)\n",
    "\n",
    "\n",
    "test_set = datasets.ImageFolder('/content/MNIST_Data/test', \n",
    "                                transform=transform)\n",
    "test_loader = torch.utils.data.DataLoader(test_set, batch_size=batch_size, shuffle=True)"
   ]
  },
  {
   "cell_type": "code",
   "execution_count": 38,
   "metadata": {
    "colab": {
     "base_uri": "https://localhost:8080/"
    },
    "id": "l9ck5zsD2yDr",
    "outputId": "1cd57556-0b54-4e90-c01d-7808410345c8"
   },
   "outputs": [
    {
     "data": {
      "text/plain": [
       "(60000, 10000)"
      ]
     },
     "execution_count": 38,
     "metadata": {},
     "output_type": "execute_result"
    }
   ],
   "source": [
    "len(train_set) , len(test_set)"
   ]
  },
  {
   "cell_type": "code",
   "execution_count": 39,
   "metadata": {
    "colab": {
     "base_uri": "https://localhost:8080/",
     "height": 155
    },
    "id": "7ltzq7g8z-rW",
    "outputId": "8139fa76-3ccf-4dd3-bd69-b4a568f1ef36"
   },
   "outputs": [
    {
     "data": {
      "image/png": "[encoded data removed]",
      "text/plain": [
       "<Figure size 432x288 with 1 Axes>"
      ]
     },
     "metadata": {
      "needs_background": "light"
     },
     "output_type": "display_data"
    },
    {
     "name": "stdout",
     "output_type": "stream",
     "text": [
      "Labels:  tensor([3, 9, 4, 6])\n"
     ]
    }
   ],
   "source": [
    "import matplotlib.pyplot as plt\n",
    "import numpy as np\n",
    "\n",
    "# function to show images\n",
    "def imshow(img):\n",
    "  img = img * 0.5\n",
    "  np_img = img.numpy() \n",
    "  plt.imshow(np.transpose(np_img*255, (1,2,0)).astype(np.uint8))\n",
    "  plt.show()\n",
    "\n",
    "# get some random images\n",
    "dataiter = iter(train_loader)\n",
    "images, labels = dataiter.next()\n",
    "\n",
    "# show images\n",
    "imshow(torchvision.utils.make_grid(images))\n",
    "\n",
    "# show labels\n",
    "print('Labels: ', labels)"
   ]
  },
  {
   "cell_type": "markdown",
   "metadata": {
    "id": "o76Z4v5zzA1g"
   },
   "source": [
    "**Initialize Neural Network**"
   ]
  },
  {
   "cell_type": "code",
   "execution_count": 40,
   "metadata": {
    "id": "1BxM7yaY323F"
   },
   "outputs": [],
   "source": [
    "from torch import nn\n",
    "import torch.nn.functional as F\n",
    "\n",
    "\n",
    "class Net(nn.Module):\n",
    "  def __init__(self):\n",
    "    super().__init__()\n",
    "    self.fc1 = nn.Linear(28*28, 400)\n",
    "    self.fc2 = nn.Linear(400, 120)\n",
    "    self.fc3 = nn.Linear(120, 84)\n",
    "    self.fc4 = nn.Linear(84, 10)\n",
    "\n",
    "\n",
    "  def forward(self, x):\n",
    "    x = torch.flatten(x, 1) # flatten all dimension except batch\n",
    "    x = F.relu(self.fc1(x))\n",
    "    x = F.relu(self.fc2(x))\n",
    "    x = F.relu(self.fc3(x))\n",
    "    x = self.fc4(x)\n",
    "    return x\n",
    "\n",
    "net = Net().to(device)"
   ]
  },
  {
   "cell_type": "code",
   "execution_count": 10,
   "metadata": {
    "colab": {
     "base_uri": "https://localhost:8080/"
    },
    "id": "nXjFnckl63s-",
    "outputId": "2903825c-7e67-4b19-b9ca-93f4874ef69d"
   },
   "outputs": [
    {
     "name": "stdout",
     "output_type": "stream",
     "text": [
      "Net(\n",
      "  (fc1): Linear(in_features=784, out_features=400, bias=True)\n",
      "  (fc2): Linear(in_features=400, out_features=120, bias=True)\n",
      "  (fc3): Linear(in_features=120, out_features=84, bias=True)\n",
      "  (fc4): Linear(in_features=84, out_features=10, bias=True)\n",
      ")\n"
     ]
    }
   ],
   "source": [
    "print(net)"
   ]
  },
  {
   "cell_type": "markdown",
   "metadata": {
    "id": "jkb8vFnlV3Sq"
   },
   "source": [
    "**Training the Model**"
   ]
  },
  {
   "cell_type": "code",
   "execution_count": 11,
   "metadata": {
    "id": "EgAkshJ47EUF"
   },
   "outputs": [],
   "source": [
    "from torch import optim\n",
    "\n",
    "# loss\n",
    "criterion = nn.CrossEntropyLoss()\n",
    "\n",
    "#optimizer\n",
    "optimizer = optim.Adam(net.parameters(), lr=0.001)"
   ]
  },
  {
   "cell_type": "code",
   "execution_count": 70,
   "metadata": {
    "colab": {
     "base_uri": "https://localhost:8080/"
    },
    "id": "00osHbuN--dH",
    "outputId": "5e5e3741-7894-439e-9738-6aaedd60b8cc"
   },
   "outputs": [
    {
     "name": "stdout",
     "output_type": "stream",
     "text": [
      "Epoch [1/4], Step [500/3750], Loss: 0.0024\n",
      "Epoch [1/4], Step [1000/3750], Loss: 0.0031\n",
      "Epoch [1/4], Step [1500/3750], Loss: 0.0192\n",
      "Epoch [1/4], Step [2000/3750], Loss: 0.0267\n",
      "Epoch [1/4], Step [2500/3750], Loss: 0.1610\n",
      "Epoch [1/4], Step [3000/3750], Loss: 0.1365\n",
      "Epoch [1/4], Step [3500/3750], Loss: 0.0019\n",
      "Epoch [2/4], Step [500/3750], Loss: 0.0064\n",
      "Epoch [2/4], Step [1000/3750], Loss: 0.0360\n",
      "Epoch [2/4], Step [1500/3750], Loss: 0.0002\n",
      "Epoch [2/4], Step [2000/3750], Loss: 0.0065\n",
      "Epoch [2/4], Step [2500/3750], Loss: 0.0013\n",
      "Epoch [2/4], Step [3000/3750], Loss: 0.0141\n",
      "Epoch [2/4], Step [3500/3750], Loss: 0.0011\n",
      "Epoch [3/4], Step [500/3750], Loss: 0.0004\n",
      "Epoch [3/4], Step [1000/3750], Loss: 0.0006\n",
      "Epoch [3/4], Step [1500/3750], Loss: 0.0119\n",
      "Epoch [3/4], Step [2000/3750], Loss: 0.0010\n",
      "Epoch [3/4], Step [2500/3750], Loss: 0.0006\n",
      "Epoch [3/4], Step [3000/3750], Loss: 0.0002\n",
      "Epoch [3/4], Step [3500/3750], Loss: 0.0001\n",
      "Epoch [4/4], Step [500/3750], Loss: 0.0002\n",
      "Epoch [4/4], Step [1000/3750], Loss: 0.0153\n",
      "Epoch [4/4], Step [1500/3750], Loss: 0.0001\n",
      "Epoch [4/4], Step [2000/3750], Loss: 0.0024\n",
      "Epoch [4/4], Step [2500/3750], Loss: 0.0186\n",
      "Epoch [4/4], Step [3000/3750], Loss: 0.0012\n",
      "Epoch [4/4], Step [3500/3750], Loss: 0.0700\n"
     ]
    }
   ],
   "source": [
    "total_epochs = 4\n",
    "total_step = len(train_loader)\n",
    "train_loss = []\n",
    "\n",
    "for epoch in range(total_epochs): # iterate over epochs\n",
    "  epoch_loss = 0\n",
    "  for i, data in enumerate(train_loader): # iterate over batches\n",
    "    # get image and labels data is in tuple form (inputs, label)\n",
    "    inputs, labels = data\n",
    "    inputs = inputs.to(device)\n",
    "    labels = labels.to(device)\n",
    "\n",
    "    # Zero-out gradients\n",
    "    optimizer.zero_grad()\n",
    "    # print(inputs.get_device())\n",
    "    # print(labels.get_device())\n",
    "\n",
    "    # # forward + backward + optimize\n",
    "    outputs = net(inputs)\n",
    "    loss = criterion(outputs, labels)\n",
    "    loss.backward()\n",
    "    optimizer.step()\n",
    "    epoch_loss += loss.item()\n",
    "    \n",
    "    if (i+1) % 500 == 0:\n",
    "      print ('Epoch [{}/{}], Step [{}/{}], Loss: {:.4f}' .format(epoch+1, total_epochs, i+1, total_step, loss.item()))\n",
    "  train_loss.append(epoch_loss)\n",
    "  "
   ]
  },
  {
   "cell_type": "code",
   "execution_count": 73,
   "metadata": {
    "colab": {
     "base_uri": "https://localhost:8080/",
     "height": 281
    },
    "id": "Mo04JcbeJaIU",
    "outputId": "2bd3865f-a520-4ef4-f1c8-917409f503b9"
   },
   "outputs": [
    {
     "data": {
      "image/png": "[encoded data removed]",
      "text/plain": [
       "<Figure size 432x288 with 1 Axes>"
      ]
     },
     "metadata": {
      "needs_background": "light"
     },
     "output_type": "display_data"
    }
   ],
   "source": [
    "# epoch vs loss graph\n",
    "\n",
    "plt.plot([1,2,3,4], train_loss)\n",
    "plt.title('Epochs vs Loss')\n",
    "plt.show()"
   ]
  },
  {
   "cell_type": "code",
   "execution_count": 13,
   "metadata": {
    "id": "_J9EE5giBH9W"
   },
   "outputs": [],
   "source": [
    "# save model\n",
    "path = '/content/mnist.pt'\n",
    "torch.save(net.state_dict(), path)"
   ]
  },
  {
   "cell_type": "code",
   "execution_count": 14,
   "metadata": {
    "colab": {
     "base_uri": "https://localhost:8080/"
    },
    "id": "DrBAlcepKfML",
    "outputId": "7881fe0e-5459-44d0-aafa-f5cab1aebb73"
   },
   "outputs": [
    {
     "data": {
      "text/plain": [
       "<All keys matched successfully>"
      ]
     },
     "execution_count": 14,
     "metadata": {},
     "output_type": "execute_result"
    }
   ],
   "source": [
    "# load model\n",
    "net.load_state_dict(torch.load(path))"
   ]
  },
  {
   "cell_type": "markdown",
   "metadata": {
    "id": "cSUEQoUqWA2k"
   },
   "source": [
    "**Testing Model**"
   ]
  },
  {
   "cell_type": "code",
   "execution_count": 44,
   "metadata": {
    "colab": {
     "base_uri": "https://localhost:8080/",
     "height": 155
    },
    "id": "D1C2l6WtHPdf",
    "outputId": "74cb40c2-dddb-48da-fe58-84d9498ea888"
   },
   "outputs": [
    {
     "data": {
      "image/png": "[encoded data removed]",
      "text/plain": [
       "<Figure size 432x288 with 1 Axes>"
      ]
     },
     "metadata": {
      "needs_background": "light"
     },
     "output_type": "display_data"
    },
    {
     "name": "stdout",
     "output_type": "stream",
     "text": [
      "tensor([5, 8, 9, 0])\n"
     ]
    }
   ],
   "source": [
    "# get some random images\n",
    "dataiter = iter(test_loader)\n",
    "images, test_labels = dataiter.next()\n",
    "\n",
    "# show images\n",
    "imshow(torchvision.utils.make_grid(images))\n",
    "\n",
    "# show labels\n",
    "print(test_labels)"
   ]
  },
  {
   "cell_type": "code",
   "execution_count": 45,
   "metadata": {
    "colab": {
     "base_uri": "https://localhost:8080/"
    },
    "id": "QcTpDBhlIBwb",
    "outputId": "591e4d4b-4556-46b2-8566-a0737bdb3ea3"
   },
   "outputs": [
    {
     "data": {
      "text/plain": [
       "torch.Size([4, 10])"
      ]
     },
     "execution_count": 45,
     "metadata": {},
     "output_type": "execute_result"
    }
   ],
   "source": [
    "# test trained model\n",
    "test_out = net(images.to(device))\n",
    "test_out.shape"
   ]
  },
  {
   "cell_type": "code",
   "execution_count": 46,
   "metadata": {
    "colab": {
     "base_uri": "https://localhost:8080/"
    },
    "id": "kEMI6RccIGDy",
    "outputId": "9ba8a631-d377-4a3d-bf87-b817bd90ef42"
   },
   "outputs": [
    {
     "data": {
      "text/plain": [
       "tensor([1, 3, 1, 1], device='cuda:0')"
      ]
     },
     "execution_count": 46,
     "metadata": {},
     "output_type": "execute_result"
    }
   ],
   "source": [
    "# Finding predicted class\n",
    "_, pred = torch.max(test_out, 1) \n",
    "pred"
   ]
  },
  {
   "cell_type": "markdown",
   "metadata": {
    "id": "ye5wt7doKrVh"
   },
   "source": [
    "## Custom Dataset and DataLoader"
   ]
  },
  {
   "cell_type": "code",
   "execution_count": 47,
   "metadata": {
    "id": "WmFFQBcvQpQl"
   },
   "outputs": [],
   "source": [
    "img_dir = '/content/drive/MyDrive/Mnist_subset/imgs'\n",
    "label_file = '/content/drive/MyDrive/Mnist_subset/labels.csv'"
   ]
  },
  {
   "cell_type": "code",
   "execution_count": 48,
   "metadata": {
    "colab": {
     "base_uri": "https://localhost:8080/",
     "height": 206
    },
    "id": "XW61bbBKIeni",
    "outputId": "0c9ad39f-6040-4d2d-9d3b-4e6aed91bc16"
   },
   "outputs": [
    {
     "data": {
      "text/html": [
       "\n",
       "  <div id=\"df-f1c12d52-1439-43a7-88e1-bfb8aa2ec3ce\">\n",
       "    <div class=\"colab-df-container\">\n",
       "      <div>\n",
       "<style scoped>\n",
       "    .dataframe tbody tr th:only-of-type {\n",
       "        vertical-align: middle;\n",
       "    }\n",
       "\n",
       "    .dataframe tbody tr th {\n",
       "        vertical-align: top;\n",
       "    }\n",
       "\n",
       "    .dataframe thead th {\n",
       "        text-align: right;\n",
       "    }\n",
       "</style>\n",
       "<table border=\"1\" class=\"dataframe\">\n",
       "  <thead>\n",
       "    <tr style=\"text-align: right;\">\n",
       "      <th></th>\n",
       "      <th>img</th>\n",
       "      <th>labels</th>\n",
       "    </tr>\n",
       "  </thead>\n",
       "  <tbody>\n",
       "    <tr>\n",
       "      <th>0</th>\n",
       "      <td>4.png</td>\n",
       "      <td>0</td>\n",
       "    </tr>\n",
       "    <tr>\n",
       "      <th>1</th>\n",
       "      <td>6.png</td>\n",
       "      <td>1</td>\n",
       "    </tr>\n",
       "    <tr>\n",
       "      <th>2</th>\n",
       "      <td>11.png</td>\n",
       "      <td>0</td>\n",
       "    </tr>\n",
       "    <tr>\n",
       "      <th>3</th>\n",
       "      <td>14.png</td>\n",
       "      <td>0</td>\n",
       "    </tr>\n",
       "    <tr>\n",
       "      <th>4</th>\n",
       "      <td>15.png</td>\n",
       "      <td>1</td>\n",
       "    </tr>\n",
       "  </tbody>\n",
       "</table>\n",
       "</div>\n",
       "      <button class=\"colab-df-convert\" onclick=\"convertToInteractive('df-f1c12d52-1439-43a7-88e1-bfb8aa2ec3ce')\"\n",
       "              title=\"Convert this dataframe to an interactive table.\"\n",
       "              style=\"display:none;\">\n",
       "        \n",
       "  <svg xmlns=\"http://www.w3.org/2000/svg\" height=\"24px\"viewBox=\"0 0 24 24\"\n",
       "       width=\"24px\">\n",
       "    <path d=\"M0 0h24v24H0V0z\" fill=\"none\"/>\n",
       "    <path d=\"M18.56 5.44l.94 2.06.94-2.06 2.06-.94-2.06-.94-.94-2.06-.94 2.06-2.06.94zm-11 1L8.5 8.5l.94-2.06 2.06-.94-2.06-.94L8.5 2.5l-.94 2.06-2.06.94zm10 10l.94 2.06.94-2.06 2.06-.94-2.06-.94-.94-2.06-.94 2.06-2.06.94z\"/><path d=\"M17.41 7.96l-1.37-1.37c-.4-.4-.92-.59-1.43-.59-.52 0-1.04.2-1.43.59L10.3 9.45l-7.72 7.72c-.78.78-.78 2.05 0 2.83L4 21.41c.39.39.9.59 1.41.59.51 0 1.02-.2 1.41-.59l7.78-7.78 2.81-2.81c.8-.78.8-2.07 0-2.86zM5.41 20L4 18.59l7.72-7.72 1.47 1.35L5.41 20z\"/>\n",
       "  </svg>\n",
       "      </button>\n",
       "      \n",
       "  <style>\n",
       "    .colab-df-container {\n",
       "      display:flex;\n",
       "      flex-wrap:wrap;\n",
       "      gap: 12px;\n",
       "    }\n",
       "\n",
       "    .colab-df-convert {\n",
       "      background-color: #E8F0FE;\n",
       "      border: none;\n",
       "      border-radius: 50%;\n",
       "      cursor: pointer;\n",
       "      display: none;\n",
       "      fill: #1967D2;\n",
       "      height: 32px;\n",
       "      padding: 0 0 0 0;\n",
       "      width: 32px;\n",
       "    }\n",
       "\n",
       "    .colab-df-convert:hover {\n",
       "      background-color: #E2EBFA;\n",
       "      box-shadow: 0px 1px 2px rgba(60, 64, 67, 0.3), 0px 1px 3px 1px rgba(60, 64, 67, 0.15);\n",
       "      fill: #174EA6;\n",
       "    }\n",
       "\n",
       "    [theme=dark] .colab-df-convert {\n",
       "      background-color: #3B4455;\n",
       "      fill: #D2E3FC;\n",
       "    }\n",
       "\n",
       "    [theme=dark] .colab-df-convert:hover {\n",
       "      background-color: #434B5C;\n",
       "      box-shadow: 0px 1px 3px 1px rgba(0, 0, 0, 0.15);\n",
       "      filter: drop-shadow(0px 1px 2px rgba(0, 0, 0, 0.3));\n",
       "      fill: #FFFFFF;\n",
       "    }\n",
       "  </style>\n",
       "\n",
       "      <script>\n",
       "        const buttonEl =\n",
       "          document.querySelector('#df-f1c12d52-1439-43a7-88e1-bfb8aa2ec3ce button.colab-df-convert');\n",
       "        buttonEl.style.display =\n",
       "          google.colab.kernel.accessAllowed ? 'block' : 'none';\n",
       "\n",
       "        async function convertToInteractive(key) {\n",
       "          const element = document.querySelector('#df-f1c12d52-1439-43a7-88e1-bfb8aa2ec3ce');\n",
       "          const dataTable =\n",
       "            await google.colab.kernel.invokeFunction('convertToInteractive',\n",
       "                                                     [key], {});\n",
       "          if (!dataTable) return;\n",
       "\n",
       "          const docLinkHtml = 'Like what you see? Visit the ' +\n",
       "            '<a target=\"_blank\" href=https://colab.research.google.com/notebooks/data_table.ipynb>data table notebook</a>'\n",
       "            + ' to learn more about interactive tables.';\n",
       "          element.innerHTML = '';\n",
       "          dataTable['output_type'] = 'display_data';\n",
       "          await google.colab.output.renderOutput(dataTable, element);\n",
       "          const docLink = document.createElement('div');\n",
       "          docLink.innerHTML = docLinkHtml;\n",
       "          element.appendChild(docLink);\n",
       "        }\n",
       "      </script>\n",
       "    </div>\n",
       "  </div>\n",
       "  "
      ],
      "text/plain": [
       "      img  labels\n",
       "0   4.png       0\n",
       "1   6.png       1\n",
       "2  11.png       0\n",
       "3  14.png       0\n",
       "4  15.png       1"
      ]
     },
     "execution_count": 48,
     "metadata": {},
     "output_type": "execute_result"
    }
   ],
   "source": [
    "import pandas as pd\n",
    "\n",
    "# reading label file\n",
    "df = pd.read_csv(label_file)\n",
    "df.head()"
   ]
  },
  {
   "cell_type": "code",
   "execution_count": 49,
   "metadata": {
    "id": "Nhrxwqp4NxJ0"
   },
   "outputs": [],
   "source": [
    "import os\n",
    "\n",
    "# create directories\n",
    "os.makedirs('data', exist_ok=True)\n",
    "for i in range(10):\n",
    "  \n",
    "  os.makedirs(os.path.join('data', str(i)), exist_ok=True)"
   ]
  },
  {
   "cell_type": "code",
   "execution_count": 50,
   "metadata": {
    "id": "JiPrtn_-Oa1i"
   },
   "outputs": [],
   "source": [
    "import cv2\n",
    "\n",
    "for i in range(10):\n",
    "  # find imgs belonging to class i\n",
    "  id_df = df.loc[df.labels == i]\n",
    "\n",
    "  # create image list\n",
    "  img_list = id_df.img.to_list()\n",
    "  \n",
    "  for img in img_list:\n",
    "    # reading img\n",
    "    image = cv2.imread(os.path.join(img_dir,img))\n",
    "\n",
    "    # saving image in the relevant directory\n",
    "    cv2.imwrite(os.path.join('data',str(i),img), image)"
   ]
  },
  {
   "cell_type": "code",
   "execution_count": 51,
   "metadata": {
    "id": "rHKG5qgSPCzs"
   },
   "outputs": [],
   "source": [
    "from torch.utils.data import Dataset\n",
    "import PIL\n",
    "\n",
    "class Custom_Dataset(Dataset):\n",
    "  def __init__(self, csv_file, img_dir, transform=None): \n",
    "    # Run once\n",
    "    self.img_labels = pd.read_csv(csv_file)\n",
    "    self.transform = transform\n",
    "    self.img_dir = img_dir\n",
    "    \n",
    "\n",
    "  def __len__(self):\n",
    "    # return the number of samples in dataset\n",
    "    return len(self.img_labels)\n",
    "\n",
    "  def __getitem__(self, idx):\n",
    "    # loads and returns a sample from the dataset at the given index\n",
    "    img_path = os.path.join(self.img_dir ,self.img_labels.iloc[idx, 0])\n",
    "    image = PIL.Image.open(img_path)\n",
    "    label = torch.tensor(self.img_labels.iloc[idx, 1])\n",
    "    \n",
    "    if self.transform:\n",
    "      image = self.transform(image)\n",
    "        \n",
    "    return image, label"
   ]
  },
  {
   "cell_type": "code",
   "execution_count": 54,
   "metadata": {
    "id": "qKADeor4QfGL"
   },
   "outputs": [],
   "source": [
    "# creating dataset object\n",
    "dataset = Custom_Dataset(csv_file=label_file, img_dir=img_dir, transform=transform)\n",
    "\n",
    "# creating dataset iterator\n",
    "data_loader = torch.utils.data.DataLoader(dataset, batch_size=batch_size, shuffle=True)"
   ]
  },
  {
   "cell_type": "code",
   "execution_count": 55,
   "metadata": {
    "colab": {
     "base_uri": "https://localhost:8080/",
     "height": 155
    },
    "id": "DQ9lapm4Qz93",
    "outputId": "88d54030-f1f3-4195-8f95-39bcc3bb2f5c"
   },
   "outputs": [
    {
     "data": {
      "image/png": "[encoded data removed]",
      "text/plain": [
       "<Figure size 432x288 with 1 Axes>"
      ]
     },
     "metadata": {
      "needs_background": "light"
     },
     "output_type": "display_data"
    },
    {
     "name": "stdout",
     "output_type": "stream",
     "text": [
      "Labels: tensor([4, 3, 0, 2])\n"
     ]
    }
   ],
   "source": [
    "# get some random images\n",
    "dataiter = iter(data_loader)\n",
    "images, labels = dataiter.next()\n",
    "\n",
    "# show images\n",
    "imshow(torchvision.utils.make_grid(images))\n",
    "\n",
    "# show labels\n",
    "print('Labels:', labels)"
   ]
  },
  {
   "cell_type": "code",
   "execution_count": null,
   "metadata": {
    "id": "XisJeGikQ1-F"
   },
   "outputs": [],
   "source": []
  }
 ],
 "metadata": {
  "accelerator": "GPU",
  "colab": {
   "name": "ML_Tutorial_01.ipynb",
   "provenance": []
  },
  "kernelspec": {
   "display_name": "Python 3 (ipykernel)",
   "language": "python",
   "name": "python3"
  },
  "language_info": {
   "codemirror_mode": {
    "name": "ipython",
    "version": 3
   },
   "file_extension": ".py",
   "mimetype": "text/x-python",
   "name": "python",
   "nbconvert_exporter": "python",
   "pygments_lexer": "ipython3",
   "version": "3.9.7"
  }
 },
 "nbformat": 4,
 "nbformat_minor": 1
}
