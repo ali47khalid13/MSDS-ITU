{
 "cells": [
  {
   "cell_type": "markdown",
   "metadata": {
    "id": "VwfY80NL181s"
   },
   "source": [
    "## **Mount drive** "
   ]
  },
  {
   "cell_type": "code",
   "execution_count": 1,
   "metadata": {
    "colab": {
     "base_uri": "https://localhost:8080/"
    },
    "executionInfo": {
     "elapsed": 3780,
     "status": "ok",
     "timestamp": 1651918531745,
     "user": {
      "displayName": "Ali Khalid",
      "userId": "10809480287003355230"
     },
     "user_tz": -300
    },
    "id": "nW2b5YTzy3pZ",
    "outputId": "1bd8212a-b528-4598-ba31-165f6d25acfd"
   },
   "outputs": [
    {
     "name": "stdout",
     "output_type": "stream",
     "text": [
      "Drive already mounted at /content/drive; to attempt to forcibly remount, call drive.mount(\"/content/drive\", force_remount=True).\n"
     ]
    }
   ],
   "source": [
    "from google.colab import drive\n",
    "drive.mount('/content/drive')"
   ]
  },
  {
   "cell_type": "code",
   "execution_count": 6,
   "metadata": {
    "colab": {
     "base_uri": "https://localhost:8080/"
    },
    "executionInfo": {
     "elapsed": 10,
     "status": "ok",
     "timestamp": 1651918531746,
     "user": {
      "displayName": "Ali Khalid",
      "userId": "10809480287003355230"
     },
     "user_tz": -300
    },
    "id": "7Fb8qdNY6qmh",
    "outputId": "39efa94e-9b59-4f44-fe6d-742e221cb996"
   },
   "outputs": [
    {
     "name": "stdout",
     "output_type": "stream",
     "text": [
      "[WinError 3] The system cannot find the path specified: '/content/drive/MyDrive/ITU/ML/Assignment2'\n",
      "D:\\ITU\\sem2\\ML\\assignmnets\\2\n"
     ]
    }
   ],
   "source": [
    "cd /content/drive/MyDrive/ITU/ML/Assignment2"
   ]
  },
  {
   "cell_type": "markdown",
   "metadata": {
    "id": "ZTuVp7pI2Fg8"
   },
   "source": [
    "## **Unzip Dataset**"
   ]
  },
  {
   "cell_type": "code",
   "execution_count": 19,
   "metadata": {
    "executionInfo": {
     "elapsed": 1457463,
     "status": "ok",
     "timestamp": 1651869717418,
     "user": {
      "displayName": "Ali Khalid",
      "userId": "10809480287003355230"
     },
     "user_tz": -300
    },
    "id": "z1ux1w-U2InQ"
   },
   "outputs": [],
   "source": [
    "import zipfile\n",
    "with zipfile.ZipFile('CelebA.zip', 'r') as zip_ref:\n",
    "    zip_ref.extractall('CelebA')\n",
    "\n",
    "with zipfile.ZipFile('CelebA/CelebA/Img/img_align_celeba.zip', 'r') as zip_ref:\n",
    "    zip_ref.extractall('/CelebA/CelebA/Img')"
   ]
  },
  {
   "cell_type": "markdown",
   "metadata": {
    "id": "5-5VWruMtjA4"
   },
   "source": [
    "## **Import Libraries**"
   ]
  },
  {
   "cell_type": "code",
   "execution_count": 1,
   "metadata": {
    "executionInfo": {
     "elapsed": 3045,
     "status": "ok",
     "timestamp": 1651918749921,
     "user": {
      "displayName": "Ali Khalid",
      "userId": "10809480287003355230"
     },
     "user_tz": -300
    },
    "id": "YOrsQs3przvi"
   },
   "outputs": [],
   "source": [
    "import pandas as pd \n",
    "import os\n",
    "import cv2\n",
    "\n",
    "import numpy as np\n",
    "import torch\n",
    "import torchvision\n",
    "from torch import nn\n",
    "from torchvision import transforms, datasets"
   ]
  },
  {
   "cell_type": "code",
   "execution_count": 2,
   "metadata": {
    "colab": {
     "base_uri": "https://localhost:8080/"
    },
    "executionInfo": {
     "elapsed": 9,
     "status": "ok",
     "timestamp": 1651918587195,
     "user": {
      "displayName": "Ali Khalid",
      "userId": "10809480287003355230"
     },
     "user_tz": -300
    },
    "id": "D8ZOVQkkdMvS",
    "outputId": "3619a9bc-5fbe-4f55-ce2d-573c0e3344f0"
   },
   "outputs": [
    {
     "name": "stdout",
     "output_type": "stream",
     "text": [
      "cpu\n"
     ]
    }
   ],
   "source": [
    "device = torch.device('cuda' if torch.cuda.is_available() else 'cpu')\n",
    "print(device)"
   ]
  },
  {
   "cell_type": "markdown",
   "metadata": {
    "id": "gLBCZshD33oh"
   },
   "source": [
    "## **Preparing Dataset for task 1**"
   ]
  },
  {
   "cell_type": "markdown",
   "metadata": {
    "id": "MYMwW4MD6MMy"
   },
   "source": [
    "**Data Preprocessing: Selecting 120 unique identities**"
   ]
  },
  {
   "cell_type": "code",
   "execution_count": 8,
   "metadata": {
    "id": "NF3M2PUc6Lh3"
   },
   "outputs": [],
   "source": [
    "# specify paths \n",
    "label_file = '..\\CelebA\\Anno\\identity_CelebA.txt'\n",
    "img_dir = '..\\CelebA\\Img\\img_align_celeba\\img_align_celeba'\n",
    "output_dir = '..\\\\task1_data'\n",
    "\n",
    "# load labels file\n",
    "data= pd.read_csv(label_file, sep=' ', header=None, names=['img', 'id'])\n",
    "\n",
    "# mean_value of images for each label\n",
    "mean_count = data['id'].value_counts().mean()\n",
    "\n",
    "# selecting 120 unique entries having examples more than mean_count\n",
    "selected_ids = [id for id,count in data['id'].value_counts().items() if count>mean_count][0:120]\n",
    "\n",
    "# selecting images of selected_ids and creating a new dataset for this task\n",
    "\n",
    "\n",
    "os.makedirs(output_dir, exist_ok=True)\n",
    "for i in selected_ids: \n",
    "    os.makedirs(os.path.join(output_dir, str(i)), exist_ok=True)\n",
    "\n",
    "for i in selected_ids:\n",
    "    # find imgs belonging to class i\n",
    "    id_df = data.loc[data.id == i]\n",
    "\n",
    "    # create image list\n",
    "    img_list = id_df.img.to_list()\n",
    "  \n",
    "    for img in img_list:\n",
    "        # reading img\n",
    "        image = cv2.imread(os.path.join(img_dir,img))\n",
    "\n",
    "        # saving image in the relevant directory\n",
    "        cv2.imwrite(os.path.join(output_dir,str(i),img), image)"
   ]
  },
  {
   "cell_type": "markdown",
   "metadata": {
    "id": "xImxLDAU-XOm"
   },
   "source": [
    "**Data Loading: Spliting into test train and validation**"
   ]
  },
  {
   "cell_type": "code",
   "execution_count": 3,
   "metadata": {
    "executionInfo": {
     "elapsed": 579,
     "status": "ok",
     "timestamp": 1651918251610,
     "user": {
      "displayName": "Ali Khalid",
      "userId": "10809480287003355230"
     },
     "user_tz": -300
    },
    "id": "o7JasRaVQLBW"
   },
   "outputs": [],
   "source": [
    "def load_dataset(dataset_path,train_size, validation_size, test_size, batch_size):\n",
    "\n",
    "    transform = transforms.Compose([#transforms.Grayscale(), \n",
    "                                         transforms.ToTensor(),\n",
    "                                         #transforms.Resize((28,28)), \n",
    "                                         transforms.Normalize([0,0,0],[0.5, 0.5, 0.5])\n",
    "                                         ])\n",
    "    # read dataset\n",
    "    dataset = datasets.ImageFolder(dataset_path, transform=transform)\n",
    "\n",
    "    # specify sizes\n",
    "    train_set_size = int(len(dataset) * train_size)\n",
    "    test_set_size = int(len(dataset) * test_size)\n",
    "    val_set_size = len(dataset) - train_set_size - test_set_size\n",
    "\n",
    "    # split data\n",
    "    train_data, val_data, test_data = torch.utils.data.random_split(dataset, [train_set_size,val_set_size,test_set_size])\n",
    "\n",
    "    # create dataloader for each data (test,train,val)\n",
    "    train_data_loader = torch.utils.data.DataLoader(train_data, batch_size=batch_size, shuffle=True)\n",
    "    val_data_loader = torch.utils.data.DataLoader(val_data, batch_size=batch_size, shuffle=True)\n",
    "    test_data_loader = torch.utils.data.DataLoader(test_data, batch_size=batch_size, shuffle=True)\n",
    "    #return test_data\n",
    "    return train_data_loader, val_data_loader, test_data_loader"
   ]
  },
  {
   "cell_type": "code",
   "execution_count": 4,
   "metadata": {
    "colab": {
     "base_uri": "https://localhost:8080/",
     "height": 398
    },
    "executionInfo": {
     "elapsed": 580,
     "status": "error",
     "timestamp": 1651918321207,
     "user": {
      "displayName": "Ali Khalid",
      "userId": "10809480287003355230"
     },
     "user_tz": -300
    },
    "id": "yiTxJ9SLYaa0",
    "outputId": "48ac96f1-68bf-4f1e-b6df-685fa9453ed8"
   },
   "outputs": [],
   "source": [
    "train_data_loader, val_data_loader, test_data_loader =  load_dataset('..\\\\task1_data',0.7,0.15,0.15, 16)"
   ]
  },
  {
   "cell_type": "markdown",
   "metadata": {
    "id": "nKBtkDmfaolk"
   },
   "source": [
    "## **Creating Model**"
   ]
  },
  {
   "cell_type": "code",
   "execution_count": 5,
   "metadata": {
    "executionInfo": {
     "elapsed": 1039,
     "status": "ok",
     "timestamp": 1651880604706,
     "user": {
      "displayName": "Ali Khalid",
      "userId": "10809480287003355230"
     },
     "user_tz": -300
    },
    "id": "ys55GWVAatBt"
   },
   "outputs": [],
   "source": [
    "from torch import nn\n",
    "import torch.nn.functional as F\n",
    "from torch import optim\n",
    "\n",
    "\n",
    "## image size = 3x 218 x178\n",
    "class Net(nn.Module):\n",
    "    def __init__(self):\n",
    "        super().__init__()\n",
    "        self.cnn_layers = nn.Sequential(\n",
    "            # Defining a 2D convolution layer\n",
    "            nn.Conv2d(3, 8, kernel_size=3, stride=1, padding=1),\n",
    "            nn.BatchNorm2d(8),\n",
    "            nn.ReLU(inplace=True),\n",
    "            nn.MaxPool2d(kernel_size=2, stride=2),\n",
    "            # Defining another 2D convolution layer\n",
    "            nn.Conv2d(8, 16, kernel_size=3, stride=1, padding=1),\n",
    "            nn.BatchNorm2d(16),\n",
    "            nn.ReLU(inplace=True),\n",
    "            nn.MaxPool2d(kernel_size=2, stride=2),\n",
    "        )\n",
    "\n",
    "        self.linear_layers = nn.Sequential(\n",
    "            nn.Linear(16 * 54 * 44, 120)\n",
    "        )\n",
    "\n",
    "    def forward(self, x):\n",
    "        x = self.cnn_layers(x)\n",
    "        x = x.view(x.size(0), -1)\n",
    "        x = self.linear_layers(x)\n",
    "        return x\n",
    "\n",
    "# model\n",
    "net = Net().to(device)"
   ]
  },
  {
   "cell_type": "markdown",
   "metadata": {
    "id": "rPhzrua7hZrv"
   },
   "source": [
    "## Training Model"
   ]
  },
  {
   "cell_type": "code",
   "execution_count": 68,
   "metadata": {
    "executionInfo": {
     "elapsed": 469,
     "status": "ok",
     "timestamp": 1651880690535,
     "user": {
      "displayName": "Ali Khalid",
      "userId": "10809480287003355230"
     },
     "user_tz": -300
    },
    "id": "ovdn0w0qhfSW"
   },
   "outputs": [],
   "source": [
    "def train(epochs, train_data_loader, val_data_loader, loss_func, optimizer, learning_rate):\n",
    "    optimizer1 = optimizer(net.parameters(), lr=learning_rate)\n",
    "    train_step = len(train_data_loader)\n",
    "    val_step = len(val_data_loader)\n",
    "    train_loss = []\n",
    "    train_acc = []\n",
    "    val_loss = []\n",
    "    val_acc = []\n",
    "    early_stoping_flag = 0\n",
    "    learning_rate_decay_flag = 0\n",
    "    EPS = 1e-2\n",
    "\n",
    "    for epoch in range(epochs): # iterate over epochs\n",
    "        if epoch >=2:\n",
    "            if train_loss[-2] - train_loss[-1] <EPS:\n",
    "                learning_rate_decay_flag+=1\n",
    "            else:\n",
    "                learning_rate_decay_flag =0\n",
    "#             if val_loss[-1] - val_loss[-2] >EPS and train_loss[-2] - train_loss[-1] >EPS :\n",
    "#                 early_stoping_flag+=1\n",
    "#             else:\n",
    "#                 early_stoping_flag =0\n",
    "        \n",
    "        if learning_rate_decay_flag >=3:\n",
    "            learning_rate = learning_rate/10\n",
    "            optimizer1 = optimizer(net.parameters(), lr=learning_rate)\n",
    "            learning_rate_decay_flag =0\n",
    "        \n",
    "#         if early_stoping_flag >=3:\n",
    "#             return train_loss, train_acc, val_loss, val_acc\n",
    "\n",
    "        t_loss = 0\n",
    "        t_acc = 0 \n",
    "        for i, data in enumerate(train_data_loader): # iterate over batches\n",
    "            # get image and labels data is in tuple form (inputs, label)\n",
    "            inputs, labels = data\n",
    "            inputs = inputs.to(device)\n",
    "            labels = labels.to(device)\n",
    "\n",
    "            # Zero-out gradients\n",
    "            optimizer1.zero_grad()\n",
    "\n",
    "            # forward + backward + optimize\n",
    "            outputs = net(inputs)\n",
    "            _, pred = torch.max(outputs, 1)\n",
    "            loss = loss_func(outputs, labels)\n",
    "            loss.backward()\n",
    "            optimizer1.step()\n",
    "            t_loss += loss.item()\n",
    "            t_acc += torch.sum(pred == labels)/len(labels)\n",
    "\n",
    "            if (i+1) % 10 == 0:\n",
    "                print ('Epoch [{}/{}], Step [{}/{}], Loss: {:.4f}' .format(epoch+1, epochs, i+1, train_step, loss.item()))\n",
    "    \n",
    "        v_loss = 0\n",
    "        v_acc = 0\n",
    "        for i, data in enumerate(val_data_loader): # iterate over batches\n",
    "            # get image and labels data is in tuple form (inputs, label)\n",
    "            inputs, labels = data\n",
    "            inputs = inputs.to(device)\n",
    "            labels = labels.to(device)\n",
    "            outputs = net(inputs)\n",
    "            _, pred = torch.max(outputs, 1)\n",
    "            loss = loss_func(outputs, labels)\n",
    "            v_loss += loss.item()\n",
    "            v_acc += torch.sum(pred == labels)/len(labels)\n",
    "     \n",
    "        train_loss.append(t_loss/train_step)\n",
    "        train_acc.append(t_acc/train_step)\n",
    "        val_loss.append(v_loss/val_step)\n",
    "        val_acc.append(v_acc/val_step)\n",
    "        print ('Epoch [{}/{}], train_loss: {:.4f}, val_loss: {:.4f}' .format(epoch+1, epochs, train_loss[-1], val_loss[-1]))\n",
    "    return train_loss, train_acc, val_loss, val_acc"
   ]
  },
  {
   "cell_type": "code",
   "execution_count": 9,
   "metadata": {},
   "outputs": [
    {
     "data": {
      "text/plain": [
       "<All keys matched successfully>"
      ]
     },
     "execution_count": 9,
     "metadata": {},
     "output_type": "execute_result"
    }
   ],
   "source": [
    "path = '../saved_models/task1/epoch10_0.001/task1.pt'\n",
    "net = Net().to(device)\n",
    "net.load_state_dict(torch.load(path))"
   ]
  },
  {
   "cell_type": "code",
   "execution_count": 69,
   "metadata": {
    "colab": {
     "base_uri": "https://localhost:8080/",
     "height": 433
    },
    "executionInfo": {
     "elapsed": 106559,
     "status": "error",
     "timestamp": 1651881065083,
     "user": {
      "displayName": "Ali Khalid",
      "userId": "10809480287003355230"
     },
     "user_tz": -300
    },
    "id": "pN0Nkf8Fh8fg",
    "outputId": "2f748680-34a9-46cf-e93f-370e7bcc611a"
   },
   "outputs": [
    {
     "name": "stdout",
     "output_type": "stream",
     "text": [
      "Epoch [1/20], Step [10/160], Loss: 0.6386\n",
      "Epoch [1/20], Step [20/160], Loss: 0.6409\n",
      "Epoch [1/20], Step [30/160], Loss: 0.2338\n",
      "Epoch [1/20], Step [40/160], Loss: 0.4644\n",
      "Epoch [1/20], Step [50/160], Loss: 0.1191\n",
      "Epoch [1/20], Step [60/160], Loss: 0.1610\n",
      "Epoch [1/20], Step [70/160], Loss: 0.2020\n",
      "Epoch [1/20], Step [80/160], Loss: 0.2909\n",
      "Epoch [1/20], Step [90/160], Loss: 0.1277\n",
      "Epoch [1/20], Step [100/160], Loss: 0.2055\n",
      "Epoch [1/20], Step [110/160], Loss: 0.1949\n",
      "Epoch [1/20], Step [120/160], Loss: 0.1448\n",
      "Epoch [1/20], Step [130/160], Loss: 0.1885\n",
      "Epoch [1/20], Step [140/160], Loss: 0.3675\n",
      "Epoch [1/20], Step [150/160], Loss: 0.3333\n",
      "Epoch [1/20], Step [160/160], Loss: 0.3197\n",
      "Epoch [1/20], train_loss: 0.3509, val_loss: 4.1603\n",
      "Epoch [2/20], Step [10/160], Loss: 0.4645\n",
      "Epoch [2/20], Step [20/160], Loss: 0.2547\n",
      "Epoch [2/20], Step [30/160], Loss: 0.0140\n",
      "Epoch [2/20], Step [40/160], Loss: 0.0237\n",
      "Epoch [2/20], Step [50/160], Loss: 0.0328\n",
      "Epoch [2/20], Step [60/160], Loss: 0.0180\n",
      "Epoch [2/20], Step [70/160], Loss: 0.0221\n",
      "Epoch [2/20], Step [80/160], Loss: 0.0557\n",
      "Epoch [2/20], Step [90/160], Loss: 0.2359\n",
      "Epoch [2/20], Step [100/160], Loss: 0.0185\n",
      "Epoch [2/20], Step [110/160], Loss: 0.0171\n",
      "Epoch [2/20], Step [120/160], Loss: 0.0647\n",
      "Epoch [2/20], Step [130/160], Loss: 0.0910\n",
      "Epoch [2/20], Step [140/160], Loss: 0.1387\n",
      "Epoch [2/20], Step [150/160], Loss: 0.3307\n",
      "Epoch [2/20], Step [160/160], Loss: 0.0265\n",
      "Epoch [2/20], train_loss: 0.0690, val_loss: 3.8313\n",
      "Epoch [3/20], Step [10/160], Loss: 0.0905\n",
      "Epoch [3/20], Step [20/160], Loss: 0.1314\n",
      "Epoch [3/20], Step [30/160], Loss: 0.0193\n",
      "Epoch [3/20], Step [40/160], Loss: 0.0167\n",
      "Epoch [3/20], Step [50/160], Loss: 0.1065\n",
      "Epoch [3/20], Step [60/160], Loss: 0.0017\n",
      "Epoch [3/20], Step [70/160], Loss: 0.0020\n",
      "Epoch [3/20], Step [80/160], Loss: 0.0082\n",
      "Epoch [3/20], Step [90/160], Loss: 0.0881\n",
      "Epoch [3/20], Step [100/160], Loss: 0.0108\n",
      "Epoch [3/20], Step [110/160], Loss: 0.0125\n",
      "Epoch [3/20], Step [120/160], Loss: 0.0053\n",
      "Epoch [3/20], Step [130/160], Loss: 0.0275\n",
      "Epoch [3/20], Step [140/160], Loss: 0.0098\n",
      "Epoch [3/20], Step [150/160], Loss: 0.0039\n",
      "Epoch [3/20], Step [160/160], Loss: 0.0015\n",
      "Epoch [3/20], train_loss: 0.0259, val_loss: 3.2694\n",
      "Epoch [4/20], Step [10/160], Loss: 0.0030\n",
      "Epoch [4/20], Step [20/160], Loss: 0.0031\n",
      "Epoch [4/20], Step [30/160], Loss: 0.0038\n",
      "Epoch [4/20], Step [40/160], Loss: 0.0020\n",
      "Epoch [4/20], Step [50/160], Loss: 0.0013\n",
      "Epoch [4/20], Step [60/160], Loss: 0.0060\n",
      "Epoch [4/20], Step [70/160], Loss: 0.0015\n",
      "Epoch [4/20], Step [80/160], Loss: 0.0044\n",
      "Epoch [4/20], Step [90/160], Loss: 0.0030\n",
      "Epoch [4/20], Step [100/160], Loss: 0.0050\n",
      "Epoch [4/20], Step [110/160], Loss: 0.0027\n",
      "Epoch [4/20], Step [120/160], Loss: 0.0029\n",
      "Epoch [4/20], Step [130/160], Loss: 0.0025\n",
      "Epoch [4/20], Step [140/160], Loss: 0.0027\n",
      "Epoch [4/20], Step [150/160], Loss: 0.0025\n",
      "Epoch [4/20], Step [160/160], Loss: 0.0389\n",
      "Epoch [4/20], train_loss: 0.0033, val_loss: 3.1443\n",
      "Epoch [5/20], Step [10/160], Loss: 0.0031\n",
      "Epoch [5/20], Step [20/160], Loss: 0.0017\n",
      "Epoch [5/20], Step [30/160], Loss: 0.0040\n",
      "Epoch [5/20], Step [40/160], Loss: 0.0020\n",
      "Epoch [5/20], Step [50/160], Loss: 0.0016\n",
      "Epoch [5/20], Step [60/160], Loss: 0.0024\n",
      "Epoch [5/20], Step [70/160], Loss: 0.0016\n",
      "Epoch [5/20], Step [80/160], Loss: 0.0007\n",
      "Epoch [5/20], Step [90/160], Loss: 0.0009\n",
      "Epoch [5/20], Step [100/160], Loss: 0.0043\n",
      "Epoch [5/20], Step [110/160], Loss: 0.0025\n",
      "Epoch [5/20], Step [120/160], Loss: 0.0025\n",
      "Epoch [5/20], Step [130/160], Loss: 0.0027\n",
      "Epoch [5/20], Step [140/160], Loss: 0.0023\n",
      "Epoch [5/20], Step [150/160], Loss: 0.0012\n",
      "Epoch [5/20], Step [160/160], Loss: 0.0038\n",
      "Epoch [5/20], train_loss: 0.0053, val_loss: 3.1226\n",
      "Epoch [6/20], Step [10/160], Loss: 0.0013\n",
      "Epoch [6/20], Step [20/160], Loss: 0.0017\n",
      "Epoch [6/20], Step [30/160], Loss: 0.0014\n",
      "Epoch [6/20], Step [40/160], Loss: 0.0024\n",
      "Epoch [6/20], Step [50/160], Loss: 0.0018\n",
      "Epoch [6/20], Step [60/160], Loss: 0.0013\n",
      "Epoch [6/20], Step [70/160], Loss: 0.0016\n",
      "Epoch [6/20], Step [80/160], Loss: 0.0006\n",
      "Epoch [6/20], Step [90/160], Loss: 0.0009\n",
      "Epoch [6/20], Step [100/160], Loss: 0.0015\n",
      "Epoch [6/20], Step [110/160], Loss: 0.0034\n",
      "Epoch [6/20], Step [120/160], Loss: 0.0013\n",
      "Epoch [6/20], Step [130/160], Loss: 0.0005\n",
      "Epoch [6/20], Step [140/160], Loss: 0.0018\n",
      "Epoch [6/20], Step [150/160], Loss: 0.0010\n",
      "Epoch [6/20], Step [160/160], Loss: 0.0018\n",
      "Epoch [6/20], train_loss: 0.0017, val_loss: 3.2187\n",
      "Epoch [7/20], Step [10/160], Loss: 0.0012\n",
      "Epoch [7/20], Step [20/160], Loss: 0.0027\n",
      "Epoch [7/20], Step [30/160], Loss: 0.0009\n",
      "Epoch [7/20], Step [40/160], Loss: 0.0034\n",
      "Epoch [7/20], Step [50/160], Loss: 0.0011\n",
      "Epoch [7/20], Step [60/160], Loss: 0.0019\n",
      "Epoch [7/20], Step [70/160], Loss: 0.0012\n",
      "Epoch [7/20], Step [80/160], Loss: 0.0008\n",
      "Epoch [7/20], Step [90/160], Loss: 0.0025\n",
      "Epoch [7/20], Step [100/160], Loss: 0.0012\n",
      "Epoch [7/20], Step [110/160], Loss: 0.0015\n",
      "Epoch [7/20], Step [120/160], Loss: 0.0012\n",
      "Epoch [7/20], Step [130/160], Loss: 0.0018\n",
      "Epoch [7/20], Step [140/160], Loss: 0.0016\n",
      "Epoch [7/20], Step [150/160], Loss: 0.0020\n",
      "Epoch [7/20], Step [160/160], Loss: 0.0019\n",
      "Epoch [7/20], train_loss: 0.0014, val_loss: 3.1641\n",
      "Epoch [8/20], Step [10/160], Loss: 0.0015\n",
      "Epoch [8/20], Step [20/160], Loss: 0.0008\n",
      "Epoch [8/20], Step [30/160], Loss: 0.0016\n",
      "Epoch [8/20], Step [40/160], Loss: 0.0010\n",
      "Epoch [8/20], Step [50/160], Loss: 0.0008\n",
      "Epoch [8/20], Step [60/160], Loss: 0.0010\n",
      "Epoch [8/20], Step [70/160], Loss: 0.0017\n",
      "Epoch [8/20], Step [80/160], Loss: 0.0029\n",
      "Epoch [8/20], Step [90/160], Loss: 0.0014\n",
      "Epoch [8/20], Step [100/160], Loss: 0.0010\n",
      "Epoch [8/20], Step [110/160], Loss: 0.0015\n",
      "Epoch [8/20], Step [120/160], Loss: 0.0012\n",
      "Epoch [8/20], Step [130/160], Loss: 0.0008\n",
      "Epoch [8/20], Step [140/160], Loss: 0.0009\n",
      "Epoch [8/20], Step [150/160], Loss: 0.0008\n",
      "Epoch [8/20], Step [160/160], Loss: 0.0003\n",
      "Epoch [8/20], train_loss: 0.0015, val_loss: 3.1628\n",
      "Epoch [9/20], Step [10/160], Loss: 0.0004\n",
      "Epoch [9/20], Step [20/160], Loss: 0.0025\n",
      "Epoch [9/20], Step [30/160], Loss: 0.0002\n",
      "Epoch [9/20], Step [40/160], Loss: 0.0010\n",
      "Epoch [9/20], Step [50/160], Loss: 0.0006\n",
      "Epoch [9/20], Step [60/160], Loss: 0.0007\n",
      "Epoch [9/20], Step [70/160], Loss: 0.0010\n",
      "Epoch [9/20], Step [80/160], Loss: 0.0007\n",
      "Epoch [9/20], Step [90/160], Loss: 0.0009\n",
      "Epoch [9/20], Step [100/160], Loss: 0.0005\n",
      "Epoch [9/20], Step [110/160], Loss: 0.0011\n",
      "Epoch [9/20], Step [120/160], Loss: 0.0005\n",
      "Epoch [9/20], Step [130/160], Loss: 0.0022\n",
      "Epoch [9/20], Step [140/160], Loss: 0.0007\n",
      "Epoch [9/20], Step [150/160], Loss: 0.0029\n",
      "Epoch [9/20], Step [160/160], Loss: 0.0008\n",
      "Epoch [9/20], train_loss: 0.0008, val_loss: 3.2470\n",
      "Epoch [10/20], Step [10/160], Loss: 0.0003\n",
      "Epoch [10/20], Step [20/160], Loss: 0.0024\n",
      "Epoch [10/20], Step [30/160], Loss: 0.0005\n",
      "Epoch [10/20], Step [40/160], Loss: 0.0004\n",
      "Epoch [10/20], Step [50/160], Loss: 0.0012\n",
      "Epoch [10/20], Step [60/160], Loss: 0.0004\n",
      "Epoch [10/20], Step [70/160], Loss: 0.0004\n",
      "Epoch [10/20], Step [80/160], Loss: 0.0004\n",
      "Epoch [10/20], Step [90/160], Loss: 0.0006\n",
      "Epoch [10/20], Step [100/160], Loss: 0.0004\n",
      "Epoch [10/20], Step [110/160], Loss: 0.0006\n",
      "Epoch [10/20], Step [120/160], Loss: 0.0004\n",
      "Epoch [10/20], Step [130/160], Loss: 0.0003\n",
      "Epoch [10/20], Step [140/160], Loss: 0.0004\n",
      "Epoch [10/20], Step [150/160], Loss: 0.0002\n",
      "Epoch [10/20], Step [160/160], Loss: 0.0011\n",
      "Epoch [10/20], train_loss: 0.0005, val_loss: 3.3466\n",
      "Epoch [11/20], Step [10/160], Loss: 0.0004\n",
      "Epoch [11/20], Step [20/160], Loss: 0.0008\n",
      "Epoch [11/20], Step [30/160], Loss: 0.0004\n",
      "Epoch [11/20], Step [40/160], Loss: 0.0007\n",
      "Epoch [11/20], Step [50/160], Loss: 0.0005\n",
      "Epoch [11/20], Step [60/160], Loss: 0.0010\n",
      "Epoch [11/20], Step [70/160], Loss: 0.0004\n",
      "Epoch [11/20], Step [80/160], Loss: 0.0003\n",
      "Epoch [11/20], Step [90/160], Loss: 0.0004\n",
      "Epoch [11/20], Step [100/160], Loss: 0.0010\n",
      "Epoch [11/20], Step [110/160], Loss: 0.0005\n",
      "Epoch [11/20], Step [120/160], Loss: 0.0002\n",
      "Epoch [11/20], Step [130/160], Loss: 0.0003\n",
      "Epoch [11/20], Step [140/160], Loss: 0.0004\n",
      "Epoch [11/20], Step [150/160], Loss: 0.0004\n",
      "Epoch [11/20], Step [160/160], Loss: 0.0004\n",
      "Epoch [11/20], train_loss: 0.0004, val_loss: 3.2503\n",
      "Epoch [12/20], Step [10/160], Loss: 0.0001\n",
      "Epoch [12/20], Step [20/160], Loss: 0.0004\n",
      "Epoch [12/20], Step [30/160], Loss: 0.0006\n"
     ]
    },
    {
     "name": "stdout",
     "output_type": "stream",
     "text": [
      "Epoch [12/20], Step [40/160], Loss: 0.0003\n",
      "Epoch [12/20], Step [50/160], Loss: 0.0003\n",
      "Epoch [12/20], Step [60/160], Loss: 0.0008\n",
      "Epoch [12/20], Step [70/160], Loss: 0.0002\n",
      "Epoch [12/20], Step [80/160], Loss: 0.0002\n",
      "Epoch [12/20], Step [90/160], Loss: 0.0002\n",
      "Epoch [12/20], Step [100/160], Loss: 0.0005\n",
      "Epoch [12/20], Step [110/160], Loss: 0.0002\n",
      "Epoch [12/20], Step [120/160], Loss: 0.0002\n",
      "Epoch [12/20], Step [130/160], Loss: 0.0006\n",
      "Epoch [12/20], Step [140/160], Loss: 0.0003\n",
      "Epoch [12/20], Step [150/160], Loss: 0.0003\n",
      "Epoch [12/20], Step [160/160], Loss: 0.0009\n",
      "Epoch [12/20], train_loss: 0.0004, val_loss: 3.1489\n",
      "Epoch [13/20], Step [10/160], Loss: 0.0007\n",
      "Epoch [13/20], Step [20/160], Loss: 0.0004\n",
      "Epoch [13/20], Step [30/160], Loss: 0.0002\n",
      "Epoch [13/20], Step [40/160], Loss: 0.0003\n",
      "Epoch [13/20], Step [50/160], Loss: 0.0002\n",
      "Epoch [13/20], Step [60/160], Loss: 0.0004\n",
      "Epoch [13/20], Step [70/160], Loss: 0.0005\n",
      "Epoch [13/20], Step [80/160], Loss: 0.0001\n",
      "Epoch [13/20], Step [90/160], Loss: 0.0002\n",
      "Epoch [13/20], Step [100/160], Loss: 0.0006\n",
      "Epoch [13/20], Step [110/160], Loss: 0.0004\n",
      "Epoch [13/20], Step [120/160], Loss: 0.0005\n",
      "Epoch [13/20], Step [130/160], Loss: 0.0009\n",
      "Epoch [13/20], Step [140/160], Loss: 0.0003\n",
      "Epoch [13/20], Step [150/160], Loss: 0.0002\n",
      "Epoch [13/20], Step [160/160], Loss: 0.0003\n",
      "Epoch [13/20], train_loss: 0.0003, val_loss: 3.1604\n",
      "Epoch [14/20], Step [10/160], Loss: 0.0003\n",
      "Epoch [14/20], Step [20/160], Loss: 0.0003\n",
      "Epoch [14/20], Step [30/160], Loss: 0.0003\n",
      "Epoch [14/20], Step [40/160], Loss: 0.0003\n",
      "Epoch [14/20], Step [50/160], Loss: 0.0001\n",
      "Epoch [14/20], Step [60/160], Loss: 0.0005\n",
      "Epoch [14/20], Step [70/160], Loss: 0.0006\n",
      "Epoch [14/20], Step [80/160], Loss: 0.0001\n",
      "Epoch [14/20], Step [90/160], Loss: 0.0003\n",
      "Epoch [14/20], Step [100/160], Loss: 0.0001\n",
      "Epoch [14/20], Step [110/160], Loss: 0.0002\n",
      "Epoch [14/20], Step [120/160], Loss: 0.0002\n",
      "Epoch [14/20], Step [130/160], Loss: 0.0002\n",
      "Epoch [14/20], Step [140/160], Loss: 0.0002\n",
      "Epoch [14/20], Step [150/160], Loss: 0.0002\n",
      "Epoch [14/20], Step [160/160], Loss: 0.0016\n",
      "Epoch [14/20], train_loss: 0.0003, val_loss: 3.1370\n",
      "Epoch [15/20], Step [10/160], Loss: 0.0002\n",
      "Epoch [15/20], Step [20/160], Loss: 0.0005\n",
      "Epoch [15/20], Step [30/160], Loss: 0.0003\n",
      "Epoch [15/20], Step [40/160], Loss: 0.0005\n",
      "Epoch [15/20], Step [50/160], Loss: 0.0003\n",
      "Epoch [15/20], Step [60/160], Loss: 0.0002\n",
      "Epoch [15/20], Step [70/160], Loss: 0.0002\n",
      "Epoch [15/20], Step [80/160], Loss: 0.0003\n",
      "Epoch [15/20], Step [90/160], Loss: 0.0003\n",
      "Epoch [15/20], Step [100/160], Loss: 0.0004\n",
      "Epoch [15/20], Step [110/160], Loss: 0.0007\n",
      "Epoch [15/20], Step [120/160], Loss: 0.0002\n",
      "Epoch [15/20], Step [130/160], Loss: 0.0002\n",
      "Epoch [15/20], Step [140/160], Loss: 0.0006\n",
      "Epoch [15/20], Step [150/160], Loss: 0.0002\n",
      "Epoch [15/20], Step [160/160], Loss: 0.0008\n",
      "Epoch [15/20], train_loss: 0.0003, val_loss: 3.1899\n",
      "Epoch [16/20], Step [10/160], Loss: 0.0003\n",
      "Epoch [16/20], Step [20/160], Loss: 0.0003\n",
      "Epoch [16/20], Step [30/160], Loss: 0.0002\n",
      "Epoch [16/20], Step [40/160], Loss: 0.0004\n",
      "Epoch [16/20], Step [50/160], Loss: 0.0001\n",
      "Epoch [16/20], Step [60/160], Loss: 0.0007\n",
      "Epoch [16/20], Step [70/160], Loss: 0.0004\n",
      "Epoch [16/20], Step [80/160], Loss: 0.0001\n",
      "Epoch [16/20], Step [90/160], Loss: 0.0007\n",
      "Epoch [16/20], Step [100/160], Loss: 0.0004\n",
      "Epoch [16/20], Step [110/160], Loss: 0.0004\n",
      "Epoch [16/20], Step [120/160], Loss: 0.0001\n",
      "Epoch [16/20], Step [130/160], Loss: 0.0002\n",
      "Epoch [16/20], Step [140/160], Loss: 0.0002\n",
      "Epoch [16/20], Step [150/160], Loss: 0.0003\n",
      "Epoch [16/20], Step [160/160], Loss: 0.0001\n",
      "Epoch [16/20], train_loss: 0.0003, val_loss: 3.3232\n",
      "Epoch [17/20], Step [10/160], Loss: 0.0002\n",
      "Epoch [17/20], Step [20/160], Loss: 0.0003\n",
      "Epoch [17/20], Step [30/160], Loss: 0.0004\n",
      "Epoch [17/20], Step [40/160], Loss: 0.0002\n",
      "Epoch [17/20], Step [50/160], Loss: 0.0002\n",
      "Epoch [17/20], Step [60/160], Loss: 0.0001\n",
      "Epoch [17/20], Step [70/160], Loss: 0.0002\n",
      "Epoch [17/20], Step [80/160], Loss: 0.0002\n",
      "Epoch [17/20], Step [90/160], Loss: 0.0002\n",
      "Epoch [17/20], Step [100/160], Loss: 0.0002\n",
      "Epoch [17/20], Step [110/160], Loss: 0.0003\n",
      "Epoch [17/20], Step [120/160], Loss: 0.0002\n",
      "Epoch [17/20], Step [130/160], Loss: 0.0003\n",
      "Epoch [17/20], Step [140/160], Loss: 0.0003\n",
      "Epoch [17/20], Step [150/160], Loss: 0.0003\n",
      "Epoch [17/20], Step [160/160], Loss: 0.0000\n",
      "Epoch [17/20], train_loss: 0.0003, val_loss: 3.2489\n",
      "Epoch [18/20], Step [10/160], Loss: 0.0005\n",
      "Epoch [18/20], Step [20/160], Loss: 0.0006\n",
      "Epoch [18/20], Step [30/160], Loss: 0.0003\n",
      "Epoch [18/20], Step [40/160], Loss: 0.0003\n",
      "Epoch [18/20], Step [50/160], Loss: 0.0002\n",
      "Epoch [18/20], Step [60/160], Loss: 0.0003\n",
      "Epoch [18/20], Step [70/160], Loss: 0.0005\n",
      "Epoch [18/20], Step [80/160], Loss: 0.0005\n",
      "Epoch [18/20], Step [90/160], Loss: 0.0002\n",
      "Epoch [18/20], Step [100/160], Loss: 0.0002\n",
      "Epoch [18/20], Step [110/160], Loss: 0.0001\n",
      "Epoch [18/20], Step [120/160], Loss: 0.0004\n",
      "Epoch [18/20], Step [130/160], Loss: 0.0002\n",
      "Epoch [18/20], Step [140/160], Loss: 0.0002\n",
      "Epoch [18/20], Step [150/160], Loss: 0.0002\n",
      "Epoch [18/20], Step [160/160], Loss: 0.0033\n",
      "Epoch [18/20], train_loss: 0.0003, val_loss: 3.1526\n",
      "Epoch [19/20], Step [10/160], Loss: 0.0001\n",
      "Epoch [19/20], Step [20/160], Loss: 0.0002\n",
      "Epoch [19/20], Step [30/160], Loss: 0.0002\n",
      "Epoch [19/20], Step [40/160], Loss: 0.0005\n",
      "Epoch [19/20], Step [50/160], Loss: 0.0003\n",
      "Epoch [19/20], Step [60/160], Loss: 0.0002\n",
      "Epoch [19/20], Step [70/160], Loss: 0.0001\n",
      "Epoch [19/20], Step [80/160], Loss: 0.0001\n",
      "Epoch [19/20], Step [90/160], Loss: 0.0002\n",
      "Epoch [19/20], Step [100/160], Loss: 0.0003\n",
      "Epoch [19/20], Step [110/160], Loss: 0.0002\n",
      "Epoch [19/20], Step [120/160], Loss: 0.0001\n",
      "Epoch [19/20], Step [130/160], Loss: 0.0002\n",
      "Epoch [19/20], Step [140/160], Loss: 0.0003\n",
      "Epoch [19/20], Step [150/160], Loss: 0.0003\n",
      "Epoch [19/20], Step [160/160], Loss: 0.0000\n",
      "Epoch [19/20], train_loss: 0.0003, val_loss: 3.1850\n",
      "Epoch [20/20], Step [10/160], Loss: 0.0006\n",
      "Epoch [20/20], Step [20/160], Loss: 0.0003\n",
      "Epoch [20/20], Step [30/160], Loss: 0.0004\n",
      "Epoch [20/20], Step [40/160], Loss: 0.0003\n",
      "Epoch [20/20], Step [50/160], Loss: 0.0003\n",
      "Epoch [20/20], Step [60/160], Loss: 0.0002\n",
      "Epoch [20/20], Step [70/160], Loss: 0.0003\n",
      "Epoch [20/20], Step [80/160], Loss: 0.0002\n",
      "Epoch [20/20], Step [90/160], Loss: 0.0010\n",
      "Epoch [20/20], Step [100/160], Loss: 0.0003\n",
      "Epoch [20/20], Step [110/160], Loss: 0.0003\n",
      "Epoch [20/20], Step [120/160], Loss: 0.0004\n",
      "Epoch [20/20], Step [130/160], Loss: 0.0002\n",
      "Epoch [20/20], Step [140/160], Loss: 0.0004\n",
      "Epoch [20/20], Step [150/160], Loss: 0.0003\n",
      "Epoch [20/20], Step [160/160], Loss: 0.0002\n",
      "Epoch [20/20], train_loss: 0.0003, val_loss: 3.2254\n"
     ]
    }
   ],
   "source": [
    "# loss\n",
    "criterion = nn.CrossEntropyLoss()\n",
    "epoch = 20\n",
    "\n",
    "#optimizer\n",
    "learning_rate = 0.0001\n",
    "optimizer = optim.Adam\n",
    "\n",
    "#training\n",
    "train_loss, train_acc, val_loss, val_acc= train(epoch, train_data_loader,  val_data_loader,criterion, optimizer, learning_rate)"
   ]
  },
  {
   "cell_type": "markdown",
   "metadata": {
    "id": "yDeBukX4oxnG"
   },
   "source": [
    "## **Save Model**"
   ]
  },
  {
   "cell_type": "code",
   "execution_count": 70,
   "metadata": {
    "executionInfo": {
     "elapsed": 5515,
     "status": "ok",
     "timestamp": 1651881078357,
     "user": {
      "displayName": "Ali Khalid",
      "userId": "10809480287003355230"
     },
     "user_tz": -300
    },
    "id": "Bwgu8k1Xo0dd"
   },
   "outputs": [],
   "source": [
    "path = '../saved_models/task1/task1.pt'\n",
    "torch.save(net.state_dict(), path)\n",
    "\n",
    "np.save('../saved_models/task1/train_loss', train_loss)\n",
    "np.save('../saved_models/task1/val_loss', val_loss)\n",
    "np.save('../saved_models/task1/train_acc', train_acc)\n",
    "np.save('../saved_models/task1/val_acc', val_acc)"
   ]
  },
  {
   "cell_type": "markdown",
   "metadata": {
    "id": "W0ZFjfN1pL-f"
   },
   "source": [
    "## **Test Model**"
   ]
  },
  {
   "cell_type": "code",
   "execution_count": 12,
   "metadata": {
    "colab": {
     "base_uri": "https://localhost:8080/"
    },
    "executionInfo": {
     "elapsed": 410,
     "status": "ok",
     "timestamp": 1651881080701,
     "user": {
      "displayName": "Ali Khalid",
      "userId": "10809480287003355230"
     },
     "user_tz": -300
    },
    "id": "i7zafyKTpTm6",
    "outputId": "f7277920-892e-4bf9-e0ea-5afa55624056"
   },
   "outputs": [
    {
     "name": "stdout",
     "output_type": "stream",
     "text": [
      "tensor([ 95, 116,  44,  55,  10,  80, 117, 103,  89,  45,  42,  51,  35, 100,\n",
      "        119,  40])\n"
     ]
    }
   ],
   "source": [
    "dataiter = iter(test_data_loader)\n",
    "images, test_labels = dataiter.next()\n",
    "print(test_labels)"
   ]
  },
  {
   "cell_type": "code",
   "execution_count": 13,
   "metadata": {
    "colab": {
     "base_uri": "https://localhost:8080/"
    },
    "executionInfo": {
     "elapsed": 1247,
     "status": "ok",
     "timestamp": 1651881083253,
     "user": {
      "displayName": "Ali Khalid",
      "userId": "10809480287003355230"
     },
     "user_tz": -300
    },
    "id": "EjIAdRf2qwC7",
    "outputId": "327fea7b-975b-4986-b01b-54d320c883c6"
   },
   "outputs": [
    {
     "data": {
      "text/plain": [
       "tensor([ 80,  87,  44,  55, 103,  53,  12, 103,  89,  31, 109,  14,  24, 100,\n",
       "         88,  70])"
      ]
     },
     "execution_count": 13,
     "metadata": {},
     "output_type": "execute_result"
    }
   ],
   "source": [
    "# load model\n",
    "net.load_state_dict(torch.load(path))\n",
    "test_out = net(images.to(device))\n",
    "_, pred = torch.max(test_out, 1) \n",
    "pred"
   ]
  },
  {
   "cell_type": "code",
   "execution_count": 17,
   "metadata": {},
   "outputs": [
    {
     "name": "stdout",
     "output_type": "stream",
     "text": [
      "Test Accuracy: 0.3375\n"
     ]
    }
   ],
   "source": [
    "# load model\n",
    "path = '../saved_models/task1/epoch1/task1.pt'\n",
    "net = Net().to(device)\n",
    "net.load_state_dict(torch.load(path))\n",
    "\n",
    "test_steps = len(test_data_loader)\n",
    "t_acc=0\n",
    "for i, data in enumerate(test_data_loader): # iterate over batches\n",
    "    # get image and labels data is in tuple form (inputs, label)\n",
    "    inputs, labels = data\n",
    "    inputs = inputs.to(device)\n",
    "    labels = labels.to(device)\n",
    "\n",
    "\n",
    "    # forward + backward + optimize\n",
    "    outputs = net(inputs)\n",
    "    _, pred = torch.max(outputs, 1)\n",
    "    t_acc += torch.sum(pred == labels)/len(labels)\n",
    "\n",
    "print('Test Accuracy: {:.4f}'.format(t_acc/test_steps))"
   ]
  },
  {
   "cell_type": "code",
   "execution_count": 40,
   "metadata": {},
   "outputs": [],
   "source": [
    "def test(net, test_data_loader, device):\n",
    "    net = net.to(device)\n",
    "    test_steps = len(test_data_loader)\n",
    "    t_acc=0\n",
    "    labels_all = torch.Tensor()\n",
    "    pred_all = torch.Tensor()\n",
    "    output_all = torch.Tensor()\n",
    "    for i, data in enumerate(test_data_loader): # iterate over batches\n",
    "    # get image and labels data is in tuple form (inputs, label)\n",
    "        inputs, labels = data\n",
    "        labels_all = torch.cat((labels_all,labels))\n",
    "        inputs = inputs.to(device)\n",
    "        labels = labels.to(device)\n",
    "        net.eval()\n",
    "        torch.no_grad()   \n",
    "        outputs = net(inputs)\n",
    "        _, pred = torch.max(outputs, 1)\n",
    "        pred_all = torch.cat((pred_all,pred))\n",
    "        output_all = torch.cat((output_all,outputs),0)\n",
    "        t_acc += torch.sum(pred == labels)/len(labels)\n",
    "    print('Test Accuracy: {:.4f}'.format(t_acc/test_steps))\n",
    "    return pred_all, labels_all, output_all, t_acc"
   ]
  },
  {
   "cell_type": "code",
   "execution_count": 71,
   "metadata": {},
   "outputs": [
    {
     "name": "stdout",
     "output_type": "stream",
     "text": [
      "Test Accuracy: 0.4196\n"
     ]
    }
   ],
   "source": [
    "# path = '../saved_models/task1/task1.pt'\n",
    "# net = Net().to(device)\n",
    "# net.load_state_dict(torch.load(path))\n",
    "test_pred, test_labels, test_outputs,test_acc = test(net,test_data_loader, device)"
   ]
  },
  {
   "cell_type": "markdown",
   "metadata": {
    "id": "Bc9du2KHpMFZ"
   },
   "source": [
    "## **Visualize result**"
   ]
  },
  {
   "cell_type": "code",
   "execution_count": 79,
   "metadata": {
    "colab": {
     "base_uri": "https://localhost:8080/",
     "height": 300
    },
    "executionInfo": {
     "elapsed": 2330,
     "status": "ok",
     "timestamp": 1651918809981,
     "user": {
      "displayName": "Ali Khalid",
      "userId": "10809480287003355230"
     },
     "user_tz": -300
    },
    "id": "myKs939VpTFY",
    "outputId": "6b9b03e2-d08e-4ad6-a550-e81f77705b03"
   },
   "outputs": [
    {
     "data": {
      "text/plain": [
       "Text(0.5, 1.0, 'training and validation loss')"
      ]
     },
     "execution_count": 79,
     "metadata": {},
     "output_type": "execute_result"
    },
    {
     "data": {
      "image/png": "[encoded data removed]",
      "text/plain": [
       "<Figure size 432x288 with 1 Axes>"
      ]
     },
     "metadata": {
      "needs_background": "light"
     },
     "output_type": "display_data"
    }
   ],
   "source": [
    "%matplotlib inline\n",
    "import matplotlib.pyplot as plt\n",
    "import numpy as np\n",
    "\n",
    "train_loss = np.load('../saved_models/task1/epoch20_0.0001/train_loss.npy')\n",
    "val_loss = np.load('../saved_models/task1/epoch20_0.0001/val_loss.npy')\n",
    "plt.plot(train_loss, linewidth=2, label='train')\n",
    "plt.plot(val_loss, linewidth=2, label='validation')\n",
    "plt.xlabel('Epoch', fontsize=15)\n",
    "plt.ylabel('Loss', fontsize=15)\n",
    "plt.legend()\n",
    "plt.title('training and validation loss')"
   ]
  },
  {
   "cell_type": "code",
   "execution_count": 78,
   "metadata": {},
   "outputs": [
    {
     "name": "stdout",
     "output_type": "stream",
     "text": [
      "val accuracy: 0.44464287\n",
      "train accuracy: 0.99960935\n"
     ]
    },
    {
     "data": {
      "text/plain": [
       "Text(0.5, 1.0, 'training and validation Accuracy')"
      ]
     },
     "execution_count": 78,
     "metadata": {},
     "output_type": "execute_result"
    },
    {
     "data": {
      "image/png": "[encoded data removed]",
      "text/plain": [
       "<Figure size 432x288 with 1 Axes>"
      ]
     },
     "metadata": {
      "needs_background": "light"
     },
     "output_type": "display_data"
    }
   ],
   "source": [
    "val_acc = np.load('../saved_models/task1/epoch20_0.0001/val_acc.npy')\n",
    "train_acc = np.load('../saved_models/task1/epoch20_0.0001/train_acc.npy')\n",
    "print('val accuracy:', val_acc[-1])\n",
    "print('train accuracy:', train_acc[-1])\n",
    "plt.plot(train_acc, linewidth=2, label='train')\n",
    "plt.plot(val_acc, linewidth=2, label='validation')\n",
    "plt.xlabel('Epoch', fontsize=15)\n",
    "plt.ylabel('Accuracy', fontsize=15)\n",
    "plt.legend()\n",
    "plt.title('training and validation Accuracy')"
   ]
  },
  {
   "cell_type": "code",
   "execution_count": 59,
   "metadata": {},
   "outputs": [
    {
     "name": "stdout",
     "output_type": "stream",
     "text": [
      "labels shape (545,)\n",
      "pred shape (545,)\n"
     ]
    },
    {
     "data": {
      "image/png": "[encoded data removed]",
      "text/plain": [
       "<Figure size 432x288 with 2 Axes>"
      ]
     },
     "metadata": {
      "needs_background": "light"
     },
     "output_type": "display_data"
    }
   ],
   "source": [
    "from sklearn.metrics import confusion_matrix, ConfusionMatrixDisplay, accuracy_score, f1_score, recall_score, roc_curve, auc\n",
    "from sklearn.preprocessing import label_binarize\n",
    "test_labels = np.array(test_labels)\n",
    "test_pred = np.array(test_pred)\n",
    "print('labels shape', test_labels.shape)\n",
    "print('pred shape', test_pred.shape)\n",
    "cm = confusion_matrix(test_pred, test_labels)\n",
    "disp = ConfusionMatrixDisplay(confusion_matrix=cm)\n",
    "disp.plot()\n",
    "plt.show()"
   ]
  },
  {
   "cell_type": "code",
   "execution_count": 75,
   "metadata": {},
   "outputs": [],
   "source": [
    "def wrong_and_right(net, test_data_loader, device):\n",
    "    net = net.to(device)\n",
    "    test_steps = len(test_data_loader)\n",
    "    t_acc=0\n",
    "    wrong = 0 \n",
    "    right = 0 \n",
    "    for i, data in enumerate(test_data_loader): # iterate over batches\n",
    "    # get image and labels data is in tuple form (inputs, label)\n",
    "        inputs, labels = data\n",
    "        inputs = inputs.to(device)\n",
    "        labels = labels.to(device)\n",
    "        net.eval()\n",
    "        torch.no_grad()   \n",
    "        outputs = net(inputs)\n",
    "        _, pred = torch.max(outputs, 1)        \n",
    "        t_acc = torch.sum(pred == labels)\n",
    "        if t_acc <16 and t_acc>0:\n",
    "            for i in range(0,16):\n",
    "                if pred[i] != labels[i] and wrong == 0:\n",
    "                    print('prediction: ', pred[i])\n",
    "                    print('label: ', labels[i])\n",
    "                    wrong = 1\n",
    "                    plt.imshow(inputs[i].permute(1, 2, 0))\n",
    "                    plt.show()\n",
    "                if pred[i] == labels[i] and right == 0:\n",
    "                    print('prediction: ', pred[i])\n",
    "                    print('label: ', labels[i])\n",
    "                    right = 1\n",
    "                    plt.imshow(inputs[i].permute(1, 2, 0))\n",
    "                    plt.show()\n",
    "                if wrong ==1 and right==1:\n",
    "                    return 1"
   ]
  },
  {
   "cell_type": "code",
   "execution_count": 77,
   "metadata": {},
   "outputs": [
    {
     "name": "stderr",
     "output_type": "stream",
     "text": [
      "Clipping input data to the valid range for imshow with RGB data ([0..1] for floats or [0..255] for integers).\n"
     ]
    },
    {
     "name": "stdout",
     "output_type": "stream",
     "text": [
      "prediction:  tensor(84)\n",
      "label:  tensor(22)\n"
     ]
    },
    {
     "data": {
      "image/png": "[encoded data removed]",
      "text/plain": [
       "<Figure size 432x288 with 1 Axes>"
      ]
     },
     "metadata": {
      "needs_background": "light"
     },
     "output_type": "display_data"
    },
    {
     "name": "stderr",
     "output_type": "stream",
     "text": [
      "Clipping input data to the valid range for imshow with RGB data ([0..1] for floats or [0..255] for integers).\n"
     ]
    },
    {
     "name": "stdout",
     "output_type": "stream",
     "text": [
      "prediction:  tensor(107)\n",
      "label:  tensor(107)\n"
     ]
    },
    {
     "data": {
      "image/png": "[encoded data removed]",
      "text/plain": [
       "<Figure size 432x288 with 1 Axes>"
      ]
     },
     "metadata": {
      "needs_background": "light"
     },
     "output_type": "display_data"
    }
   ],
   "source": [
    "path = '../saved_models/task1/epoch20_0.0001/task1.pt'\n",
    "net = Net().to(device)\n",
    "net.load_state_dict(torch.load(path))\n",
    "a = wrong_and_right(net,test_data_loader, device)"
   ]
  }
 ],
 "metadata": {
  "accelerator": "GPU",
  "colab": {
   "authorship_tag": "ABX9TyOqE84eZ3zmxTGdxilwJT18",
   "collapsed_sections": [],
   "name": "task1.ipynb",
   "provenance": []
  },
  "kernelspec": {
   "display_name": "Python 3 (ipykernel)",
   "language": "python",
   "name": "python3"
  },
  "language_info": {
   "codemirror_mode": {
    "name": "ipython",
    "version": 3
   },
   "file_extension": ".py",
   "mimetype": "text/x-python",
   "name": "python",
   "nbconvert_exporter": "python",
   "pygments_lexer": "ipython3",
   "version": "3.9.7"
  }
 },
 "nbformat": 4,
 "nbformat_minor": 1
}
