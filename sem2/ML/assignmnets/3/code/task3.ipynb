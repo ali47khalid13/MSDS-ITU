{
 "cells": [
  {
   "cell_type": "markdown",
   "metadata": {
    "id": "5-5VWruMtjA4"
   },
   "source": [
    "## **Import Libraries**"
   ]
  },
  {
   "cell_type": "code",
   "execution_count": 4,
   "metadata": {
    "executionInfo": {
     "elapsed": 3133,
     "status": "ok",
     "timestamp": 1651937482560,
     "user": {
      "displayName": "ALI KHALID KHALID MAHMOOD AHMAD",
      "userId": "04961537570896709275"
     },
     "user_tz": -300
    },
    "id": "YOrsQs3przvi"
   },
   "outputs": [],
   "source": [
    "import pandas as pd \n",
    "import os\n",
    "import cv2\n",
    "import matplotlib.pyplot as plt\n",
    "import pylab\n",
    "import numpy as np\n",
    "import torch\n",
    "import torchvision\n",
    "from torchvision import transforms, datasets\n",
    "from torch.utils.data import Dataset\n",
    "import PIL"
   ]
  },
  {
   "cell_type": "code",
   "execution_count": 5,
   "metadata": {
    "colab": {
     "base_uri": "https://localhost:8080/"
    },
    "executionInfo": {
     "elapsed": 7,
     "status": "ok",
     "timestamp": 1651936475942,
     "user": {
      "displayName": "Ali Khalid",
      "userId": "10809480287003355230"
     },
     "user_tz": -300
    },
    "id": "D8ZOVQkkdMvS",
    "outputId": "c247195d-6d45-4e82-870a-ee0e2a59e56b"
   },
   "outputs": [
    {
     "name": "stdout",
     "output_type": "stream",
     "text": [
      "cpu\n"
     ]
    }
   ],
   "source": [
    "device = torch.device('cuda' if torch.cuda.is_available() else 'cpu')\n",
    "print(device)"
   ]
  },
  {
   "cell_type": "markdown",
   "metadata": {
    "id": "gLBCZshD33oh"
   },
   "source": [
    "## **Preparing Dataset for task 3**"
   ]
  },
  {
   "cell_type": "markdown",
   "metadata": {
    "id": "MYMwW4MD6MMy"
   },
   "source": [
    "**Data Preprocessing:**"
   ]
  },
  {
   "cell_type": "code",
   "execution_count": 3,
   "metadata": {
    "id": "NF3M2PUc6Lh3"
   },
   "outputs": [
    {
     "ename": "ParserError",
     "evalue": "Error tokenizing data. C error: Calling read(nbytes) on source failed. Try engine='python'.",
     "output_type": "error",
     "traceback": [
      "\u001b[1;31m---------------------------------------------------------------------------\u001b[0m",
      "\u001b[1;31mParserError\u001b[0m                               Traceback (most recent call last)",
      "\u001b[1;32mC:\\Windows\\TEMP/ipykernel_21944/700439053.py\u001b[0m in \u001b[0;36m<module>\u001b[1;34m\u001b[0m\n\u001b[0;32m      7\u001b[0m \u001b[1;33m\u001b[0m\u001b[0m\n\u001b[0;32m      8\u001b[0m \u001b[1;31m# load labels file\u001b[0m\u001b[1;33m\u001b[0m\u001b[1;33m\u001b[0m\u001b[0m\n\u001b[1;32m----> 9\u001b[1;33m \u001b[0mdata\u001b[0m\u001b[1;33m=\u001b[0m \u001b[0mpd\u001b[0m\u001b[1;33m.\u001b[0m\u001b[0mread_csv\u001b[0m\u001b[1;33m(\u001b[0m\u001b[0mlabel_file\u001b[0m\u001b[1;33m,\u001b[0m \u001b[0msep\u001b[0m\u001b[1;33m=\u001b[0m\u001b[1;34m'\\s+'\u001b[0m\u001b[1;33m,\u001b[0m\u001b[0mskiprows\u001b[0m\u001b[1;33m=\u001b[0m\u001b[1;33m[\u001b[0m\u001b[1;36m0\u001b[0m\u001b[1;33m]\u001b[0m\u001b[1;33m,\u001b[0m \u001b[0mheader\u001b[0m\u001b[1;33m=\u001b[0m\u001b[1;36m0\u001b[0m\u001b[1;33m)\u001b[0m \u001b[1;31m#on_bad_lines='skip'\u001b[0m\u001b[1;33m\u001b[0m\u001b[1;33m\u001b[0m\u001b[0m\n\u001b[0m\u001b[0;32m     10\u001b[0m \u001b[0mdata\u001b[0m \u001b[1;33m=\u001b[0m \u001b[0mdata\u001b[0m\u001b[1;33m[\u001b[0m\u001b[1;33m[\u001b[0m\u001b[1;34m'Male'\u001b[0m\u001b[1;33m,\u001b[0m\u001b[1;34m'Black_Hair'\u001b[0m\u001b[1;33m,\u001b[0m\u001b[1;34m'Wearing_Earrings'\u001b[0m\u001b[1;33m,\u001b[0m\u001b[1;34m'Eyeglasses'\u001b[0m\u001b[1;33m,\u001b[0m\u001b[1;34m'Straight_Hair'\u001b[0m\u001b[1;33m,\u001b[0m\u001b[1;34m'Smiling'\u001b[0m\u001b[1;33m,\u001b[0m\u001b[1;34m'Wearing_Necktie'\u001b[0m\u001b[1;33m]\u001b[0m\u001b[1;33m]\u001b[0m\u001b[1;33m\u001b[0m\u001b[1;33m\u001b[0m\u001b[0m\n\u001b[0;32m     11\u001b[0m \u001b[1;31m#data = data.reset_index()\u001b[0m\u001b[1;33m\u001b[0m\u001b[1;33m\u001b[0m\u001b[0m\n",
      "\u001b[1;32mC:\\ProgramData\\Anaconda3\\lib\\site-packages\\pandas\\util\\_decorators.py\u001b[0m in \u001b[0;36mwrapper\u001b[1;34m(*args, **kwargs)\u001b[0m\n\u001b[0;32m    309\u001b[0m                     \u001b[0mstacklevel\u001b[0m\u001b[1;33m=\u001b[0m\u001b[0mstacklevel\u001b[0m\u001b[1;33m,\u001b[0m\u001b[1;33m\u001b[0m\u001b[1;33m\u001b[0m\u001b[0m\n\u001b[0;32m    310\u001b[0m                 )\n\u001b[1;32m--> 311\u001b[1;33m             \u001b[1;32mreturn\u001b[0m \u001b[0mfunc\u001b[0m\u001b[1;33m(\u001b[0m\u001b[1;33m*\u001b[0m\u001b[0margs\u001b[0m\u001b[1;33m,\u001b[0m \u001b[1;33m**\u001b[0m\u001b[0mkwargs\u001b[0m\u001b[1;33m)\u001b[0m\u001b[1;33m\u001b[0m\u001b[1;33m\u001b[0m\u001b[0m\n\u001b[0m\u001b[0;32m    312\u001b[0m \u001b[1;33m\u001b[0m\u001b[0m\n\u001b[0;32m    313\u001b[0m         \u001b[1;32mreturn\u001b[0m \u001b[0mwrapper\u001b[0m\u001b[1;33m\u001b[0m\u001b[1;33m\u001b[0m\u001b[0m\n",
      "\u001b[1;32mC:\\ProgramData\\Anaconda3\\lib\\site-packages\\pandas\\io\\parsers\\readers.py\u001b[0m in \u001b[0;36mread_csv\u001b[1;34m(filepath_or_buffer, sep, delimiter, header, names, index_col, usecols, squeeze, prefix, mangle_dupe_cols, dtype, engine, converters, true_values, false_values, skipinitialspace, skiprows, skipfooter, nrows, na_values, keep_default_na, na_filter, verbose, skip_blank_lines, parse_dates, infer_datetime_format, keep_date_col, date_parser, dayfirst, cache_dates, iterator, chunksize, compression, thousands, decimal, lineterminator, quotechar, quoting, doublequote, escapechar, comment, encoding, encoding_errors, dialect, error_bad_lines, warn_bad_lines, on_bad_lines, delim_whitespace, low_memory, memory_map, float_precision, storage_options)\u001b[0m\n\u001b[0;32m    584\u001b[0m     \u001b[0mkwds\u001b[0m\u001b[1;33m.\u001b[0m\u001b[0mupdate\u001b[0m\u001b[1;33m(\u001b[0m\u001b[0mkwds_defaults\u001b[0m\u001b[1;33m)\u001b[0m\u001b[1;33m\u001b[0m\u001b[1;33m\u001b[0m\u001b[0m\n\u001b[0;32m    585\u001b[0m \u001b[1;33m\u001b[0m\u001b[0m\n\u001b[1;32m--> 586\u001b[1;33m     \u001b[1;32mreturn\u001b[0m \u001b[0m_read\u001b[0m\u001b[1;33m(\u001b[0m\u001b[0mfilepath_or_buffer\u001b[0m\u001b[1;33m,\u001b[0m \u001b[0mkwds\u001b[0m\u001b[1;33m)\u001b[0m\u001b[1;33m\u001b[0m\u001b[1;33m\u001b[0m\u001b[0m\n\u001b[0m\u001b[0;32m    587\u001b[0m \u001b[1;33m\u001b[0m\u001b[0m\n\u001b[0;32m    588\u001b[0m \u001b[1;33m\u001b[0m\u001b[0m\n",
      "\u001b[1;32mC:\\ProgramData\\Anaconda3\\lib\\site-packages\\pandas\\io\\parsers\\readers.py\u001b[0m in \u001b[0;36m_read\u001b[1;34m(filepath_or_buffer, kwds)\u001b[0m\n\u001b[0;32m    486\u001b[0m \u001b[1;33m\u001b[0m\u001b[0m\n\u001b[0;32m    487\u001b[0m     \u001b[1;32mwith\u001b[0m \u001b[0mparser\u001b[0m\u001b[1;33m:\u001b[0m\u001b[1;33m\u001b[0m\u001b[1;33m\u001b[0m\u001b[0m\n\u001b[1;32m--> 488\u001b[1;33m         \u001b[1;32mreturn\u001b[0m \u001b[0mparser\u001b[0m\u001b[1;33m.\u001b[0m\u001b[0mread\u001b[0m\u001b[1;33m(\u001b[0m\u001b[0mnrows\u001b[0m\u001b[1;33m)\u001b[0m\u001b[1;33m\u001b[0m\u001b[1;33m\u001b[0m\u001b[0m\n\u001b[0m\u001b[0;32m    489\u001b[0m \u001b[1;33m\u001b[0m\u001b[0m\n\u001b[0;32m    490\u001b[0m \u001b[1;33m\u001b[0m\u001b[0m\n",
      "\u001b[1;32mC:\\ProgramData\\Anaconda3\\lib\\site-packages\\pandas\\io\\parsers\\readers.py\u001b[0m in \u001b[0;36mread\u001b[1;34m(self, nrows)\u001b[0m\n\u001b[0;32m   1045\u001b[0m     \u001b[1;32mdef\u001b[0m \u001b[0mread\u001b[0m\u001b[1;33m(\u001b[0m\u001b[0mself\u001b[0m\u001b[1;33m,\u001b[0m \u001b[0mnrows\u001b[0m\u001b[1;33m=\u001b[0m\u001b[1;32mNone\u001b[0m\u001b[1;33m)\u001b[0m\u001b[1;33m:\u001b[0m\u001b[1;33m\u001b[0m\u001b[1;33m\u001b[0m\u001b[0m\n\u001b[0;32m   1046\u001b[0m         \u001b[0mnrows\u001b[0m \u001b[1;33m=\u001b[0m \u001b[0mvalidate_integer\u001b[0m\u001b[1;33m(\u001b[0m\u001b[1;34m\"nrows\"\u001b[0m\u001b[1;33m,\u001b[0m \u001b[0mnrows\u001b[0m\u001b[1;33m)\u001b[0m\u001b[1;33m\u001b[0m\u001b[1;33m\u001b[0m\u001b[0m\n\u001b[1;32m-> 1047\u001b[1;33m         \u001b[0mindex\u001b[0m\u001b[1;33m,\u001b[0m \u001b[0mcolumns\u001b[0m\u001b[1;33m,\u001b[0m \u001b[0mcol_dict\u001b[0m \u001b[1;33m=\u001b[0m \u001b[0mself\u001b[0m\u001b[1;33m.\u001b[0m\u001b[0m_engine\u001b[0m\u001b[1;33m.\u001b[0m\u001b[0mread\u001b[0m\u001b[1;33m(\u001b[0m\u001b[0mnrows\u001b[0m\u001b[1;33m)\u001b[0m\u001b[1;33m\u001b[0m\u001b[1;33m\u001b[0m\u001b[0m\n\u001b[0m\u001b[0;32m   1048\u001b[0m \u001b[1;33m\u001b[0m\u001b[0m\n\u001b[0;32m   1049\u001b[0m         \u001b[1;32mif\u001b[0m \u001b[0mindex\u001b[0m \u001b[1;32mis\u001b[0m \u001b[1;32mNone\u001b[0m\u001b[1;33m:\u001b[0m\u001b[1;33m\u001b[0m\u001b[1;33m\u001b[0m\u001b[0m\n",
      "\u001b[1;32mC:\\ProgramData\\Anaconda3\\lib\\site-packages\\pandas\\io\\parsers\\c_parser_wrapper.py\u001b[0m in \u001b[0;36mread\u001b[1;34m(self, nrows)\u001b[0m\n\u001b[0;32m    221\u001b[0m         \u001b[1;32mtry\u001b[0m\u001b[1;33m:\u001b[0m\u001b[1;33m\u001b[0m\u001b[1;33m\u001b[0m\u001b[0m\n\u001b[0;32m    222\u001b[0m             \u001b[1;32mif\u001b[0m \u001b[0mself\u001b[0m\u001b[1;33m.\u001b[0m\u001b[0mlow_memory\u001b[0m\u001b[1;33m:\u001b[0m\u001b[1;33m\u001b[0m\u001b[1;33m\u001b[0m\u001b[0m\n\u001b[1;32m--> 223\u001b[1;33m                 \u001b[0mchunks\u001b[0m \u001b[1;33m=\u001b[0m \u001b[0mself\u001b[0m\u001b[1;33m.\u001b[0m\u001b[0m_reader\u001b[0m\u001b[1;33m.\u001b[0m\u001b[0mread_low_memory\u001b[0m\u001b[1;33m(\u001b[0m\u001b[0mnrows\u001b[0m\u001b[1;33m)\u001b[0m\u001b[1;33m\u001b[0m\u001b[1;33m\u001b[0m\u001b[0m\n\u001b[0m\u001b[0;32m    224\u001b[0m                 \u001b[1;31m# destructive to chunks\u001b[0m\u001b[1;33m\u001b[0m\u001b[1;33m\u001b[0m\u001b[0m\n\u001b[0;32m    225\u001b[0m                 \u001b[0mdata\u001b[0m \u001b[1;33m=\u001b[0m \u001b[0m_concatenate_chunks\u001b[0m\u001b[1;33m(\u001b[0m\u001b[0mchunks\u001b[0m\u001b[1;33m)\u001b[0m\u001b[1;33m\u001b[0m\u001b[1;33m\u001b[0m\u001b[0m\n",
      "\u001b[1;32mC:\\ProgramData\\Anaconda3\\lib\\site-packages\\pandas\\_libs\\parsers.pyx\u001b[0m in \u001b[0;36mpandas._libs.parsers.TextReader.read_low_memory\u001b[1;34m()\u001b[0m\n",
      "\u001b[1;32mC:\\ProgramData\\Anaconda3\\lib\\site-packages\\pandas\\_libs\\parsers.pyx\u001b[0m in \u001b[0;36mpandas._libs.parsers.TextReader._read_rows\u001b[1;34m()\u001b[0m\n",
      "\u001b[1;32mC:\\ProgramData\\Anaconda3\\lib\\site-packages\\pandas\\_libs\\parsers.pyx\u001b[0m in \u001b[0;36mpandas._libs.parsers.TextReader._tokenize_rows\u001b[1;34m()\u001b[0m\n",
      "\u001b[1;32mC:\\ProgramData\\Anaconda3\\lib\\site-packages\\pandas\\_libs\\parsers.pyx\u001b[0m in \u001b[0;36mpandas._libs.parsers.raise_parser_error\u001b[1;34m()\u001b[0m\n",
      "\u001b[1;31mParserError\u001b[0m: Error tokenizing data. C error: Calling read(nbytes) on source failed. Try engine='python'."
     ]
    }
   ],
   "source": [
    "# specify paths \n",
    "label_file = '..\\CelebA\\Anno\\list_attr_celeba.txt'\n",
    "img_dir = '..\\CelebA\\Img\\img_align_celeba\\img_align_celeba'\n",
    "output_dir = '../task3_data'\n",
    "\n",
    "os.makedirs(output_dir, exist_ok=True)\n",
    "\n",
    "# load labels file\n",
    "data= pd.read_csv(label_file, sep='\\s+',skiprows=[0], header=0) #on_bad_lines='skip'\n",
    "data = data[['Male','Black_Hair','Wearing_Earrings','Eyeglasses','Straight_Hair','Smiling','Wearing_Necktie']]\n",
    "#data = data.reset_index()\n",
    "label_map = {1 : 1, -1 : 0}\n",
    "data = data.applymap(label_map.get)\n",
    "\n",
    "# choosing combinmation such that label for each category are almost equal\n",
    "new_data = data[ (data['Wearing_Earrings'] == 1) |(data['Eyeglasses'] == 1) |(data['Wearing_Necktie'] == 1)]\n",
    "new_data['image']=new_data.index\n",
    "\n",
    "# saving data to csv file\n",
    "new_data.to_csv(os.path.join(output_dir,'task3.csv'),index=False)"
   ]
  },
  {
   "cell_type": "markdown",
   "metadata": {
    "id": "xImxLDAU-XOm"
   },
   "source": [
    "**Data Loading:**"
   ]
  },
  {
   "cell_type": "code",
   "execution_count": 6,
   "metadata": {
    "executionInfo": {
     "elapsed": 3,
     "status": "ok",
     "timestamp": 1651937487589,
     "user": {
      "displayName": "ALI KHALID KHALID MAHMOOD AHMAD",
      "userId": "04961537570896709275"
     },
     "user_tz": -300
    },
    "id": "VywF9NyEDj4d"
   },
   "outputs": [],
   "source": [
    "class Custom_Dataset(Dataset):\n",
    "    def __init__(self, csv_file, img_dir, transform=None): \n",
    "        # Run once\n",
    "        self.img_labels = pd.read_csv(csv_file).iloc[::5, :]\n",
    "        self.transform = transform\n",
    "        self.img_dir = img_dir\n",
    "    \n",
    "    def __len__(self):\n",
    "        # return the number of samples in dataset\n",
    "        return len(self.img_labels)\n",
    "\n",
    "    def __getitem__(self, idx):\n",
    "        # loads and returns a sample from the dataset at the given index\n",
    "        img_path = os.path.join(self.img_dir ,self.img_labels.iloc[idx, -1])\n",
    "        image = PIL.Image.open(img_path)\n",
    "        label = torch.tensor(self.img_labels.iloc[idx][0:-1])\n",
    "    \n",
    "        if self.transform:\n",
    "            image = self.transform(image)\n",
    "        \n",
    "        return image, label"
   ]
  },
  {
   "cell_type": "code",
   "execution_count": 7,
   "metadata": {
    "id": "o7JasRaVQLBW"
   },
   "outputs": [],
   "source": [
    "def load_dataset(csv_file, img_dir,train_size, validation_size, test_size, batch_size):\n",
    "\n",
    "    transform = transforms.Compose([#transforms.Grayscale(), \n",
    "                                     transforms.ToTensor(),\n",
    "                                     #transforms.Resize((28,28)), \n",
    "                                     transforms.Normalize([0, 0, 0],[0.5,0.5,0.5])\n",
    "                                     ])\n",
    "    # read dataset\n",
    "    dataset = Custom_Dataset(csv_file=csv_file, img_dir=img_dir, transform = transform)\n",
    "\n",
    "    # specify sizes\n",
    "    train_set_size = int(len(dataset) * train_size)\n",
    "    test_set_size = int(len(dataset) * test_size)\n",
    "    val_set_size = len(dataset) - train_set_size - test_set_size\n",
    "\n",
    "    # split data\n",
    "    train_data, val_data, test_data = torch.utils.data.random_split(dataset, [train_set_size,val_set_size,test_set_size])\n",
    "\n",
    "    # create dataloader for each data (test,train,val)\n",
    "    train_data_loader = torch.utils.data.DataLoader(train_data, batch_size=batch_size, shuffle=True)\n",
    "    val_data_loader = torch.utils.data.DataLoader(val_data, batch_size=batch_size, shuffle=True)\n",
    "    test_data_loader = torch.utils.data.DataLoader(test_data, batch_size=batch_size, shuffle=True)\n",
    "    \n",
    "    #return\n",
    "    return train_data_loader, val_data_loader, test_data_loader"
   ]
  },
  {
   "cell_type": "code",
   "execution_count": 8,
   "metadata": {
    "colab": {
     "base_uri": "https://localhost:8080/",
     "height": 398
    },
    "executionInfo": {
     "elapsed": 580,
     "status": "error",
     "timestamp": 1651918321207,
     "user": {
      "displayName": "Ali Khalid",
      "userId": "10809480287003355230"
     },
     "user_tz": -300
    },
    "id": "yiTxJ9SLYaa0",
    "outputId": "48ac96f1-68bf-4f1e-b6df-685fa9453ed8"
   },
   "outputs": [],
   "source": [
    "img_dir = '..\\CelebA\\Img\\img_align_celeba\\img_align_celeba'\n",
    "csv_file = '../task3_data/task3.csv'\n",
    "train_data_loader, val_data_loader, test_data_loader = load_dataset(csv_file,img_dir,0.7,0.15,0.15, 16)"
   ]
  },
  {
   "cell_type": "markdown",
   "metadata": {
    "id": "nKBtkDmfaolk"
   },
   "source": [
    "## **Creating Model**"
   ]
  },
  {
   "cell_type": "code",
   "execution_count": 29,
   "metadata": {
    "id": "ys55GWVAatBt"
   },
   "outputs": [],
   "source": [
    "from torch import nn\n",
    "import torch.nn.functional as F\n",
    "from torch import optim\n",
    "\n",
    "class Net(nn.Module):\n",
    "    def __init__(self):\n",
    "        super().__init__()\n",
    "        self.cnn_layers = nn.Sequential(\n",
    "            # Defining a 2D convolution layer\n",
    "            nn.Conv2d(3, 8, kernel_size=3, stride=1, padding=1),\n",
    "            nn.BatchNorm2d(8),\n",
    "            nn.ReLU(inplace=True),\n",
    "            nn.MaxPool2d(kernel_size=2, stride=2),\n",
    "            # Defining another 2D convolution layer\n",
    "            nn.Conv2d(8, 16, kernel_size=3, stride=1, padding=1),\n",
    "            nn.BatchNorm2d(16),\n",
    "            nn.ReLU(inplace=True),\n",
    "            nn.MaxPool2d(kernel_size=2, stride=2),\n",
    "             # Defining another 2D convolution layer\n",
    "            nn.Conv2d(16, 32, kernel_size=3, stride=1, padding=1),\n",
    "            nn.BatchNorm2d(32),\n",
    "            nn.ReLU(inplace=True),\n",
    "            nn.MaxPool2d(kernel_size=2, stride=2),\n",
    "        )\n",
    "\n",
    "        self.linear_layers = nn.Sequential(\n",
    "            nn.Linear(32 * 27 * 22, 7)\n",
    "        )\n",
    "\n",
    "\n",
    "    def forward(self, x):\n",
    "        x = self.cnn_layers(x)\n",
    "        x = x.view(x.size(0), -1)\n",
    "        x = self.linear_layers(x)\n",
    "        return x\n",
    "\n",
    "# model\n",
    "net = Net().to(device)"
   ]
  },
  {
   "cell_type": "markdown",
   "metadata": {
    "id": "rPhzrua7hZrv"
   },
   "source": [
    "## Training Model"
   ]
  },
  {
   "cell_type": "code",
   "execution_count": null,
   "metadata": {
    "id": "ovdn0w0qhfSW"
   },
   "outputs": [],
   "source": [
    "def train(epochs, train_data_loader, val_data_loader, loss_func, optimizer, learning_rate):\n",
    "    train_step = len(train_data_loader)\n",
    "    val_step = len(val_data_loader)\n",
    "    train_loss = []\n",
    "    train_acc = []\n",
    "    val_loss = []\n",
    "    val_acc = []\n",
    "\n",
    "    for epoch in range(epochs): # iterate over epochs\n",
    "        t_loss = 0\n",
    "        t_acc = 0 \n",
    "        for i, data in enumerate(train_data_loader): # iterate over batches\n",
    "            \n",
    "          # get image and labels data is in tuple form (inputs, label)\n",
    "            image, labels = data\n",
    "            image = image.to(device)\n",
    "            labels = labels.to(device).float()\n",
    "         \n",
    "            # Zero-out gradients\n",
    "            optimizer.zero_grad()\n",
    "\n",
    "            # forward + backward + optimize\n",
    "            outputs = net(image)\n",
    "            pred = torch.tensor([[1 if i > 0.5 else 0 for i in y ] for y in outputs])\n",
    "            loss = loss_func(outputs, labels)\n",
    "            loss.backward()\n",
    "            optimizer.step()\n",
    "            t_loss += loss.item()\n",
    "            t_acc += torch.sum((pred == labels).all(axis = 1))/len(labels)\n",
    "\n",
    "            if (i+1) % 10 == 0:\n",
    "                print ('Epoch [{}/{}], Step [{}/{}], Loss: {:.4f}' .format(epoch+1, epochs, i+1, train_step, loss.item()))\n",
    "    \n",
    "        v_loss = 0\n",
    "        v_acc = 0\n",
    "        for i, data in enumerate(val_data_loader): # iterate over batches\n",
    "            # get image and labels data is in tuple form (inputs, label)\n",
    "            image, labels = data\n",
    "            image = image.to(device)\n",
    "            labels = labels.to(device).float()\n",
    "            outputs = net(image)\n",
    "            #pred = np.squeeze(outputs)\n",
    "            pred = torch.tensor([[1 if i > 0.5 else 0 for i in y ] for y in outputs])\n",
    "            loss = loss_func(outputs, labels)\n",
    "            v_loss += loss.item()\n",
    "            v_acc += torch.sum((pred == labels).all(axis = 1))/len(labels)\n",
    "     \n",
    "        train_loss.append(t_loss/train_step)\n",
    "        train_acc.append(t_acc/train_step)\n",
    "        val_loss.append(v_loss/val_step)\n",
    "        val_acc.append(v_acc/val_step)\n",
    "        print ('Epoch [{}/{}], train_loss: {:.4f}, val_loss: {:.4f}' .format(epoch+1, epochs, train_loss[-1], val_loss[-1]))\n",
    "    \n",
    "    return train_loss, train_acc, val_loss, val_acc"
   ]
  },
  {
   "cell_type": "code",
   "execution_count": 30,
   "metadata": {
    "colab": {
     "base_uri": "https://localhost:8080/",
     "height": 433
    },
    "executionInfo": {
     "elapsed": 106559,
     "status": "error",
     "timestamp": 1651881065083,
     "user": {
      "displayName": "Ali Khalid",
      "userId": "10809480287003355230"
     },
     "user_tz": -300
    },
    "id": "pN0Nkf8Fh8fg",
    "outputId": "2f748680-34a9-46cf-e93f-370e7bcc611a"
   },
   "outputs": [
    {
     "name": "stdout",
     "output_type": "stream",
     "text": [
      "Epoch [1/10], Step [10/548], Loss: 0.5973\n",
      "Epoch [1/10], Step [20/548], Loss: 0.5715\n",
      "Epoch [1/10], Step [30/548], Loss: 0.5865\n",
      "Epoch [1/10], Step [40/548], Loss: 0.5382\n",
      "Epoch [1/10], Step [50/548], Loss: 0.5525\n",
      "Epoch [1/10], Step [60/548], Loss: 0.5677\n",
      "Epoch [1/10], Step [70/548], Loss: 0.5427\n",
      "Epoch [1/10], Step [80/548], Loss: 0.4876\n",
      "Epoch [1/10], Step [90/548], Loss: 0.4671\n",
      "Epoch [1/10], Step [100/548], Loss: 0.5781\n",
      "Epoch [1/10], Step [110/548], Loss: 0.5410\n",
      "Epoch [1/10], Step [120/548], Loss: 0.4080\n",
      "Epoch [1/10], Step [130/548], Loss: 0.4646\n",
      "Epoch [1/10], Step [140/548], Loss: 0.4733\n",
      "Epoch [1/10], Step [150/548], Loss: 0.5377\n",
      "Epoch [1/10], Step [160/548], Loss: 0.5382\n",
      "Epoch [1/10], Step [170/548], Loss: 0.5969\n",
      "Epoch [1/10], Step [180/548], Loss: 0.5318\n",
      "Epoch [1/10], Step [190/548], Loss: 0.4613\n",
      "Epoch [1/10], Step [200/548], Loss: 0.5490\n",
      "Epoch [1/10], Step [210/548], Loss: 0.5047\n",
      "Epoch [1/10], Step [220/548], Loss: 0.4081\n",
      "Epoch [1/10], Step [230/548], Loss: 0.4457\n",
      "Epoch [1/10], Step [240/548], Loss: 0.4323\n",
      "Epoch [1/10], Step [250/548], Loss: 0.4026\n",
      "Epoch [1/10], Step [260/548], Loss: 0.3839\n",
      "Epoch [1/10], Step [270/548], Loss: 0.4561\n",
      "Epoch [1/10], Step [280/548], Loss: 0.5150\n",
      "Epoch [1/10], Step [290/548], Loss: 0.3753\n",
      "Epoch [1/10], Step [300/548], Loss: 0.3775\n",
      "Epoch [1/10], Step [310/548], Loss: 0.5642\n",
      "Epoch [1/10], Step [320/548], Loss: 0.4593\n",
      "Epoch [1/10], Step [330/548], Loss: 0.3847\n",
      "Epoch [1/10], Step [340/548], Loss: 0.4840\n",
      "Epoch [1/10], Step [350/548], Loss: 0.3815\n",
      "Epoch [1/10], Step [360/548], Loss: 0.3201\n",
      "Epoch [1/10], Step [370/548], Loss: 0.4642\n",
      "Epoch [1/10], Step [380/548], Loss: 0.4727\n",
      "Epoch [1/10], Step [390/548], Loss: 0.4399\n",
      "Epoch [1/10], Step [400/548], Loss: 0.4005\n",
      "Epoch [1/10], Step [410/548], Loss: 0.3840\n",
      "Epoch [1/10], Step [420/548], Loss: 0.3629\n",
      "Epoch [1/10], Step [430/548], Loss: 0.4141\n",
      "Epoch [1/10], Step [440/548], Loss: 0.3160\n",
      "Epoch [1/10], Step [450/548], Loss: 0.2829\n",
      "Epoch [1/10], Step [460/548], Loss: 0.3560\n",
      "Epoch [1/10], Step [470/548], Loss: 0.3450\n",
      "Epoch [1/10], Step [480/548], Loss: 0.3578\n",
      "Epoch [1/10], Step [490/548], Loss: 0.3587\n",
      "Epoch [1/10], Step [500/548], Loss: 0.4154\n",
      "Epoch [1/10], Step [510/548], Loss: 0.4632\n",
      "Epoch [1/10], Step [520/548], Loss: 0.4454\n",
      "Epoch [1/10], Step [530/548], Loss: 0.4203\n",
      "Epoch [1/10], Step [540/548], Loss: 0.3178\n",
      "Epoch [1/10], train_loss: 0.4598, val_loss: 0.3899\n",
      "Epoch [2/10], Step [10/548], Loss: 0.3963\n",
      "Epoch [2/10], Step [20/548], Loss: 0.4342\n",
      "Epoch [2/10], Step [30/548], Loss: 0.3376\n",
      "Epoch [2/10], Step [40/548], Loss: 0.3078\n",
      "Epoch [2/10], Step [50/548], Loss: 0.4332\n",
      "Epoch [2/10], Step [60/548], Loss: 0.4528\n",
      "Epoch [2/10], Step [70/548], Loss: 0.3866\n",
      "Epoch [2/10], Step [80/548], Loss: 0.3045\n",
      "Epoch [2/10], Step [90/548], Loss: 0.4848\n",
      "Epoch [2/10], Step [100/548], Loss: 0.3107\n",
      "Epoch [2/10], Step [110/548], Loss: 0.3370\n",
      "Epoch [2/10], Step [120/548], Loss: 0.3963\n",
      "Epoch [2/10], Step [130/548], Loss: 0.3192\n",
      "Epoch [2/10], Step [140/548], Loss: 0.4253\n",
      "Epoch [2/10], Step [150/548], Loss: 0.3202\n",
      "Epoch [2/10], Step [160/548], Loss: 0.3699\n",
      "Epoch [2/10], Step [170/548], Loss: 0.3002\n",
      "Epoch [2/10], Step [180/548], Loss: 0.2845\n",
      "Epoch [2/10], Step [190/548], Loss: 0.3477\n",
      "Epoch [2/10], Step [200/548], Loss: 0.3232\n",
      "Epoch [2/10], Step [210/548], Loss: 0.4196\n",
      "Epoch [2/10], Step [220/548], Loss: 0.4166\n",
      "Epoch [2/10], Step [230/548], Loss: 0.3487\n",
      "Epoch [2/10], Step [240/548], Loss: 0.3189\n",
      "Epoch [2/10], Step [250/548], Loss: 0.3978\n",
      "Epoch [2/10], Step [260/548], Loss: 0.3298\n",
      "Epoch [2/10], Step [270/548], Loss: 0.4348\n",
      "Epoch [2/10], Step [280/548], Loss: 0.4062\n",
      "Epoch [2/10], Step [290/548], Loss: 0.3684\n",
      "Epoch [2/10], Step [300/548], Loss: 0.3024\n",
      "Epoch [2/10], Step [310/548], Loss: 0.3573\n",
      "Epoch [2/10], Step [320/548], Loss: 0.2403\n",
      "Epoch [2/10], Step [330/548], Loss: 0.3068\n",
      "Epoch [2/10], Step [340/548], Loss: 0.2762\n",
      "Epoch [2/10], Step [350/548], Loss: 0.3511\n",
      "Epoch [2/10], Step [360/548], Loss: 0.3556\n",
      "Epoch [2/10], Step [370/548], Loss: 0.3180\n",
      "Epoch [2/10], Step [380/548], Loss: 0.3684\n",
      "Epoch [2/10], Step [390/548], Loss: 0.3288\n",
      "Epoch [2/10], Step [400/548], Loss: 0.2625\n",
      "Epoch [2/10], Step [410/548], Loss: 0.3355\n",
      "Epoch [2/10], Step [420/548], Loss: 0.2996\n",
      "Epoch [2/10], Step [430/548], Loss: 0.3288\n",
      "Epoch [2/10], Step [440/548], Loss: 0.3005\n",
      "Epoch [2/10], Step [450/548], Loss: 0.2823\n",
      "Epoch [2/10], Step [460/548], Loss: 0.3638\n",
      "Epoch [2/10], Step [470/548], Loss: 0.2480\n",
      "Epoch [2/10], Step [480/548], Loss: 0.3093\n",
      "Epoch [2/10], Step [490/548], Loss: 0.2892\n",
      "Epoch [2/10], Step [500/548], Loss: 0.4243\n",
      "Epoch [2/10], Step [510/548], Loss: 0.3120\n",
      "Epoch [2/10], Step [520/548], Loss: 0.3034\n",
      "Epoch [2/10], Step [530/548], Loss: 0.3996\n",
      "Epoch [2/10], Step [540/548], Loss: 0.3973\n",
      "Epoch [2/10], train_loss: 0.3412, val_loss: 0.3281\n",
      "Epoch [3/10], Step [10/548], Loss: 0.2904\n",
      "Epoch [3/10], Step [20/548], Loss: 0.2261\n",
      "Epoch [3/10], Step [30/548], Loss: 0.3548\n",
      "Epoch [3/10], Step [40/548], Loss: 0.2533\n",
      "Epoch [3/10], Step [50/548], Loss: 0.3610\n",
      "Epoch [3/10], Step [60/548], Loss: 0.2949\n",
      "Epoch [3/10], Step [70/548], Loss: 0.3302\n",
      "Epoch [3/10], Step [80/548], Loss: 0.2427\n",
      "Epoch [3/10], Step [90/548], Loss: 0.2668\n",
      "Epoch [3/10], Step [100/548], Loss: 0.2796\n",
      "Epoch [3/10], Step [110/548], Loss: 0.3376\n",
      "Epoch [3/10], Step [120/548], Loss: 0.3276\n",
      "Epoch [3/10], Step [130/548], Loss: 0.2183\n",
      "Epoch [3/10], Step [140/548], Loss: 0.3000\n",
      "Epoch [3/10], Step [150/548], Loss: 0.2872\n",
      "Epoch [3/10], Step [160/548], Loss: 0.2634\n",
      "Epoch [3/10], Step [170/548], Loss: 0.3365\n",
      "Epoch [3/10], Step [180/548], Loss: 0.2496\n",
      "Epoch [3/10], Step [190/548], Loss: 0.3815\n",
      "Epoch [3/10], Step [200/548], Loss: 0.3105\n",
      "Epoch [3/10], Step [210/548], Loss: 0.4052\n",
      "Epoch [3/10], Step [220/548], Loss: 0.2619\n",
      "Epoch [3/10], Step [230/548], Loss: 0.2194\n",
      "Epoch [3/10], Step [240/548], Loss: 0.2690\n",
      "Epoch [3/10], Step [250/548], Loss: 0.3226\n",
      "Epoch [3/10], Step [260/548], Loss: 0.2974\n",
      "Epoch [3/10], Step [270/548], Loss: 0.2717\n",
      "Epoch [3/10], Step [280/548], Loss: 0.3090\n",
      "Epoch [3/10], Step [290/548], Loss: 0.4249\n",
      "Epoch [3/10], Step [300/548], Loss: 0.2400\n",
      "Epoch [3/10], Step [310/548], Loss: 0.2329\n",
      "Epoch [3/10], Step [320/548], Loss: 0.3400\n",
      "Epoch [3/10], Step [330/548], Loss: 0.2583\n",
      "Epoch [3/10], Step [340/548], Loss: 0.2869\n",
      "Epoch [3/10], Step [350/548], Loss: 0.3282\n",
      "Epoch [3/10], Step [360/548], Loss: 0.2536\n",
      "Epoch [3/10], Step [370/548], Loss: 0.4034\n",
      "Epoch [3/10], Step [380/548], Loss: 0.2010\n",
      "Epoch [3/10], Step [390/548], Loss: 0.3065\n",
      "Epoch [3/10], Step [400/548], Loss: 0.3068\n",
      "Epoch [3/10], Step [410/548], Loss: 0.3562\n",
      "Epoch [3/10], Step [420/548], Loss: 0.3590\n",
      "Epoch [3/10], Step [430/548], Loss: 0.3893\n",
      "Epoch [3/10], Step [440/548], Loss: 0.3216\n",
      "Epoch [3/10], Step [450/548], Loss: 0.2780\n",
      "Epoch [3/10], Step [460/548], Loss: 0.2723\n",
      "Epoch [3/10], Step [470/548], Loss: 0.2569\n",
      "Epoch [3/10], Step [480/548], Loss: 0.2769\n",
      "Epoch [3/10], Step [490/548], Loss: 0.2999\n",
      "Epoch [3/10], Step [500/548], Loss: 0.3166\n",
      "Epoch [3/10], Step [510/548], Loss: 0.2737\n",
      "Epoch [3/10], Step [520/548], Loss: 0.3480\n",
      "Epoch [3/10], Step [530/548], Loss: 0.2941\n",
      "Epoch [3/10], Step [540/548], Loss: 0.2234\n",
      "Epoch [3/10], train_loss: 0.2965, val_loss: 0.3004\n",
      "Epoch [4/10], Step [10/548], Loss: 0.2778\n",
      "Epoch [4/10], Step [20/548], Loss: 0.3539\n",
      "Epoch [4/10], Step [30/548], Loss: 0.2563\n",
      "Epoch [4/10], Step [40/548], Loss: 0.2753\n",
      "Epoch [4/10], Step [50/548], Loss: 0.2334\n",
      "Epoch [4/10], Step [60/548], Loss: 0.1663\n",
      "Epoch [4/10], Step [70/548], Loss: 0.2510\n",
      "Epoch [4/10], Step [80/548], Loss: 0.2465\n",
      "Epoch [4/10], Step [90/548], Loss: 0.2975\n",
      "Epoch [4/10], Step [100/548], Loss: 0.2507\n",
      "Epoch [4/10], Step [110/548], Loss: 0.3117\n",
      "Epoch [4/10], Step [120/548], Loss: 0.3047\n",
      "Epoch [4/10], Step [130/548], Loss: 0.1407\n",
      "Epoch [4/10], Step [140/548], Loss: 0.3479\n",
      "Epoch [4/10], Step [150/548], Loss: 0.3115\n",
      "Epoch [4/10], Step [160/548], Loss: 0.2406\n",
      "Epoch [4/10], Step [170/548], Loss: 0.2053\n",
      "Epoch [4/10], Step [180/548], Loss: 0.3208\n",
      "Epoch [4/10], Step [190/548], Loss: 0.2441\n",
      "Epoch [4/10], Step [200/548], Loss: 0.3264\n",
      "Epoch [4/10], Step [210/548], Loss: 0.2657\n",
      "Epoch [4/10], Step [220/548], Loss: 0.2423\n",
      "Epoch [4/10], Step [230/548], Loss: 0.2462\n",
      "Epoch [4/10], Step [240/548], Loss: 0.1943\n",
      "Epoch [4/10], Step [250/548], Loss: 0.2967\n",
      "Epoch [4/10], Step [260/548], Loss: 0.2762\n"
     ]
    },
    {
     "name": "stdout",
     "output_type": "stream",
     "text": [
      "Epoch [4/10], Step [270/548], Loss: 0.3039\n",
      "Epoch [4/10], Step [280/548], Loss: 0.2250\n",
      "Epoch [4/10], Step [290/548], Loss: 0.1974\n",
      "Epoch [4/10], Step [300/548], Loss: 0.3271\n",
      "Epoch [4/10], Step [310/548], Loss: 0.2769\n",
      "Epoch [4/10], Step [320/548], Loss: 0.3176\n",
      "Epoch [4/10], Step [330/548], Loss: 0.2174\n",
      "Epoch [4/10], Step [340/548], Loss: 0.2394\n",
      "Epoch [4/10], Step [350/548], Loss: 0.2991\n",
      "Epoch [4/10], Step [360/548], Loss: 0.2444\n",
      "Epoch [4/10], Step [370/548], Loss: 0.2200\n",
      "Epoch [4/10], Step [380/548], Loss: 0.2304\n",
      "Epoch [4/10], Step [390/548], Loss: 0.2591\n",
      "Epoch [4/10], Step [400/548], Loss: 0.3417\n",
      "Epoch [4/10], Step [410/548], Loss: 0.2474\n",
      "Epoch [4/10], Step [420/548], Loss: 0.2335\n",
      "Epoch [4/10], Step [430/548], Loss: 0.2439\n",
      "Epoch [4/10], Step [440/548], Loss: 0.2931\n",
      "Epoch [4/10], Step [450/548], Loss: 0.2550\n",
      "Epoch [4/10], Step [460/548], Loss: 0.2690\n",
      "Epoch [4/10], Step [470/548], Loss: 0.2115\n",
      "Epoch [4/10], Step [480/548], Loss: 0.2250\n",
      "Epoch [4/10], Step [490/548], Loss: 0.2372\n",
      "Epoch [4/10], Step [500/548], Loss: 0.2314\n",
      "Epoch [4/10], Step [510/548], Loss: 0.2002\n",
      "Epoch [4/10], Step [520/548], Loss: 0.2904\n",
      "Epoch [4/10], Step [530/548], Loss: 0.1991\n",
      "Epoch [4/10], Step [540/548], Loss: 0.2340\n",
      "Epoch [4/10], train_loss: 0.2708, val_loss: 0.2836\n",
      "Epoch [5/10], Step [10/548], Loss: 0.2413\n",
      "Epoch [5/10], Step [20/548], Loss: 0.2425\n",
      "Epoch [5/10], Step [30/548], Loss: 0.2512\n",
      "Epoch [5/10], Step [40/548], Loss: 0.2232\n",
      "Epoch [5/10], Step [50/548], Loss: 0.2295\n",
      "Epoch [5/10], Step [60/548], Loss: 0.2242\n",
      "Epoch [5/10], Step [70/548], Loss: 0.2402\n",
      "Epoch [5/10], Step [80/548], Loss: 0.2883\n",
      "Epoch [5/10], Step [90/548], Loss: 0.2773\n",
      "Epoch [5/10], Step [100/548], Loss: 0.2189\n",
      "Epoch [5/10], Step [110/548], Loss: 0.2430\n",
      "Epoch [5/10], Step [120/548], Loss: 0.2011\n",
      "Epoch [5/10], Step [130/548], Loss: 0.2421\n",
      "Epoch [5/10], Step [140/548], Loss: 0.2404\n",
      "Epoch [5/10], Step [150/548], Loss: 0.2210\n",
      "Epoch [5/10], Step [160/548], Loss: 0.2991\n",
      "Epoch [5/10], Step [170/548], Loss: 0.3110\n",
      "Epoch [5/10], Step [180/548], Loss: 0.2572\n",
      "Epoch [5/10], Step [190/548], Loss: 0.2304\n",
      "Epoch [5/10], Step [200/548], Loss: 0.2568\n",
      "Epoch [5/10], Step [210/548], Loss: 0.1698\n",
      "Epoch [5/10], Step [220/548], Loss: 0.3028\n",
      "Epoch [5/10], Step [230/548], Loss: 0.2506\n",
      "Epoch [5/10], Step [240/548], Loss: 0.3378\n",
      "Epoch [5/10], Step [250/548], Loss: 0.3493\n",
      "Epoch [5/10], Step [260/548], Loss: 0.2542\n",
      "Epoch [5/10], Step [270/548], Loss: 0.3096\n",
      "Epoch [5/10], Step [280/548], Loss: 0.3272\n",
      "Epoch [5/10], Step [290/548], Loss: 0.2735\n",
      "Epoch [5/10], Step [300/548], Loss: 0.2791\n",
      "Epoch [5/10], Step [310/548], Loss: 0.2497\n",
      "Epoch [5/10], Step [320/548], Loss: 0.2896\n",
      "Epoch [5/10], Step [330/548], Loss: 0.2470\n",
      "Epoch [5/10], Step [340/548], Loss: 0.2714\n",
      "Epoch [5/10], Step [350/548], Loss: 0.2986\n",
      "Epoch [5/10], Step [360/548], Loss: 0.2615\n",
      "Epoch [5/10], Step [370/548], Loss: 0.2345\n",
      "Epoch [5/10], Step [380/548], Loss: 0.1924\n",
      "Epoch [5/10], Step [390/548], Loss: 0.2316\n",
      "Epoch [5/10], Step [400/548], Loss: 0.2235\n",
      "Epoch [5/10], Step [410/548], Loss: 0.2235\n",
      "Epoch [5/10], Step [420/548], Loss: 0.2794\n",
      "Epoch [5/10], Step [430/548], Loss: 0.1605\n",
      "Epoch [5/10], Step [440/548], Loss: 0.2938\n",
      "Epoch [5/10], Step [450/548], Loss: 0.2758\n",
      "Epoch [5/10], Step [460/548], Loss: 0.3261\n",
      "Epoch [5/10], Step [470/548], Loss: 0.2036\n",
      "Epoch [5/10], Step [480/548], Loss: 0.2629\n",
      "Epoch [5/10], Step [490/548], Loss: 0.3166\n",
      "Epoch [5/10], Step [500/548], Loss: 0.3615\n",
      "Epoch [5/10], Step [510/548], Loss: 0.2388\n",
      "Epoch [5/10], Step [520/548], Loss: 0.2118\n",
      "Epoch [5/10], Step [530/548], Loss: 0.3025\n",
      "Epoch [5/10], Step [540/548], Loss: 0.2701\n",
      "Epoch [5/10], train_loss: 0.2534, val_loss: 0.2714\n",
      "Epoch [6/10], Step [10/548], Loss: 0.2582\n",
      "Epoch [6/10], Step [20/548], Loss: 0.3335\n",
      "Epoch [6/10], Step [30/548], Loss: 0.2470\n",
      "Epoch [6/10], Step [40/548], Loss: 0.2061\n",
      "Epoch [6/10], Step [50/548], Loss: 0.2118\n",
      "Epoch [6/10], Step [60/548], Loss: 0.2448\n",
      "Epoch [6/10], Step [70/548], Loss: 0.2671\n",
      "Epoch [6/10], Step [80/548], Loss: 0.2701\n",
      "Epoch [6/10], Step [90/548], Loss: 0.2571\n",
      "Epoch [6/10], Step [100/548], Loss: 0.2106\n",
      "Epoch [6/10], Step [110/548], Loss: 0.2040\n",
      "Epoch [6/10], Step [120/548], Loss: 0.3381\n",
      "Epoch [6/10], Step [130/548], Loss: 0.2505\n",
      "Epoch [6/10], Step [140/548], Loss: 0.2168\n",
      "Epoch [6/10], Step [150/548], Loss: 0.1706\n",
      "Epoch [6/10], Step [160/548], Loss: 0.2692\n",
      "Epoch [6/10], Step [170/548], Loss: 0.2801\n",
      "Epoch [6/10], Step [180/548], Loss: 0.2733\n",
      "Epoch [6/10], Step [190/548], Loss: 0.2993\n",
      "Epoch [6/10], Step [200/548], Loss: 0.2331\n",
      "Epoch [6/10], Step [210/548], Loss: 0.2042\n",
      "Epoch [6/10], Step [220/548], Loss: 0.2757\n",
      "Epoch [6/10], Step [230/548], Loss: 0.2712\n",
      "Epoch [6/10], Step [240/548], Loss: 0.2483\n",
      "Epoch [6/10], Step [250/548], Loss: 0.2376\n",
      "Epoch [6/10], Step [260/548], Loss: 0.2529\n",
      "Epoch [6/10], Step [270/548], Loss: 0.2161\n",
      "Epoch [6/10], Step [280/548], Loss: 0.1719\n",
      "Epoch [6/10], Step [290/548], Loss: 0.3156\n",
      "Epoch [6/10], Step [300/548], Loss: 0.2355\n",
      "Epoch [6/10], Step [310/548], Loss: 0.2355\n",
      "Epoch [6/10], Step [320/548], Loss: 0.2006\n",
      "Epoch [6/10], Step [330/548], Loss: 0.2774\n",
      "Epoch [6/10], Step [340/548], Loss: 0.2682\n",
      "Epoch [6/10], Step [350/548], Loss: 0.1314\n",
      "Epoch [6/10], Step [360/548], Loss: 0.2324\n",
      "Epoch [6/10], Step [370/548], Loss: 0.2436\n",
      "Epoch [6/10], Step [380/548], Loss: 0.1847\n",
      "Epoch [6/10], Step [390/548], Loss: 0.2165\n",
      "Epoch [6/10], Step [400/548], Loss: 0.2373\n",
      "Epoch [6/10], Step [410/548], Loss: 0.1994\n",
      "Epoch [6/10], Step [420/548], Loss: 0.2225\n",
      "Epoch [6/10], Step [430/548], Loss: 0.1902\n",
      "Epoch [6/10], Step [440/548], Loss: 0.1966\n",
      "Epoch [6/10], Step [450/548], Loss: 0.2078\n",
      "Epoch [6/10], Step [460/548], Loss: 0.2213\n",
      "Epoch [6/10], Step [470/548], Loss: 0.3027\n",
      "Epoch [6/10], Step [480/548], Loss: 0.2775\n",
      "Epoch [6/10], Step [490/548], Loss: 0.2292\n",
      "Epoch [6/10], Step [500/548], Loss: 0.3273\n",
      "Epoch [6/10], Step [510/548], Loss: 0.2444\n",
      "Epoch [6/10], Step [520/548], Loss: 0.2738\n",
      "Epoch [6/10], Step [530/548], Loss: 0.3161\n",
      "Epoch [6/10], Step [540/548], Loss: 0.2862\n",
      "Epoch [6/10], train_loss: 0.2395, val_loss: 0.2639\n",
      "Epoch [7/10], Step [10/548], Loss: 0.2403\n",
      "Epoch [7/10], Step [20/548], Loss: 0.1568\n",
      "Epoch [7/10], Step [30/548], Loss: 0.2326\n",
      "Epoch [7/10], Step [40/548], Loss: 0.2347\n",
      "Epoch [7/10], Step [50/548], Loss: 0.2443\n",
      "Epoch [7/10], Step [60/548], Loss: 0.2649\n",
      "Epoch [7/10], Step [70/548], Loss: 0.2097\n",
      "Epoch [7/10], Step [80/548], Loss: 0.1753\n",
      "Epoch [7/10], Step [90/548], Loss: 0.2245\n",
      "Epoch [7/10], Step [100/548], Loss: 0.2462\n",
      "Epoch [7/10], Step [110/548], Loss: 0.2353\n",
      "Epoch [7/10], Step [120/548], Loss: 0.2016\n",
      "Epoch [7/10], Step [130/548], Loss: 0.1674\n",
      "Epoch [7/10], Step [140/548], Loss: 0.2562\n",
      "Epoch [7/10], Step [150/548], Loss: 0.2229\n",
      "Epoch [7/10], Step [160/548], Loss: 0.1804\n",
      "Epoch [7/10], Step [170/548], Loss: 0.2499\n",
      "Epoch [7/10], Step [180/548], Loss: 0.2192\n",
      "Epoch [7/10], Step [190/548], Loss: 0.1106\n",
      "Epoch [7/10], Step [200/548], Loss: 0.1870\n",
      "Epoch [7/10], Step [210/548], Loss: 0.2240\n",
      "Epoch [7/10], Step [220/548], Loss: 0.2568\n",
      "Epoch [7/10], Step [230/548], Loss: 0.2087\n",
      "Epoch [7/10], Step [240/548], Loss: 0.3031\n",
      "Epoch [7/10], Step [250/548], Loss: 0.2197\n",
      "Epoch [7/10], Step [260/548], Loss: 0.2835\n",
      "Epoch [7/10], Step [270/548], Loss: 0.2633\n",
      "Epoch [7/10], Step [280/548], Loss: 0.2991\n",
      "Epoch [7/10], Step [290/548], Loss: 0.1953\n",
      "Epoch [7/10], Step [300/548], Loss: 0.2315\n",
      "Epoch [7/10], Step [310/548], Loss: 0.2588\n",
      "Epoch [7/10], Step [320/548], Loss: 0.2308\n",
      "Epoch [7/10], Step [330/548], Loss: 0.3326\n",
      "Epoch [7/10], Step [340/548], Loss: 0.1719\n",
      "Epoch [7/10], Step [350/548], Loss: 0.2794\n",
      "Epoch [7/10], Step [360/548], Loss: 0.2339\n",
      "Epoch [7/10], Step [370/548], Loss: 0.1397\n",
      "Epoch [7/10], Step [380/548], Loss: 0.2734\n",
      "Epoch [7/10], Step [390/548], Loss: 0.2877\n",
      "Epoch [7/10], Step [400/548], Loss: 0.1912\n",
      "Epoch [7/10], Step [410/548], Loss: 0.3178\n",
      "Epoch [7/10], Step [420/548], Loss: 0.2371\n",
      "Epoch [7/10], Step [430/548], Loss: 0.2245\n",
      "Epoch [7/10], Step [440/548], Loss: 0.1954\n",
      "Epoch [7/10], Step [450/548], Loss: 0.2293\n",
      "Epoch [7/10], Step [460/548], Loss: 0.1650\n",
      "Epoch [7/10], Step [470/548], Loss: 0.2127\n",
      "Epoch [7/10], Step [480/548], Loss: 0.1688\n",
      "Epoch [7/10], Step [490/548], Loss: 0.2633\n",
      "Epoch [7/10], Step [500/548], Loss: 0.2719\n",
      "Epoch [7/10], Step [510/548], Loss: 0.3241\n",
      "Epoch [7/10], Step [520/548], Loss: 0.2234\n"
     ]
    },
    {
     "name": "stdout",
     "output_type": "stream",
     "text": [
      "Epoch [7/10], Step [530/548], Loss: 0.1739\n",
      "Epoch [7/10], Step [540/548], Loss: 0.1973\n",
      "Epoch [7/10], train_loss: 0.2289, val_loss: 0.2559\n",
      "Epoch [8/10], Step [10/548], Loss: 0.1843\n",
      "Epoch [8/10], Step [20/548], Loss: 0.2119\n",
      "Epoch [8/10], Step [30/548], Loss: 0.2284\n",
      "Epoch [8/10], Step [40/548], Loss: 0.3114\n",
      "Epoch [8/10], Step [50/548], Loss: 0.2071\n",
      "Epoch [8/10], Step [60/548], Loss: 0.2370\n",
      "Epoch [8/10], Step [70/548], Loss: 0.2037\n",
      "Epoch [8/10], Step [80/548], Loss: 0.2514\n",
      "Epoch [8/10], Step [90/548], Loss: 0.3086\n",
      "Epoch [8/10], Step [100/548], Loss: 0.2144\n",
      "Epoch [8/10], Step [110/548], Loss: 0.2188\n",
      "Epoch [8/10], Step [120/548], Loss: 0.2548\n",
      "Epoch [8/10], Step [130/548], Loss: 0.2146\n",
      "Epoch [8/10], Step [140/548], Loss: 0.2425\n",
      "Epoch [8/10], Step [150/548], Loss: 0.2959\n",
      "Epoch [8/10], Step [160/548], Loss: 0.3061\n",
      "Epoch [8/10], Step [170/548], Loss: 0.1956\n",
      "Epoch [8/10], Step [180/548], Loss: 0.2881\n",
      "Epoch [8/10], Step [190/548], Loss: 0.2814\n",
      "Epoch [8/10], Step [200/548], Loss: 0.1701\n",
      "Epoch [8/10], Step [210/548], Loss: 0.2470\n",
      "Epoch [8/10], Step [220/548], Loss: 0.2279\n",
      "Epoch [8/10], Step [230/548], Loss: 0.1826\n",
      "Epoch [8/10], Step [240/548], Loss: 0.2196\n",
      "Epoch [8/10], Step [250/548], Loss: 0.1593\n",
      "Epoch [8/10], Step [260/548], Loss: 0.1783\n",
      "Epoch [8/10], Step [270/548], Loss: 0.2442\n",
      "Epoch [8/10], Step [280/548], Loss: 0.1920\n",
      "Epoch [8/10], Step [290/548], Loss: 0.2135\n",
      "Epoch [8/10], Step [300/548], Loss: 0.1962\n",
      "Epoch [8/10], Step [310/548], Loss: 0.1799\n",
      "Epoch [8/10], Step [320/548], Loss: 0.2530\n",
      "Epoch [8/10], Step [330/548], Loss: 0.1939\n",
      "Epoch [8/10], Step [340/548], Loss: 0.1793\n",
      "Epoch [8/10], Step [350/548], Loss: 0.1785\n",
      "Epoch [8/10], Step [360/548], Loss: 0.1999\n",
      "Epoch [8/10], Step [370/548], Loss: 0.1847\n",
      "Epoch [8/10], Step [380/548], Loss: 0.1874\n",
      "Epoch [8/10], Step [390/548], Loss: 0.2861\n",
      "Epoch [8/10], Step [400/548], Loss: 0.2686\n",
      "Epoch [8/10], Step [410/548], Loss: 0.2785\n",
      "Epoch [8/10], Step [420/548], Loss: 0.2592\n",
      "Epoch [8/10], Step [430/548], Loss: 0.2058\n",
      "Epoch [8/10], Step [440/548], Loss: 0.1725\n",
      "Epoch [8/10], Step [450/548], Loss: 0.2459\n",
      "Epoch [8/10], Step [460/548], Loss: 0.2777\n",
      "Epoch [8/10], Step [470/548], Loss: 0.1332\n",
      "Epoch [8/10], Step [480/548], Loss: 0.2014\n",
      "Epoch [8/10], Step [490/548], Loss: 0.2514\n",
      "Epoch [8/10], Step [500/548], Loss: 0.1766\n",
      "Epoch [8/10], Step [510/548], Loss: 0.3252\n",
      "Epoch [8/10], Step [520/548], Loss: 0.2356\n",
      "Epoch [8/10], Step [530/548], Loss: 0.1871\n",
      "Epoch [8/10], Step [540/548], Loss: 0.2409\n",
      "Epoch [8/10], train_loss: 0.2191, val_loss: 0.2518\n",
      "Epoch [9/10], Step [10/548], Loss: 0.0888\n",
      "Epoch [9/10], Step [20/548], Loss: 0.3061\n",
      "Epoch [9/10], Step [30/548], Loss: 0.2940\n",
      "Epoch [9/10], Step [40/548], Loss: 0.1949\n",
      "Epoch [9/10], Step [50/548], Loss: 0.2030\n",
      "Epoch [9/10], Step [60/548], Loss: 0.1756\n",
      "Epoch [9/10], Step [70/548], Loss: 0.1466\n",
      "Epoch [9/10], Step [80/548], Loss: 0.2443\n",
      "Epoch [9/10], Step [90/548], Loss: 0.3244\n",
      "Epoch [9/10], Step [100/548], Loss: 0.2245\n",
      "Epoch [9/10], Step [110/548], Loss: 0.1554\n",
      "Epoch [9/10], Step [120/548], Loss: 0.1944\n",
      "Epoch [9/10], Step [130/548], Loss: 0.2281\n",
      "Epoch [9/10], Step [140/548], Loss: 0.1816\n",
      "Epoch [9/10], Step [150/548], Loss: 0.2563\n",
      "Epoch [9/10], Step [160/548], Loss: 0.2156\n",
      "Epoch [9/10], Step [170/548], Loss: 0.1729\n",
      "Epoch [9/10], Step [180/548], Loss: 0.2086\n",
      "Epoch [9/10], Step [190/548], Loss: 0.1872\n",
      "Epoch [9/10], Step [200/548], Loss: 0.2259\n",
      "Epoch [9/10], Step [210/548], Loss: 0.1748\n",
      "Epoch [9/10], Step [220/548], Loss: 0.2808\n",
      "Epoch [9/10], Step [230/548], Loss: 0.1655\n",
      "Epoch [9/10], Step [240/548], Loss: 0.2079\n",
      "Epoch [9/10], Step [250/548], Loss: 0.2780\n",
      "Epoch [9/10], Step [260/548], Loss: 0.2798\n",
      "Epoch [9/10], Step [270/548], Loss: 0.1481\n",
      "Epoch [9/10], Step [280/548], Loss: 0.2130\n",
      "Epoch [9/10], Step [290/548], Loss: 0.1762\n",
      "Epoch [9/10], Step [300/548], Loss: 0.2105\n",
      "Epoch [9/10], Step [310/548], Loss: 0.1336\n",
      "Epoch [9/10], Step [320/548], Loss: 0.1905\n",
      "Epoch [9/10], Step [330/548], Loss: 0.2762\n",
      "Epoch [9/10], Step [340/548], Loss: 0.1756\n",
      "Epoch [9/10], Step [350/548], Loss: 0.2538\n",
      "Epoch [9/10], Step [360/548], Loss: 0.3374\n",
      "Epoch [9/10], Step [370/548], Loss: 0.2647\n",
      "Epoch [9/10], Step [380/548], Loss: 0.2082\n",
      "Epoch [9/10], Step [390/548], Loss: 0.1666\n",
      "Epoch [9/10], Step [400/548], Loss: 0.3166\n",
      "Epoch [9/10], Step [410/548], Loss: 0.1620\n",
      "Epoch [9/10], Step [420/548], Loss: 0.1606\n",
      "Epoch [9/10], Step [430/548], Loss: 0.1693\n",
      "Epoch [9/10], Step [440/548], Loss: 0.1722\n",
      "Epoch [9/10], Step [450/548], Loss: 0.2134\n",
      "Epoch [9/10], Step [460/548], Loss: 0.1663\n",
      "Epoch [9/10], Step [470/548], Loss: 0.2161\n",
      "Epoch [9/10], Step [480/548], Loss: 0.2613\n",
      "Epoch [9/10], Step [490/548], Loss: 0.1685\n",
      "Epoch [9/10], Step [500/548], Loss: 0.2325\n",
      "Epoch [9/10], Step [510/548], Loss: 0.1879\n",
      "Epoch [9/10], Step [520/548], Loss: 0.1808\n",
      "Epoch [9/10], Step [530/548], Loss: 0.1630\n",
      "Epoch [9/10], Step [540/548], Loss: 0.2513\n",
      "Epoch [9/10], train_loss: 0.2110, val_loss: 0.2440\n",
      "Epoch [10/10], Step [10/548], Loss: 0.2320\n",
      "Epoch [10/10], Step [20/548], Loss: 0.1775\n",
      "Epoch [10/10], Step [30/548], Loss: 0.2020\n",
      "Epoch [10/10], Step [40/548], Loss: 0.2393\n",
      "Epoch [10/10], Step [50/548], Loss: 0.2301\n",
      "Epoch [10/10], Step [60/548], Loss: 0.1042\n",
      "Epoch [10/10], Step [70/548], Loss: 0.2213\n",
      "Epoch [10/10], Step [80/548], Loss: 0.2021\n",
      "Epoch [10/10], Step [90/548], Loss: 0.2229\n",
      "Epoch [10/10], Step [100/548], Loss: 0.2131\n",
      "Epoch [10/10], Step [110/548], Loss: 0.1532\n",
      "Epoch [10/10], Step [120/548], Loss: 0.2227\n",
      "Epoch [10/10], Step [130/548], Loss: 0.1829\n",
      "Epoch [10/10], Step [140/548], Loss: 0.2158\n",
      "Epoch [10/10], Step [150/548], Loss: 0.1713\n",
      "Epoch [10/10], Step [160/548], Loss: 0.2761\n",
      "Epoch [10/10], Step [170/548], Loss: 0.2710\n",
      "Epoch [10/10], Step [180/548], Loss: 0.2959\n",
      "Epoch [10/10], Step [190/548], Loss: 0.2934\n",
      "Epoch [10/10], Step [200/548], Loss: 0.1803\n",
      "Epoch [10/10], Step [210/548], Loss: 0.1840\n",
      "Epoch [10/10], Step [220/548], Loss: 0.2729\n",
      "Epoch [10/10], Step [230/548], Loss: 0.1603\n",
      "Epoch [10/10], Step [240/548], Loss: 0.2591\n",
      "Epoch [10/10], Step [250/548], Loss: 0.1722\n",
      "Epoch [10/10], Step [260/548], Loss: 0.2286\n",
      "Epoch [10/10], Step [270/548], Loss: 0.1777\n",
      "Epoch [10/10], Step [280/548], Loss: 0.2040\n",
      "Epoch [10/10], Step [290/548], Loss: 0.2107\n",
      "Epoch [10/10], Step [300/548], Loss: 0.1772\n",
      "Epoch [10/10], Step [310/548], Loss: 0.1965\n",
      "Epoch [10/10], Step [320/548], Loss: 0.1847\n",
      "Epoch [10/10], Step [330/548], Loss: 0.2459\n",
      "Epoch [10/10], Step [340/548], Loss: 0.1145\n",
      "Epoch [10/10], Step [350/548], Loss: 0.2175\n",
      "Epoch [10/10], Step [360/548], Loss: 0.1856\n",
      "Epoch [10/10], Step [370/548], Loss: 0.2182\n",
      "Epoch [10/10], Step [380/548], Loss: 0.2441\n",
      "Epoch [10/10], Step [390/548], Loss: 0.1604\n",
      "Epoch [10/10], Step [400/548], Loss: 0.1810\n",
      "Epoch [10/10], Step [410/548], Loss: 0.2205\n",
      "Epoch [10/10], Step [420/548], Loss: 0.2098\n",
      "Epoch [10/10], Step [430/548], Loss: 0.1893\n",
      "Epoch [10/10], Step [440/548], Loss: 0.2002\n",
      "Epoch [10/10], Step [450/548], Loss: 0.1452\n",
      "Epoch [10/10], Step [460/548], Loss: 0.2750\n",
      "Epoch [10/10], Step [470/548], Loss: 0.2012\n",
      "Epoch [10/10], Step [480/548], Loss: 0.2136\n",
      "Epoch [10/10], Step [490/548], Loss: 0.1968\n",
      "Epoch [10/10], Step [500/548], Loss: 0.2962\n",
      "Epoch [10/10], Step [510/548], Loss: 0.1690\n",
      "Epoch [10/10], Step [520/548], Loss: 0.2301\n",
      "Epoch [10/10], Step [530/548], Loss: 0.2490\n",
      "Epoch [10/10], Step [540/548], Loss: 0.1582\n",
      "Epoch [10/10], train_loss: 0.2042, val_loss: 0.2423\n"
     ]
    }
   ],
   "source": [
    "# loss\n",
    "criterion = nn.MultiLabelSoftMarginLoss()\n",
    "\n",
    "#optimizer\n",
    "learning_rate = 0.00001\n",
    "optimizer = optim.Adam(net.parameters(), lr=learning_rate)\n",
    "\n",
    "#training\n",
    "train_loss, train_acc, val_loss, val_acc= train(10, train_data_loader,  val_data_loader,criterion, optimizer, learning_rate)"
   ]
  },
  {
   "cell_type": "markdown",
   "metadata": {
    "id": "yDeBukX4oxnG"
   },
   "source": [
    "## **Save Model**"
   ]
  },
  {
   "cell_type": "code",
   "execution_count": 31,
   "metadata": {
    "id": "Bwgu8k1Xo0dd"
   },
   "outputs": [],
   "source": [
    "path = '../saved_models/task3/task3.pt'\n",
    "torch.save(net.state_dict(), path)\n",
    "\n",
    "np.save('../saved_models/task3/train_loss', train_loss)\n",
    "np.save('../saved_models/task3/val_loss', val_loss)\n",
    "np.save('../saved_models/task3/train_acc', train_acc)\n",
    "np.save('../saved_models/task3/val_acc', val_acc)"
   ]
  },
  {
   "cell_type": "markdown",
   "metadata": {
    "id": "W0ZFjfN1pL-f"
   },
   "source": [
    "## **Test Model**"
   ]
  },
  {
   "cell_type": "code",
   "execution_count": 12,
   "metadata": {
    "colab": {
     "base_uri": "https://localhost:8080/"
    },
    "executionInfo": {
     "elapsed": 410,
     "status": "ok",
     "timestamp": 1651881080701,
     "user": {
      "displayName": "Ali Khalid",
      "userId": "10809480287003355230"
     },
     "user_tz": -300
    },
    "id": "i7zafyKTpTm6",
    "outputId": "f7277920-892e-4bf9-e0ea-5afa55624056"
   },
   "outputs": [
    {
     "name": "stdout",
     "output_type": "stream",
     "text": [
      "tensor([[0, 0, 1, 0, 0, 1, 0],\n",
      "        [0, 0, 1, 0, 0, 1, 0],\n",
      "        [0, 1, 1, 0, 1, 0, 0],\n",
      "        [0, 0, 1, 0, 0, 0, 0],\n",
      "        [1, 0, 0, 1, 0, 0, 1],\n",
      "        [0, 1, 1, 0, 0, 1, 0],\n",
      "        [1, 1, 0, 0, 0, 0, 1],\n",
      "        [0, 0, 1, 0, 0, 1, 0],\n",
      "        [0, 0, 1, 0, 0, 1, 0],\n",
      "        [0, 0, 1, 0, 0, 0, 0],\n",
      "        [1, 0, 0, 0, 0, 0, 1],\n",
      "        [0, 0, 1, 0, 0, 1, 0],\n",
      "        [1, 0, 0, 1, 0, 1, 1],\n",
      "        [0, 0, 1, 0, 0, 1, 0],\n",
      "        [0, 0, 1, 0, 0, 1, 0],\n",
      "        [1, 1, 0, 0, 0, 0, 1]])\n"
     ]
    }
   ],
   "source": [
    "dataiter = iter(test_data_loader)\n",
    "img, test_labels = dataiter.next()\n",
    "print(test_labels)"
   ]
  },
  {
   "cell_type": "code",
   "execution_count": 14,
   "metadata": {
    "colab": {
     "base_uri": "https://localhost:8080/"
    },
    "executionInfo": {
     "elapsed": 1247,
     "status": "ok",
     "timestamp": 1651881083253,
     "user": {
      "displayName": "Ali Khalid",
      "userId": "10809480287003355230"
     },
     "user_tz": -300
    },
    "id": "EjIAdRf2qwC7",
    "outputId": "327fea7b-975b-4986-b01b-54d320c883c6"
   },
   "outputs": [
    {
     "data": {
      "text/plain": [
       "tensor([[0, 0, 1, 0, 0, 1, 0],\n",
       "        [0, 0, 1, 0, 0, 1, 0],\n",
       "        [0, 0, 1, 0, 0, 0, 0],\n",
       "        [0, 0, 1, 0, 0, 0, 0],\n",
       "        [1, 0, 0, 1, 0, 0, 0],\n",
       "        [0, 0, 1, 0, 0, 1, 0],\n",
       "        [1, 1, 0, 0, 0, 0, 0],\n",
       "        [0, 0, 1, 0, 0, 1, 0],\n",
       "        [0, 0, 1, 0, 0, 1, 0],\n",
       "        [0, 0, 1, 0, 0, 0, 0],\n",
       "        [0, 0, 0, 0, 0, 1, 1],\n",
       "        [0, 0, 1, 0, 0, 1, 0],\n",
       "        [1, 0, 0, 1, 0, 1, 0],\n",
       "        [0, 0, 1, 0, 0, 1, 0],\n",
       "        [0, 0, 1, 0, 0, 1, 0],\n",
       "        [1, 1, 0, 0, 0, 0, 1]])"
      ]
     },
     "execution_count": 14,
     "metadata": {},
     "output_type": "execute_result"
    }
   ],
   "source": [
    "# load model\n",
    "path = '../saved_models/task3/epoch1/task3.pt'\n",
    "net.load_state_dict(torch.load(path))\n",
    "test_out = net(img.to(device))\n",
    "test_out.shape\n",
    "pred = torch.tensor([[1 if i > 0.5 else 0 for i in y ] for y in test_out])\n",
    "pred"
   ]
  },
  {
   "cell_type": "code",
   "execution_count": 16,
   "metadata": {},
   "outputs": [
    {
     "name": "stdout",
     "output_type": "stream",
     "text": [
      "Test Accuracy: 0.5460\n"
     ]
    }
   ],
   "source": [
    "# load model\n",
    "path = '../saved_models/task3/epoch1/task3.pt'\n",
    "net = Net().to(device)\n",
    "net.load_state_dict(torch.load(path))\n",
    "\n",
    "test_steps = len(test_data_loader)\n",
    "t_acc=0\n",
    "for i, data in enumerate(test_data_loader): # iterate over batches\n",
    "    # get image and labels data is in tuple form (inputs, label)\n",
    "    image, labels = data\n",
    "    image = image.to(device)\n",
    "    labels = labels.to(device).float()\n",
    "    outputs = net(image)\n",
    "    pred = torch.tensor([[1 if i > 0.5 else 0 for i in y ] for y in outputs])\n",
    "    t_acc += torch.sum((pred == labels).all(axis = 1))/len(labels)\n",
    "\n",
    "print('Test Accuracy: {:.4f}'.format(t_acc/test_steps))"
   ]
  },
  {
   "cell_type": "code",
   "execution_count": 13,
   "metadata": {},
   "outputs": [],
   "source": [
    "def test(net, test_data_loader, device):\n",
    "    test_steps = len(test_data_loader)\n",
    "    t_acc=0\n",
    "    labels_all = torch.Tensor()\n",
    "    pred_all = torch.Tensor()\n",
    "    output_all = torch.Tensor()\n",
    "    for i, data in enumerate(test_data_loader): # iterate over batches\n",
    "    # get image and labels data is in tuple form (inputs, label)\n",
    "        image, labels = data\n",
    "        image = image.to(device)\n",
    "        labels_all = torch.cat((labels_all,labels))\n",
    "        labels = labels.to(device).float()\n",
    "        net.eval()\n",
    "        torch.no_grad()   \n",
    "        outputs = net(image)\n",
    "        pred = torch.tensor([[1 if i > 0.5 else 0 for i in y ] for y in outputs])\n",
    "        pred_all = torch.cat((pred_all,pred))\n",
    "        output_all = torch.cat((output_all,outputs),0)\n",
    "        t_acc += torch.sum((pred == labels).all(axis = 1))/len(labels)\n",
    "    print('Test Accuracy: {:.4f}'.format(t_acc/test_steps))\n",
    "    return pred_all, labels_all, output_all, t_acc"
   ]
  },
  {
   "cell_type": "code",
   "execution_count": 32,
   "metadata": {},
   "outputs": [
    {
     "name": "stdout",
     "output_type": "stream",
     "text": [
      "Test Accuracy: 0.5233\n"
     ]
    }
   ],
   "source": [
    "path = '../saved_models/task3/task3.pt'\n",
    "net = Net().to(device)\n",
    "net.load_state_dict(torch.load(path))\n",
    "test_pred, test_labels, test_outputs,test_acc = test(net,test_data_loader, device)"
   ]
  },
  {
   "cell_type": "markdown",
   "metadata": {
    "id": "Bc9du2KHpMFZ"
   },
   "source": [
    "## **Visualize result**"
   ]
  },
  {
   "cell_type": "code",
   "execution_count": 33,
   "metadata": {
    "colab": {
     "base_uri": "https://localhost:8080/",
     "height": 300
    },
    "executionInfo": {
     "elapsed": 2330,
     "status": "ok",
     "timestamp": 1651918809981,
     "user": {
      "displayName": "Ali Khalid",
      "userId": "10809480287003355230"
     },
     "user_tz": -300
    },
    "id": "myKs939VpTFY",
    "outputId": "6b9b03e2-d08e-4ad6-a550-e81f77705b03"
   },
   "outputs": [
    {
     "data": {
      "text/plain": [
       "Text(0.5, 1.0, 'training and validation loss')"
      ]
     },
     "execution_count": 33,
     "metadata": {},
     "output_type": "execute_result"
    },
    {
     "data": {
      "image/png": "[encoded data removed]",
      "text/plain": [
       "<Figure size 432x288 with 1 Axes>"
      ]
     },
     "metadata": {
      "needs_background": "light"
     },
     "output_type": "display_data"
    }
   ],
   "source": [
    "%matplotlib inline\n",
    "import matplotlib.pyplot as plt\n",
    "import numpy as np\n",
    "\n",
    "train_loss = np.load('../saved_models/task3/train_loss.npy')\n",
    "val_loss = np.load('../saved_models/task3/val_loss.npy')\n",
    "plt.plot(train_loss, linewidth=2, label='train')\n",
    "plt.plot(val_loss, linewidth=2, label='validation')\n",
    "plt.xlabel('Epoch', fontsize=15)\n",
    "plt.ylabel('Loss', fontsize=15)\n",
    "plt.legend()\n",
    "plt.title('training and validation loss')"
   ]
  },
  {
   "cell_type": "code",
   "execution_count": 34,
   "metadata": {},
   "outputs": [
    {
     "name": "stdout",
     "output_type": "stream",
     "text": [
      "val accuracy: 0.48485172\n",
      "train accuracy: 0.5448601\n"
     ]
    },
    {
     "data": {
      "text/plain": [
       "Text(0.5, 1.0, 'training and validation Accuracy')"
      ]
     },
     "execution_count": 34,
     "metadata": {},
     "output_type": "execute_result"
    },
    {
     "data": {
      "image/png": "[encoded data removed]",
      "text/plain": [
       "<Figure size 432x288 with 1 Axes>"
      ]
     },
     "metadata": {
      "needs_background": "light"
     },
     "output_type": "display_data"
    }
   ],
   "source": [
    "val_acc = np.load('../saved_models/task3/val_acc.npy')\n",
    "train_acc = np.load('../saved_models/task3/train_acc.npy')\n",
    "print('val accuracy:', val_acc[-1])\n",
    "print('train accuracy:', train_acc[-1])\n",
    "plt.plot(train_acc, linewidth=2, label='train')\n",
    "plt.plot(val_acc, linewidth=2, label='validation')\n",
    "plt.xlabel('Epoch', fontsize=15)\n",
    "plt.ylabel('Accuracy', fontsize=15)\n",
    "plt.legend()\n",
    "plt.title('training and validation Accuracy')"
   ]
  },
  {
   "cell_type": "code",
   "execution_count": 40,
   "metadata": {},
   "outputs": [
    {
     "name": "stdout",
     "output_type": "stream",
     "text": [
      "labels shape (1876, 7)\n",
      "pred shape (1876, 7)\n"
     ]
    },
    {
     "data": {
      "image/png": "[encoded data removed]",
      "text/plain": [
       "<Figure size 432x288 with 2 Axes>"
      ]
     },
     "metadata": {
      "needs_background": "light"
     },
     "output_type": "display_data"
    },
    {
     "data": {
      "image/png": "[encoded data removed]",
      "text/plain": [
       "<Figure size 432x288 with 2 Axes>"
      ]
     },
     "metadata": {
      "needs_background": "light"
     },
     "output_type": "display_data"
    },
    {
     "data": {
      "image/png": "[encoded data removed]",
      "text/plain": [
       "<Figure size 432x288 with 2 Axes>"
      ]
     },
     "metadata": {
      "needs_background": "light"
     },
     "output_type": "display_data"
    },
    {
     "data": {
      "image/png": "[encoded data removed]",
      "text/plain": [
       "<Figure size 432x288 with 2 Axes>"
      ]
     },
     "metadata": {
      "needs_background": "light"
     },
     "output_type": "display_data"
    },
    {
     "data": {
      "image/png": "[encoded data removed]",
      "text/plain": [
       "<Figure size 432x288 with 2 Axes>"
      ]
     },
     "metadata": {
      "needs_background": "light"
     },
     "output_type": "display_data"
    },
    {
     "data": {
      "image/png": "[encoded data removed]",
      "text/plain": [
       "<Figure size 432x288 with 2 Axes>"
      ]
     },
     "metadata": {
      "needs_background": "light"
     },
     "output_type": "display_data"
    },
    {
     "data": {
      "image/png": "[encoded data removed]",
      "text/plain": [
       "<Figure size 432x288 with 2 Axes>"
      ]
     },
     "metadata": {
      "needs_background": "light"
     },
     "output_type": "display_data"
    }
   ],
   "source": [
    "from sklearn.metrics import confusion_matrix, ConfusionMatrixDisplay, accuracy_score, f1_score, recall_score, roc_curve, auc\n",
    "from sklearn.preprocessing import label_binarize\n",
    "test_labels = np.array(test_labels)\n",
    "test_pred = np.array(test_pred)\n",
    "print('labels shape', test_labels.shape)\n",
    "print('pred shape', test_pred.shape)\n",
    "for i in range(7):\n",
    "    cm = confusion_matrix(test_pred[:,i], test_labels[:,i])\n",
    "    disp = ConfusionMatrixDisplay(confusion_matrix=cm)\n",
    "    disp.plot()\n",
    "plt.show()"
   ]
  },
  {
   "cell_type": "code",
   "execution_count": 35,
   "metadata": {},
   "outputs": [],
   "source": [
    "def wrong_and_right(net, test_data_loader, device):\n",
    "    net = net.to(device)\n",
    "    test_steps = len(test_data_loader)\n",
    "    t_acc=0\n",
    "    wrong = 0 \n",
    "    right = 0 \n",
    "    for i, data in enumerate(test_data_loader): # iterate over batches\n",
    "    # get image and labels data is in tuple form (inputs, label)\n",
    "        image, labels = data\n",
    "        image = image.to(device)\n",
    "        labels = labels.to(device).float()\n",
    "        net.eval()\n",
    "        torch.no_grad()   \n",
    "        outputs = net(image)\n",
    "        pred = torch.tensor([[1 if i > 0.5 else 0 for i in y ] for y in outputs])\n",
    "        t_acc = torch.sum((pred == labels).all(axis = 1))\n",
    "        if t_acc <16 and t_acc>0:\n",
    "            for i in range(0,16):\n",
    "                if (pred[i] != labels[i]).any() and wrong == 0:\n",
    "                    print('prediction: ', pred[i])\n",
    "                    print('label: ', labels[i])\n",
    "                    wrong = 1\n",
    "                    plt.imshow(image[i].permute(1, 2, 0))\n",
    "                    plt.show()\n",
    "                if (pred[i] == labels[i]).all() and right == 0:\n",
    "                    print('prediction: ', pred[i])\n",
    "                    print('label: ', labels[i])\n",
    "                    right = 1\n",
    "                    plt.imshow(image[i].permute(1, 2, 0))\n",
    "                    plt.show()\n",
    "                if wrong ==1 and right==1:\n",
    "                    return 1"
   ]
  },
  {
   "cell_type": "code",
   "execution_count": 38,
   "metadata": {},
   "outputs": [
    {
     "name": "stderr",
     "output_type": "stream",
     "text": [
      "Clipping input data to the valid range for imshow with RGB data ([0..1] for floats or [0..255] for integers).\n"
     ]
    },
    {
     "name": "stdout",
     "output_type": "stream",
     "text": [
      "prediction:  tensor([0, 0, 1, 0, 0, 1, 0])\n",
      "label:  tensor([0., 0., 1., 0., 0., 1., 0.])\n"
     ]
    },
    {
     "data": {
      "image/png": "[encoded data removed]",
      "text/plain": [
       "<Figure size 432x288 with 1 Axes>"
      ]
     },
     "metadata": {
      "needs_background": "light"
     },
     "output_type": "display_data"
    },
    {
     "name": "stderr",
     "output_type": "stream",
     "text": [
      "Clipping input data to the valid range for imshow with RGB data ([0..1] for floats or [0..255] for integers).\n"
     ]
    },
    {
     "name": "stdout",
     "output_type": "stream",
     "text": [
      "prediction:  tensor([1, 0, 0, 1, 0, 1, 1])\n",
      "label:  tensor([1., 0., 0., 1., 0., 0., 1.])\n"
     ]
    },
    {
     "data": {
      "image/png": "[encoded data removed]",
      "text/plain": [
       "<Figure size 432x288 with 1 Axes>"
      ]
     },
     "metadata": {
      "needs_background": "light"
     },
     "output_type": "display_data"
    }
   ],
   "source": [
    "path = '../saved_models/task3/task3.pt'\n",
    "net = Net().to(device)\n",
    "net.load_state_dict(torch.load(path))\n",
    "a = wrong_and_right(net,test_data_loader, device)"
   ]
  }
 ],
 "metadata": {
  "colab": {
   "collapsed_sections": [],
   "name": "task2.ipynb",
   "provenance": []
  },
  "kernelspec": {
   "display_name": "Python 3 (ipykernel)",
   "language": "python",
   "name": "python3"
  },
  "language_info": {
   "codemirror_mode": {
    "name": "ipython",
    "version": 3
   },
   "file_extension": ".py",
   "mimetype": "text/x-python",
   "name": "python",
   "nbconvert_exporter": "python",
   "pygments_lexer": "ipython3",
   "version": "3.9.7"
  }
 },
 "nbformat": 4,
 "nbformat_minor": 1
}
