{
 "cells": [
  {
   "cell_type": "markdown",
   "metadata": {
    "id": "5-5VWruMtjA4"
   },
   "source": [
    "## **Import Libraries**"
   ]
  },
  {
   "cell_type": "code",
   "execution_count": 1,
   "metadata": {
    "executionInfo": {
     "elapsed": 3133,
     "status": "ok",
     "timestamp": 1651937482560,
     "user": {
      "displayName": "ALI KHALID KHALID MAHMOOD AHMAD",
      "userId": "04961537570896709275"
     },
     "user_tz": -300
    },
    "id": "YOrsQs3przvi"
   },
   "outputs": [],
   "source": [
    "import pandas as pd \n",
    "import os\n",
    "import cv2\n",
    "import matplotlib.pyplot as plt\n",
    "import pylab\n",
    "import numpy as np\n",
    "import torch\n",
    "import torchvision\n",
    "from torchvision import transforms, datasets\n",
    "from torch.utils.data import Dataset\n",
    "import PIL"
   ]
  },
  {
   "cell_type": "code",
   "execution_count": 2,
   "metadata": {
    "colab": {
     "base_uri": "https://localhost:8080/"
    },
    "executionInfo": {
     "elapsed": 7,
     "status": "ok",
     "timestamp": 1651936475942,
     "user": {
      "displayName": "Ali Khalid",
      "userId": "10809480287003355230"
     },
     "user_tz": -300
    },
    "id": "D8ZOVQkkdMvS",
    "outputId": "c247195d-6d45-4e82-870a-ee0e2a59e56b"
   },
   "outputs": [
    {
     "name": "stdout",
     "output_type": "stream",
     "text": [
      "cpu\n"
     ]
    }
   ],
   "source": [
    "device = torch.device('cuda' if torch.cuda.is_available() else 'cpu')\n",
    "print(device)"
   ]
  },
  {
   "cell_type": "markdown",
   "metadata": {
    "id": "gLBCZshD33oh"
   },
   "source": [
    "## **Preparing Dataset for task 2**"
   ]
  },
  {
   "cell_type": "markdown",
   "metadata": {
    "id": "MYMwW4MD6MMy"
   },
   "source": [
    "**Data Preprocessing:**"
   ]
  },
  {
   "cell_type": "code",
   "execution_count": 4,
   "metadata": {
    "id": "NF3M2PUc6Lh3"
   },
   "outputs": [],
   "source": [
    "# specify paths \n",
    "label_file = 'CelebA\\Anno\\identity_CelebA.txt'\n",
    "img_dir = 'CelebA\\Img\\img_align_celeba\\img_align_celeba'\n",
    "output_dir = 'task2_data'\n",
    "\n",
    "os.makedirs(output_dir, exist_ok=True)\n",
    "\n",
    "# load labels file\n",
    "data= pd.read_csv(label_file, sep=' ', header=None, names=['img', 'id'])\n",
    "\n",
    "# mean_value of images for each label\n",
    "mean_count = data['id'].value_counts().mean()\n",
    "\n",
    "# selecting 50 unique entries having examples more than mean_count\n",
    "selected_ids = [id for id,count in data['id'].value_counts().items() if count>mean_count][0:50]\n",
    "\n",
    "# selecting 5 images for each selected_ids\n",
    "new_data = pd.DataFrame(columns = ['id', 'img'])\n",
    "\n",
    "for id in selected_ids: \n",
    "  mask = data['id'] == id\n",
    "  new_data = new_data.append(data[mask][0:5])\n",
    "\n",
    "# adding label coloumn\n",
    "new_data = new_data.merge(new_data, how='cross')\n",
    "new_data['label'] = new_data['id_x'] == new_data['id_y']\n",
    "label_map = {True : 1, False : 0}\n",
    "new_data[\"label\"] = new_data[\"label\"].map(label_map)\n",
    "\n",
    "# seperating label1 and 0 data\n",
    "label_1_data = new_data[new_data[\"label\"] ==1]\n",
    "label_0_data = new_data[new_data[\"label\"] ==0]\n",
    "\n",
    "# droping values from label 0 data so that both label 1 and 0 have equal examples\n",
    "label_0_data = label_0_data[::50]\n",
    "\n",
    "# merging label 1 and 0 data and saving a csv file \n",
    "\n",
    "final_data = pd.concat([label_1_data, label_0_data], ignore_index=True, sort=False)\n",
    "\n",
    "final_data.to_csv(os.path.join(output_dir,'task2.csv'),index=False)"
   ]
  },
  {
   "cell_type": "markdown",
   "metadata": {
    "id": "xImxLDAU-XOm"
   },
   "source": [
    "**Data Loading:**"
   ]
  },
  {
   "cell_type": "code",
   "execution_count": 3,
   "metadata": {
    "executionInfo": {
     "elapsed": 3,
     "status": "ok",
     "timestamp": 1651937487589,
     "user": {
      "displayName": "ALI KHALID KHALID MAHMOOD AHMAD",
      "userId": "04961537570896709275"
     },
     "user_tz": -300
    },
    "id": "VywF9NyEDj4d"
   },
   "outputs": [],
   "source": [
    "class Custom_Dataset(Dataset):\n",
    "    def __init__(self, csv_file, img_dir, transform=None): \n",
    "        # Run once\n",
    "        self.img_labels = pd.read_csv(csv_file)\n",
    "        self.transform = transform\n",
    "        self.img_dir = img_dir\n",
    "    \n",
    "    def __len__(self):\n",
    "        # return the number of samples in dataset\n",
    "        return len(self.img_labels)\n",
    "\n",
    "    def __getitem__(self, idx):\n",
    "        # loads and returns a sample from the dataset at the given index\n",
    "        img1_path = os.path.join(self.img_dir ,self.img_labels.iloc[idx, 1])\n",
    "        img2_path = os.path.join(self.img_dir ,self.img_labels.iloc[idx, 3])\n",
    "        image1 = PIL.Image.open(img1_path)\n",
    "        image2 = PIL.Image.open(img2_path)\n",
    "        label = torch.tensor(self.img_labels.iloc[idx, 4])\n",
    "    \n",
    "        if self.transform:\n",
    "            image1 = self.transform(image1)\n",
    "            image2 = self.transform(image2)\n",
    "        \n",
    "        return image1,image2, label"
   ]
  },
  {
   "cell_type": "code",
   "execution_count": 4,
   "metadata": {
    "id": "o7JasRaVQLBW"
   },
   "outputs": [],
   "source": [
    "def load_dataset(csv_file, img_dir,train_size, validation_size, test_size, batch_size):\n",
    "\n",
    "    transform = transforms.Compose([#transforms.Grayscale(), \n",
    "                                     transforms.ToTensor(),\n",
    "                                     #transforms.Resize((28,28)), \n",
    "                                     #transforms.Normalize(0,0.5)\n",
    "                                     ])\n",
    "    # read dataset\n",
    "    dataset = Custom_Dataset(csv_file=csv_file, img_dir=img_dir, transform = transform)\n",
    "\n",
    "    # specify sizes\n",
    "    train_set_size = int(len(dataset) * train_size)\n",
    "    test_set_size = int(len(dataset) * test_size)\n",
    "    val_set_size = len(dataset) - train_set_size - test_set_size\n",
    "\n",
    "    # split data\n",
    "    train_data, val_data, test_data = torch.utils.data.random_split(dataset, [train_set_size,val_set_size,test_set_size])\n",
    "\n",
    "    # create dataloader for each data (test,train,val)\n",
    "    train_data_loader = torch.utils.data.DataLoader(train_data, batch_size=batch_size, shuffle=True)\n",
    "    val_data_loader = torch.utils.data.DataLoader(val_data, batch_size=batch_size, shuffle=True)\n",
    "    test_data_loader = torch.utils.data.DataLoader(test_data, batch_size=batch_size, shuffle=True)\n",
    "    #return test_data\n",
    "    return train_data_loader, val_data_loader, test_data_loader"
   ]
  },
  {
   "cell_type": "code",
   "execution_count": 5,
   "metadata": {
    "colab": {
     "base_uri": "https://localhost:8080/",
     "height": 398
    },
    "executionInfo": {
     "elapsed": 580,
     "status": "error",
     "timestamp": 1651918321207,
     "user": {
      "displayName": "Ali Khalid",
      "userId": "10809480287003355230"
     },
     "user_tz": -300
    },
    "id": "yiTxJ9SLYaa0",
    "outputId": "48ac96f1-68bf-4f1e-b6df-685fa9453ed8"
   },
   "outputs": [],
   "source": [
    "img_dir = 'CelebA\\Img\\img_align_celeba\\img_align_celeba'\n",
    "csv_file = 'task2_data/task2.csv'\n",
    "train_data_loader, val_data_loader, test_data_loader = load_dataset(csv_file,img_dir,0.7,0.15,0.15, 16)"
   ]
  },
  {
   "cell_type": "markdown",
   "metadata": {
    "id": "nKBtkDmfaolk"
   },
   "source": [
    "## **Creating Model**"
   ]
  },
  {
   "cell_type": "code",
   "execution_count": 6,
   "metadata": {
    "id": "ys55GWVAatBt"
   },
   "outputs": [],
   "source": [
    "from torch import nn\n",
    "import torch.nn.functional as F\n",
    "from torch import optim\n",
    "\n",
    "class Net(nn.Module):\n",
    "    def __init__(self):\n",
    "        super().__init__()\n",
    "        self.fc1 = nn.Linear(3*218*178, 1000)\n",
    "        self.fc2 = nn.Linear(1000, 800)\n",
    "        self.fc3 = nn.Linear(800, 400)\n",
    "        self.fc4 = nn.Linear(400, 200)\n",
    "        self.fc5 = nn.Linear(200, 10)\n",
    "\n",
    "\n",
    "    def forward(self, x, y):\n",
    "        x = torch.flatten(x, 1) \n",
    "        y = torch.flatten(y, 1) \n",
    "        x = F.relu(self.fc1(x))\n",
    "        x = F.relu(self.fc2(x))\n",
    "        x = F.relu(self.fc3(x))\n",
    "        x = F.relu(self.fc4(x))\n",
    "        x = self.fc5(x)\n",
    "\n",
    "        y = F.relu(self.fc1(y))\n",
    "        y = F.relu(self.fc2(y))\n",
    "        y = F.relu(self.fc3(y))\n",
    "        y = F.relu(self.fc4(y))\n",
    "        y = self.fc5(y)\n",
    "\n",
    "        output= F.sigmoid(torch.sum(x-y,1))\n",
    "        return output\n",
    "\n",
    "# model\n",
    "net = Net().to(device)"
   ]
  },
  {
   "cell_type": "markdown",
   "metadata": {
    "id": "rPhzrua7hZrv"
   },
   "source": [
    "## Training Model"
   ]
  },
  {
   "cell_type": "code",
   "execution_count": 7,
   "metadata": {
    "id": "ovdn0w0qhfSW"
   },
   "outputs": [],
   "source": [
    "def train(epochs, train_data_loader, val_data_loader, loss_func, optimizer, learning_rate):\n",
    "    train_step = len(train_data_loader)\n",
    "    val_step = len(val_data_loader)\n",
    "    train_loss = []\n",
    "    train_acc = []\n",
    "    val_loss = []\n",
    "    val_acc = []\n",
    "\n",
    "    for epoch in range(epochs): # iterate over epochs\n",
    "        t_loss = 0\n",
    "        t_acc = 0 \n",
    "        for i, data in enumerate(train_data_loader): # iterate over batches\n",
    "            \n",
    "          # get image and labels data is in tuple form (inputs, label)\n",
    "            img1,img2, labels = data\n",
    "            img1 = img1.to(device)\n",
    "            img2 = img2.to(device)\n",
    "            labels = labels.to(device).float()\n",
    "         \n",
    "            # Zero-out gradients\n",
    "            optimizer.zero_grad()\n",
    "\n",
    "            # forward + backward + optimize\n",
    "            outputs = net(img1,img2)\n",
    "            #pred = np.squeeze(outputs)\n",
    "            pred = torch.tensor([1 if y > 0.5 else 0 for y in outputs])\n",
    "            loss = loss_func(outputs, labels)\n",
    "            loss.backward()\n",
    "            optimizer.step()\n",
    "            t_loss += loss.item()\n",
    "            t_acc += torch.sum(pred == labels)/len(labels)\n",
    "\n",
    "            if (i+1) % 10 == 0:\n",
    "                print ('Epoch [{}/{}], Step [{}/{}], Loss: {:.4f}' .format(epoch+1, epochs, i+1, train_step, loss.item()))\n",
    "    \n",
    "        v_loss = 0\n",
    "        v_acc = 0\n",
    "        for i, data in enumerate(val_data_loader): # iterate over batches\n",
    "            # get image and labels data is in tuple form (inputs, label)\n",
    "            img1,img2, labels = data\n",
    "            img1 = img1.to(device)\n",
    "            img2 = img2.to(device)\n",
    "            labels = labels.to(device).float()\n",
    "            outputs = net(img1,img2)\n",
    "            #pred = np.squeeze(outputs)\n",
    "            pred = torch.tensor([1 if y > 0.5 else 0 for y in outputs])\n",
    "            loss = loss_func(outputs, labels)\n",
    "            v_loss += loss.item()\n",
    "            v_acc += torch.sum(pred == labels)/len(labels)\n",
    "     \n",
    "        train_loss.append(t_loss/train_step)\n",
    "        train_acc.append(t_acc/train_step)\n",
    "        val_loss.append(v_loss/val_step)\n",
    "        val_acc.append(v_acc/val_step)\n",
    "        print ('Epoch [{}/{}], train_loss: {:.4f}, val_loss: {:.4f}' .format(epoch+1, epochs, train_loss[-1], val_loss[-1]))\n",
    "    \n",
    "    return train_loss, train_acc, val_loss, val_acc"
   ]
  },
  {
   "cell_type": "code",
   "execution_count": 36,
   "metadata": {
    "colab": {
     "base_uri": "https://localhost:8080/",
     "height": 433
    },
    "executionInfo": {
     "elapsed": 106559,
     "status": "error",
     "timestamp": 1651881065083,
     "user": {
      "displayName": "Ali Khalid",
      "userId": "10809480287003355230"
     },
     "user_tz": -300
    },
    "id": "pN0Nkf8Fh8fg",
    "outputId": "2f748680-34a9-46cf-e93f-370e7bcc611a"
   },
   "outputs": [
    {
     "name": "stderr",
     "output_type": "stream",
     "text": [
      "C:\\ProgramData\\Anaconda3\\lib\\site-packages\\torch\\nn\\functional.py:1944: UserWarning: nn.functional.sigmoid is deprecated. Use torch.sigmoid instead.\n",
      "  warnings.warn(\"nn.functional.sigmoid is deprecated. Use torch.sigmoid instead.\")\n"
     ]
    },
    {
     "name": "stdout",
     "output_type": "stream",
     "text": [
      "Epoch [1/10], Step [10/109], Loss: 0.6163\n",
      "Epoch [1/10], Step [20/109], Loss: 0.4429\n",
      "Epoch [1/10], Step [30/109], Loss: 0.6376\n",
      "Epoch [1/10], Step [40/109], Loss: 0.3623\n",
      "Epoch [1/10], Step [50/109], Loss: 0.5068\n",
      "Epoch [1/10], Step [60/109], Loss: 0.7372\n",
      "Epoch [1/10], Step [70/109], Loss: 0.5867\n",
      "Epoch [1/10], Step [80/109], Loss: 0.5450\n",
      "Epoch [1/10], Step [90/109], Loss: 0.9347\n",
      "Epoch [1/10], Step [100/109], Loss: 0.6643\n",
      "Epoch [1/10], train_loss: 0.5758, val_loss: 0.5970\n",
      "Epoch [2/10], Step [10/109], Loss: 0.6525\n",
      "Epoch [2/10], Step [20/109], Loss: 0.8302\n",
      "Epoch [2/10], Step [30/109], Loss: 0.4629\n",
      "Epoch [2/10], Step [40/109], Loss: 0.5352\n",
      "Epoch [2/10], Step [50/109], Loss: 0.4298\n",
      "Epoch [2/10], Step [60/109], Loss: 0.4908\n",
      "Epoch [2/10], Step [70/109], Loss: 0.6873\n",
      "Epoch [2/10], Step [80/109], Loss: 0.4648\n",
      "Epoch [2/10], Step [90/109], Loss: 0.5395\n",
      "Epoch [2/10], Step [100/109], Loss: 0.5146\n",
      "Epoch [2/10], train_loss: 0.5602, val_loss: 0.6190\n",
      "Epoch [3/10], Step [10/109], Loss: 0.4599\n",
      "Epoch [3/10], Step [20/109], Loss: 0.6062\n",
      "Epoch [3/10], Step [30/109], Loss: 0.4597\n",
      "Epoch [3/10], Step [40/109], Loss: 0.5292\n",
      "Epoch [3/10], Step [50/109], Loss: 0.6094\n",
      "Epoch [3/10], Step [60/109], Loss: 0.5876\n",
      "Epoch [3/10], Step [70/109], Loss: 0.8810\n",
      "Epoch [3/10], Step [80/109], Loss: 0.6497\n",
      "Epoch [3/10], Step [90/109], Loss: 0.7383\n",
      "Epoch [3/10], Step [100/109], Loss: 0.5165\n",
      "Epoch [3/10], train_loss: 0.5646, val_loss: 0.6314\n",
      "Epoch [4/10], Step [10/109], Loss: 0.4589\n",
      "Epoch [4/10], Step [20/109], Loss: 0.5431\n",
      "Epoch [4/10], Step [30/109], Loss: 0.7847\n",
      "Epoch [4/10], Step [40/109], Loss: 0.5356\n",
      "Epoch [4/10], Step [50/109], Loss: 0.4785\n",
      "Epoch [4/10], Step [60/109], Loss: 0.5949\n",
      "Epoch [4/10], Step [70/109], Loss: 0.6884\n",
      "Epoch [4/10], Step [80/109], Loss: 0.4529\n",
      "Epoch [4/10], Step [90/109], Loss: 0.6274\n",
      "Epoch [4/10], Step [100/109], Loss: 0.6295\n",
      "Epoch [4/10], train_loss: 0.5590, val_loss: 0.6241\n",
      "Epoch [5/10], Step [10/109], Loss: 0.6030\n",
      "Epoch [5/10], Step [20/109], Loss: 0.7448\n",
      "Epoch [5/10], Step [30/109], Loss: 0.6612\n",
      "Epoch [5/10], Step [40/109], Loss: 0.5276\n",
      "Epoch [5/10], Step [50/109], Loss: 0.4879\n",
      "Epoch [5/10], Step [60/109], Loss: 0.4299\n",
      "Epoch [5/10], Step [70/109], Loss: 0.6845\n",
      "Epoch [5/10], Step [80/109], Loss: 0.5876\n",
      "Epoch [5/10], Step [90/109], Loss: 0.4287\n",
      "Epoch [5/10], Step [100/109], Loss: 0.7689\n",
      "Epoch [5/10], train_loss: 0.5529, val_loss: 0.6253\n",
      "Epoch [6/10], Step [10/109], Loss: 0.4024\n",
      "Epoch [6/10], Step [20/109], Loss: 0.4744\n",
      "Epoch [6/10], Step [30/109], Loss: 0.4771\n",
      "Epoch [6/10], Step [40/109], Loss: 0.5266\n",
      "Epoch [6/10], Step [50/109], Loss: 0.4420\n",
      "Epoch [6/10], Step [60/109], Loss: 0.5553\n",
      "Epoch [6/10], Step [70/109], Loss: 0.7423\n",
      "Epoch [6/10], Step [80/109], Loss: 0.4191\n",
      "Epoch [6/10], Step [90/109], Loss: 0.5110\n",
      "Epoch [6/10], Step [100/109], Loss: 0.3460\n",
      "Epoch [6/10], train_loss: 0.5446, val_loss: 0.6239\n",
      "Epoch [7/10], Step [10/109], Loss: 0.3469\n",
      "Epoch [7/10], Step [20/109], Loss: 0.5716\n",
      "Epoch [7/10], Step [30/109], Loss: 0.3372\n",
      "Epoch [7/10], Step [40/109], Loss: 0.5586\n",
      "Epoch [7/10], Step [50/109], Loss: 0.5017\n",
      "Epoch [7/10], Step [60/109], Loss: 0.4849\n",
      "Epoch [7/10], Step [70/109], Loss: 0.5249\n",
      "Epoch [7/10], Step [80/109], Loss: 0.6048\n",
      "Epoch [7/10], Step [90/109], Loss: 0.6121\n",
      "Epoch [7/10], Step [100/109], Loss: 0.6407\n",
      "Epoch [7/10], train_loss: 0.5509, val_loss: 0.6149\n",
      "Epoch [8/10], Step [10/109], Loss: 0.4033\n",
      "Epoch [8/10], Step [20/109], Loss: 0.4910\n",
      "Epoch [8/10], Step [30/109], Loss: 0.6748\n",
      "Epoch [8/10], Step [40/109], Loss: 0.7060\n",
      "Epoch [8/10], Step [50/109], Loss: 0.7004\n",
      "Epoch [8/10], Step [60/109], Loss: 0.5012\n",
      "Epoch [8/10], Step [70/109], Loss: 0.5821\n",
      "Epoch [8/10], Step [80/109], Loss: 0.6278\n",
      "Epoch [8/10], Step [90/109], Loss: 0.4778\n",
      "Epoch [8/10], Step [100/109], Loss: 0.6037\n",
      "Epoch [8/10], train_loss: 0.5528, val_loss: 0.6360\n",
      "Epoch [9/10], Step [10/109], Loss: 0.6427\n",
      "Epoch [9/10], Step [20/109], Loss: 0.4951\n",
      "Epoch [9/10], Step [30/109], Loss: 0.7849\n",
      "Epoch [9/10], Step [40/109], Loss: 0.3392\n",
      "Epoch [9/10], Step [50/109], Loss: 0.3840\n",
      "Epoch [9/10], Step [60/109], Loss: 0.5001\n",
      "Epoch [9/10], Step [70/109], Loss: 0.8585\n",
      "Epoch [9/10], Step [80/109], Loss: 0.4512\n",
      "Epoch [9/10], Step [90/109], Loss: 0.4313\n",
      "Epoch [9/10], Step [100/109], Loss: 0.6793\n",
      "Epoch [9/10], train_loss: 0.5444, val_loss: 0.6389\n",
      "Epoch [10/10], Step [10/109], Loss: 0.6539\n",
      "Epoch [10/10], Step [20/109], Loss: 0.4771\n",
      "Epoch [10/10], Step [30/109], Loss: 0.3165\n",
      "Epoch [10/10], Step [40/109], Loss: 0.4622\n",
      "Epoch [10/10], Step [50/109], Loss: 0.4661\n",
      "Epoch [10/10], Step [60/109], Loss: 0.5721\n",
      "Epoch [10/10], Step [70/109], Loss: 0.7365\n",
      "Epoch [10/10], Step [80/109], Loss: 0.5042\n",
      "Epoch [10/10], Step [90/109], Loss: 0.4762\n",
      "Epoch [10/10], Step [100/109], Loss: 0.3861\n",
      "Epoch [10/10], train_loss: 0.5475, val_loss: 0.6482\n"
     ]
    }
   ],
   "source": [
    "# loss\n",
    "criterion = nn.BCELoss()\n",
    "\n",
    "#optimizer\n",
    "learning_rate = 0.0001\n",
    "optimizer = optim.Adam(net.parameters(), lr=learning_rate)\n",
    "\n",
    "#training\n",
    "train_loss, train_acc, val_loss, val_acc= train(10, train_data_loader,  val_data_loader,criterion, optimizer, learning_rate)"
   ]
  },
  {
   "cell_type": "markdown",
   "metadata": {
    "id": "yDeBukX4oxnG"
   },
   "source": [
    "## **Save Model**"
   ]
  },
  {
   "cell_type": "code",
   "execution_count": 37,
   "metadata": {
    "id": "Bwgu8k1Xo0dd"
   },
   "outputs": [],
   "source": [
    "path = 'saved_models/task2/task2.pt'\n",
    "torch.save(net.state_dict(), path)\n",
    "\n",
    "np.save('saved_models/task2/train_loss', train_loss)\n",
    "np.save('saved_models/task2/val_loss', val_loss)\n",
    "np.save('saved_models/task2/train_acc', train_acc)\n",
    "np.save('saved_models/task2/val_acc', val_acc)"
   ]
  },
  {
   "cell_type": "markdown",
   "metadata": {
    "id": "W0ZFjfN1pL-f"
   },
   "source": [
    "## **Test Model**"
   ]
  },
  {
   "cell_type": "code",
   "execution_count": 11,
   "metadata": {
    "colab": {
     "base_uri": "https://localhost:8080/"
    },
    "executionInfo": {
     "elapsed": 410,
     "status": "ok",
     "timestamp": 1651881080701,
     "user": {
      "displayName": "Ali Khalid",
      "userId": "10809480287003355230"
     },
     "user_tz": -300
    },
    "id": "i7zafyKTpTm6",
    "outputId": "f7277920-892e-4bf9-e0ea-5afa55624056"
   },
   "outputs": [
    {
     "name": "stdout",
     "output_type": "stream",
     "text": [
      "tensor([0, 0, 0, 0, 1, 0, 0, 1, 1, 1, 0, 0, 1, 1, 1, 1])\n"
     ]
    }
   ],
   "source": [
    "dataiter = iter(test_data_loader)\n",
    "img1, img2, test_labels = dataiter.next()\n",
    "print(test_labels)"
   ]
  },
  {
   "cell_type": "code",
   "execution_count": 12,
   "metadata": {
    "colab": {
     "base_uri": "https://localhost:8080/"
    },
    "executionInfo": {
     "elapsed": 1247,
     "status": "ok",
     "timestamp": 1651881083253,
     "user": {
      "displayName": "Ali Khalid",
      "userId": "10809480287003355230"
     },
     "user_tz": -300
    },
    "id": "EjIAdRf2qwC7",
    "outputId": "327fea7b-975b-4986-b01b-54d320c883c6"
   },
   "outputs": [
    {
     "data": {
      "text/plain": [
       "tensor([0, 0, 0, 0, 0, 0, 0, 1, 0, 1, 0, 0, 1, 1, 0, 1])"
      ]
     },
     "execution_count": 12,
     "metadata": {},
     "output_type": "execute_result"
    }
   ],
   "source": [
    "# load model\n",
    "net.load_state_dict(torch.load(path))\n",
    "test_out = net(img1.to(device), img2.to(device))\n",
    "test_out.shape\n",
    "pred = torch.tensor([1 if y > 0.5 else 0 for y in test_out])\n",
    "pred"
   ]
  },
  {
   "cell_type": "code",
   "execution_count": 38,
   "metadata": {},
   "outputs": [
    {
     "name": "stdout",
     "output_type": "stream",
     "text": [
      "Test Accuracy: 0.6302\n"
     ]
    }
   ],
   "source": [
    "# load model\n",
    "path = 'saved_models/task2/epoch10,lr0.0001/task2.pt'\n",
    "net = Net().to(device)\n",
    "net.load_state_dict(torch.load(path))\n",
    "\n",
    "test_steps = len(test_data_loader)\n",
    "t_acc=0\n",
    "for i, data in enumerate(test_data_loader): # iterate over batches\n",
    "    # get image and labels data is in tuple form (inputs, label)\n",
    "    img1,img2, labels = data\n",
    "    img1 = img1.to(device)\n",
    "    img2 = img2.to(device)\n",
    "    labels = labels.to(device).float()\n",
    "\n",
    "    # forward + backward + optimize\n",
    "    outputs = net(img1,img2)\n",
    "    pred = torch.tensor([1 if y > 0.5 else 0 for y in outputs])\n",
    "    t_acc += torch.sum(pred == labels)/len(labels)\n",
    "\n",
    "print('Test Accuracy: {:.4f}'.format(t_acc/test_steps))"
   ]
  },
  {
   "cell_type": "markdown",
   "metadata": {
    "id": "Bc9du2KHpMFZ"
   },
   "source": [
    "## **Visualize result**"
   ]
  },
  {
   "cell_type": "code",
   "execution_count": 1,
   "metadata": {
    "colab": {
     "base_uri": "https://localhost:8080/",
     "height": 300
    },
    "executionInfo": {
     "elapsed": 2330,
     "status": "ok",
     "timestamp": 1651918809981,
     "user": {
      "displayName": "Ali Khalid",
      "userId": "10809480287003355230"
     },
     "user_tz": -300
    },
    "id": "myKs939VpTFY",
    "outputId": "6b9b03e2-d08e-4ad6-a550-e81f77705b03"
   },
   "outputs": [
    {
     "data": {
      "text/plain": [
       "Text(0.5, 1.0, 'training and validation loss')"
      ]
     },
     "execution_count": 1,
     "metadata": {},
     "output_type": "execute_result"
    },
    {
     "data": {
      "image/png": "[encoded data removed]",
      "text/plain": [
       "<Figure size 432x288 with 1 Axes>"
      ]
     },
     "metadata": {
      "needs_background": "light"
     },
     "output_type": "display_data"
    }
   ],
   "source": [
    "%matplotlib inline\n",
    "import matplotlib.pyplot as plt\n",
    "import numpy as np\n",
    "\n",
    "train_loss = np.load('saved_models/task2/epoch10,lr0.0001/train_loss.npy')\n",
    "val_loss = np.load('saved_models/task2/epoch10,lr0.0001/val_loss.npy')\n",
    "plt.plot(train_loss, linewidth=2, label='train')\n",
    "plt.plot(val_loss, linewidth=2, label='validation')\n",
    "plt.xlabel('Epoch', fontsize=15)\n",
    "plt.ylabel('Loss', fontsize=15)\n",
    "plt.legend()\n",
    "plt.title('training and validation loss')"
   ]
  },
  {
   "cell_type": "code",
   "execution_count": 2,
   "metadata": {},
   "outputs": [
    {
     "name": "stdout",
     "output_type": "stream",
     "text": [
      "val accuracy: 0.6380208\n",
      "train accuracy: 0.6754587\n"
     ]
    },
    {
     "data": {
      "text/plain": [
       "Text(0.5, 1.0, 'training and validation Accuracy')"
      ]
     },
     "execution_count": 2,
     "metadata": {},
     "output_type": "execute_result"
    },
    {
     "data": {
      "image/png": "[encoded data removed]",
      "text/plain": [
       "<Figure size 432x288 with 1 Axes>"
      ]
     },
     "metadata": {
      "needs_background": "light"
     },
     "output_type": "display_data"
    }
   ],
   "source": [
    "val_acc = np.load('saved_models/task2/epoch10,lr0.0001/val_acc.npy')\n",
    "train_acc = np.load('saved_models/task2/epoch10,lr0.0001/train_acc.npy')\n",
    "print('val accuracy:', val_acc[-1])\n",
    "print('train accuracy:', train_acc[-1])\n",
    "plt.plot(train_acc, linewidth=2, label='train')\n",
    "plt.plot(val_acc, linewidth=2, label='validation')\n",
    "plt.xlabel('Epoch', fontsize=15)\n",
    "plt.ylabel('Accuracy', fontsize=15)\n",
    "plt.legend()\n",
    "plt.title('training and validation Accuracy')"
   ]
  }
 ],
 "metadata": {
  "colab": {
   "collapsed_sections": [],
   "name": "task2.ipynb",
   "provenance": []
  },
  "kernelspec": {
   "display_name": "Python 3 (ipykernel)",
   "language": "python",
   "name": "python3"
  },
  "language_info": {
   "codemirror_mode": {
    "name": "ipython",
    "version": 3
   },
   "file_extension": ".py",
   "mimetype": "text/x-python",
   "name": "python",
   "nbconvert_exporter": "python",
   "pygments_lexer": "ipython3",
   "version": "3.9.7"
  }
 },
 "nbformat": 4,
 "nbformat_minor": 1
}
