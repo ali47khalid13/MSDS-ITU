{
 "cells": [
  {
   "cell_type": "markdown",
   "metadata": {
    "id": "VwfY80NL181s"
   },
   "source": [
    "## **Mount drive** "
   ]
  },
  {
   "cell_type": "code",
   "execution_count": 1,
   "metadata": {
    "colab": {
     "base_uri": "https://localhost:8080/"
    },
    "executionInfo": {
     "elapsed": 3780,
     "status": "ok",
     "timestamp": 1651918531745,
     "user": {
      "displayName": "Ali Khalid",
      "userId": "10809480287003355230"
     },
     "user_tz": -300
    },
    "id": "nW2b5YTzy3pZ",
    "outputId": "1bd8212a-b528-4598-ba31-165f6d25acfd"
   },
   "outputs": [
    {
     "name": "stdout",
     "output_type": "stream",
     "text": [
      "Drive already mounted at /content/drive; to attempt to forcibly remount, call drive.mount(\"/content/drive\", force_remount=True).\n"
     ]
    }
   ],
   "source": [
    "from google.colab import drive\n",
    "drive.mount('/content/drive')"
   ]
  },
  {
   "cell_type": "code",
   "execution_count": 6,
   "metadata": {
    "colab": {
     "base_uri": "https://localhost:8080/"
    },
    "executionInfo": {
     "elapsed": 10,
     "status": "ok",
     "timestamp": 1651918531746,
     "user": {
      "displayName": "Ali Khalid",
      "userId": "10809480287003355230"
     },
     "user_tz": -300
    },
    "id": "7Fb8qdNY6qmh",
    "outputId": "39efa94e-9b59-4f44-fe6d-742e221cb996"
   },
   "outputs": [
    {
     "name": "stdout",
     "output_type": "stream",
     "text": [
      "[WinError 3] The system cannot find the path specified: '/content/drive/MyDrive/ITU/ML/Assignment2'\n",
      "D:\\ITU\\sem2\\ML\\assignmnets\\2\n"
     ]
    }
   ],
   "source": [
    "cd /content/drive/MyDrive/ITU/ML/Assignment2"
   ]
  },
  {
   "cell_type": "markdown",
   "metadata": {
    "id": "ZTuVp7pI2Fg8"
   },
   "source": [
    "## **Unzip Dataset**"
   ]
  },
  {
   "cell_type": "code",
   "execution_count": 19,
   "metadata": {
    "executionInfo": {
     "elapsed": 1457463,
     "status": "ok",
     "timestamp": 1651869717418,
     "user": {
      "displayName": "Ali Khalid",
      "userId": "10809480287003355230"
     },
     "user_tz": -300
    },
    "id": "z1ux1w-U2InQ"
   },
   "outputs": [],
   "source": [
    "import zipfile\n",
    "with zipfile.ZipFile('CelebA.zip', 'r') as zip_ref:\n",
    "    zip_ref.extractall('CelebA')\n",
    "\n",
    "with zipfile.ZipFile('CelebA/CelebA/Img/img_align_celeba.zip', 'r') as zip_ref:\n",
    "    zip_ref.extractall('/CelebA/CelebA/Img')"
   ]
  },
  {
   "cell_type": "markdown",
   "metadata": {
    "id": "5-5VWruMtjA4"
   },
   "source": [
    "## **Import Libraries**"
   ]
  },
  {
   "cell_type": "code",
   "execution_count": 42,
   "metadata": {
    "executionInfo": {
     "elapsed": 3045,
     "status": "ok",
     "timestamp": 1651918749921,
     "user": {
      "displayName": "Ali Khalid",
      "userId": "10809480287003355230"
     },
     "user_tz": -300
    },
    "id": "YOrsQs3przvi"
   },
   "outputs": [],
   "source": [
    "import pandas as pd \n",
    "import os\n",
    "import cv2\n",
    "\n",
    "import numpy as np\n",
    "import torch\n",
    "import torchvision\n",
    "from torchvision import transforms, datasets"
   ]
  },
  {
   "cell_type": "code",
   "execution_count": 43,
   "metadata": {
    "colab": {
     "base_uri": "https://localhost:8080/"
    },
    "executionInfo": {
     "elapsed": 9,
     "status": "ok",
     "timestamp": 1651918587195,
     "user": {
      "displayName": "Ali Khalid",
      "userId": "10809480287003355230"
     },
     "user_tz": -300
    },
    "id": "D8ZOVQkkdMvS",
    "outputId": "3619a9bc-5fbe-4f55-ce2d-573c0e3344f0"
   },
   "outputs": [
    {
     "name": "stdout",
     "output_type": "stream",
     "text": [
      "cpu\n"
     ]
    }
   ],
   "source": [
    "device = torch.device('cuda' if torch.cuda.is_available() else 'cpu')\n",
    "print(device)"
   ]
  },
  {
   "cell_type": "markdown",
   "metadata": {
    "id": "gLBCZshD33oh"
   },
   "source": [
    "## **Preparing Dataset for task 1**"
   ]
  },
  {
   "cell_type": "markdown",
   "metadata": {
    "id": "MYMwW4MD6MMy"
   },
   "source": [
    "**Data Preprocessing: Selecting 120 unique identities**"
   ]
  },
  {
   "cell_type": "code",
   "execution_count": 16,
   "metadata": {
    "id": "NF3M2PUc6Lh3"
   },
   "outputs": [],
   "source": [
    "# specify paths \n",
    "label_file = 'CelebA\\Anno\\identity_CelebA.txt'\n",
    "img_dir = 'CelebA\\Img\\img_align_celeba\\img_align_celeba'\n",
    "output_dir = 'task1_data'\n",
    "\n",
    "# load labels file\n",
    "data= pd.read_csv(label_file, sep=' ', header=None, names=['img', 'id'])\n",
    "\n",
    "# mean_value of images for each label\n",
    "mean_count = data['id'].value_counts().mean()\n",
    "\n",
    "# selecting 120 unique entries having examples more than mean_count\n",
    "selected_ids = [id for id,count in data['id'].value_counts().items() if count>mean_count][0:120]\n",
    "\n",
    "# selecting images of selected_ids and creating a new dataset for this task\n",
    "\n",
    "\n",
    "os.makedirs(output_dir, exist_ok=True)\n",
    "for i in selected_ids: \n",
    "    os.makedirs(os.path.join(output_dir, str(i)), exist_ok=True)\n",
    "\n",
    "for i in selected_ids:\n",
    "    # find imgs belonging to class i\n",
    "    id_df = data.loc[data.id == i]\n",
    "\n",
    "    # create image list\n",
    "    img_list = id_df.img.to_list()\n",
    "  \n",
    "    for img in img_list:\n",
    "        # reading img\n",
    "        image = cv2.imread(os.path.join(img_dir,img))\n",
    "\n",
    "        # saving image in the relevant directory\n",
    "        cv2.imwrite(os.path.join(output_dir,str(i),img), image)"
   ]
  },
  {
   "cell_type": "markdown",
   "metadata": {
    "id": "xImxLDAU-XOm"
   },
   "source": [
    "**Data Loading: Spliting into test train and validation**"
   ]
  },
  {
   "cell_type": "code",
   "execution_count": 44,
   "metadata": {
    "executionInfo": {
     "elapsed": 579,
     "status": "ok",
     "timestamp": 1651918251610,
     "user": {
      "displayName": "Ali Khalid",
      "userId": "10809480287003355230"
     },
     "user_tz": -300
    },
    "id": "o7JasRaVQLBW"
   },
   "outputs": [],
   "source": [
    "def load_dataset(dataset_path,train_size, validation_size, test_size, batch_size):\n",
    "\n",
    "    transform = transforms.Compose([#transforms.Grayscale(), \n",
    "                                         transforms.ToTensor(),\n",
    "                                         #transforms.Resize((28,28)), \n",
    "                                         #transforms.Normalize(0,0.5)\n",
    "                                         ])\n",
    "    # read dataset\n",
    "    dataset = datasets.ImageFolder(dataset_path, transform=transform)\n",
    "\n",
    "    # specify sizes\n",
    "    train_set_size = int(len(dataset) * train_size)\n",
    "    test_set_size = int(len(dataset) * test_size)\n",
    "    val_set_size = len(dataset) - train_set_size - test_set_size\n",
    "\n",
    "    # split data\n",
    "    train_data, val_data, test_data = torch.utils.data.random_split(dataset, [train_set_size,val_set_size,test_set_size])\n",
    "\n",
    "    # create dataloader for each data (test,train,val)\n",
    "    train_data_loader = torch.utils.data.DataLoader(train_data, batch_size=batch_size, shuffle=True)\n",
    "    val_data_loader = torch.utils.data.DataLoader(val_data, batch_size=batch_size, shuffle=True)\n",
    "    test_data_loader = torch.utils.data.DataLoader(test_data, batch_size=batch_size, shuffle=True)\n",
    "    #return test_data\n",
    "    return train_data_loader, val_data_loader, test_data_loader"
   ]
  },
  {
   "cell_type": "code",
   "execution_count": 45,
   "metadata": {
    "colab": {
     "base_uri": "https://localhost:8080/",
     "height": 398
    },
    "executionInfo": {
     "elapsed": 580,
     "status": "error",
     "timestamp": 1651918321207,
     "user": {
      "displayName": "Ali Khalid",
      "userId": "10809480287003355230"
     },
     "user_tz": -300
    },
    "id": "yiTxJ9SLYaa0",
    "outputId": "48ac96f1-68bf-4f1e-b6df-685fa9453ed8"
   },
   "outputs": [],
   "source": [
    "train_data_loader, val_data_loader, test_data_loader =  load_dataset('task1_data',0.7,0.15,0.15, 16)"
   ]
  },
  {
   "cell_type": "markdown",
   "metadata": {
    "id": "nKBtkDmfaolk"
   },
   "source": [
    "## **Creating Model**"
   ]
  },
  {
   "cell_type": "code",
   "execution_count": 46,
   "metadata": {
    "executionInfo": {
     "elapsed": 1039,
     "status": "ok",
     "timestamp": 1651880604706,
     "user": {
      "displayName": "Ali Khalid",
      "userId": "10809480287003355230"
     },
     "user_tz": -300
    },
    "id": "ys55GWVAatBt"
   },
   "outputs": [],
   "source": [
    "from torch import nn\n",
    "import torch.nn.functional as F\n",
    "from torch import optim\n",
    "\n",
    "class Net(nn.Module):\n",
    "    def __init__(self):\n",
    "        super().__init__()\n",
    "        self.fc1 = nn.Linear(3*218*178, 1000)\n",
    "        self.fc2 = nn.Linear(1000, 800)\n",
    "        self.fc3 = nn.Linear(800, 400)\n",
    "        self.fc4 = nn.Linear(400, 120)\n",
    "\n",
    "\n",
    "    def forward(self, x):\n",
    "        x = torch.flatten(x, 1) \n",
    "        x = F.relu(self.fc1(x))\n",
    "        x = F.relu(self.fc2(x))\n",
    "        x = F.relu(self.fc3(x))\n",
    "        x = self.fc4(x)\n",
    "        return x\n",
    "\n",
    "# model\n",
    "net = Net().to(device)"
   ]
  },
  {
   "cell_type": "markdown",
   "metadata": {
    "id": "rPhzrua7hZrv"
   },
   "source": [
    "## Training Model"
   ]
  },
  {
   "cell_type": "code",
   "execution_count": 47,
   "metadata": {
    "executionInfo": {
     "elapsed": 469,
     "status": "ok",
     "timestamp": 1651880690535,
     "user": {
      "displayName": "Ali Khalid",
      "userId": "10809480287003355230"
     },
     "user_tz": -300
    },
    "id": "ovdn0w0qhfSW"
   },
   "outputs": [],
   "source": [
    "def train(epochs, train_data_loader, val_data_loader, loss_func, optimizer, learning_rate):\n",
    "    train_step = len(train_data_loader)\n",
    "    val_step = len(val_data_loader)\n",
    "    train_loss = []\n",
    "    train_acc = []\n",
    "    val_loss = []\n",
    "    val_acc = []\n",
    "\n",
    "    for epoch in range(epochs): # iterate over epochs\n",
    "        t_loss = 0\n",
    "        t_acc = 0 \n",
    "        for i, data in enumerate(train_data_loader): # iterate over batches\n",
    "            # get image and labels data is in tuple form (inputs, label)\n",
    "            inputs, labels = data\n",
    "            inputs = inputs.to(device)\n",
    "            labels = labels.to(device)\n",
    "\n",
    "            # Zero-out gradients\n",
    "            optimizer.zero_grad()\n",
    "\n",
    "            # forward + backward + optimize\n",
    "            outputs = net(inputs)\n",
    "            _, pred = torch.max(outputs, 1)\n",
    "            loss = loss_func(outputs, labels)\n",
    "            loss.backward()\n",
    "            optimizer.step()\n",
    "            t_loss += loss.item()\n",
    "            t_acc += torch.sum(pred == labels)/len(labels)\n",
    "\n",
    "            if (i+1) % 10 == 0:\n",
    "                print ('Epoch [{}/{}], Step [{}/{}], Loss: {:.4f}' .format(epoch+1, epochs, i+1, train_step, loss.item()))\n",
    "    \n",
    "        v_loss = 0\n",
    "        v_acc = 0\n",
    "        for i, data in enumerate(val_data_loader): # iterate over batches\n",
    "            # get image and labels data is in tuple form (inputs, label)\n",
    "            inputs, labels = data\n",
    "            inputs = inputs.to(device)\n",
    "            labels = labels.to(device)\n",
    "            outputs = net(inputs)\n",
    "            _, pred = torch.max(outputs, 1)\n",
    "            loss = loss_func(outputs, labels)\n",
    "            v_loss += loss.item()\n",
    "            v_acc += torch.sum(pred == labels)/len(labels)\n",
    "     \n",
    "        train_loss.append(t_loss/train_step)\n",
    "        train_acc.append(t_acc/train_step)\n",
    "        val_loss.append(v_loss/val_step)\n",
    "        val_acc.append(v_acc/val_step)\n",
    "        print ('Epoch [{}/{}], train_loss: {:.4f}, val_loss: {:.4f}' .format(epoch+1, epochs, train_loss[-1], val_loss[-1]))\n",
    "    return train_loss, train_acc, val_loss, val_acc"
   ]
  },
  {
   "cell_type": "code",
   "execution_count": 48,
   "metadata": {
    "colab": {
     "base_uri": "https://localhost:8080/",
     "height": 433
    },
    "executionInfo": {
     "elapsed": 106559,
     "status": "error",
     "timestamp": 1651881065083,
     "user": {
      "displayName": "Ali Khalid",
      "userId": "10809480287003355230"
     },
     "user_tz": -300
    },
    "id": "pN0Nkf8Fh8fg",
    "outputId": "2f748680-34a9-46cf-e93f-370e7bcc611a"
   },
   "outputs": [
    {
     "name": "stdout",
     "output_type": "stream",
     "text": [
      "Epoch [1/10], Step [10/160], Loss: 7.7904\n",
      "Epoch [1/10], Step [20/160], Loss: 5.8091\n",
      "Epoch [1/10], Step [30/160], Loss: 4.8286\n",
      "Epoch [1/10], Step [40/160], Loss: 4.9111\n",
      "Epoch [1/10], Step [50/160], Loss: 4.6708\n",
      "Epoch [1/10], Step [60/160], Loss: 4.8174\n",
      "Epoch [1/10], Step [70/160], Loss: 4.7620\n",
      "Epoch [1/10], Step [80/160], Loss: 4.8048\n",
      "Epoch [1/10], Step [90/160], Loss: 4.7713\n",
      "Epoch [1/10], Step [100/160], Loss: 4.7931\n",
      "Epoch [1/10], Step [110/160], Loss: 4.7874\n",
      "Epoch [1/10], Step [120/160], Loss: 4.7479\n",
      "Epoch [1/10], Step [130/160], Loss: 4.7445\n",
      "Epoch [1/10], Step [140/160], Loss: 4.7575\n",
      "Epoch [1/10], Step [150/160], Loss: 4.9909\n",
      "Epoch [1/10], Step [160/160], Loss: 4.6293\n",
      "Epoch [1/10], train_loss: 5.3475, val_loss: 4.8625\n",
      "Epoch [2/10], Step [10/160], Loss: 4.6815\n",
      "Epoch [2/10], Step [20/160], Loss: 4.8109\n",
      "Epoch [2/10], Step [30/160], Loss: 4.7327\n",
      "Epoch [2/10], Step [40/160], Loss: 4.6851\n",
      "Epoch [2/10], Step [50/160], Loss: 4.8616\n",
      "Epoch [2/10], Step [60/160], Loss: 4.7215\n",
      "Epoch [2/10], Step [70/160], Loss: 4.7850\n",
      "Epoch [2/10], Step [80/160], Loss: 4.8736\n",
      "Epoch [2/10], Step [90/160], Loss: 4.9102\n",
      "Epoch [2/10], Step [100/160], Loss: 4.8965\n",
      "Epoch [2/10], Step [110/160], Loss: 4.7510\n",
      "Epoch [2/10], Step [120/160], Loss: 4.5771\n",
      "Epoch [2/10], Step [130/160], Loss: 4.6047\n",
      "Epoch [2/10], Step [140/160], Loss: 4.4741\n",
      "Epoch [2/10], Step [150/160], Loss: 4.5773\n",
      "Epoch [2/10], Step [160/160], Loss: 4.4381\n",
      "Epoch [2/10], train_loss: 4.7288, val_loss: 4.6881\n",
      "Epoch [3/10], Step [10/160], Loss: 4.8355\n",
      "Epoch [3/10], Step [20/160], Loss: 4.5209\n",
      "Epoch [3/10], Step [30/160], Loss: 4.7535\n",
      "Epoch [3/10], Step [40/160], Loss: 4.5716\n",
      "Epoch [3/10], Step [50/160], Loss: 4.7799\n",
      "Epoch [3/10], Step [60/160], Loss: 4.8238\n",
      "Epoch [3/10], Step [70/160], Loss: 4.4739\n",
      "Epoch [3/10], Step [80/160], Loss: 4.6330\n",
      "Epoch [3/10], Step [90/160], Loss: 4.4716\n",
      "Epoch [3/10], Step [100/160], Loss: 4.3098\n",
      "Epoch [3/10], Step [110/160], Loss: 4.6386\n",
      "Epoch [3/10], Step [120/160], Loss: 4.5126\n",
      "Epoch [3/10], Step [130/160], Loss: 4.5973\n",
      "Epoch [3/10], Step [140/160], Loss: 4.3746\n",
      "Epoch [3/10], Step [150/160], Loss: 4.5238\n",
      "Epoch [3/10], Step [160/160], Loss: 4.5115\n",
      "Epoch [3/10], train_loss: 4.5974, val_loss: 4.5740\n",
      "Epoch [4/10], Step [10/160], Loss: 4.2546\n",
      "Epoch [4/10], Step [20/160], Loss: 4.7081\n",
      "Epoch [4/10], Step [30/160], Loss: 4.3741\n",
      "Epoch [4/10], Step [40/160], Loss: 4.5278\n",
      "Epoch [4/10], Step [50/160], Loss: 4.7042\n",
      "Epoch [4/10], Step [60/160], Loss: 4.6232\n",
      "Epoch [4/10], Step [70/160], Loss: 4.6098\n",
      "Epoch [4/10], Step [80/160], Loss: 4.6422\n",
      "Epoch [4/10], Step [90/160], Loss: 4.6133\n",
      "Epoch [4/10], Step [100/160], Loss: 4.4590\n",
      "Epoch [4/10], Step [110/160], Loss: 4.5534\n",
      "Epoch [4/10], Step [120/160], Loss: 4.2994\n",
      "Epoch [4/10], Step [130/160], Loss: 4.5870\n",
      "Epoch [4/10], Step [140/160], Loss: 4.4503\n",
      "Epoch [4/10], Step [150/160], Loss: 4.4871\n",
      "Epoch [4/10], Step [160/160], Loss: 4.0161\n",
      "Epoch [4/10], train_loss: 4.5303, val_loss: 4.5426\n",
      "Epoch [5/10], Step [10/160], Loss: 4.5719\n",
      "Epoch [5/10], Step [20/160], Loss: 4.3454\n",
      "Epoch [5/10], Step [30/160], Loss: 4.6483\n",
      "Epoch [5/10], Step [40/160], Loss: 4.3347\n",
      "Epoch [5/10], Step [50/160], Loss: 4.6046\n",
      "Epoch [5/10], Step [60/160], Loss: 4.4246\n",
      "Epoch [5/10], Step [70/160], Loss: 4.5843\n",
      "Epoch [5/10], Step [80/160], Loss: 4.8293\n",
      "Epoch [5/10], Step [90/160], Loss: 4.5051\n",
      "Epoch [5/10], Step [100/160], Loss: 4.4205\n",
      "Epoch [5/10], Step [110/160], Loss: 4.6219\n",
      "Epoch [5/10], Step [120/160], Loss: 4.5177\n",
      "Epoch [5/10], Step [130/160], Loss: 4.4203\n",
      "Epoch [5/10], Step [140/160], Loss: 4.3837\n",
      "Epoch [5/10], Step [150/160], Loss: 4.2774\n",
      "Epoch [5/10], Step [160/160], Loss: 4.6316\n",
      "Epoch [5/10], train_loss: 4.4906, val_loss: 4.6312\n",
      "Epoch [6/10], Step [10/160], Loss: 4.4188\n",
      "Epoch [6/10], Step [20/160], Loss: 4.4118\n",
      "Epoch [6/10], Step [30/160], Loss: 4.2716\n",
      "Epoch [6/10], Step [40/160], Loss: 4.4311\n",
      "Epoch [6/10], Step [50/160], Loss: 4.5354\n",
      "Epoch [6/10], Step [60/160], Loss: 4.3860\n",
      "Epoch [6/10], Step [70/160], Loss: 4.3197\n",
      "Epoch [6/10], Step [80/160], Loss: 4.6402\n",
      "Epoch [6/10], Step [90/160], Loss: 4.4601\n",
      "Epoch [6/10], Step [100/160], Loss: 4.0561\n",
      "Epoch [6/10], Step [110/160], Loss: 4.2760\n",
      "Epoch [6/10], Step [120/160], Loss: 4.5890\n",
      "Epoch [6/10], Step [130/160], Loss: 4.5729\n",
      "Epoch [6/10], Step [140/160], Loss: 4.3685\n",
      "Epoch [6/10], Step [150/160], Loss: 4.4450\n",
      "Epoch [6/10], Step [160/160], Loss: 3.9712\n",
      "Epoch [6/10], train_loss: 4.4443, val_loss: 4.5368\n",
      "Epoch [7/10], Step [10/160], Loss: 4.2258\n",
      "Epoch [7/10], Step [20/160], Loss: 4.5048\n",
      "Epoch [7/10], Step [30/160], Loss: 4.3829\n",
      "Epoch [7/10], Step [40/160], Loss: 4.4102\n",
      "Epoch [7/10], Step [50/160], Loss: 4.2684\n",
      "Epoch [7/10], Step [60/160], Loss: 4.3694\n",
      "Epoch [7/10], Step [70/160], Loss: 4.5193\n",
      "Epoch [7/10], Step [80/160], Loss: 4.5557\n",
      "Epoch [7/10], Step [90/160], Loss: 4.4750\n",
      "Epoch [7/10], Step [100/160], Loss: 4.5591\n",
      "Epoch [7/10], Step [110/160], Loss: 4.5245\n",
      "Epoch [7/10], Step [120/160], Loss: 4.5055\n",
      "Epoch [7/10], Step [130/160], Loss: 4.1399\n",
      "Epoch [7/10], Step [140/160], Loss: 4.5510\n",
      "Epoch [7/10], Step [150/160], Loss: 4.3779\n",
      "Epoch [7/10], Step [160/160], Loss: 4.0693\n",
      "Epoch [7/10], train_loss: 4.3806, val_loss: 4.5646\n",
      "Epoch [8/10], Step [10/160], Loss: 4.7320\n",
      "Epoch [8/10], Step [20/160], Loss: 4.4808\n",
      "Epoch [8/10], Step [30/160], Loss: 4.8029\n",
      "Epoch [8/10], Step [40/160], Loss: 4.2015\n",
      "Epoch [8/10], Step [50/160], Loss: 4.3777\n",
      "Epoch [8/10], Step [60/160], Loss: 4.3722\n",
      "Epoch [8/10], Step [70/160], Loss: 4.3363\n",
      "Epoch [8/10], Step [80/160], Loss: 5.0180\n",
      "Epoch [8/10], Step [90/160], Loss: 4.3884\n",
      "Epoch [8/10], Step [100/160], Loss: 4.3820\n",
      "Epoch [8/10], Step [110/160], Loss: 4.4255\n",
      "Epoch [8/10], Step [120/160], Loss: 4.6372\n",
      "Epoch [8/10], Step [130/160], Loss: 4.6156\n",
      "Epoch [8/10], Step [140/160], Loss: 4.5432\n",
      "Epoch [8/10], Step [150/160], Loss: 4.4718\n",
      "Epoch [8/10], Step [160/160], Loss: 5.3469\n",
      "Epoch [8/10], train_loss: 4.3829, val_loss: 4.4899\n",
      "Epoch [9/10], Step [10/160], Loss: 4.2650\n",
      "Epoch [9/10], Step [20/160], Loss: 4.3367\n",
      "Epoch [9/10], Step [30/160], Loss: 4.0788\n",
      "Epoch [9/10], Step [40/160], Loss: 4.4083\n",
      "Epoch [9/10], Step [50/160], Loss: 4.1718\n",
      "Epoch [9/10], Step [60/160], Loss: 4.1283\n",
      "Epoch [9/10], Step [70/160], Loss: 4.5938\n",
      "Epoch [9/10], Step [80/160], Loss: 4.8269\n",
      "Epoch [9/10], Step [90/160], Loss: 4.1437\n",
      "Epoch [9/10], Step [100/160], Loss: 4.3968\n",
      "Epoch [9/10], Step [110/160], Loss: 4.2516\n",
      "Epoch [9/10], Step [120/160], Loss: 4.3626\n",
      "Epoch [9/10], Step [130/160], Loss: 4.0195\n",
      "Epoch [9/10], Step [140/160], Loss: 4.3384\n",
      "Epoch [9/10], Step [150/160], Loss: 4.3336\n",
      "Epoch [9/10], Step [160/160], Loss: 4.7340\n",
      "Epoch [9/10], train_loss: 4.3454, val_loss: 4.4656\n",
      "Epoch [10/10], Step [10/160], Loss: 4.1143\n",
      "Epoch [10/10], Step [20/160], Loss: 4.1743\n",
      "Epoch [10/10], Step [30/160], Loss: 4.1301\n",
      "Epoch [10/10], Step [40/160], Loss: 4.1111\n",
      "Epoch [10/10], Step [50/160], Loss: 3.9668\n",
      "Epoch [10/10], Step [60/160], Loss: 4.3383\n",
      "Epoch [10/10], Step [70/160], Loss: 4.2186\n",
      "Epoch [10/10], Step [80/160], Loss: 4.8526\n",
      "Epoch [10/10], Step [90/160], Loss: 4.0955\n",
      "Epoch [10/10], Step [100/160], Loss: 4.2938\n",
      "Epoch [10/10], Step [110/160], Loss: 4.2294\n",
      "Epoch [10/10], Step [120/160], Loss: 4.4552\n",
      "Epoch [10/10], Step [130/160], Loss: 4.5402\n",
      "Epoch [10/10], Step [140/160], Loss: 4.4723\n",
      "Epoch [10/10], Step [150/160], Loss: 4.3550\n",
      "Epoch [10/10], Step [160/160], Loss: 3.9888\n",
      "Epoch [10/10], train_loss: 4.2753, val_loss: 4.4151\n"
     ]
    }
   ],
   "source": [
    "# loss\n",
    "criterion = nn.CrossEntropyLoss()\n",
    "\n",
    "\n",
    "#optimizer\n",
    "learning_rate = 0.001\n",
    "optimizer = optim.Adam(net.parameters(), lr=learning_rate)\n",
    "\n",
    "#training\n",
    "train_loss, train_acc, val_loss, val_acc= train(10, train_data_loader,  val_data_loader,criterion, optimizer, learning_rate)"
   ]
  },
  {
   "cell_type": "markdown",
   "metadata": {
    "id": "yDeBukX4oxnG"
   },
   "source": [
    "## **Save Model**"
   ]
  },
  {
   "cell_type": "code",
   "execution_count": 51,
   "metadata": {
    "executionInfo": {
     "elapsed": 5515,
     "status": "ok",
     "timestamp": 1651881078357,
     "user": {
      "displayName": "Ali Khalid",
      "userId": "10809480287003355230"
     },
     "user_tz": -300
    },
    "id": "Bwgu8k1Xo0dd"
   },
   "outputs": [],
   "source": [
    "path = 'saved_models/task1/task1.pt'\n",
    "torch.save(net.state_dict(), path)\n",
    "\n",
    "np.save('saved_models/task1/train_loss', train_loss)\n",
    "np.save('saved_models/task1/val_loss', val_loss)\n",
    "np.save('saved_models/task1/train_acc', train_acc)\n",
    "np.save('saved_models/task1/val_acc', val_acc)"
   ]
  },
  {
   "cell_type": "markdown",
   "metadata": {
    "id": "W0ZFjfN1pL-f"
   },
   "source": [
    "## **Test Model**"
   ]
  },
  {
   "cell_type": "code",
   "execution_count": 53,
   "metadata": {
    "colab": {
     "base_uri": "https://localhost:8080/"
    },
    "executionInfo": {
     "elapsed": 410,
     "status": "ok",
     "timestamp": 1651881080701,
     "user": {
      "displayName": "Ali Khalid",
      "userId": "10809480287003355230"
     },
     "user_tz": -300
    },
    "id": "i7zafyKTpTm6",
    "outputId": "f7277920-892e-4bf9-e0ea-5afa55624056"
   },
   "outputs": [
    {
     "name": "stdout",
     "output_type": "stream",
     "text": [
      "tensor([39, 16, 65, 70, 16, 75, 19, 62, 99, 25, 98, 99, 54, 10, 74, 32])\n"
     ]
    }
   ],
   "source": [
    "dataiter = iter(test_data_loader)\n",
    "images, test_labels = dataiter.next()\n",
    "print(test_labels)"
   ]
  },
  {
   "cell_type": "code",
   "execution_count": 54,
   "metadata": {
    "colab": {
     "base_uri": "https://localhost:8080/"
    },
    "executionInfo": {
     "elapsed": 1247,
     "status": "ok",
     "timestamp": 1651881083253,
     "user": {
      "displayName": "Ali Khalid",
      "userId": "10809480287003355230"
     },
     "user_tz": -300
    },
    "id": "EjIAdRf2qwC7",
    "outputId": "327fea7b-975b-4986-b01b-54d320c883c6"
   },
   "outputs": [
    {
     "data": {
      "text/plain": [
       "tensor([108,  91, 111,  96,  91,  38,  91,  96,  46,  38,  38,  38, 111,  46,\n",
       "        108,  25])"
      ]
     },
     "execution_count": 54,
     "metadata": {},
     "output_type": "execute_result"
    }
   ],
   "source": [
    "# load model\n",
    "net.load_state_dict(torch.load(path))\n",
    "test_out = net(images.to(device))\n",
    "_, pred = torch.max(test_out, 1) \n",
    "pred"
   ]
  },
  {
   "cell_type": "code",
   "execution_count": 60,
   "metadata": {},
   "outputs": [
    {
     "name": "stdout",
     "output_type": "stream",
     "text": [
      "Test Accuracy: 0.0071\n"
     ]
    }
   ],
   "source": [
    "# load model\n",
    "path = 'saved_models/task1/epoch1/task1.pt'\n",
    "net = Net().to(device)\n",
    "net.load_state_dict(torch.load(path))\n",
    "\n",
    "test_steps = len(test_data_loader)\n",
    "t_acc=0\n",
    "for i, data in enumerate(test_data_loader): # iterate over batches\n",
    "    # get image and labels data is in tuple form (inputs, label)\n",
    "    inputs, labels = data\n",
    "    inputs = inputs.to(device)\n",
    "    labels = labels.to(device)\n",
    "\n",
    "\n",
    "    # forward + backward + optimize\n",
    "    outputs = net(inputs)\n",
    "    _, pred = torch.max(outputs, 1)\n",
    "    t_acc += torch.sum(pred == labels)/len(labels)\n",
    "\n",
    "print('Test Accuracy: {:.4f}'.format(t_acc/test_steps))"
   ]
  },
  {
   "cell_type": "markdown",
   "metadata": {
    "id": "Bc9du2KHpMFZ"
   },
   "source": [
    "## **Visualize result**"
   ]
  },
  {
   "cell_type": "code",
   "execution_count": 57,
   "metadata": {
    "colab": {
     "base_uri": "https://localhost:8080/",
     "height": 300
    },
    "executionInfo": {
     "elapsed": 2330,
     "status": "ok",
     "timestamp": 1651918809981,
     "user": {
      "displayName": "Ali Khalid",
      "userId": "10809480287003355230"
     },
     "user_tz": -300
    },
    "id": "myKs939VpTFY",
    "outputId": "6b9b03e2-d08e-4ad6-a550-e81f77705b03"
   },
   "outputs": [
    {
     "data": {
      "text/plain": [
       "Text(0.5, 1.0, 'training and validation loss')"
      ]
     },
     "execution_count": 57,
     "metadata": {},
     "output_type": "execute_result"
    },
    {
     "data": {
      "image/png": "[encoded data removed]",
      "text/plain": [
       "<Figure size 432x288 with 1 Axes>"
      ]
     },
     "metadata": {
      "needs_background": "light"
     },
     "output_type": "display_data"
    }
   ],
   "source": [
    "%matplotlib inline\n",
    "import matplotlib.pyplot as plt\n",
    "import numpy as np\n",
    "\n",
    "train_loss = np.load('saved_models/task1/epoch1/train_loss.npy')\n",
    "val_loss = np.load('saved_models/task1/epoch1/val_loss.npy')\n",
    "plt.plot(train_loss, linewidth=2, label='train')\n",
    "plt.plot(val_loss, linewidth=2, label='validation')\n",
    "plt.xlabel('Epoch', fontsize=15)\n",
    "plt.ylabel('Loss', fontsize=15)\n",
    "plt.legend()\n",
    "plt.title('training and validation loss')"
   ]
  },
  {
   "cell_type": "code",
   "execution_count": 61,
   "metadata": {},
   "outputs": [
    {
     "name": "stdout",
     "output_type": "stream",
     "text": [
      "val accuracy: 0.00859375\n",
      "train accuracy: 0.00859375\n"
     ]
    },
    {
     "data": {
      "text/plain": [
       "Text(0.5, 1.0, 'training and validation Accuracy')"
      ]
     },
     "execution_count": 61,
     "metadata": {},
     "output_type": "execute_result"
    },
    {
     "data": {
      "image/png": "[encoded data removed]",
      "text/plain": [
       "<Figure size 432x288 with 1 Axes>"
      ]
     },
     "metadata": {
      "needs_background": "light"
     },
     "output_type": "display_data"
    }
   ],
   "source": [
    "val_acc = np.load('saved_models/task1/epoch1/val_acc.npy')\n",
    "train_acc = np.load('saved_models/task1/epoch1/train_acc.npy')\n",
    "print('val accuracy:', val_acc[-1])\n",
    "print('train accuracy:', train_acc[-1])\n",
    "plt.plot(train_acc, linewidth=2, label='train')\n",
    "plt.plot(val_acc, linewidth=2, label='validation')\n",
    "plt.xlabel('Epoch', fontsize=15)\n",
    "plt.ylabel('Accuracy', fontsize=15)\n",
    "plt.legend()\n",
    "plt.title('training and validation Accuracy')"
   ]
  },
  {
   "cell_type": "code",
   "execution_count": null,
   "metadata": {},
   "outputs": [],
   "source": []
  }
 ],
 "metadata": {
  "accelerator": "GPU",
  "colab": {
   "authorship_tag": "ABX9TyOqE84eZ3zmxTGdxilwJT18",
   "collapsed_sections": [],
   "name": "task1.ipynb",
   "provenance": []
  },
  "kernelspec": {
   "display_name": "Python 3 (ipykernel)",
   "language": "python",
   "name": "python3"
  },
  "language_info": {
   "codemirror_mode": {
    "name": "ipython",
    "version": 3
   },
   "file_extension": ".py",
   "mimetype": "text/x-python",
   "name": "python",
   "nbconvert_exporter": "python",
   "pygments_lexer": "ipython3",
   "version": "3.9.7"
  }
 },
 "nbformat": 4,
 "nbformat_minor": 1
}
