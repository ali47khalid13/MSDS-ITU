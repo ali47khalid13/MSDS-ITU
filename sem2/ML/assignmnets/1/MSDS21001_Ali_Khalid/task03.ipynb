{
 "cells": [
  {
   "cell_type": "markdown",
   "id": "8523cbe0",
   "metadata": {},
   "source": [
    "# Task 03: Linear Regression with Multiple Variables"
   ]
  },
  {
   "cell_type": "markdown",
   "id": "884f8cae",
   "metadata": {},
   "source": [
    "## Import libraries"
   ]
  },
  {
   "cell_type": "code",
   "execution_count": 1,
   "id": "406626d0",
   "metadata": {},
   "outputs": [],
   "source": [
    "import numpy as np \n",
    "import math\n",
    "import pandas as pd\n",
    "import matplotlib.pyplot as plt"
   ]
  },
  {
   "cell_type": "markdown",
   "id": "bb9c55bf",
   "metadata": {},
   "source": [
    "## Step 1: \n",
    "Read the data files using pandas.\n"
   ]
  },
  {
   "cell_type": "code",
   "execution_count": 2,
   "id": "0be86605",
   "metadata": {},
   "outputs": [
    {
     "name": "stdout",
     "output_type": "stream",
     "text": [
      "   Area(sq_ft)  Bedrooms  Kitchen  YearBuilt   Price\n",
      "0         8450         3        1       2003  208500\n",
      "1         9600         3        1       1976  181500\n",
      "2        11250         3        1       2001  223500\n",
      "3         9550         3        1       1915  140000\n",
      "4        14260         4        1       2000  250000\n",
      "shape of data before removing outliers: (1460, 5)\n",
      "shape of data after removing outliers: (1348, 5)\n",
      "shape of train data: (944, 5)\n",
      "shape of validation data: (203, 5)\n",
      "shape test data: (201, 5)\n"
     ]
    }
   ],
   "source": [
    "# read data into data frame \n",
    "df = pd.read_csv('task02.csv')\n",
    "\n",
    "# drop the serial coloumn \n",
    "df = df.drop(['Unnamed: 0'], axis =1)\n",
    "print(df.head())\n",
    "\n",
    "# normalize the data \n",
    "df_normalized=(df-df.mean())/df.std()\n",
    "\n",
    "# remove outliers\n",
    "print('shape of data before removing outliers:',df_normalized.shape)\n",
    "data_normalized = df_normalized[(df_normalized.abs()<3).all(axis=1)].copy()\n",
    "data_unnormalized = df[(df_normalized.abs()<3).all(axis=1)].copy()\n",
    "print('shape of data after removing outliers:',data_normalized.shape)\n",
    "\n",
    "# Split data into train, val and test\n",
    "def train_val_test_split(data,train_per, val_per):\n",
    "    samples = len(data)\n",
    "    train_samples = math.ceil(samples*train_per)\n",
    "    val_samples = math.ceil(samples*val_per)\n",
    "    indices = np.random.permutation(data.shape[0])\n",
    "    train_idx, val_idx, test_idx = indices[:train_samples], indices[train_samples:train_samples+val_samples] , indices[train_samples+val_samples:]\n",
    "    train, val, test = data.iloc[train_idx], data.iloc[val_idx], data.iloc[test_idx]\n",
    "    return train, val, test\n",
    "\n",
    "train_normalized, val_normalized ,test_normalized = train_val_test_split(data_normalized,0.7,0.15)\n",
    "train_unnormalized, val_unnormalized ,test_unnormalized = train_val_test_split(data_unnormalized,0.7,0.15)\n",
    "\n",
    "print('shape of train data:', train_normalized.shape)\n",
    "print('shape of validation data:', val_normalized.shape)\n",
    "print('shape test data:', test_normalized.shape)\n",
    "\n",
    "# seperte features and labels. Also append coloumns of 1 in the begining \n",
    "#for normlized data\n",
    "train_normalized_x , train_normalized_y =np.c_[np.ones(len(train_normalized)),train_normalized.iloc[:,:-1]],train_normalized.iloc[:,-1:]\n",
    "val_normalized_x , val_normalized_y = np.c_[np.ones(len(val_normalized)),val_normalized.iloc[:,:-1]],val_normalized.iloc[:,-1:]\n",
    "test_normalized_x , test_normalized_y = np.c_[np.ones(len(test_normalized)),test_normalized.iloc[:,:-1]],test_normalized.iloc[:,-1:]\n",
    "# for unormalized data\n",
    "train_unnormalized_x , train_unnormalized_y = np.c_[np.ones(len(train_normalized)),train_unnormalized.iloc[:,:-1]],train_unnormalized.iloc[:,-1:]\n",
    "val_unnormalized_x , val_unnormalized_y = np.c_[np.ones(len(val_unnormalized)),val_unnormalized.iloc[:,:-1]],val_unnormalized.iloc[:,-1:]\n",
    "test_unnormalized_x , test_unnormalized_y = np.c_[np.ones(len(test_unnormalized)),test_unnormalized.iloc[:,:-1]],test_unnormalized.iloc[:,-1:]"
   ]
  },
  {
   "cell_type": "markdown",
   "id": "2cbb5599",
   "metadata": {},
   "source": [
    "## Step 2: \n",
    "Randomly initialize the m and c. Set the learning rate to 0.001 and set the number of epochs to 100"
   ]
  },
  {
   "cell_type": "code",
   "execution_count": 3,
   "id": "acef8832",
   "metadata": {},
   "outputs": [],
   "source": [
    "parameters = np.array([np.random.rand() for i in range(5)]).reshape(5,1)# consider first variabel as c\n",
    "learning_rate = 0.001\n",
    "epochs = 100"
   ]
  },
  {
   "cell_type": "markdown",
   "id": "1e5cf9b9",
   "metadata": {},
   "source": [
    "## Step 3:\n",
    "Write a function loss_func(y_ture, y_pred) that takes predicted apartment price and\n",
    "original apartment price as input and returns the mean squared error b/w the true and predicted\n",
    "price"
   ]
  },
  {
   "cell_type": "code",
   "execution_count": 4,
   "id": "92fd4630",
   "metadata": {},
   "outputs": [],
   "source": [
    "def loss_function(parameters, x, y):\n",
    "    loss = np.dot(np.transpose(y-np.dot(x,parameters)), y-np.dot(x,parameters))/ len(y)\n",
    "    return loss[0][0]"
   ]
  },
  {
   "cell_type": "markdown",
   "id": "e180a3bb",
   "metadata": {},
   "source": [
    "## Step 4:\n",
    "Write a function grad_descent(learning_rate, epochs, m, c) that performs the gradient\n",
    "descent to reach optimal values of m and c for the given dataset. The algorithm is explained in\n",
    "the overview section. The function should return final values of m, c and an array containing the\n",
    "loss values at each epoch.\n"
   ]
  },
  {
   "cell_type": "code",
   "execution_count": 5,
   "id": "0c290f46",
   "metadata": {},
   "outputs": [],
   "source": [
    "def gradf(parameters, x, y):\n",
    "    grad=[]\n",
    "    for i in range(len(parameters)):\n",
    "        dfdx =  -2*np.dot(np.transpose(y-np.dot(x,parameters)),x[:,i].reshape(len(y),1))/len(y)\n",
    "        grad.append([dfdx[0][0]])\n",
    "    return np.array(grad)"
   ]
  },
  {
   "cell_type": "code",
   "execution_count": 6,
   "id": "f5b3ce70",
   "metadata": {},
   "outputs": [],
   "source": [
    "def grad_descent(learning_rate, epoch, parameters):\n",
    "    EPS = 1e-5   #EPS = 10**(-5)\n",
    "    init_t= np.array(parameters)\n",
    "    prev_t = init_t-10*EPS\n",
    "    t = init_t.copy()\n",
    "    max_iter = epoch\n",
    "    iter  = 0\n",
    "    loss_history_train = []\n",
    "    loss_history_val = []\n",
    "    loss_history_test = []\n",
    "    while np.linalg.norm(t - prev_t) >  EPS and iter < max_iter:\n",
    "        prev_t = t.copy()\n",
    "        #print(t)\n",
    "        grad = gradf(t,x,y) \n",
    "        t -= learning_rate*grad\n",
    "        loss_history_train.append(loss_function(t,x,y))\n",
    "        loss_history_val.append(loss_function(t,val_x,val_y))\n",
    "        loss_history_test.append(loss_function(t,test_x,test_y))\n",
    "        iter += 1\n",
    "    return t, loss_history_train,loss_history_val,loss_history_test\n",
    "    "
   ]
  },
  {
   "cell_type": "markdown",
   "id": "fb4532eb",
   "metadata": {},
   "source": [
    "## Step 5\n",
    "Plot the epoch vs training and validation loss using matplotlib for normalized and unnormalized data. Also report the test loss. "
   ]
  },
  {
   "cell_type": "markdown",
   "id": "14457ec4",
   "metadata": {},
   "source": [
    "### With Normalization"
   ]
  },
  {
   "cell_type": "code",
   "execution_count": 7,
   "id": "d265078d",
   "metadata": {},
   "outputs": [],
   "source": [
    "x = train_normalized_x\n",
    "y = train_normalized_y\n",
    "val_x = val_normalized_x\n",
    "val_y = val_normalized_y\n",
    "test_x = test_normalized_x\n",
    "test_y = test_normalized_y\n",
    "parameters, lh_train, lh_val, lh_test = grad_descent(learning_rate, epochs, parameters)"
   ]
  },
  {
   "cell_type": "code",
   "execution_count": 8,
   "id": "90fe0f8b",
   "metadata": {},
   "outputs": [
    {
     "data": {
      "image/png": "[encoded data removed]",
      "text/plain": [
       "<Figure size 432x288 with 1 Axes>"
      ]
     },
     "metadata": {
      "needs_background": "light"
     },
     "output_type": "display_data"
    }
   ],
   "source": [
    "x_axis = [i for i in range(len(lh_train))]\n",
    "plt.plot(x_axis,lh_train)\n",
    "plt.plot(x_axis,lh_val)\n",
    "plt.plot(x_axis,lh_test)\n",
    "plt.xlabel('epochs')\n",
    "plt.ylabel('error')\n",
    "plt.title('train vs val vs test loss')\n",
    "plt.legend(['train loss',\"val loss\" , \"test loss\"])\n",
    "plt.show()"
   ]
  },
  {
   "cell_type": "code",
   "execution_count": 9,
   "id": "11b88b45",
   "metadata": {},
   "outputs": [
    {
     "name": "stdout",
     "output_type": "stream",
     "text": [
      "best parameters: [[0.19058905]\n",
      " [0.85061023]\n",
      " [0.66013254]\n",
      " [0.15800729]\n",
      " [0.67492603]]\n",
      "train loss at these parameters: 0.6308865946417269\n",
      "val loss at these parameters: 0.6758839258583246\n",
      "test loss at these parameters: 0.8603534966227699\n"
     ]
    }
   ],
   "source": [
    "print('best parameters:',parameters )\n",
    "print('train loss at these parameters:', lh_train[-1])\n",
    "print('val loss at these parameters:' ,lh_val[-1])\n",
    "print('test loss at these parameters:', lh_test[-1])"
   ]
  },
  {
   "cell_type": "code",
   "execution_count": 10,
   "id": "bb566027",
   "metadata": {},
   "outputs": [
    {
     "name": "stdout",
     "output_type": "stream",
     "text": [
      "test loss is: 0.8603534966227699\n"
     ]
    }
   ],
   "source": [
    "print('test loss is:',lh_test[-1])"
   ]
  },
  {
   "cell_type": "markdown",
   "id": "70ef90c9",
   "metadata": {},
   "source": [
    "### Without Normalization"
   ]
  },
  {
   "cell_type": "code",
   "execution_count": 11,
   "id": "4a2ca353",
   "metadata": {},
   "outputs": [],
   "source": [
    "x = train_unnormalized_x\n",
    "y = train_unnormalized_y\n",
    "val_x = val_unnormalized_x\n",
    "val_y = val_unnormalized_y\n",
    "test_x = test_unnormalized_x\n",
    "test_y = test_unnormalized_y\n",
    "parameters = np.array([np.random.rand() for i in range(5)]).reshape(5,1)# consider first variabel as c\n",
    "learning_rate = 0.0000000001\n",
    "epochs = 100\n",
    "parameters, lh_train, lh_val, lh_test = grad_descent(learning_rate, epochs, parameters)"
   ]
  },
  {
   "cell_type": "code",
   "execution_count": 12,
   "id": "3090db13",
   "metadata": {},
   "outputs": [
    {
     "data": {
      "image/png": "[encoded data removed]",
      "text/plain": [
       "<Figure size 432x288 with 1 Axes>"
      ]
     },
     "metadata": {
      "needs_background": "light"
     },
     "output_type": "display_data"
    }
   ],
   "source": [
    "x_axis = [i for i in range(len(lh_train))]\n",
    "plt.plot(x_axis,lh_train)\n",
    "plt.plot(x_axis,lh_val)\n",
    "plt.plot(x_axis,lh_test)\n",
    "plt.xlabel('epochs')\n",
    "plt.ylabel('error')\n",
    "plt.title('train vs val vs test loss')\n",
    "plt.legend(['train loss',\"val loss\" , \"test loss\"])\n",
    "plt.show()"
   ]
  },
  {
   "cell_type": "code",
   "execution_count": 13,
   "id": "8bfbf7c4",
   "metadata": {},
   "outputs": [
    {
     "name": "stdout",
     "output_type": "stream",
     "text": [
      "best parameters: [[ 0.2025193 ]\n",
      " [14.21410535]\n",
      " [ 0.2574108 ]\n",
      " [ 0.90283671]\n",
      " [ 3.61715885]]\n",
      "train loss at these parameters: 6095512844.869593\n",
      "val loss at these parameters: 7880203909.4526825\n",
      "test loss at these parameters: 6737266192.286106\n"
     ]
    }
   ],
   "source": [
    "print('best parameters:',parameters )\n",
    "print('train loss at these parameters:', lh_train[-1])\n",
    "print('val loss at these parameters:' ,lh_val[-1])\n",
    "print('test loss at these parameters:', lh_test[-1])"
   ]
  },
  {
   "cell_type": "code",
   "execution_count": 14,
   "id": "3213245d",
   "metadata": {},
   "outputs": [
    {
     "name": "stdout",
     "output_type": "stream",
     "text": [
      "test loss is: 6737266192.286106\n"
     ]
    }
   ],
   "source": [
    "print('test loss is:',lh_test[-1])"
   ]
  }
 ],
 "metadata": {
  "kernelspec": {
   "display_name": "Python 3 (ipykernel)",
   "language": "python",
   "name": "python3"
  },
  "language_info": {
   "codemirror_mode": {
    "name": "ipython",
    "version": 3
   },
   "file_extension": ".py",
   "mimetype": "text/x-python",
   "name": "python",
   "nbconvert_exporter": "python",
   "pygments_lexer": "ipython3",
   "version": "3.9.7"
  }
 },
 "nbformat": 4,
 "nbformat_minor": 5
}
