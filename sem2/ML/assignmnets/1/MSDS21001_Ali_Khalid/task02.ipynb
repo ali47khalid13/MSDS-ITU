{
 "cells": [
  {
   "cell_type": "markdown",
   "id": "cbd899ff",
   "metadata": {},
   "source": [
    "# Task 02: Linear Regression with One Variable "
   ]
  },
  {
   "cell_type": "markdown",
   "id": "48b76bf0",
   "metadata": {},
   "source": [
    "## Import libraries"
   ]
  },
  {
   "cell_type": "code",
   "execution_count": 3,
   "id": "e72288f5",
   "metadata": {},
   "outputs": [],
   "source": [
    "import numpy as np \n",
    "import math\n",
    "import pandas as pd\n",
    "import matplotlib.pyplot as plt"
   ]
  },
  {
   "cell_type": "markdown",
   "id": "eb52a081",
   "metadata": {},
   "source": [
    "## Step 1: \n",
    "Read the data files using pandas.\n"
   ]
  },
  {
   "cell_type": "code",
   "execution_count": 4,
   "id": "f10bd268",
   "metadata": {},
   "outputs": [
    {
     "name": "stdout",
     "output_type": "stream",
     "text": [
      "   Area(sq_ft)   Price\n",
      "0         8450  208500\n",
      "1         9600  181500\n",
      "2        11250  223500\n",
      "3         9550  140000\n",
      "4        14260  250000\n",
      "shape of data before removing outliers: (1460, 2)\n",
      "shape of data after removing outliers: (1426, 2)\n"
     ]
    },
    {
     "data": {
      "image/png": "[encoded data removed]",
      "text/plain": [
       "<Figure size 432x288 with 1 Axes>"
      ]
     },
     "metadata": {
      "needs_background": "light"
     },
     "output_type": "display_data"
    },
    {
     "name": "stdout",
     "output_type": "stream",
     "text": [
      "shape of train data: (999, 2)\n",
      "shape of validation data: (214, 2)\n",
      "shape test data: (213, 2)\n"
     ]
    }
   ],
   "source": [
    "# read data into data frame \n",
    "df = pd.read_csv('task01.csv')\n",
    "\n",
    "# drop the serial coloumn \n",
    "df = df.drop(['Unnamed: 0'], axis =1)\n",
    "print(df.head())\n",
    "\n",
    "# normalize the data \n",
    "df=(df-df.mean())/df.std()\n",
    "\n",
    "# remove outliers\n",
    "print('shape of data before removing outliers:',df.shape)\n",
    "data = df[(df.abs()<3).all(axis=1)].copy()\n",
    "outlier = df[(df.abs()>=3).any(axis=1)].copy()\n",
    "print('shape of data after removing outliers:',data.shape)\n",
    "\n",
    "#plot data and outliers\n",
    "plt.scatter(data['Area(sq_ft)'],data['Price'] , c = 'blue')\n",
    "plt.scatter(outlier['Area(sq_ft)'],outlier['Price'], c ='red')\n",
    "plt.xlabel('Area (sq_ft)')\n",
    "plt.ylabel('Price')\n",
    "plt.title('Outliers identification')\n",
    "plt.legend([\"normal\" , \"outliers\"])\n",
    "plt.show()\n",
    "\n",
    "# Split data into train, val and test\n",
    "def train_val_test_split(data,train_per, val_per):\n",
    "    samples = len(data)\n",
    "    train_samples = math.ceil(samples*train_per)\n",
    "    val_samples = math.ceil(samples*val_per)\n",
    "    indices = np.random.permutation(data.shape[0])\n",
    "    train_idx, val_idx, test_idx = indices[:train_samples], indices[train_samples:train_samples+val_samples] , indices[train_samples+val_samples:]\n",
    "    train, val, test = data.iloc[train_idx], data.iloc[val_idx], data.iloc[test_idx]\n",
    "    return train, val, test\n",
    "\n",
    "train, val ,test = train_val_test_split(data,0.7,0.15)\n",
    "print('shape of train data:', train.shape)\n",
    "print('shape of validation data:', val.shape)\n",
    "print('shape test data:', test.shape)\n",
    "\n",
    "# seperte features and labels\n",
    "train_x , train_y = train.iloc[:,:-1].to_numpy().reshape(-1),train.iloc[:,-1]\n",
    "val_x , val_y = val.iloc[:,:-1].to_numpy().reshape(-1),val.iloc[:,-1]\n",
    "test_x , test_y = test.iloc[:,:-1].to_numpy().reshape(-1),test.iloc[:,-1]"
   ]
  },
  {
   "cell_type": "markdown",
   "id": "4b350857",
   "metadata": {},
   "source": [
    "## Step 2: \n",
    "Randomly initialize the m and c. Set the learning rate to 0.001 and set the number of epochs to 100"
   ]
  },
  {
   "cell_type": "code",
   "execution_count": 5,
   "id": "8a628b16",
   "metadata": {},
   "outputs": [],
   "source": [
    "m = np.random.rand()\n",
    "c = np.random.rand()\n",
    "learning_rate = 0.001\n",
    "epochs = 100"
   ]
  },
  {
   "cell_type": "markdown",
   "id": "4b512795",
   "metadata": {},
   "source": [
    "## Step 3:\n",
    "Write a function loss_func(y_ture, y_pred) that takes predicted apartment price and\n",
    "original apartment price as input and returns the mean squared error b/w the true and predicted\n",
    "price"
   ]
  },
  {
   "cell_type": "code",
   "execution_count": 6,
   "id": "6631f16e",
   "metadata": {},
   "outputs": [],
   "source": [
    "def loss_function(m, c, x = train_x, y = train_y ):\n",
    "    loss = np.dot(y-(m*x +c), y-(m*x +c)) / len(y)\n",
    "    return loss "
   ]
  },
  {
   "cell_type": "markdown",
   "id": "d498a428",
   "metadata": {},
   "source": [
    "## Step 4:\n",
    "Write a function grad_descent(learning_rate, epochs, m, c) that performs the gradient\n",
    "descent to reach optimal values of m and c for the given dataset. The algorithm is explained in\n",
    "the overview section. The function should return final values of m, c and an array containing the\n",
    "loss values at each epoch.\n"
   ]
  },
  {
   "cell_type": "code",
   "execution_count": 7,
   "id": "01d7e962",
   "metadata": {},
   "outputs": [],
   "source": [
    "def dldm(m,c):\n",
    "    dldm = -2*(np.dot((y-((m*x)+c)),x))/len(y)\n",
    "    return dldm\n",
    "def dldc(m,c):\n",
    "    dldc = -2*np.sum((y-((m*x)+c)))/len(y)\n",
    "    return dldc\n",
    "def gradf(m,c):\n",
    "    dm = dldm(m,c)\n",
    "    dc = dldc(m,c)\n",
    "    return np.array([dm, dc]) "
   ]
  },
  {
   "cell_type": "code",
   "execution_count": 8,
   "id": "2510b5e6",
   "metadata": {},
   "outputs": [],
   "source": [
    "x = train_x\n",
    "y = train_y\n",
    "\n",
    "def grad_descent(learning_rate, epoch, m, c):\n",
    "    EPS = 1e-5   #EPS = 10**(-5)\n",
    "    init_t= np.array([m,c])\n",
    "    prev_t = init_t-10*EPS\n",
    "    t = init_t.copy()\n",
    "    max_iter = epoch\n",
    "    iter  = 0\n",
    "    loss_history_train = []\n",
    "    loss_history_val = []\n",
    "    loss_history_test = []\n",
    "    while np.linalg.norm(t - prev_t) >  EPS and iter < max_iter:\n",
    "        prev_t = t.copy()\n",
    "        grad = gradf(t[0],t[1]) \n",
    "        t -= learning_rate*grad\n",
    "        loss_history_train.append(loss_function(t[0],t[1]))\n",
    "        loss_history_val.append(loss_function(t[0],t[1],val_x,val_y))\n",
    "        loss_history_test.append(loss_function(t[0],t[1],test_x,test_y))\n",
    "        iter += 1\n",
    "    return t[0],t[1], loss_history_train,loss_history_val,loss_history_test\n",
    "    "
   ]
  },
  {
   "cell_type": "code",
   "execution_count": 9,
   "id": "6dbe5dc6",
   "metadata": {},
   "outputs": [],
   "source": [
    "m ,c, lh_train, lh_val, lh_test = grad_descent(learning_rate, epochs, m, c)"
   ]
  },
  {
   "cell_type": "markdown",
   "id": "a01c99be",
   "metadata": {},
   "source": [
    "## Step 5\n",
    "Plot the epoch vs training and validation loss using matplotlib and report test lose."
   ]
  },
  {
   "cell_type": "code",
   "execution_count": 10,
   "id": "60f2c819",
   "metadata": {},
   "outputs": [
    {
     "data": {
      "image/png": "[encoded data removed]",
      "text/plain": [
       "<Figure size 432x288 with 1 Axes>"
      ]
     },
     "metadata": {
      "needs_background": "light"
     },
     "output_type": "display_data"
    }
   ],
   "source": [
    "x_axis = [i for i in range(epochs)]\n",
    "plt.plot(x_axis,lh_train)\n",
    "plt.plot(x_axis,lh_val)\n",
    "plt.plot(x_axis,lh_test)\n",
    "plt.xlabel('epochs')\n",
    "plt.ylabel('loss')\n",
    "plt.title('train vs val vs test loss')\n",
    "plt.legend(['train loss',\"val loss\" , \"test loss\"])\n",
    "plt.show()"
   ]
  },
  {
   "cell_type": "code",
   "execution_count": 11,
   "id": "2c7dbfca",
   "metadata": {},
   "outputs": [
    {
     "name": "stdout",
     "output_type": "stream",
     "text": [
      "best parameters: 0.8024303555851369 0.13894580918323693\n",
      "train loss at these parameters: 0.6442186709459236\n",
      "val loss at these parameters: 0.6701309238646099\n",
      "test loss at these parameters: 0.6750152448023103\n"
     ]
    }
   ],
   "source": [
    "print('best parameters:',m ,c )\n",
    "print('train loss at these parameters:', lh_train[-1])\n",
    "print('val loss at these parameters:' ,lh_val[-1])\n",
    "print('test loss at these parameters:', lh_test[-1])"
   ]
  },
  {
   "cell_type": "code",
   "execution_count": 12,
   "id": "21ac4ef0",
   "metadata": {},
   "outputs": [
    {
     "name": "stdout",
     "output_type": "stream",
     "text": [
      "test loss is: 0.6750152448023103\n"
     ]
    }
   ],
   "source": [
    "print('test loss is:',lh_test[-1])"
   ]
  },
  {
   "cell_type": "markdown",
   "id": "bbdd44d4",
   "metadata": {},
   "source": [
    "## Step 6\n",
    "Plot the training data with linear regression fit and find test loss."
   ]
  },
  {
   "cell_type": "code",
   "execution_count": 15,
   "id": "cfa53a3c",
   "metadata": {},
   "outputs": [
    {
     "data": {
      "image/png": "[encoded data removed]",
      "text/plain": [
       "<Figure size 432x288 with 1 Axes>"
      ]
     },
     "metadata": {
      "needs_background": "light"
     },
     "output_type": "display_data"
    }
   ],
   "source": [
    "plt.scatter(data['Area(sq_ft)'],data['Price'] , c = 'blue')\n",
    "plt.scatter(outlier['Area(sq_ft)'],outlier['Price'], c ='red')\n",
    "plt.plot(df['Area(sq_ft)'],df['Area(sq_ft)']*m+c)\n",
    "plt.xlabel('Area (sq_ft)')\n",
    "plt.ylabel('Price')\n",
    "plt.title('Linear regression fit')\n",
    "plt.legend(['line_fit',\"normal\" , \"outliers\"])\n",
    "plt.show()"
   ]
  }
 ],
 "metadata": {
  "kernelspec": {
   "display_name": "Python 3 (ipykernel)",
   "language": "python",
   "name": "python3"
  },
  "language_info": {
   "codemirror_mode": {
    "name": "ipython",
    "version": 3
   },
   "file_extension": ".py",
   "mimetype": "text/x-python",
   "name": "python",
   "nbconvert_exporter": "python",
   "pygments_lexer": "ipython3",
   "version": "3.9.7"
  }
 },
 "nbformat": 4,
 "nbformat_minor": 5
}
