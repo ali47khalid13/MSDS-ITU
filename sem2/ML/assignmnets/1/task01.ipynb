{
 "cells": [
  {
   "cell_type": "markdown",
   "id": "43cad0fc",
   "metadata": {},
   "source": [
    "# Task 01: Train/Validation/Test Split\n",
    "\n",
    "Perform train/validation/test (70%/15%/15%) random split on both task01.csv and task02.csv separately"
   ]
  },
  {
   "cell_type": "markdown",
   "id": "61aebe1c",
   "metadata": {},
   "source": [
    "## Import libraries "
   ]
  },
  {
   "cell_type": "code",
   "execution_count": 2,
   "id": "d23da169",
   "metadata": {},
   "outputs": [],
   "source": [
    "import numpy as np \n",
    "import math\n",
    "import pandas as pd"
   ]
  },
  {
   "cell_type": "markdown",
   "id": "e0de1dc2",
   "metadata": {},
   "source": [
    "## Define split function"
   ]
  },
  {
   "cell_type": "code",
   "execution_count": 3,
   "id": "9cc9565f",
   "metadata": {},
   "outputs": [],
   "source": [
    "def train_val_test_split(data,train_per, val_per):\n",
    "    samples = len(data)\n",
    "    train_samples = math.ceil(samples*train_per)\n",
    "    val_samples = math.ceil(samples*val_per)\n",
    "    indices = np.random.permutation(data.shape[0])\n",
    "    train_idx, val_idx, test_idx = indices[:train_samples], indices[train_samples:train_samples+val_samples] , indices[train_samples+val_samples:]\n",
    "    train, val, test = data.iloc[train_idx], data.iloc[val_idx], data.iloc[test_idx]\n",
    "    return train, val, test"
   ]
  },
  {
   "cell_type": "markdown",
   "id": "1f469588",
   "metadata": {},
   "source": [
    "## Spliting task01.csv"
   ]
  },
  {
   "cell_type": "code",
   "execution_count": 4,
   "id": "8a30e45a",
   "metadata": {},
   "outputs": [
    {
     "name": "stdout",
     "output_type": "stream",
     "text": [
      "length of complete data: 1460\n",
      "Performing Spliting\n",
      "length of train data: 1022\n",
      "length of Validation data: 219\n",
      "length of test data: 219\n"
     ]
    }
   ],
   "source": [
    "df = pd.read_csv ('task01.csv')\n",
    "print('length of complete data:', df.shape[0])\n",
    "\n",
    "print('Performing Spliting')\n",
    "\n",
    "train ,val, test = train_val_test_split(df,0.70,0.15)\n",
    "\n",
    "print('length of train data:', train.shape[0])\n",
    "print('length of Validation data:', val.shape[0])\n",
    "print('length of test data:', test.shape[0])"
   ]
  },
  {
   "cell_type": "markdown",
   "id": "6d31d1fa",
   "metadata": {},
   "source": [
    "## Spliting task02.csv"
   ]
  },
  {
   "cell_type": "code",
   "execution_count": 5,
   "id": "c66b8551",
   "metadata": {},
   "outputs": [
    {
     "name": "stdout",
     "output_type": "stream",
     "text": [
      "length of complete data: 1460\n",
      "Performing Spliting\n",
      "length of train data: 1022\n",
      "length of Validation data: 219\n",
      "length of test data: 219\n"
     ]
    }
   ],
   "source": [
    "df = pd.read_csv ('task02.csv')\n",
    "print('length of complete data:', df.shape[0])\n",
    "\n",
    "print('Performing Spliting')\n",
    "\n",
    "train ,val, test = train_val_test_split(df,0.70,0.15)\n",
    "\n",
    "print('length of train data:', train.shape[0])\n",
    "print('length of Validation data:', val.shape[0])\n",
    "print('length of test data:', test.shape[0])"
   ]
  }
 ],
 "metadata": {
  "kernelspec": {
   "display_name": "Python 3 (ipykernel)",
   "language": "python",
   "name": "python3"
  },
  "language_info": {
   "codemirror_mode": {
    "name": "ipython",
    "version": 3
   },
   "file_extension": ".py",
   "mimetype": "text/x-python",
   "name": "python",
   "nbconvert_exporter": "python",
   "pygments_lexer": "ipython3",
   "version": "3.9.7"
  }
 },
 "nbformat": 4,
 "nbformat_minor": 5
}
