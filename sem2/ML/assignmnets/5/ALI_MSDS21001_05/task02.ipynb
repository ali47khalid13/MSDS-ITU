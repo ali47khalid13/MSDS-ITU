{
 "cells": [
  {
   "cell_type": "markdown",
   "id": "a9d44304",
   "metadata": {},
   "source": [
    "# Import Libraries"
   ]
  },
  {
   "cell_type": "code",
   "execution_count": 3,
   "id": "c8ed1340",
   "metadata": {},
   "outputs": [],
   "source": [
    "import pandas as pd \n",
    "import random\n",
    "import numpy as np\n",
    "\n",
    "import torch\n",
    "from torch.nn import Linear\n",
    "import torch.nn.functional as F\n",
    "from torch_geometric.nn import GCNConv\n",
    "from torch_geometric.nn import global_mean_pool\n",
    "from torch_geometric.loader import DataLoader\n",
    "from torch_geometric.data import Data"
   ]
  },
  {
   "cell_type": "markdown",
   "id": "416aef29",
   "metadata": {},
   "source": [
    "# Load Dataset"
   ]
  },
  {
   "cell_type": "code",
   "execution_count": 4,
   "id": "073d3ba2",
   "metadata": {},
   "outputs": [
    {
     "name": "stdout",
     "output_type": "stream",
     "text": [
      "(1113, 1)\n",
      "(43471, 1)\n",
      "(43471, 1)\n",
      "(162088, 2)\n"
     ]
    }
   ],
   "source": [
    "PROTEINS_A = pd.read_csv(\"./Datasets/proteins/PROTEINS_A.txt\", header = None)\n",
    "PROTEINS_graph_indicator = pd.read_csv(\"./Datasets/proteins/PROTEINS_graph_indicator.txt\", header = None)\n",
    "PROTEINS_graph_labels = pd.read_csv(\"./Datasets/proteins/PROTEINS_graph_labels.txt\", header = None)\n",
    "PROTEINS_node_attributes = pd.read_csv(\"./Datasets/proteins/PROTEINS_node_attributes.txt\", header = None)\n",
    "print(PROTEINS_graph_labels.shape)\n",
    "print(PROTEINS_node_attributes.shape)\n",
    "print(PROTEINS_graph_indicator.shape)\n",
    "print(PROTEINS_A.shape)"
   ]
  },
  {
   "cell_type": "code",
   "execution_count": 5,
   "id": "9f2182db",
   "metadata": {},
   "outputs": [],
   "source": [
    "PROTEINS_graph_labels = PROTEINS_graph_labels -1\n",
    "PROTEINS_A = PROTEINS_A - 1"
   ]
  },
  {
   "cell_type": "code",
   "execution_count": 6,
   "id": "4ae3e177",
   "metadata": {},
   "outputs": [
    {
     "name": "stderr",
     "output_type": "stream",
     "text": [
      "C:\\Windows\\TEMP/ipykernel_24516/2023682678.py:11: UserWarning: To copy construct from a tensor, it is recommended to use sourceTensor.clone().detach() or sourceTensor.clone().detach().requires_grad_(True), rather than torch.tensor(sourceTensor).\n",
      "  G1= Data(x=torch.tensor(x,dtype=torch.float),edge_index=torch.tensor(edge,dtype=torch.long),y=torch.tensor(y))\n"
     ]
    }
   ],
   "source": [
    "Dataset = []\n",
    "\n",
    "for i in PROTEINS_graph_indicator[0].unique():\n",
    "    nodes_index = PROTEINS_graph_indicator.loc[PROTEINS_graph_indicator[0] == i].index\n",
    "    nodes_attributes = PROTEINS_node_attributes.loc[nodes_index]\n",
    "    x = torch.tensor(nodes_attributes.values)\n",
    "    edge = PROTEINS_A.loc[PROTEINS_A[0].isin(nodes_index)] -PROTEINS_A.loc[PROTEINS_A[0].isin(nodes_index)].min().min()\n",
    "    edge = edge.values.T\n",
    "    y = PROTEINS_graph_labels.iloc[i-1]\n",
    "    \n",
    "    G1= Data(x=torch.tensor(x,dtype=torch.float),edge_index=torch.tensor(edge,dtype=torch.long),y=torch.tensor(y))\n",
    "    Dataset.append(G1)   \n"
   ]
  },
  {
   "cell_type": "code",
   "execution_count": 7,
   "id": "4374090e",
   "metadata": {},
   "outputs": [
    {
     "name": "stdout",
     "output_type": "stream",
     "text": [
      "1113\n"
     ]
    }
   ],
   "source": [
    "random.shuffle(Dataset)\n",
    "print(len(Dataset))"
   ]
  },
  {
   "cell_type": "code",
   "execution_count": 8,
   "id": "0572d77a",
   "metadata": {},
   "outputs": [],
   "source": [
    "train_size = int(np.ceil(len(Dataset) *0.6))\n",
    "val_size = int(np.ceil(len(Dataset) *0.2))\n",
    "test_size = len(Dataset) - train_size - val_size"
   ]
  },
  {
   "cell_type": "code",
   "execution_count": 9,
   "id": "21460049",
   "metadata": {},
   "outputs": [],
   "source": [
    "train_dataset = Dataset[:train_size]\n",
    "val_dataset = Dataset[train_size:train_size+val_size]\n",
    "test_dataset = Dataset[train_size+val_size:]"
   ]
  },
  {
   "cell_type": "code",
   "execution_count": 10,
   "id": "d172bfdd",
   "metadata": {},
   "outputs": [
    {
     "name": "stdout",
     "output_type": "stream",
     "text": [
      "Step 1:\n",
      "=======\n",
      "Number of graphs in the current batch: 64\n",
      "DataBatch(x=[2295, 1], edge_index=[2, 8922], y=[64], batch=[2295], ptr=[65])\n",
      "\n",
      "Step 2:\n",
      "=======\n",
      "Number of graphs in the current batch: 64\n",
      "DataBatch(x=[2473, 1], edge_index=[2, 9436], y=[64], batch=[2473], ptr=[65])\n",
      "\n",
      "Step 3:\n",
      "=======\n",
      "Number of graphs in the current batch: 64\n",
      "DataBatch(x=[2305, 1], edge_index=[2, 8710], y=[64], batch=[2305], ptr=[65])\n",
      "\n",
      "Step 4:\n",
      "=======\n",
      "Number of graphs in the current batch: 64\n",
      "DataBatch(x=[2801, 1], edge_index=[2, 9890], y=[64], batch=[2801], ptr=[65])\n",
      "\n",
      "Step 5:\n",
      "=======\n",
      "Number of graphs in the current batch: 64\n",
      "DataBatch(x=[2078, 1], edge_index=[2, 7972], y=[64], batch=[2078], ptr=[65])\n",
      "\n",
      "Step 6:\n",
      "=======\n",
      "Number of graphs in the current batch: 64\n",
      "DataBatch(x=[3543, 1], edge_index=[2, 12894], y=[64], batch=[3543], ptr=[65])\n",
      "\n",
      "Step 7:\n",
      "=======\n",
      "Number of graphs in the current batch: 64\n",
      "DataBatch(x=[3024, 1], edge_index=[2, 11812], y=[64], batch=[3024], ptr=[65])\n",
      "\n",
      "Step 8:\n",
      "=======\n",
      "Number of graphs in the current batch: 64\n",
      "DataBatch(x=[2444, 1], edge_index=[2, 9110], y=[64], batch=[2444], ptr=[65])\n",
      "\n",
      "Step 9:\n",
      "=======\n",
      "Number of graphs in the current batch: 64\n",
      "DataBatch(x=[2854, 1], edge_index=[2, 10650], y=[64], batch=[2854], ptr=[65])\n",
      "\n",
      "Step 10:\n",
      "=======\n",
      "Number of graphs in the current batch: 64\n",
      "DataBatch(x=[2715, 1], edge_index=[2, 9742], y=[64], batch=[2715], ptr=[65])\n",
      "\n",
      "Step 11:\n",
      "=======\n",
      "Number of graphs in the current batch: 28\n",
      "DataBatch(x=[1138, 1], edge_index=[2, 4164], y=[28], batch=[1138], ptr=[29])\n",
      "\n"
     ]
    }
   ],
   "source": [
    "train_loader = DataLoader(train_dataset, batch_size=64, shuffle=True)\n",
    "test_loader = DataLoader(test_dataset, batch_size=64, shuffle=False)\n",
    "val_loader = DataLoader(val_dataset, batch_size=64, shuffle=False)\n",
    "\n",
    "for step, data in enumerate(train_loader):\n",
    "    print(f'Step {step + 1}:')\n",
    "    print('=======')\n",
    "    print(f'Number of graphs in the current batch: {data.num_graphs}')\n",
    "    print(data)\n",
    "    print()"
   ]
  },
  {
   "cell_type": "markdown",
   "id": "630998c3",
   "metadata": {},
   "source": [
    "# Define Model"
   ]
  },
  {
   "cell_type": "code",
   "execution_count": 26,
   "id": "82a26a17",
   "metadata": {},
   "outputs": [],
   "source": [
    "class GCN(torch.nn.Module):\n",
    "    def __init__(self, hidden_channels):\n",
    "        super(GCN, self).__init__()\n",
    "        torch.manual_seed(12345)\n",
    "        self.conv1 = GCNConv(Dataset[0].num_node_features, hidden_channels)\n",
    "        self.conv2 = GCNConv(hidden_channels, hidden_channels)\n",
    "        self.conv3 = GCNConv(hidden_channels, int(hidden_channels/2))\n",
    "        self.lin = Linear(int(hidden_channels/2), 2)\n",
    "\n",
    "    def forward(self, x, edge_index, batch):\n",
    "        # Obtain node embeddings \n",
    "        x = self.conv1(x, edge_index)\n",
    "        x = x.relu()\n",
    "        x = self.conv2(x, edge_index)\n",
    "        x = x.relu()\n",
    "        x = self.conv3(x, edge_index)\n",
    "        x = x.relu()\n",
    "        \n",
    "        # Readout layer\n",
    "        x = global_mean_pool(x, batch)  # [batch_size, hidden_channels]\n",
    "\n",
    "        # Apply a final classifier\n",
    "        x = F.dropout(x, p=0.5, training=self.training)\n",
    "        x = self.lin(x)\n",
    "        \n",
    "        return x\n"
   ]
  },
  {
   "cell_type": "markdown",
   "id": "78f383be",
   "metadata": {},
   "source": [
    "# Training "
   ]
  },
  {
   "cell_type": "code",
   "execution_count": 49,
   "id": "4164e548",
   "metadata": {},
   "outputs": [],
   "source": [
    "def train(epochs, train_loader,val_loader, loss_func,optimizer, learning_rate):\n",
    "    criterion = loss_func()\n",
    "    optimizer = optimizer(model.parameters(), lr=learning_rate)\n",
    "    model.train()\n",
    "    train_loss = []\n",
    "    train_acc = []\n",
    "    val_loss = []\n",
    "    val_acc = []\n",
    "    \n",
    "    for epoch in range(epochs):\n",
    "        correct = 0 \n",
    "        loss_sum = 0\n",
    "        for data in train_loader:  # Iterate in batches over the training dataset.\n",
    "            out = model(data.x, data.edge_index, data.batch)  # Perform a single forward pass.\n",
    "            loss = criterion(out, data.y)  # Compute the loss.\n",
    "            loss.backward()  # Derive gradients.\n",
    "            optimizer.step()  # Update parameters based on gradients.\n",
    "            optimizer.zero_grad()  # Clear gradients.\n",
    "            pred = out.argmax(dim=1)  # Use the class with highest probability.\n",
    "            correct += int((pred == data.y).sum())  # Check against ground-truth labels.\n",
    "            loss_sum +=loss\n",
    "\n",
    "        acc_train = correct / len(train_loader.dataset)  \n",
    "        loss_train = loss_sum / len(train_loader)  \n",
    "        \n",
    "        correct = 0 \n",
    "        loss_sum = 0\n",
    "        for data in val_loader:  # Iterate in batches over the training dataset.\n",
    "            out = model(data.x, data.edge_index, data.batch)  # Perform a single forward pass.\n",
    "            loss = criterion(out, data.y)  # Compute the loss.\n",
    "            pred = out.argmax(dim=1)  # Use the class with highest probability.\n",
    "            correct += int((pred == data.y).sum())  # Check against ground-truth labels.\n",
    "            loss_sum +=loss\n",
    "\n",
    "        acc_val = correct / len(val_loader.dataset)  \n",
    "        loss_val = loss_sum / len(val_loader)  \n",
    "        \n",
    "        train_loss.append(loss_train.detach())\n",
    "        train_acc.append(acc_train)\n",
    "        val_loss.append(loss_val.detach())\n",
    "        val_acc.append(acc_val)\n",
    "#        print(f'Epoch: {epoch:03d}, Train Acc: {acc_train:.4f}, Train loss: {loss_train:.4f}')\n",
    "\n",
    "        print(f'Epoch: {epoch:03d}, Train Acc: {acc_train:.4f}, Train loss: {loss_train:.4f}, Val Acc: {acc_val:.4f}, Val loss: {loss_val:.4f}')\n",
    "        \n",
    "    return train_loss, train_acc, val_loss, val_acc"
   ]
  },
  {
   "cell_type": "code",
   "execution_count": 60,
   "id": "1ea2c884",
   "metadata": {},
   "outputs": [
    {
     "name": "stdout",
     "output_type": "stream",
     "text": [
      "GCN(\n",
      "  (conv1): GCNConv(1, 256)\n",
      "  (conv2): GCNConv(256, 256)\n",
      "  (conv3): GCNConv(256, 128)\n",
      "  (lin): Linear(in_features=128, out_features=2, bias=True)\n",
      ")\n",
      "Epoch: 000, Train Acc: 0.4641, Train loss: 0.7121, Val Acc: 0.4619, Val loss: 0.7086\n",
      "Epoch: 001, Train Acc: 0.4865, Train loss: 0.6990, Val Acc: 0.4350, Val loss: 0.7082\n",
      "Epoch: 002, Train Acc: 0.4865, Train loss: 0.6953, Val Acc: 0.5381, Val loss: 0.6928\n",
      "Epoch: 003, Train Acc: 0.5105, Train loss: 0.6971, Val Acc: 0.5247, Val loss: 0.6980\n",
      "Epoch: 004, Train Acc: 0.5195, Train loss: 0.6962, Val Acc: 0.5740, Val loss: 0.6900\n",
      "Epoch: 005, Train Acc: 0.5599, Train loss: 0.6882, Val Acc: 0.5471, Val loss: 0.6938\n",
      "Epoch: 006, Train Acc: 0.5838, Train loss: 0.6829, Val Acc: 0.5695, Val loss: 0.6884\n",
      "Epoch: 007, Train Acc: 0.5719, Train loss: 0.6880, Val Acc: 0.5740, Val loss: 0.6808\n",
      "Epoch: 008, Train Acc: 0.5749, Train loss: 0.6799, Val Acc: 0.5830, Val loss: 0.6926\n",
      "Epoch: 009, Train Acc: 0.5943, Train loss: 0.6802, Val Acc: 0.5785, Val loss: 0.6860\n"
     ]
    }
   ],
   "source": [
    "model = GCN(hidden_channels=256)\n",
    "print(model)\n",
    "loss_func = torch.nn.CrossEntropyLoss\n",
    "optimizer = torch.optim.SGD\n",
    "epochs = 10\n",
    "learning_rate = 0.001\n",
    "train_loss, train_acc, val_loss, val_acc = train(epochs, train_loader,val_loader, loss_func,optimizer, learning_rate)"
   ]
  },
  {
   "cell_type": "markdown",
   "id": "18e9ebfd",
   "metadata": {},
   "source": [
    "# save Model"
   ]
  },
  {
   "cell_type": "code",
   "execution_count": 61,
   "id": "55aedb67",
   "metadata": {},
   "outputs": [],
   "source": [
    "path = './saved_models/task2/task2.pt'\n",
    "torch.save(model.state_dict(), path)\n",
    "\n",
    "np.save('./saved_models/task2/train_loss', train_loss)\n",
    "np.save('./saved_models/task2/val_loss', val_loss)\n",
    "np.save('./saved_models/task2/train_acc', train_acc)\n",
    "np.save('./saved_models/task2/val_acc', val_acc)"
   ]
  },
  {
   "cell_type": "markdown",
   "id": "fbcbf554",
   "metadata": {},
   "source": [
    "# Testing"
   ]
  },
  {
   "cell_type": "code",
   "execution_count": 62,
   "id": "fd2db237",
   "metadata": {},
   "outputs": [],
   "source": [
    "def test(test_loader, loss_func):\n",
    "    criterion = loss_func()\n",
    "    correct =0\n",
    "    loss_sum =0\n",
    "    best = 0\n",
    "    worst = 10\n",
    "    for data in test_loader:  # Iterate in batches over the training dataset.\n",
    "        out = model(data.x, data.edge_index, data.batch)  # Perform a single forward pass.\n",
    "        loss = criterion(out, data.y)  # Compute the loss.\n",
    "        pred = out.argmax(dim=1)  # Use the class with highest probability.\n",
    "        prob, _ = out.max(dim=1)\n",
    "        best_pred = prob.max()\n",
    "        worst_pred = prob.min()\n",
    "        correct += int((pred == data.y).sum())  # Check against ground-truth labels.\n",
    "        loss_sum +=loss\n",
    "        if best_pred>best:\n",
    "            best = best_pred\n",
    "        if worst_pred<worst:\n",
    "            worst = worst_pred\n",
    "        \n",
    "    acc_test = correct / len(test_loader.dataset)  \n",
    "    loss_test = loss_sum / len(test_loader)\n",
    "        \n",
    "    print(f'Test accuracy: {acc_test:.4f}, Test loss: {loss_test:.4f}')\n",
    "    print('best pred: ', best_pred)\n",
    "    print('worst pred: ', worst_pred)"
   ]
  },
  {
   "cell_type": "code",
   "execution_count": 63,
   "id": "91c7c572",
   "metadata": {},
   "outputs": [
    {
     "name": "stdout",
     "output_type": "stream",
     "text": [
      "Test accuracy: 0.5631, Test loss: 0.7116\n",
      "best pred:  tensor(1.2012, grad_fn=<MaxBackward1>)\n",
      "worst pred:  tensor(0.0523, grad_fn=<MinBackward1>)\n"
     ]
    }
   ],
   "source": [
    "path = './saved_models/task2/task2.pt'\n",
    "model = GCN(hidden_channels=256)\n",
    "model.load_state_dict(torch.load(path))\n",
    "loss_func = torch.nn.CrossEntropyLoss\n",
    "test(test_loader, loss_func)"
   ]
  },
  {
   "cell_type": "markdown",
   "id": "dc853fd2",
   "metadata": {},
   "source": [
    "# Visualization"
   ]
  },
  {
   "cell_type": "code",
   "execution_count": 58,
   "id": "df4f2900",
   "metadata": {},
   "outputs": [
    {
     "name": "stdout",
     "output_type": "stream",
     "text": [
      "val loss: 0.67925453\n",
      "train loss: 0.6841047\n"
     ]
    },
    {
     "data": {
      "text/plain": [
       "Text(0.5, 1.0, 'training and validation loss')"
      ]
     },
     "execution_count": 58,
     "metadata": {},
     "output_type": "execute_result"
    },
    {
     "data": {
      "image/png": "[encoded data removed]",
      "text/plain": [
       "<Figure size 432x288 with 1 Axes>"
      ]
     },
     "metadata": {
      "needs_background": "light"
     },
     "output_type": "display_data"
    }
   ],
   "source": [
    "%matplotlib inline\n",
    "import matplotlib.pyplot as plt\n",
    "import numpy as np\n",
    "\n",
    "train_loss = np.load('./saved_models/task2/train_loss.npy')\n",
    "val_loss = np.load('./saved_models/task2/val_loss.npy')\n",
    "print('val loss:', val_loss[-1])\n",
    "print('train loss:', train_loss[-1])\n",
    "plt.plot(train_loss, linewidth=2, label='train')\n",
    "plt.plot(val_loss, linewidth=2, label='validation')\n",
    "plt.xlabel('Epoch', fontsize=15)\n",
    "plt.ylabel('Loss', fontsize=15)\n",
    "plt.legend()\n",
    "plt.title('training and validation loss')"
   ]
  },
  {
   "cell_type": "code",
   "execution_count": 57,
   "id": "d8969e7f",
   "metadata": {},
   "outputs": [
    {
     "name": "stdout",
     "output_type": "stream",
     "text": [
      "val accuracy: 0.6053811659192825\n",
      "train accuracy: 0.5898203592814372\n"
     ]
    },
    {
     "data": {
      "text/plain": [
       "Text(0.5, 1.0, 'training and validation Accuracy')"
      ]
     },
     "execution_count": 57,
     "metadata": {},
     "output_type": "execute_result"
    },
    {
     "data": {
      "image/png": "[encoded data removed]",
      "text/plain": [
       "<Figure size 432x288 with 1 Axes>"
      ]
     },
     "metadata": {
      "needs_background": "light"
     },
     "output_type": "display_data"
    }
   ],
   "source": [
    "val_acc = np.load('./saved_models/task2/val_acc.npy')\n",
    "train_acc = np.load('./saved_models/task2/train_acc.npy')\n",
    "print('val accuracy:', val_acc[-1])\n",
    "print('train accuracy:', train_acc[-1])\n",
    "plt.plot(train_acc, linewidth=2, label='train')\n",
    "plt.plot(val_acc, linewidth=2, label='validation')\n",
    "plt.xlabel('Epoch', fontsize=15)\n",
    "plt.ylabel('Accuracy', fontsize=15)\n",
    "plt.legend()\n",
    "plt.title('training and validation Accuracy')"
   ]
  }
 ],
 "metadata": {
  "kernelspec": {
   "display_name": "Python 3 (ipykernel)",
   "language": "python",
   "name": "python3"
  },
  "language_info": {
   "codemirror_mode": {
    "name": "ipython",
    "version": 3
   },
   "file_extension": ".py",
   "mimetype": "text/x-python",
   "name": "python",
   "nbconvert_exporter": "python",
   "pygments_lexer": "ipython3",
   "version": "3.9.7"
  }
 },
 "nbformat": 4,
 "nbformat_minor": 5
}
