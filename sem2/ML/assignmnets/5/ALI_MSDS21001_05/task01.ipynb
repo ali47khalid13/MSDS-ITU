{
 "cells": [
  {
   "cell_type": "markdown",
   "id": "e0383185",
   "metadata": {},
   "source": [
    "# Import Libraries"
   ]
  },
  {
   "cell_type": "code",
   "execution_count": 36,
   "id": "4c509021",
   "metadata": {},
   "outputs": [],
   "source": [
    "import pickle\n",
    "import numpy as np\n",
    "import torch\n",
    "from torch.nn import Linear\n",
    "import torch.nn.functional as F\n",
    "from torch_geometric.nn import GCNConv\n",
    "from torch_geometric.data import Data"
   ]
  },
  {
   "cell_type": "markdown",
   "id": "d2061141",
   "metadata": {},
   "source": [
    "# Load Data"
   ]
  },
  {
   "cell_type": "code",
   "execution_count": 37,
   "id": "5f7f5b5e",
   "metadata": {},
   "outputs": [],
   "source": [
    "with open('./Datasets/citeseer/edge_index.pkl', 'rb') as f:\n",
    "    edge_index = pickle.load(f)\n",
    "with open('./Datasets/citeseer/features.pkl', 'rb') as f:\n",
    "    features = torch.from_numpy(pickle.load(f).toarray())\n",
    "with open('./Datasets/citeseer/node_labels.pkl', 'rb') as f:\n",
    "    node_labels = pickle.load(f)"
   ]
  },
  {
   "cell_type": "code",
   "execution_count": 38,
   "id": "fd8eb2f8",
   "metadata": {},
   "outputs": [
    {
     "name": "stderr",
     "output_type": "stream",
     "text": [
      "C:\\Windows\\TEMP/ipykernel_11376/1555867491.py:5: DeprecationWarning: `np.int` is a deprecated alias for the builtin `int`. To silence this warning, use `int` by itself. Doing this will not modify any behavior and is safe. When replacing `np.int`, you may wish to use e.g. `np.int64` or `np.int32` to specify the precision. If you wish to review your current use, check the release note link for additional information.\n",
      "Deprecated in NumPy 1.20; for more details and guidance: https://numpy.org/devdocs/release/1.20.0-notes.html#deprecations\n",
      "  test_train_val = np.concatenate((np.ones(int(train_size),dtype=np.int),np.zeros(int(val_size),dtype=np.int),np.full(shape=int(test_size),fill_value=2,dtype=np.int)))\n"
     ]
    }
   ],
   "source": [
    "train_size = np.ceil(len(node_labels) *0.6)\n",
    "val_size = np.ceil(len(node_labels) *0.1)\n",
    "test_size = len(node_labels) - train_size - val_size\n",
    "\n",
    "test_train_val = np.concatenate((np.ones(int(train_size),dtype=np.int),np.zeros(int(val_size),dtype=np.int),np.full(shape=int(test_size),fill_value=2,dtype=np.int)))\n",
    "np.random.shuffle(test_train_val)"
   ]
  },
  {
   "cell_type": "code",
   "execution_count": 39,
   "id": "234e4f99",
   "metadata": {},
   "outputs": [],
   "source": [
    "train_mask = test_train_val ==1\n",
    "test_mask = test_train_val ==2\n",
    "val_mask = test_train_val ==0"
   ]
  },
  {
   "cell_type": "code",
   "execution_count": 40,
   "id": "431a24ef",
   "metadata": {},
   "outputs": [],
   "source": [
    "dataset= Data(x=features, edge_index=edge_index, y=node_labels, num_classes=6, train_mask =train_mask, test_mask=test_mask, val_mask=val_mask )"
   ]
  },
  {
   "cell_type": "code",
   "execution_count": 41,
   "id": "200c2088",
   "metadata": {},
   "outputs": [
    {
     "name": "stdout",
     "output_type": "stream",
     "text": [
      "\n",
      "Dataset: Data(x=[3327, 3703], edge_index=[2, 9104], y=[3327], num_classes=6, train_mask=[3327], test_mask=[3327], val_mask=[3327]):\n",
      "======================\n",
      "Number of graphs: 7\n",
      "Number of features: 3703\n",
      "Number of classes: 6\n",
      "\n",
      "Data(x=[3327, 3703], edge_index=[2, 9104], y=[3327], num_classes=6, train_mask=[3327], test_mask=[3327], val_mask=[3327])\n",
      "===========================================================================================================\n",
      "Number of nodes: 3327\n",
      "Number of edges: 9104\n",
      "Average node degree: 2.74\n",
      "Has isolated nodes: True\n",
      "Has self-loops: False\n",
      "Is undirected: True\n"
     ]
    }
   ],
   "source": [
    "print()\n",
    "print(f'Dataset: {dataset}:')\n",
    "print('======================')\n",
    "print(f'Number of graphs: {len(dataset)}')\n",
    "print(f'Number of features: {dataset.num_features}')\n",
    "\n",
    "print(f'Number of classes: {dataset.num_classes}')\n",
    "\n",
    "data = dataset # Get the first graph object.\n",
    "\n",
    "print()\n",
    "print(data)\n",
    "print('===========================================================================================================')\n",
    "\n",
    "# Gather some statistics about the graph.\n",
    "print(f'Number of nodes: {data.num_nodes}')\n",
    "print(f'Number of edges: {data.num_edges}')\n",
    "print(f'Average node degree: {data.num_edges / data.num_nodes:.2f}')\n",
    "# print(f'Number of training nodes: {data.train_mask.sum()}')\n",
    "# print(f'Training node label rate: {int(data.train_mask.sum()) / data.num_nodes:.2f}')\n",
    "print(f'Has isolated nodes: {data.has_isolated_nodes()}')\n",
    "print(f'Has self-loops: {data.has_self_loops()}')\n",
    "print(f'Is undirected: {data.is_undirected()}')"
   ]
  },
  {
   "cell_type": "markdown",
   "id": "03f07fa0",
   "metadata": {},
   "source": [
    "# Define Model"
   ]
  },
  {
   "cell_type": "code",
   "execution_count": 42,
   "id": "29fdc6b9",
   "metadata": {},
   "outputs": [
    {
     "name": "stdout",
     "output_type": "stream",
     "text": [
      "GCN(\n",
      "  (conv1): GCNConv(3703, 128)\n",
      "  (conv2): GCNConv(128, 6)\n",
      ")\n"
     ]
    }
   ],
   "source": [
    "class GCN(torch.nn.Module):\n",
    "    def __init__(self, hidden_channels):\n",
    "        super().__init__()\n",
    "        torch.manual_seed(1234567)\n",
    "        self.conv1 = GCNConv(dataset.num_features, hidden_channels)\n",
    "        self.conv2 = GCNConv(hidden_channels, dataset.num_classes)\n",
    "    \n",
    "\n",
    "    def forward(self, x, edge_index):\n",
    "        x = self.conv1(x, edge_index)\n",
    "        x = x.relu()\n",
    "        x = F.dropout(x, p=0.5, training=self.training)\n",
    "        x = self.conv2(x, edge_index)\n",
    "        return x"
   ]
  },
  {
   "cell_type": "markdown",
   "id": "0499a76a",
   "metadata": {},
   "source": [
    "# Training"
   ]
  },
  {
   "cell_type": "code",
   "execution_count": 46,
   "id": "3d8c9c95",
   "metadata": {},
   "outputs": [],
   "source": [
    "def train(epochs, data, loss_func,optimizer, learning_rate):\n",
    "    criterion = loss_func()\n",
    "    optimizer = optimizer(model.parameters(), lr=learning_rate)\n",
    "    model.train()\n",
    "    train_loss = []\n",
    "    train_acc = []\n",
    "    val_loss = []\n",
    "    val_acc = []\n",
    "    for epoch in range(epochs):\n",
    "        out = model(data.x, data.edge_index)\n",
    "        loss_train = criterion(out[data.train_mask], data.y[data.train_mask])\n",
    "        loss_val = criterion(out[data.val_mask], data.y[data.val_mask])\n",
    "        pred = out.argmax(dim=1) \n",
    "        train_correct = pred[data.train_mask] == data.y[data.train_mask]  \n",
    "        acc_train = int(train_correct.sum()) / int(data.train_mask.sum()) \n",
    "        val_correct = pred[data.val_mask] == data.y[data.val_mask]  \n",
    "        acc_val = int(val_correct.sum()) / int(data.val_mask.sum())\n",
    "        \n",
    "        train_loss.append(loss_train.detach())\n",
    "        train_acc.append(acc_train)\n",
    "        val_loss.append(loss_val.detach())\n",
    "        val_acc.append(acc_val)\n",
    "\n",
    "        loss_train.backward()\n",
    "        optimizer.step()\n",
    "        print(f'Epoch: {epoch:03d}, Train Loss: {loss_train:.4f}, Train Accuracy: {acc_train:.4f}, Val Loss: {loss_val:.4f}, Val Accuracy: {acc_val:.4f}')\n",
    "    return train_loss, train_acc, val_loss, val_acc"
   ]
  },
  {
   "cell_type": "code",
   "execution_count": 71,
   "id": "f3888462",
   "metadata": {},
   "outputs": [
    {
     "name": "stdout",
     "output_type": "stream",
     "text": [
      "GCN(\n",
      "  (conv1): GCNConv(3703, 128)\n",
      "  (conv2): GCNConv(128, 6)\n",
      ")\n",
      "Epoch: 000, Train Loss: 1.7917, Train Accuracy: 0.1632, Val Loss: 1.7916, Val Accuracy: 0.1922\n",
      "Epoch: 001, Train Loss: 1.7714, Train Accuracy: 0.3245, Val Loss: 1.7734, Val Accuracy: 0.2462\n",
      "Epoch: 002, Train Loss: 1.7501, Train Accuracy: 0.2699, Val Loss: 1.7546, Val Accuracy: 0.2222\n",
      "Epoch: 003, Train Loss: 1.7277, Train Accuracy: 0.2574, Val Loss: 1.7343, Val Accuracy: 0.2102\n",
      "Epoch: 004, Train Loss: 1.7056, Train Accuracy: 0.2489, Val Loss: 1.7173, Val Accuracy: 0.1952\n",
      "Epoch: 005, Train Loss: 1.6784, Train Accuracy: 0.2714, Val Loss: 1.6957, Val Accuracy: 0.2072\n",
      "Epoch: 006, Train Loss: 1.6540, Train Accuracy: 0.2719, Val Loss: 1.6808, Val Accuracy: 0.2042\n",
      "Epoch: 007, Train Loss: 1.6344, Train Accuracy: 0.2789, Val Loss: 1.6637, Val Accuracy: 0.2012\n",
      "Epoch: 008, Train Loss: 1.6126, Train Accuracy: 0.2994, Val Loss: 1.6483, Val Accuracy: 0.2192\n",
      "Epoch: 009, Train Loss: 1.5880, Train Accuracy: 0.3160, Val Loss: 1.6271, Val Accuracy: 0.2282\n"
     ]
    }
   ],
   "source": [
    "model = GCN(hidden_channels=128)\n",
    "print(model)\n",
    "loss_func = torch.nn.CrossEntropyLoss\n",
    "optimizer = torch.optim.Adam\n",
    "epochs = 10\n",
    "learning_rate = 0.01\n",
    "train_loss, train_acc, val_loss, val_acc = train(epochs, dataset, loss_func,optimizer, learning_rate)"
   ]
  },
  {
   "cell_type": "markdown",
   "id": "3667b0e8",
   "metadata": {},
   "source": [
    "# Save Model"
   ]
  },
  {
   "cell_type": "code",
   "execution_count": 72,
   "id": "608b1dd9",
   "metadata": {},
   "outputs": [],
   "source": [
    "path = './saved_models/task1/task1.pt'\n",
    "torch.save(model.state_dict(), path)\n",
    "\n",
    "np.save('./saved_models/task1/train_loss', train_loss)\n",
    "np.save('./saved_models/task1/val_loss', val_loss)\n",
    "np.save('./saved_models/task1/train_acc', train_acc)\n",
    "np.save('./saved_models/task1/val_acc', val_acc)"
   ]
  },
  {
   "cell_type": "markdown",
   "id": "d3e52537",
   "metadata": {},
   "source": [
    "# Testing "
   ]
  },
  {
   "cell_type": "code",
   "execution_count": 73,
   "id": "e3b0b692",
   "metadata": {},
   "outputs": [],
   "source": [
    "def test(data, loss_func):\n",
    "    criterion = loss_func()\n",
    "    model.eval()\n",
    "    out = model(data.x, data.edge_index)\n",
    "    test_loss = criterion(out[data.test_mask], data.y[data.test_mask])\n",
    "    pred = out.argmax(dim=1)  # Use the class with highest probability.\n",
    "    prob, _ = out.max(dim=1)\n",
    "    best_pred = prob.max()\n",
    "    worst_pred = prob.min()\n",
    "    test_correct = pred[data.test_mask] == data.y[data.test_mask]  # Check against ground-truth labels.\n",
    "    test_acc = int(test_correct.sum()) / int(data.test_mask.sum())  # Derive ratio of correct predictions.\n",
    "    print(f'Test accuracy: {test_acc:.4f}, Test loss: {test_loss:.4f}')\n",
    "    print('best pred: ', best_pred)\n",
    "    print('worst pred: ', worst_pred)"
   ]
  },
  {
   "cell_type": "code",
   "execution_count": 75,
   "id": "cf988e8d",
   "metadata": {},
   "outputs": [
    {
     "name": "stdout",
     "output_type": "stream",
     "text": [
      "Test accuracy: 0.7071, Test loss: 1.2532\n",
      "best pred:  tensor(5.1663, grad_fn=<MaxBackward1>)\n",
      "worst pred:  tensor(0.3313, grad_fn=<MinBackward1>)\n"
     ]
    }
   ],
   "source": [
    "path = './saved_models/best models/task1/task1.pt'\n",
    "model = GCN(hidden_channels=128)\n",
    "model.load_state_dict(torch.load(path))\n",
    "loss_func = torch.nn.CrossEntropyLoss\n",
    "test(dataset, loss_func)\n"
   ]
  },
  {
   "cell_type": "markdown",
   "id": "40ec1ef5",
   "metadata": {},
   "source": [
    "# Visulization"
   ]
  },
  {
   "cell_type": "code",
   "execution_count": 76,
   "id": "4674e05b",
   "metadata": {},
   "outputs": [
    {
     "name": "stdout",
     "output_type": "stream",
     "text": [
      "val loss: 1.2973808\n",
      "train loss: 1.249188\n"
     ]
    },
    {
     "data": {
      "text/plain": [
       "Text(0.5, 1.0, 'training and validation loss')"
      ]
     },
     "execution_count": 76,
     "metadata": {},
     "output_type": "execute_result"
    },
    {
     "data": {
      "image/png": "[encoded data removed]",
      "text/plain": [
       "<Figure size 432x288 with 1 Axes>"
      ]
     },
     "metadata": {
      "needs_background": "light"
     },
     "output_type": "display_data"
    }
   ],
   "source": [
    "%matplotlib inline\n",
    "import matplotlib.pyplot as plt\n",
    "import numpy as np\n",
    "\n",
    "train_loss = np.load('./saved_models/best models/task1/train_loss.npy')\n",
    "val_loss = np.load('./saved_models/best models/task1/val_loss.npy')\n",
    "print('val loss:', val_loss[-1])\n",
    "print('train loss:', train_loss[-1])\n",
    "plt.plot(train_loss, linewidth=2, label='train')\n",
    "plt.plot(val_loss, linewidth=2, label='validation')\n",
    "plt.xlabel('Epoch', fontsize=15)\n",
    "plt.ylabel('Loss', fontsize=15)\n",
    "plt.legend()\n",
    "plt.title('training and validation loss')"
   ]
  },
  {
   "cell_type": "code",
   "execution_count": 70,
   "id": "5872044d",
   "metadata": {},
   "outputs": [
    {
     "name": "stdout",
     "output_type": "stream",
     "text": [
      "val accuracy: 0.6816816816816816\n",
      "train accuracy: 0.7185778668002003\n"
     ]
    },
    {
     "data": {
      "text/plain": [
       "Text(0.5, 1.0, 'training and validation Accuracy')"
      ]
     },
     "execution_count": 70,
     "metadata": {},
     "output_type": "execute_result"
    },
    {
     "data": {
      "image/png": "[encoded data removed]",
      "text/plain": [
       "<Figure size 432x288 with 1 Axes>"
      ]
     },
     "metadata": {
      "needs_background": "light"
     },
     "output_type": "display_data"
    }
   ],
   "source": [
    "val_acc = np.load('./saved_models/task1/val_acc.npy')\n",
    "train_acc = np.load('./saved_models/task1/train_acc.npy')\n",
    "print('val accuracy:', val_acc[-1])\n",
    "print('train accuracy:', train_acc[-1])\n",
    "plt.plot(train_acc, linewidth=2, label='train')\n",
    "plt.plot(val_acc, linewidth=2, label='validation')\n",
    "plt.xlabel('Epoch', fontsize=15)\n",
    "plt.ylabel('Accuracy', fontsize=15)\n",
    "plt.legend()\n",
    "plt.title('training and validation Accuracy')"
   ]
  }
 ],
 "metadata": {
  "kernelspec": {
   "display_name": "Python 3 (ipykernel)",
   "language": "python",
   "name": "python3"
  },
  "language_info": {
   "codemirror_mode": {
    "name": "ipython",
    "version": 3
   },
   "file_extension": ".py",
   "mimetype": "text/x-python",
   "name": "python",
   "nbconvert_exporter": "python",
   "pygments_lexer": "ipython3",
   "version": "3.9.7"
  }
 },
 "nbformat": 4,
 "nbformat_minor": 5
}
