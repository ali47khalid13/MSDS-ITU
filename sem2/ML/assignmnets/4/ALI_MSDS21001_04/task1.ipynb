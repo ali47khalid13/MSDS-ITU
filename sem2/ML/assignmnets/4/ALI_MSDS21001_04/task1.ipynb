{
 "cells": [
  {
   "cell_type": "markdown",
   "id": "f55ef816",
   "metadata": {},
   "source": [
    "### Importinhg Librarires"
   ]
  },
  {
   "cell_type": "code",
   "execution_count": 1,
   "id": "0d622360",
   "metadata": {},
   "outputs": [],
   "source": [
    "import numpy as np\n",
    "import pandas as pd\n",
    "from scipy.stats import mode\n",
    "from sklearn.model_selection import train_test_split\n",
    "from matplotlib import pyplot as plt\n",
    "from sklearn.metrics import confusion_matrix, ConfusionMatrixDisplay, accuracy_score, f1_score, recall_score,precision_score, roc_curve, auc\n",
    "from sklearn.preprocessing import label_binarize\n",
    "import itertools"
   ]
  },
  {
   "cell_type": "markdown",
   "id": "a6111912",
   "metadata": {},
   "source": [
    "### Principal Component analysis"
   ]
  },
  {
   "cell_type": "code",
   "execution_count": 2,
   "id": "47565dce",
   "metadata": {},
   "outputs": [],
   "source": [
    "def PCA(X_meaned):     \n",
    "    cov_mat = np.cov(X_meaned , rowvar = False)\n",
    "    eigen_values , eigen_vectors = np.linalg.eigh(cov_mat)\n",
    "    sorted_index = np.argsort(eigen_values)[::-1]\n",
    "    sorted_eigenvalue = eigen_values[sorted_index]\n",
    "    sorted_eigenvectors = eigen_vectors[:,sorted_index] \n",
    "    pov = sorted_eigenvalue/np.sum(sorted_eigenvalue)\n",
    "    return sorted_eigenvalue, sorted_eigenvectors, pov"
   ]
  },
  {
   "cell_type": "code",
   "execution_count": 3,
   "id": "f59932ce",
   "metadata": {},
   "outputs": [],
   "source": [
    "def pca_transformation(num_components, sorted_eigenvectors, X_meaned): \n",
    "    eigenvector_subset = sorted_eigenvectors[:,0:num_components]\n",
    "    X_reduced = np.dot(eigenvector_subset.transpose(),X_meaned.transpose()).transpose()\n",
    "    return X_reduced"
   ]
  },
  {
   "cell_type": "markdown",
   "id": "7b30283f",
   "metadata": {},
   "source": [
    "### K Nearest Neighbours"
   ]
  },
  {
   "cell_type": "code",
   "execution_count": 4,
   "id": "43758ee8",
   "metadata": {},
   "outputs": [],
   "source": [
    "#Euclidean Distance\n",
    "def eucledian(p1,p2):\n",
    "    dist = np.sqrt(np.sum((p1-p2)**2))\n",
    "    return dist\n",
    " \n",
    "#Function to calculate KNN\n",
    "def knn_predict(x_train, y , x_input, k):\n",
    "    op_labels = []\n",
    "     \n",
    "    #Loop through the Datapoints to be classified\n",
    "    for item in x_input: \n",
    "         \n",
    "        #Array to store distances\n",
    "        point_dist = []\n",
    "         \n",
    "        #Loop through each training Data\n",
    "        for j in range(len(x_train)): \n",
    "            distances = eucledian(np.array(x_train[j,:]) , item) \n",
    "            #Calculating the distance\n",
    "            point_dist.append(distances) \n",
    "        point_dist = np.array(point_dist) \n",
    "         \n",
    "        #Sorting the array while preserving the index\n",
    "        #Keeping the first K datapoints\n",
    "        dist = np.argsort(point_dist)[:k] \n",
    "         \n",
    "        #Labels of the K datapoints from above\n",
    "        labels = y[dist]\n",
    "         \n",
    "        #Majority voting\n",
    "        lab = mode(labels) \n",
    "        lab = lab.mode[0]\n",
    "        op_labels.append(lab)\n",
    " \n",
    "    return op_labels"
   ]
  },
  {
   "cell_type": "markdown",
   "id": "7b8b8cbd",
   "metadata": {},
   "source": [
    "### Finding number of eigen vectors to use using elbow method"
   ]
  },
  {
   "cell_type": "code",
   "execution_count": 5,
   "id": "89d28f21",
   "metadata": {},
   "outputs": [],
   "source": [
    "features = np.load('Data/features.npy')\n",
    "labels = np.load('Data/labels.npy')\n",
    "X_train, X_test, y_train, y_test = train_test_split(features, labels, test_size=0.20, random_state=42, shuffle = True)\n",
    "X_meaned = X_train - np.mean(X_train, axis = 0)"
   ]
  },
  {
   "cell_type": "code",
   "execution_count": 6,
   "id": "4ed365db",
   "metadata": {},
   "outputs": [],
   "source": [
    "sorted_eigenvalue, sorted_eigenvectors, info_captured = PCA(X_meaned)"
   ]
  },
  {
   "cell_type": "code",
   "execution_count": 7,
   "id": "3a8a8e7f",
   "metadata": {},
   "outputs": [
    {
     "data": {
      "text/plain": [
       "[<matplotlib.lines.Line2D at 0x287540825e0>]"
      ]
     },
     "execution_count": 7,
     "metadata": {},
     "output_type": "execute_result"
    },
    {
     "data": {
      "image/png": "[encoded data removed]",
      "text/plain": [
       "<Figure size 432x288 with 1 Axes>"
      ]
     },
     "metadata": {
      "needs_background": "light"
     },
     "output_type": "display_data"
    }
   ],
   "source": [
    "plt.plot(info_captured[0:20])"
   ]
  },
  {
   "cell_type": "markdown",
   "id": "b4a64279",
   "metadata": {},
   "source": [
    "### Verification "
   ]
  },
  {
   "cell_type": "code",
   "execution_count": 8,
   "id": "5cc92126",
   "metadata": {},
   "outputs": [],
   "source": [
    "def varification(x1,x2, X_train_reduced, y_train, mean, sorted_eigenvectors):\n",
    "    X_test = np.array([x1,x2])\n",
    "    X_test_meaned = X_test - mean\n",
    "    X_test_reduced = pca_transformation(2,sorted_eigenvectors,X_test_meaned)\n",
    "    labels = knn_predict(X_train_reduced, y_train, X_test_reduced, 3)\n",
    "    if labels[0] == labels[1]:\n",
    "        return 1\n",
    "    else:\n",
    "        return 0"
   ]
  },
  {
   "cell_type": "markdown",
   "id": "700fa5ab",
   "metadata": {},
   "source": [
    "### Creating dataset for verification"
   ]
  },
  {
   "cell_type": "code",
   "execution_count": 9,
   "id": "2a6350ab",
   "metadata": {},
   "outputs": [
    {
     "data": {
      "text/html": [
       "<div>\n",
       "<style scoped>\n",
       "    .dataframe tbody tr th:only-of-type {\n",
       "        vertical-align: middle;\n",
       "    }\n",
       "\n",
       "    .dataframe tbody tr th {\n",
       "        vertical-align: top;\n",
       "    }\n",
       "\n",
       "    .dataframe thead th {\n",
       "        text-align: right;\n",
       "    }\n",
       "</style>\n",
       "<table border=\"1\" class=\"dataframe\">\n",
       "  <thead>\n",
       "    <tr style=\"text-align: right;\">\n",
       "      <th></th>\n",
       "      <th>index</th>\n",
       "      <th>music1</th>\n",
       "      <th>music2</th>\n",
       "      <th>label</th>\n",
       "    </tr>\n",
       "  </thead>\n",
       "  <tbody>\n",
       "    <tr>\n",
       "      <th>0</th>\n",
       "      <td>0</td>\n",
       "      <td>0</td>\n",
       "      <td>0</td>\n",
       "      <td>1.0</td>\n",
       "    </tr>\n",
       "    <tr>\n",
       "      <th>1</th>\n",
       "      <td>1</td>\n",
       "      <td>1</td>\n",
       "      <td>1</td>\n",
       "      <td>1.0</td>\n",
       "    </tr>\n",
       "    <tr>\n",
       "      <th>2</th>\n",
       "      <td>2</td>\n",
       "      <td>2</td>\n",
       "      <td>2</td>\n",
       "      <td>1.0</td>\n",
       "    </tr>\n",
       "    <tr>\n",
       "      <th>3</th>\n",
       "      <td>3</td>\n",
       "      <td>3</td>\n",
       "      <td>3</td>\n",
       "      <td>1.0</td>\n",
       "    </tr>\n",
       "    <tr>\n",
       "      <th>4</th>\n",
       "      <td>4</td>\n",
       "      <td>4</td>\n",
       "      <td>4</td>\n",
       "      <td>1.0</td>\n",
       "    </tr>\n",
       "    <tr>\n",
       "      <th>...</th>\n",
       "      <td>...</td>\n",
       "      <td>...</td>\n",
       "      <td>...</td>\n",
       "      <td>...</td>\n",
       "    </tr>\n",
       "    <tr>\n",
       "      <th>1195</th>\n",
       "      <td>595</td>\n",
       "      <td>595</td>\n",
       "      <td>4</td>\n",
       "      <td>0.0</td>\n",
       "    </tr>\n",
       "    <tr>\n",
       "      <th>1196</th>\n",
       "      <td>596</td>\n",
       "      <td>596</td>\n",
       "      <td>3</td>\n",
       "      <td>0.0</td>\n",
       "    </tr>\n",
       "    <tr>\n",
       "      <th>1197</th>\n",
       "      <td>597</td>\n",
       "      <td>597</td>\n",
       "      <td>2</td>\n",
       "      <td>0.0</td>\n",
       "    </tr>\n",
       "    <tr>\n",
       "      <th>1198</th>\n",
       "      <td>598</td>\n",
       "      <td>598</td>\n",
       "      <td>1</td>\n",
       "      <td>0.0</td>\n",
       "    </tr>\n",
       "    <tr>\n",
       "      <th>1199</th>\n",
       "      <td>599</td>\n",
       "      <td>599</td>\n",
       "      <td>0</td>\n",
       "      <td>0.0</td>\n",
       "    </tr>\n",
       "  </tbody>\n",
       "</table>\n",
       "<p>1200 rows × 4 columns</p>\n",
       "</div>"
      ],
      "text/plain": [
       "      index  music1  music2  label\n",
       "0         0       0       0    1.0\n",
       "1         1       1       1    1.0\n",
       "2         2       2       2    1.0\n",
       "3         3       3       3    1.0\n",
       "4         4       4       4    1.0\n",
       "...     ...     ...     ...    ...\n",
       "1195    595     595       4    0.0\n",
       "1196    596     596       3    0.0\n",
       "1197    597     597       2    0.0\n",
       "1198    598     598       1    0.0\n",
       "1199    599     599       0    0.0\n",
       "\n",
       "[1200 rows x 4 columns]"
      ]
     },
     "execution_count": 9,
     "metadata": {},
     "output_type": "execute_result"
    }
   ],
   "source": [
    "df = pd.DataFrame(np.load('Data/features.npy'))\n",
    "label_1_data = {'music1':np.arange(len(y_test)), 'music2':np.arange(len(y_test)),'label': np.ones(len(y_test))}  \n",
    "label_0_data = {'music1':np.arange(len(y_test)), 'music2':np.arange(len(y_test))[::-1],'label': np.zeros(len(y_test))} \n",
    "df1 = pd.DataFrame(label_1_data)\n",
    "df2 = pd.DataFrame(label_0_data)\n",
    "df = df1.append(df2)\n",
    "df = df.reset_index()\n",
    "df"
   ]
  },
  {
   "cell_type": "code",
   "execution_count": 10,
   "id": "d44faff9",
   "metadata": {},
   "outputs": [],
   "source": [
    "mean = np.mean(X_train, axis = 0)\n",
    "X_train_meaned = X_train - mean\n",
    "sorted_eigenvalue, sorted_eigenvectors, info_captured = PCA(X_train_meaned)\n",
    "X_train_reduced = pca_transformation(2,sorted_eigenvectors,X_train_meaned)\n",
    "\n",
    "predicted_labels = []\n",
    "for i in range(len(df)):\n",
    "    x1 = X_test[df['music1'][i]]\n",
    "    x2 = X_test[df['music2'][i]]\n",
    "    result  = varification(x1,x2, X_train_reduced, y_train,mean, sorted_eigenvectors)\n",
    "    predicted_labels.append(result)"
   ]
  },
  {
   "cell_type": "code",
   "execution_count": 11,
   "id": "3bc0f62e",
   "metadata": {},
   "outputs": [],
   "source": [
    "test_labels = df['label']"
   ]
  },
  {
   "cell_type": "code",
   "execution_count": 12,
   "id": "014b67ee",
   "metadata": {},
   "outputs": [],
   "source": [
    "def test(test_labels,test_pred):\n",
    "    test_labels = np.array(test_labels)\n",
    "    test_pred = np.array(test_pred)\n",
    "    cm = confusion_matrix(test_pred, test_labels)\n",
    "    disp = ConfusionMatrixDisplay(confusion_matrix=cm)\n",
    "    disp.plot()\n",
    "    plt.show()\n",
    "    print('Test Set precison: ', precision_score(test_pred, test_labels))  \n",
    "    print('Test Set Accuracy: ', accuracy_score(test_pred, test_labels))    \n",
    "    print('Test Set Recall Score: ', recall_score(test_pred, test_labels, average='weighted'))\n",
    "    print('Test Set F1 Score: ', f1_score(test_pred, test_labels, average='weighted')) \n",
    "\n",
    "    y_test = label_binarize(test_labels, classes=list(range(10)))\n",
    "    y_score = label_binarize(test_pred, classes=list(range(10)))\n",
    "    fpr = dict()\n",
    "    tpr = dict()\n",
    "    roc_auc = dict()\n",
    "    for i in range(10):\n",
    "        fpr[i], tpr[i], _ = roc_curve(y_test[:, i], y_score[:, i])\n",
    "        roc_auc[i] = auc(fpr[i], tpr[i])\n",
    "\n",
    "    colors = itertools.cycle([\"aqua\", \"darkorange\"])\n",
    "    for i, color in zip(range(2), colors):\n",
    "        plt.plot(fpr[i],tpr[i],color=color, lw=2, label=\"ROC curve of class {0} (area = {1:0.2f})\".format(i, roc_auc[i]))\n",
    "    plt.plot([0, 1], [0, 1], \"k--\", lw=2)\n",
    "    plt.xlim([0.0, 1.0])\n",
    "    plt.ylim([0.0, 1.05])\n",
    "    plt.xlabel(\"False Positive Rate\")\n",
    "    plt.ylabel(\"True Positive Rate\")\n",
    "    plt.title(\"Receiver operating characteristic\")\n",
    "    plt.legend(loc=\"lower right\")\n",
    "    plt.show()"
   ]
  },
  {
   "cell_type": "code",
   "execution_count": 13,
   "id": "94ec69d2",
   "metadata": {},
   "outputs": [
    {
     "data": {
      "image/png": "[encoded data removed]",
      "text/plain": [
       "<Figure size 432x288 with 2 Axes>"
      ]
     },
     "metadata": {
      "needs_background": "light"
     },
     "output_type": "display_data"
    },
    {
     "name": "stdout",
     "output_type": "stream",
     "text": [
      "Test Set precison:  1.0\n",
      "Test Set Accuracy:  0.9233333333333333\n",
      "Test Set Recall Score:  0.9233333333333333\n",
      "Test Set F1 Score:  0.9237866273243099\n"
     ]
    },
    {
     "name": "stderr",
     "output_type": "stream",
     "text": [
      "C:\\ProgramData\\Anaconda3\\lib\\site-packages\\sklearn\\metrics\\_ranking.py:949: UndefinedMetricWarning: No positive samples in y_true, true positive value should be meaningless\n",
      "  warnings.warn(\"No positive samples in y_true, \"\n",
      "C:\\ProgramData\\Anaconda3\\lib\\site-packages\\sklearn\\metrics\\_ranking.py:949: UndefinedMetricWarning: No positive samples in y_true, true positive value should be meaningless\n",
      "  warnings.warn(\"No positive samples in y_true, \"\n",
      "C:\\ProgramData\\Anaconda3\\lib\\site-packages\\sklearn\\metrics\\_ranking.py:949: UndefinedMetricWarning: No positive samples in y_true, true positive value should be meaningless\n",
      "  warnings.warn(\"No positive samples in y_true, \"\n",
      "C:\\ProgramData\\Anaconda3\\lib\\site-packages\\sklearn\\metrics\\_ranking.py:949: UndefinedMetricWarning: No positive samples in y_true, true positive value should be meaningless\n",
      "  warnings.warn(\"No positive samples in y_true, \"\n",
      "C:\\ProgramData\\Anaconda3\\lib\\site-packages\\sklearn\\metrics\\_ranking.py:949: UndefinedMetricWarning: No positive samples in y_true, true positive value should be meaningless\n",
      "  warnings.warn(\"No positive samples in y_true, \"\n",
      "C:\\ProgramData\\Anaconda3\\lib\\site-packages\\sklearn\\metrics\\_ranking.py:949: UndefinedMetricWarning: No positive samples in y_true, true positive value should be meaningless\n",
      "  warnings.warn(\"No positive samples in y_true, \"\n",
      "C:\\ProgramData\\Anaconda3\\lib\\site-packages\\sklearn\\metrics\\_ranking.py:949: UndefinedMetricWarning: No positive samples in y_true, true positive value should be meaningless\n",
      "  warnings.warn(\"No positive samples in y_true, \"\n",
      "C:\\ProgramData\\Anaconda3\\lib\\site-packages\\sklearn\\metrics\\_ranking.py:949: UndefinedMetricWarning: No positive samples in y_true, true positive value should be meaningless\n",
      "  warnings.warn(\"No positive samples in y_true, \"\n"
     ]
    },
    {
     "data": {
      "image/png": "[encoded data removed]",
      "text/plain": [
       "<Figure size 432x288 with 1 Axes>"
      ]
     },
     "metadata": {
      "needs_background": "light"
     },
     "output_type": "display_data"
    }
   ],
   "source": [
    "test(test_labels,predicted_labels)"
   ]
  }
 ],
 "metadata": {
  "kernelspec": {
   "display_name": "Python 3 (ipykernel)",
   "language": "python",
   "name": "python3"
  },
  "language_info": {
   "codemirror_mode": {
    "name": "ipython",
    "version": 3
   },
   "file_extension": ".py",
   "mimetype": "text/x-python",
   "name": "python",
   "nbconvert_exporter": "python",
   "pygments_lexer": "ipython3",
   "version": "3.9.7"
  }
 },
 "nbformat": 4,
 "nbformat_minor": 5
}
