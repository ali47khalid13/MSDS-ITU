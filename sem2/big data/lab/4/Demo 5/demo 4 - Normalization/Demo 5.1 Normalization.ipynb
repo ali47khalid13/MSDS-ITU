{
 "cells": [
  {
   "cell_type": "markdown",
   "metadata": {},
   "source": [
    "# Demo 4: Creating Normalized Tables"
   ]
  },
  {
   "cell_type": "markdown",
   "metadata": {},
   "source": [
    "## Walk through the basics of modeling data in normalized form.\n",
    "<ol><li>Create tables in PostgreSQL\n",
    "<li>Insert rows of data\n",
    "<li>Do a simple JOIN SQL query to show how these tables can work together."
   ]
  },
  {
   "cell_type": "markdown",
   "metadata": {},
   "source": [
    "### Import the library "
   ]
  },
  {
   "cell_type": "code",
   "execution_count": 1,
   "metadata": {},
   "outputs": [],
   "source": [
    "import psycopg2"
   ]
  },
  {
   "cell_type": "code",
   "execution_count": 3,
   "metadata": {},
   "outputs": [],
   "source": [
    "# Create a connection\n",
    "try: \n",
    "    conn = psycopg2.connect(\"host=127.0.0.1 user=postgres password=ali123ali\")\n",
    "except psycopg2.Error as e: \n",
    "    print(\"Error: Could not make connection to the Postgres database\")\n",
    "    print(e)\n",
    "    \n",
    "# get a cursor    \n",
    "try: \n",
    "    cur = conn.cursor()\n",
    "except psycopg2.Error as e: \n",
    "    print(\"Error: Could not get curser to the Database\")\n",
    "    print(e)\n",
    "    \n",
    "# set the autocommit to true    \n",
    "conn.set_session(autocommit=True)"
   ]
  },
  {
   "cell_type": "code",
   "execution_count": 4,
   "metadata": {},
   "outputs": [],
   "source": [
    "try: \n",
    "    cur.execute(\"create database demodb\")\n",
    "except psycopg2.Error as e:\n",
    "    print(e)"
   ]
  },
  {
   "cell_type": "markdown",
   "metadata": {},
   "source": [
    "### Create a connection to the database, get a cursor, and set autocommit to true"
   ]
  },
  {
   "cell_type": "code",
   "execution_count": 5,
   "metadata": {},
   "outputs": [],
   "source": [
    "# Create a connection\n",
    "try: \n",
    "    conn = psycopg2.connect(\"host=127.0.0.1 dbname=demodb user=postgres password=ali123ali\")\n",
    "except psycopg2.Error as e: \n",
    "    print(\"Error: Could not make connection to the Postgres database\")\n",
    "    print(e)\n",
    "    \n",
    "# get a cursor    \n",
    "try: \n",
    "    cur = conn.cursor()\n",
    "except psycopg2.Error as e: \n",
    "    print(\"Error: Could not get curser to the Database\")\n",
    "    print(e)\n",
    "    \n",
    "# set the autocommit to true    \n",
    "conn.set_session(autocommit=True)"
   ]
  },
  {
   "cell_type": "markdown",
   "metadata": {},
   "source": [
    "#### Let's imagine we have a table called Music Library. \n",
    "\n",
    "`Table Name: music_library\n",
    "column 0: Album Id\n",
    "column 1: Album Name\n",
    "column 2: Artist Name\n",
    "column 3: Year \n",
    "column 4: List of songs`\n",
    "\n",
    "<img src=\"sources/0.png\">\n",
    "\n",
    "\n",
    "\n",
    "#### Now to translate this information into a Create Table Statement and insert the data"
   ]
  },
  {
   "cell_type": "markdown",
   "metadata": {},
   "source": [
    "**Create a Table statement**"
   ]
  },
  {
   "cell_type": "code",
   "execution_count": 6,
   "metadata": {},
   "outputs": [],
   "source": [
    "try: \n",
    "    cur.execute(\"\"\"CREATE TABLE IF NOT EXISTS music_library (album_id int, \\\n",
    "                                                           album_name varchar, artist_name varchar, \\\n",
    "                                                           year int, songs text[], \n",
    "                                                            PRIMARY KEY(album_id));\"\"\")\n",
    "except psycopg2.Error as e: \n",
    "    print(\"Error: Issue creating table\")\n",
    "    print (e)"
   ]
  },
  {
   "cell_type": "markdown",
   "metadata": {},
   "source": [
    "**Include the Insert statement**"
   ]
  },
  {
   "cell_type": "code",
   "execution_count": 8,
   "metadata": {},
   "outputs": [],
   "source": [
    "query = \"INSERT INTO music_library (album_id, album_name, artist_name, year, songs) VALUES (%s, %s, %s, %s, %s)\""
   ]
  },
  {
   "cell_type": "code",
   "execution_count": 9,
   "metadata": {},
   "outputs": [],
   "source": [
    "try: \n",
    "    cur.execute(query, (1, \"Rubber Soul\", \"The Beatles\", 1965, [\"Michelle\", \"Think For Yourself\", \"In My Life\"]))\n",
    "    cur.execute(query,(2, \"Let It Be\", \"The Beatles\", 1970, [\"Let It Be\", \"Across The Universe\"]))\n",
    "except psycopg2.Error as e: \n",
    "    print(\"Error: Inserting Rows\")\n",
    "    print (e)"
   ]
  },
  {
   "cell_type": "markdown",
   "metadata": {},
   "source": [
    "**Confirm the data got inserted in the table we created**"
   ]
  },
  {
   "cell_type": "code",
   "execution_count": 10,
   "metadata": {},
   "outputs": [
    {
     "name": "stdout",
     "output_type": "stream",
     "text": [
      "(1, 'Rubber Soul', 'The Beatles', 1965, ['Michelle', 'Think For Yourself', 'In My Life'])\n",
      "(2, 'Let It Be', 'The Beatles', 1970, ['Let It Be', 'Across The Universe'])\n"
     ]
    }
   ],
   "source": [
    "try: \n",
    "    cur.execute(\"SELECT * FROM music_library;\")\n",
    "except psycopg2.Error as e: \n",
    "    print(\"Error: select *\")\n",
    "    print (e)\n",
    "\n",
    "row = cur.fetchone() #fetchone fetch the rows one at a time\n",
    "\n",
    "while row:\n",
    "    print(row)\n",
    "    row = cur.fetchone()"
   ]
  },
  {
   "cell_type": "markdown",
   "metadata": {},
   "source": [
    "#### Moving to 1st Normal Form (1NF)\n",
    "This data has not been normalized. To get this data into 1st normal form, \n",
    "* We will need to remove any collections or list of data.\n",
    "* We need to break up the list of songs into individuals rows. \n",
    "\n",
    "\n",
    "`Table Name: music_library2\n",
    "column 0: Album Id\n",
    "column 1: Album Name\n",
    "column 2: Artist Name\n",
    "column 3: Year \n",
    "column 4: Song Name`\n",
    "\n",
    "<img src=\"sources/1NF.PNG\">"
   ]
  },
  {
   "cell_type": "code",
   "execution_count": 11,
   "metadata": {},
   "outputs": [],
   "source": [
    "try: \n",
    "    cur.execute(\"\"\"CREATE TABLE IF NOT EXISTS music_library2 (album_id int, \n",
    "                                                           album_name varchar, artist_name varchar, \n",
    "                                                           year int, song_name varchar,\n",
    "                                                           PRIMARY KEY(album_id, song_name)\n",
    "                                                           );\"\"\")\n",
    "except psycopg2.Error as e: \n",
    "    print(\"Error: Issue creating table\")\n",
    "    print (e)"
   ]
  },
  {
   "cell_type": "code",
   "execution_count": 12,
   "metadata": {},
   "outputs": [],
   "source": [
    "query = \"INSERT INTO music_library2 (album_id, album_name, artist_name, year, song_name) VALUES (%s, %s, %s, %s, %s)\"\n",
    "try: \n",
    "    cur.execute(query, (1, \"Rubber Soul\", \"The Beatles\", 1965, \"Michelle\"))\n",
    "    cur.execute(query,(1, \"Rubber Soul\", \"The Beatles\", 1965, \"Think For Yourself\"))\n",
    "    cur.execute(query,(1, \"Rubber Soul\", \"The Beatles\", 1965, \"In My Life\"))\n",
    "    cur.execute(query,(2, \"Let It Be\", \"The Beatles\", 1970, \"Let It Be\"))\n",
    "    cur.execute(query,(2, \"Let It Be\", \"The Beatles\", 1970, \"Across The Universe\"))\n",
    "\n",
    "except psycopg2.Error as e: \n",
    "    print(\"Error: Inserting Rows\")\n",
    "    print (e)"
   ]
  },
  {
   "cell_type": "code",
   "execution_count": 14,
   "metadata": {},
   "outputs": [
    {
     "name": "stdout",
     "output_type": "stream",
     "text": [
      "(1, 'Rubber Soul', 'The Beatles', 1965, 'Michelle')\n",
      "(1, 'Rubber Soul', 'The Beatles', 1965, 'Think For Yourself')\n",
      "(1, 'Rubber Soul', 'The Beatles', 1965, 'In My Life')\n",
      "(2, 'Let It Be', 'The Beatles', 1970, 'Let It Be')\n",
      "(2, 'Let It Be', 'The Beatles', 1970, 'Across The Universe')\n"
     ]
    }
   ],
   "source": [
    "try: \n",
    "    cur.execute(\"SELECT * FROM music_library2;\")\n",
    "except psycopg2.Error as e: \n",
    "    print(\"Error: select *\")\n",
    "    print (e)\n",
    "\n",
    "row = cur.fetchone()\n",
    "while row:\n",
    "    print(row)\n",
    "    row = cur.fetchone()"
   ]
  },
  {
   "cell_type": "markdown",
   "metadata": {},
   "source": [
    "#### Moving to 2nd Normal Form (2NF)\n",
    "We have moved our data to be in 1NF which is the first step in moving to 2nd Normal Form. Our table is not yet in 2nd Normal Form. \n",
    "\n",
    "* While each of our records in our table is unique, our Primary key (*album id*) is not unique.\n",
    "* We need to break this up into two tables, *album library* and *song library*. \n",
    "\n",
    "`Table Name: album_library \n",
    "column 0: Album Id\n",
    "column 1: Album Name\n",
    "column 2: Artist Name\n",
    "column 3: Year `\n",
    "\n",
    "`Table Name: song_library\n",
    "column 0: Song Id\n",
    "column 1: Song Name\n",
    "column 3: Album Id` \n",
    "\n",
    "<img src=\"sources/2NF.PNG\">"
   ]
  },
  {
   "cell_type": "code",
   "execution_count": 15,
   "metadata": {},
   "outputs": [],
   "source": [
    "try: \n",
    "    cur.execute(\"\"\"CREATE TABLE IF NOT EXISTS album_library (album_id int, \n",
    "                                                           album_name varchar, artist_name varchar, \n",
    "                                                           year int,\n",
    "                                                           PRIMARY KEY (album_id)\n",
    "                                                           );\"\"\")\n",
    "except psycopg2.Error as e: \n",
    "    print(\"Error: Issue creating table\")\n",
    "    print (e)"
   ]
  },
  {
   "cell_type": "code",
   "execution_count": 16,
   "metadata": {},
   "outputs": [],
   "source": [
    "try: \n",
    "    cur.execute(\"\"\"CREATE TABLE IF NOT EXISTS song_library (song_id int, album_id int, \n",
    "                                                          song_name varchar,\n",
    "                                                          PRIMARY KEY(song_id),\n",
    "                                                          CONSTRAINT fk_album\n",
    "                                                              FOREIGN KEY (album_id)\n",
    "                                                                  REFERENCES album_library (album_id)\n",
    "                                                          );\"\"\")\n",
    "except psycopg2.Error as e: \n",
    "    print(\"Error: Issue creating table\")\n",
    "    print (e)"
   ]
  },
  {
   "cell_type": "code",
   "execution_count": 17,
   "metadata": {},
   "outputs": [],
   "source": [
    "query1 = \"INSERT INTO album_library (album_id, album_name, artist_name, year) VALUES (%s, %s, %s, %s)\"\n",
    "\n",
    "try: \n",
    "    cur.execute(query1, (1, \"Rubber Soul\", \"The Beatles\", 1965))\n",
    "    cur.execute(query1, (2, \"Let It Be\", \"The Beatles\", 1970))\n",
    "except psycopg2.Error as e: \n",
    "    print(\"Error: Inserting Rows\")\n",
    "    print (e)"
   ]
  },
  {
   "cell_type": "code",
   "execution_count": 18,
   "metadata": {},
   "outputs": [],
   "source": [
    "query2 = \"INSERT INTO song_library (song_id, album_id, song_name) VALUES (%s, %s, %s)\"\n",
    "\n",
    "try: \n",
    "    cur.execute(query2, (1, 1, \"Michelle\"))\n",
    "    cur.execute(query2, (2, 1, \"Think For Yourself\"))\n",
    "    cur.execute(query2, (3, 1, \"In My Life\"))\n",
    "    cur.execute(query2, (4, 2, \"Let It Be\"))\n",
    "    cur.execute(query2, (5, 2, \"Across the Universe\"))\n",
    "except psycopg2.Error as e: \n",
    "    print(\"Error: Inserting Rows\")\n",
    "    print (e)"
   ]
  },
  {
   "cell_type": "code",
   "execution_count": 19,
   "metadata": {},
   "outputs": [
    {
     "name": "stdout",
     "output_type": "stream",
     "text": [
      "Table Name: album_library\n",
      "\n",
      "(1, 'Rubber Soul', 'The Beatles', 1965)\n",
      "(2, 'Let It Be', 'The Beatles', 1970)\n",
      "\n",
      "Table Name: song_library\n",
      "\n",
      "(1, 1, 'Michelle')\n",
      "(2, 1, 'Think For Yourself')\n",
      "(3, 1, 'In My Life')\n",
      "(4, 2, 'Let It Be')\n",
      "(5, 2, 'Across the Universe')\n"
     ]
    }
   ],
   "source": [
    "print(\"Table Name: album_library\\n\")\n",
    "\n",
    "try: \n",
    "    cur.execute(\"SELECT * FROM album_library;\")\n",
    "except psycopg2.Error as e: \n",
    "    print(\"Error: select *\")\n",
    "    print (e)\n",
    "\n",
    "row = cur.fetchone()\n",
    "while row:\n",
    "   print(row)\n",
    "   row = cur.fetchone()\n",
    "\n",
    "print(\"\\nTable Name: song_library\\n\")\n",
    "try: \n",
    "    cur.execute(\"SELECT * FROM song_library;\")\n",
    "except psycopg2.Error as e: \n",
    "    print(\"Error: select *\")\n",
    "    print (e)\n",
    "\n",
    "row = cur.fetchone()\n",
    "while row:\n",
    "    print(row)\n",
    "    row = cur.fetchone()"
   ]
  },
  {
   "cell_type": "markdown",
   "metadata": {
    "tags": []
   },
   "source": [
    "#### Let's do a `JOIN` on this table so we can get all the information we had in our first Table. "
   ]
  },
  {
   "cell_type": "code",
   "execution_count": 20,
   "metadata": {},
   "outputs": [
    {
     "name": "stdout",
     "output_type": "stream",
     "text": [
      "(1, 'Rubber Soul', 'The Beatles', 1965, 1, 1, 'Michelle')\n",
      "(1, 'Rubber Soul', 'The Beatles', 1965, 2, 1, 'Think For Yourself')\n",
      "(1, 'Rubber Soul', 'The Beatles', 1965, 3, 1, 'In My Life')\n",
      "(2, 'Let It Be', 'The Beatles', 1970, 4, 2, 'Let It Be')\n",
      "(2, 'Let It Be', 'The Beatles', 1970, 5, 2, 'Across the Universe')\n"
     ]
    }
   ],
   "source": [
    "cur.execute(\"select * from album_library as a JOIN song_library as b on a.album_id = b.album_id\")\n",
    "row = cur.fetchone()\n",
    "while row:\n",
    "   print(row)\n",
    "   row = cur.fetchone()"
   ]
  },
  {
   "cell_type": "code",
   "execution_count": 18,
   "metadata": {},
   "outputs": [
    {
     "name": "stdout",
     "output_type": "stream",
     "text": [
      "(1, 'Rubber Soul', 'The Beatles', 1965, 1, 1, 'Michelle')\n",
      "(1, 'Rubber Soul', 'The Beatles', 1965, 2, 1, 'Think For Yourself')\n",
      "(1, 'Rubber Soul', 'The Beatles', 1965, 3, 1, 'In My Life')\n",
      "(2, 'Let It Be', 'The Beatles', 1970, 4, 2, 'Let It Be')\n",
      "(2, 'Let It Be', 'The Beatles', 1970, 5, 2, 'Across the Universe')\n"
     ]
    }
   ],
   "source": [
    "try: \n",
    "    cur.execute(\"SELECT * FROM album_library JOIN song_library ON album_library.album_id = song_library.album_id ;\")\n",
    "except psycopg2.Error as e: \n",
    "    print(\"Error: select *\")\n",
    "    print (e)\n",
    "\n",
    "row = cur.fetchone()\n",
    "while row:\n",
    "    print(row)\n",
    "    row = cur.fetchone()"
   ]
  },
  {
   "cell_type": "markdown",
   "metadata": {},
   "source": [
    "#### Moving to 3rd Normal Form (3NF)\n",
    "Check our table for any transitive dependencies. *Album_library* can move *Artist_name* to its own table, called *Artists*, which will leave us with 3 tables. \n",
    "\n",
    "`Table Name: album_library2 \n",
    "column 0: Album Id\n",
    "column 1: Album Name\n",
    "column 2: Artist Id\n",
    "column 3: Year `\n",
    "\n",
    "`Table Name: song_library\n",
    "column 0: Song Id\n",
    "column 1: Song Name\n",
    "column 3: Album Id`\n",
    "\n",
    "`Table Name: artist_library\n",
    "column 0: Artist Id\n",
    "column 1: Artist Name `\n",
    "<img src=\"sources/3NF.PNG\" width=\"450\" height=\"450\">\n"
   ]
  },
  {
   "cell_type": "code",
   "execution_count": 21,
   "metadata": {},
   "outputs": [
    {
     "name": "stdout",
     "output_type": "stream",
     "text": [
      "Table: album_library2\n",
      "\n",
      "(1, 'Rubber Soul', 1, 1965)\n",
      "(2, 'Let It Be', 1, 1970)\n",
      "\n",
      "Table: song_library\n",
      "\n",
      "(1, 1, 'Michelle')\n",
      "(2, 1, 'Think For Yourself')\n",
      "(3, 1, 'In My Life')\n",
      "(4, 2, 'Let It Be')\n",
      "(5, 2, 'Across the Universe')\n",
      "\n",
      "Table: artist_library\n",
      "\n",
      "(1, 'The Beatles')\n"
     ]
    }
   ],
   "source": [
    "try: \n",
    "    cur.execute(\"\"\"CREATE TABLE IF NOT EXISTS artist_library (artist_id int, artist_name varchar,\n",
    "            PRIMARY KEY(artist_id)\n",
    "        );\"\"\")\n",
    "    cur.execute(\"\"\"CREATE TABLE IF NOT EXISTS album_library2 (album_id int, album_name varchar, artist_id int, year int,\n",
    "            PRIMARY KEY(album_id),\n",
    "            CONSTRAINT fk_artist\n",
    "                FOREIGN KEY(artist_id)\n",
    "                    REFERENCES artist_library(artist_id)\n",
    "        );\"\"\")\n",
    "    \n",
    "except psycopg2.Error as e: \n",
    "    print(\"Error: Issue creating table\")\n",
    "    print (e)\n",
    "\n",
    "    \n",
    "query2 = \"INSERT INTO artist_library (artist_id, artist_name) VALUES (%s, %s)\"\n",
    "    \n",
    "try: \n",
    "    cur.execute(query2, (1, \"The Beatles\"))\n",
    "except psycopg2.Error as e: \n",
    "    print(\"Error: Inserting Rows\")\n",
    "    print (e)\n",
    "    \n",
    "query = \"INSERT INTO album_library2 (album_id, album_name, artist_id, year) VALUES (%s, %s, %s, %s)\"\n",
    "try: \n",
    "    cur.execute(query, (1, \"Rubber Soul\", 1, 1965))\n",
    "except psycopg2.Error as e: \n",
    "    print(\"Error: Inserting Rows\")\n",
    "    print (e)\n",
    "\n",
    "try: \n",
    "    cur.execute(query, (2, \"Let It Be\", 1, 1970))\n",
    "except psycopg2.Error as e: \n",
    "    print(\"Error: Inserting Rows\")\n",
    "    print (e)\n",
    "    \n",
    "\n",
    "print(\"Table: album_library2\\n\")\n",
    "try: \n",
    "    cur.execute(\"SELECT * FROM album_library2;\")\n",
    "except psycopg2.Error as e: \n",
    "    print(\"Error: select *\")\n",
    "    print (e)\n",
    "\n",
    "row = cur.fetchone()\n",
    "while row:\n",
    "   print(row)\n",
    "   row = cur.fetchone()\n",
    "\n",
    "print(\"\\nTable: song_library\\n\")\n",
    "try: \n",
    "    cur.execute(\"SELECT * FROM song_library;\")\n",
    "except psycopg2.Error as e: \n",
    "    print(\"Error: select *\")\n",
    "    print (e)\n",
    "\n",
    "row = cur.fetchone()\n",
    "while row:\n",
    "   print(row)\n",
    "   row = cur.fetchone()\n",
    "\n",
    "##Doublechecking that data is in the table\n",
    "print(\"\\nTable: artist_library\\n\")\n",
    "try: \n",
    "    cur.execute(\"SELECT * FROM artist_library;\")\n",
    "except psycopg2.Error as e: \n",
    "    print(\"Error: select *\")\n",
    "    print (e)\n",
    "\n",
    "row = cur.fetchone()\n",
    "while row:\n",
    "   print(row)\n",
    "   row = cur.fetchone()"
   ]
  },
  {
   "cell_type": "markdown",
   "metadata": {},
   "source": [
    "#### Let's do two `JOIN` on these 3 tables so we can get all the information we had in our first Table. "
   ]
  },
  {
   "cell_type": "code",
   "execution_count": 22,
   "metadata": {},
   "outputs": [
    {
     "name": "stdout",
     "output_type": "stream",
     "text": [
      "(1, 'The Beatles', 1, 'Rubber Soul', 1, 1965, 1, 1, 'Michelle')\n",
      "(1, 'The Beatles', 1, 'Rubber Soul', 1, 1965, 2, 1, 'Think For Yourself')\n",
      "(1, 'The Beatles', 1, 'Rubber Soul', 1, 1965, 3, 1, 'In My Life')\n",
      "(1, 'The Beatles', 2, 'Let It Be', 1, 1970, 4, 2, 'Let It Be')\n",
      "(1, 'The Beatles', 2, 'Let It Be', 1, 1970, 5, 2, 'Across the Universe')\n"
     ]
    }
   ],
   "source": [
    "try: \n",
    "    cur.execute(\"SELECT * FROM (artist_library JOIN album_library2 ON \\\n",
    "                               artist_library.artist_id = album_library2.artist_id) JOIN \\\n",
    "                               song_library ON album_library2.album_id=song_library.album_id;\")\n",
    "except psycopg2.Error as e: \n",
    "    print(\"Error: select *\")\n",
    "    print (e)\n",
    "\n",
    "row = cur.fetchone()\n",
    "while row:\n",
    "   print(row)\n",
    "   row = cur.fetchone()"
   ]
  },
  {
   "cell_type": "markdown",
   "metadata": {},
   "source": [
    "### DONE! We have Normalized our dataset! "
   ]
  },
  {
   "cell_type": "markdown",
   "metadata": {},
   "source": [
    "### For the sake of the demo, I will drop the tables. "
   ]
  },
  {
   "cell_type": "code",
   "execution_count": 23,
   "metadata": {},
   "outputs": [],
   "source": [
    "try: \n",
    "    cur.execute(\"DROP table music_library, music_library2, album_library, song_library, album_library2, artist_library\")\n",
    "except psycopg2.Error as e: \n",
    "    print(\"Error: Dropping table\")\n",
    "    print (e)"
   ]
  },
  {
   "cell_type": "markdown",
   "metadata": {},
   "source": [
    "### And finally close your cursor and connection. "
   ]
  },
  {
   "cell_type": "code",
   "execution_count": 24,
   "metadata": {},
   "outputs": [],
   "source": [
    "cur.close()\n",
    "conn.close()"
   ]
  },
  {
   "cell_type": "code",
   "execution_count": null,
   "metadata": {},
   "outputs": [],
   "source": []
  }
 ],
 "metadata": {
  "kernelspec": {
   "display_name": "Python 3 (ipykernel)",
   "language": "python",
   "name": "python3"
  },
  "language_info": {
   "codemirror_mode": {
    "name": "ipython",
    "version": 3
   },
   "file_extension": ".py",
   "mimetype": "text/x-python",
   "name": "python",
   "nbconvert_exporter": "python",
   "pygments_lexer": "ipython3",
   "version": "3.9.7"
  }
 },
 "nbformat": 4,
 "nbformat_minor": 4
}
