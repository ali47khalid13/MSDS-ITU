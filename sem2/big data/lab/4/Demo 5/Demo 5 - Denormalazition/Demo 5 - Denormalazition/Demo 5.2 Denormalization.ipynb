{
 "cells": [
  {
   "cell_type": "markdown",
   "metadata": {},
   "source": [
    "# Demo 5 - Creating Denormalized Tables"
   ]
  },
  {
   "cell_type": "markdown",
   "metadata": {},
   "source": [
    "### Walk through the basics of modeling data from normalized form to denormalized form. In this demo, we will: <br>\n",
    "<ol><li>Create tables in PostgreSQL<li>Insert rows of data<li>Do simple JOIN SQL queries to show how these mutliple tables can work together. \n",
    "\n",
    "_Remember the examples shown are simple, but imagine these situations at scale with large datasets, many users, and the need for quick response time._"
   ]
  },
  {
   "cell_type": "markdown",
   "metadata": {},
   "source": [
    "#### Import the library \n",
    "Note: An error might popup after this command has executed. If it does, read it carefully before ignoring. "
   ]
  },
  {
   "cell_type": "code",
   "execution_count": 1,
   "metadata": {},
   "outputs": [],
   "source": [
    "import psycopg2"
   ]
  },
  {
   "cell_type": "markdown",
   "metadata": {},
   "source": [
    "Create a connection to the database, get a cursor, and set autocommit to true"
   ]
  },
  {
   "cell_type": "code",
   "execution_count": 3,
   "metadata": {},
   "outputs": [],
   "source": [
    "try: \n",
    "    conn = psycopg2.connect(\"host=127.0.0.1 dbname=demodb user=postgres password=ali123ali\")\n",
    "except psycopg2.Error as e: \n",
    "    print(\"Error: Could not make connection to the Postgres database\")\n",
    "    print(e)\n",
    "try: \n",
    "    cur = conn.cursor()\n",
    "except psycopg2.Error as e: \n",
    "    print(\"Error: Could not get curser to the Database\")\n",
    "    print(e)\n",
    "conn.set_session(autocommit=True)"
   ]
  },
  {
   "cell_type": "markdown",
   "metadata": {},
   "source": [
    "#### Let's start with our normalized (3NF) database set of tables we had in the last exercise but we have added a new table song_length. \n",
    "\n",
    "`Table Name: album_library \n",
    "column 0: Album Id\n",
    "column 1: Album Name\n",
    "column 2: Artist Id\n",
    "column 3: Year `\n",
    "\n",
    "`Table Name: song_library\n",
    "column 0: Song Id\n",
    "column 1: Song Name\n",
    "column 3: Album Id\n",
    "column 4: Song length in seconds`\n",
    "\n",
    "`Table Name: artist_library\n",
    "column 0: Artist Id\n",
    "column 1: Artist Name `\n",
    "\n",
    "\n",
    "<img src=\"sources/demo 4.png\">"
   ]
  },
  {
   "cell_type": "code",
   "execution_count": 4,
   "metadata": {},
   "outputs": [],
   "source": [
    "#Create all Tables\n",
    "try: \n",
    "    cur.execute(\"CREATE TABLE IF NOT EXISTS album_library (album_id int, \\\n",
    "                                                           album_name varchar, artist_id int, \\\n",
    "                                                           year int);\")\n",
    "except psycopg2.Error as e: \n",
    "    print(\"Error: Issue creating table\")\n",
    "    print (e)\n",
    "\n",
    "try: \n",
    "    cur.execute(\"CREATE TABLE IF NOT EXISTS artist_library (artist_id int, \\\n",
    "                                                           artist_name varchar);\")\n",
    "except psycopg2.Error as e: \n",
    "    print(\"Error: Issue creating table\")\n",
    "    print (e)\n",
    "\n",
    "try: \n",
    "    cur.execute(\"CREATE TABLE IF NOT EXISTS song_library (song_id int, album_id int, \\\n",
    "                                                          song_name varchar, song_length int);\")\n",
    "except psycopg2.Error as e: \n",
    "    print(\"Error: Issue creating table\")\n",
    "    print (e)\n",
    "\n",
    "    \n",
    "#Insert into all tables \n",
    "try: \n",
    "    cur.execute(\"INSERT INTO song_library (song_id, album_id, song_name,song_length) \\\n",
    "                 VALUES (%s, %s, %s, %s)\", \\\n",
    "                 (1, 1, \"Michelle\",163))\n",
    "except psycopg2.Error as e: \n",
    "    print(\"Error: Inserting Rows\")\n",
    "    print (e)\n",
    "\n",
    "try: \n",
    "    cur.execute(\"INSERT INTO song_library (song_id, album_id, song_name,song_length) \\\n",
    "                 VALUES (%s, %s, %s,%s)\", \\\n",
    "                 (2, 1, \"Think For Yourself\",137))\n",
    "except psycopg2.Error as e: \n",
    "    print(\"Error: Inserting Rows\")\n",
    "    print (e)\n",
    "    \n",
    "try: \n",
    "    cur.execute(\"INSERT INTO song_library (song_id, album_id, song_name,song_length) \\\n",
    "                 VALUES (%s, %s, %s,%s)\", \\\n",
    "                 (3, 1, \"In My Life\",145))\n",
    "except psycopg2.Error as e: \n",
    "    print(\"Error: Inserting Rows\")\n",
    "    print (e)\n",
    "\n",
    "try: \n",
    "    cur.execute(\"INSERT INTO song_library (song_id, album_id, song_name,song_length) \\\n",
    "                 VALUES (%s, %s, %s,%s)\", \\\n",
    "                 (4, 2, \"Let It Be\",240))\n",
    "except psycopg2.Error as e: \n",
    "    print(\"Error: Inserting Rows\")\n",
    "    print (e)\n",
    "\n",
    "try: \n",
    "    cur.execute(\"INSERT INTO song_library (song_id, album_id, song_name,song_length) \\\n",
    "                 VALUES (%s, %s, %s,%s)\", \\\n",
    "                 (5, 2, \"Across the Universe\",227))\n",
    "except psycopg2.Error as e: \n",
    "    print(\"Error: Inserting Rows\")\n",
    "    print (e)\n",
    "\n",
    "    \n",
    "try: \n",
    "    cur.execute(\"INSERT INTO album_library (album_id, album_name, artist_id, year) \\\n",
    "                 VALUES (%s, %s, %s, %s)\", \\\n",
    "                 (1, \"Rubber Soul\", 1, 1965))\n",
    "except psycopg2.Error as e: \n",
    "    print(\"Error: Inserting Rows\")\n",
    "    print (e)\n",
    "\n",
    "try: \n",
    "    cur.execute(\"INSERT INTO album_library (album_id, album_name, artist_id, year) \\\n",
    "                 VALUES (%s, %s, %s, %s)\", \\\n",
    "                 (2, \"Let It Be\", 1, 1970))\n",
    "except psycopg2.Error as e: \n",
    "    print(\"Error: Inserting Rows\")\n",
    "    print (e)\n",
    "\n",
    "try: \n",
    "    cur.execute(\"INSERT INTO artist_library (artist_id, artist_name) \\\n",
    "                 VALUES (%s, %s)\", \\\n",
    "                 (1, \"The Beatles\"))\n",
    "except psycopg2.Error as e: \n",
    "    print(\"Error: Inserting Rows\")\n",
    "    print (e)\n",
    "    "
   ]
  },
  {
   "cell_type": "markdown",
   "metadata": {},
   "source": [
    "#### Print results"
   ]
  },
  {
   "cell_type": "code",
   "execution_count": 5,
   "metadata": {},
   "outputs": [
    {
     "name": "stdout",
     "output_type": "stream",
     "text": [
      "Table: album_library\n",
      "\n",
      "(1, 'Rubber Soul', 1, 1965)\n",
      "(2, 'Let It Be', 1, 1970)\n",
      "\n",
      "Table: song_library\n",
      "\n",
      "(1, 1, 'Michelle', 163)\n",
      "(2, 1, 'Think For Yourself', 137)\n",
      "(3, 1, 'In My Life', 145)\n",
      "(4, 2, 'Let It Be', 240)\n",
      "(5, 2, 'Across the Universe', 227)\n",
      "\n",
      "Table: artist_library\n",
      "\n",
      "(1, 'The Beatles')\n"
     ]
    }
   ],
   "source": [
    "print(\"Table: album_library\\n\")\n",
    "try: \n",
    "    cur.execute(\"SELECT * FROM album_library;\")\n",
    "except psycopg2.Error as e: \n",
    "    print(\"Error: select *\")\n",
    "    print (e)\n",
    "\n",
    "row = cur.fetchone()\n",
    "while row:\n",
    "   print(row)\n",
    "   row = cur.fetchone()\n",
    "\n",
    "print(\"\\nTable: song_library\\n\")\n",
    "try: \n",
    "    cur.execute(\"SELECT * FROM song_library;\")\n",
    "except psycopg2.Error as e: \n",
    "    print(\"Error: select *\")\n",
    "    print (e)\n",
    "\n",
    "row = cur.fetchone()\n",
    "while row:\n",
    "   print(row)\n",
    "   row = cur.fetchone()\n",
    "\n",
    "print(\"\\nTable: artist_library\\n\")\n",
    "try: \n",
    "    cur.execute(\"SELECT * FROM artist_library;\")\n",
    "except psycopg2.Error as e: \n",
    "    print(\"Error: select *\")\n",
    "    print (e)\n",
    "\n",
    "row = cur.fetchone()\n",
    "while row:\n",
    "   print(row)\n",
    "   row = cur.fetchone()\n",
    "\n",
    "row = cur.fetchone()\n",
    "while row:\n",
    "   print(row)\n",
    "   row = cur.fetchone()"
   ]
  },
  {
   "cell_type": "markdown",
   "metadata": {},
   "source": [
    "<img src=\"sources/demo 4.png\">"
   ]
  },
  {
   "cell_type": "markdown",
   "metadata": {},
   "source": [
    "#### Let's say we need to do a query that gives us:\n",
    "\n",
    "`artist_id \n",
    "artist_name \n",
    "album_id \n",
    "album_name \n",
    "year \n",
    "song_id\n",
    "song_name \n",
    "song_length` \n",
    "\n",
    "we will need to perform a 2 way `JOIN` on the 3 tables we have created. "
   ]
  },
  {
   "cell_type": "code",
   "execution_count": 6,
   "metadata": {},
   "outputs": [
    {
     "name": "stdout",
     "output_type": "stream",
     "text": [
      "Time Taken: 0.04095745086669922\n",
      "('The Beatles', 'Rubber Soul', 1965, 'Michelle', 163)\n",
      "('The Beatles', 'Rubber Soul', 1965, 'Think For Yourself', 137)\n",
      "('The Beatles', 'Rubber Soul', 1965, 'In My Life', 145)\n",
      "('The Beatles', 'Let It Be', 1970, 'Let It Be', 240)\n",
      "('The Beatles', 'Let It Be', 1970, 'Across the Universe', 227)\n"
     ]
    }
   ],
   "source": [
    "import time\n",
    "\n",
    "try: \n",
    "    t = time.time()\n",
    "    cur.execute(\"SELECT artist_name, album_name, year, song_name, song_length\\\n",
    "                  FROM ((artist_library JOIN album_library ON \\\n",
    "                         artist_library.artist_id = album_library.artist_id) JOIN \\\n",
    "                         song_library ON album_library.album_id=song_library.album_id);\")\n",
    "    print('Time Taken:',time.time()-t)\n",
    "    \n",
    "except psycopg2.Error as e: \n",
    "    print(\"Error: select *\")\n",
    "    print (e)\n",
    "\n",
    "rows = cur.fetchall()\n",
    "for row in rows:\n",
    "    print(row)"
   ]
  },
  {
   "cell_type": "markdown",
   "metadata": {},
   "source": [
    "#### Great we were able to get the data we wanted.\n",
    "\n",
    "But, we had to do a to 2 way `JOIN` to get there. While it's great we had that flexability, we need to remember that `JOINS` are slow and if we have a read heavy workload that required low latency queries we want to reduce the number of `JOINS`.  Let's think about denormalizing our normalized tables."
   ]
  },
  {
   "cell_type": "markdown",
   "metadata": {},
   "source": [
    " With denormalization we want to think about the queries we are running and how we can reduce our number of JOINS, even if that means duplicating data "
   ]
  },
  {
   "cell_type": "markdown",
   "metadata": {},
   "source": [
    "#### Query 1 : `select artist_name, album_name, year, song_name, song_length FROM <min number of tables>` \n",
    "I want a list of all my songs\n",
    "#### Query 2: `select album_name SUM(song_length) FROM <min number of tables> GROUP BY album_name` \n",
    "I want to know the length of each album in seconds "
   ]
  },
  {
   "cell_type": "markdown",
   "metadata": {},
   "source": [
    "####  Query 1: `select artist_name, album_name, year, song_name, song_length FROM <min number of tables>` \n",
    "\n",
    "To reduce the number of tables this is more straight forward. Let's first add `song_length` to the `song_library` table and `artist_name` to `album_library`. \n",
    "\n",
    "`Table Name: album_library \n",
    "column 0: Album Id\n",
    "column 1: Album Name\n",
    "column 2: Artist Name\n",
    "column 3: Year `\n",
    "\n",
    "`Table Name: song_library\n",
    "column: Song Id\n",
    "column: Album Id  \n",
    "column: Song Name\n",
    "column: Song Length`\n",
    "\n",
    "<img src=\"sources/demo 5.3.png\">\n"
   ]
  },
  {
   "cell_type": "code",
   "execution_count": 12,
   "metadata": {},
   "outputs": [],
   "source": [
    "#Create all Tables\n",
    "try: \n",
    "    cur.execute(\"CREATE TABLE IF NOT EXISTS album_library1 (album_id int, \\\n",
    "                                                           album_name varchar, artist_name varchar, \\\n",
    "                                                           year int);\")\n",
    "except psycopg2.Error as e: \n",
    "    print(\"Error: Issue creating table\")\n",
    "    print (e)\n",
    "\n",
    "\n",
    "try: \n",
    "    cur.execute(\"CREATE TABLE IF NOT EXISTS song_library1 (song_id int, album_id int, \\\n",
    "                                                          song_name varchar, song_length int);\")\n",
    "except psycopg2.Error as e: \n",
    "    print(\"Error: Issue creating table\")\n",
    "    print (e)\n",
    "\n",
    "\n",
    "#Insert into all tables \n",
    "\n",
    "try: \n",
    "    cur.execute(\"INSERT INTO song_library1 (song_id, album_id, song_name, song_length) \\\n",
    "                 VALUES (%s, %s, %s, %s)\", \\\n",
    "                 (1, 1, \"Michelle\", 163 ))\n",
    "except psycopg2.Error as e: \n",
    "    print(\"Error: Inserting Rows\")\n",
    "    print (e)\n",
    "\n",
    "\n",
    "try: \n",
    "    cur.execute(\"INSERT INTO song_library1 (song_id, album_id, song_name, song_length) \\\n",
    "                 VALUES (%s, %s, %s, %s)\", \\\n",
    "                 (2, 1, \"Think For Yourself\", 137 ))\n",
    "except psycopg2.Error as e: \n",
    "    print(\"Error: Inserting Rows\")\n",
    "    print (e)\n",
    "    \n",
    "try: \n",
    "    cur.execute(\"INSERT INTO song_library1 (song_id, album_id, song_name, song_length) \\\n",
    "                 VALUES (%s, %s, %s, %s)\", \\\n",
    "                 (3, 1, \"In My Life\", 145))\n",
    "except psycopg2.Error as e: \n",
    "    print(\"Error: Inserting Rows\")\n",
    "    print (e)\n",
    "\n",
    "try: \n",
    "    cur.execute(\"INSERT INTO song_library1 (song_id, album_id, song_name, song_length) \\\n",
    "                 VALUES (%s, %s, %s, %s)\", \\\n",
    "                 (4, 2, \"Let It Be\", 240))\n",
    "except psycopg2.Error as e: \n",
    "    print(\"Error: Inserting Rows\")\n",
    "    print (e)\n",
    "\n",
    "try: \n",
    "    cur.execute(\"INSERT INTO song_library1 (song_id, album_id, song_name, song_length) \\\n",
    "                 VALUES (%s, %s, %s, %s)\", \\\n",
    "                 (5, 2, \"Across the Universe\", 227))\n",
    "except psycopg2.Error as e: \n",
    "    print(\"Error: Inserting Rows\")\n",
    "    print (e)\n",
    "\n",
    "    \n",
    "try: \n",
    "    cur.execute(\"INSERT INTO album_library1 (album_id, album_name, artist_name, year) \\\n",
    "                 VALUES (%s, %s, %s, %s)\", \\\n",
    "                 (1, \"Rubber Soul\", \"The Beatles\", 1965))\n",
    "except psycopg2.Error as e: \n",
    "    print(\"Error: Inserting Rows\")\n",
    "    print (e)\n",
    "\n",
    "try: \n",
    "    cur.execute(\"INSERT INTO album_library1 (album_id, album_name, artist_name, year) \\\n",
    "                 VALUES (%s, %s, %s, %s)\", \\\n",
    "                 (2, \"Let It Be\", \"The Beatles\", 1970))\n",
    "except psycopg2.Error as e: \n",
    "    print(\"Error: Inserting Rows\")\n",
    "    print (e)"
   ]
  },
  {
   "cell_type": "markdown",
   "metadata": {},
   "source": [
    "### Great we can now do a simplifed query to get the information we need. Only one `JOIN` is needed."
   ]
  },
  {
   "cell_type": "code",
   "execution_count": 13,
   "metadata": {},
   "outputs": [
    {
     "name": "stdout",
     "output_type": "stream",
     "text": [
      "Time Taken: 0.007163047790527344\n",
      "('The Beatles', 'Rubber Soul', 1965, 'Michelle', 163)\n",
      "('The Beatles', 'Rubber Soul', 1965, 'Think For Yourself', 137)\n",
      "('The Beatles', 'Rubber Soul', 1965, 'In My Life', 145)\n",
      "('The Beatles', 'Rubber Soul', 1965, 'Michelle', 163)\n",
      "('The Beatles', 'Rubber Soul', 1965, 'Think For Yourself', 137)\n",
      "('The Beatles', 'Rubber Soul', 1965, 'In My Life', 145)\n",
      "('The Beatles', 'Rubber Soul', 1965, 'Michelle', 163)\n",
      "('The Beatles', 'Rubber Soul', 1965, 'Think For Yourself', 137)\n",
      "('The Beatles', 'Rubber Soul', 1965, 'In My Life', 145)\n",
      "('The Beatles', 'Rubber Soul', 1965, 'Michelle', 163)\n",
      "('The Beatles', 'Rubber Soul', 1965, 'Think For Yourself', 137)\n",
      "('The Beatles', 'Rubber Soul', 1965, 'In My Life', 145)\n",
      "('The Beatles', 'Let It Be', 1970, 'Let It Be', 240)\n",
      "('The Beatles', 'Let It Be', 1970, 'Let It Be', 240)\n",
      "('The Beatles', 'Let It Be', 1970, 'Across the Universe', 227)\n",
      "('The Beatles', 'Let It Be', 1970, 'Across the Universe', 227)\n",
      "('The Beatles', 'Let It Be', 1970, 'Let It Be', 240)\n",
      "('The Beatles', 'Let It Be', 1970, 'Let It Be', 240)\n",
      "('The Beatles', 'Let It Be', 1970, 'Across the Universe', 227)\n",
      "('The Beatles', 'Let It Be', 1970, 'Across the Universe', 227)\n"
     ]
    }
   ],
   "source": [
    "t = time.time()\n",
    "\n",
    "try: \n",
    "    cur.execute(\"SELECT artist_name, album_name, year, song_name, song_length\\\n",
    "                  FROM song_library1 JOIN album_library1 ON \\\n",
    "                        song_library1.album_id = album_library1.album_id;\")\n",
    "        \n",
    "except psycopg2.Error as e: \n",
    "    print(\"Error: select *\")\n",
    "    print (e)\n",
    "\n",
    "print('Time Taken:',time.time()-t)\n",
    "\n",
    "row = cur.fetchone()\n",
    "while row:\n",
    "   print(row)\n",
    "   row = cur.fetchone()"
   ]
  },
  {
   "cell_type": "markdown",
   "metadata": {},
   "source": [
    "#### Query 2: `select album_name SUM(song_length) FROM <min number of tables> GROUP BY album_name` \n",
    "\n",
    "We could also do a `JOIN` on the tables we have created, but what if we do not want to have any `JOINS`, why not create a new table with just the information we need. \n",
    "\n",
    "`Table Name: album_length\n",
    "col: Song Id\n",
    "Col: Album Id\n",
    "col: Song Length\n",
    "`\n",
    "<img src=\"sources/demo 5.4.png\">"
   ]
  },
  {
   "cell_type": "markdown",
   "metadata": {},
   "source": [
    "### On normalized tables"
   ]
  },
  {
   "cell_type": "code",
   "execution_count": 14,
   "metadata": {},
   "outputs": [
    {
     "name": "stdout",
     "output_type": "stream",
     "text": [
      "Time Taken: 0.0031273365020751953\n",
      "('Rubber Soul', 445)\n",
      "('Let It Be', 467)\n"
     ]
    }
   ],
   "source": [
    "t = time.time()\n",
    "try: \n",
    "    cur.execute(\"SELECT album_name, sum(song_length)\\\n",
    "                          FROM song_library JOIN album_library ON \\\n",
    "                            song_library.album_id = album_library.album_id \\\n",
    "                            group by album_name;\")\n",
    "\n",
    "except psycopg2.Error as e: \n",
    "    print(\"Error: Issue creating table\")\n",
    "    print (e)\n",
    "    \n",
    "print('Time Taken:',time.time()-t)\n",
    "\n",
    "row = cur.fetchone()\n",
    "while row:\n",
    "   print(row)\n",
    "   row = cur.fetchone()"
   ]
  },
  {
   "cell_type": "markdown",
   "metadata": {},
   "source": [
    "### On denormalized tables"
   ]
  },
  {
   "cell_type": "code",
   "execution_count": 15,
   "metadata": {},
   "outputs": [],
   "source": [
    "try: \n",
    "    cur.execute(\"CREATE TABLE IF NOT EXISTS album_length (song_id int, album_name varchar, \\\n",
    "                                                          song_length int);\")\n",
    "except psycopg2.Error as e: \n",
    "    print(\"Error: Issue creating table\")\n",
    "    print (e)\n",
    "\n",
    "\n",
    "#Insert into all tables \n",
    "    \n",
    "try: \n",
    "    cur.execute(\"INSERT INTO album_length (song_id, album_name, song_length) \\\n",
    "                 VALUES (%s, %s, %s)\", \\\n",
    "                 (1, \"Rubber Soul\", 163 ))\n",
    "except psycopg2.Error as e: \n",
    "    print(\"Error: Inserting Rows\")\n",
    "    print (e)\n",
    "\n",
    "try: \n",
    "    cur.execute(\"INSERT INTO album_length (song_id, album_name, song_length) \\\n",
    "                 VALUES (%s, %s, %s)\", \\\n",
    "                 (2, \"Rubber Soul\", 137 ))\n",
    "except psycopg2.Error as e: \n",
    "    print(\"Error: Inserting Rows\")\n",
    "    print (e)   \n",
    "\n",
    "try: \n",
    "    cur.execute(\"INSERT INTO album_length (song_id, album_name, song_length) \\\n",
    "                 VALUES (%s, %s, %s)\", \\\n",
    "                 (3, \"Rubber Soul\", 145 ))\n",
    "except psycopg2.Error as e: \n",
    "    print(\"Error: Inserting Rows\")\n",
    "    print (e)   \n",
    "\n",
    "try: \n",
    "    cur.execute(\"INSERT INTO album_length (song_id, album_name, song_length) \\\n",
    "                 VALUES (%s, %s, %s)\", \\\n",
    "                 (4, \"Let It Be\", 240 ))\n",
    "except psycopg2.Error as e: \n",
    "    print(\"Error: Inserting Rows\")\n",
    "    print (e) \n",
    "    \n",
    "try: \n",
    "    cur.execute(\"INSERT INTO album_length (song_id, album_name, song_length) \\\n",
    "                 VALUES (%s, %s, %s)\", \\\n",
    "                 (5, \"Let It Be\", 227 ))\n",
    "except psycopg2.Error as e: \n",
    "    print(\"Error: Inserting Rows\")\n",
    "    print (e) "
   ]
  },
  {
   "cell_type": "code",
   "execution_count": 16,
   "metadata": {},
   "outputs": [
    {
     "data": {
      "text/html": [
       "<div>\n",
       "<style scoped>\n",
       "    .dataframe tbody tr th:only-of-type {\n",
       "        vertical-align: middle;\n",
       "    }\n",
       "\n",
       "    .dataframe tbody tr th {\n",
       "        vertical-align: top;\n",
       "    }\n",
       "\n",
       "    .dataframe thead th {\n",
       "        text-align: right;\n",
       "    }\n",
       "</style>\n",
       "<table border=\"1\" class=\"dataframe\">\n",
       "  <thead>\n",
       "    <tr style=\"text-align: right;\">\n",
       "      <th></th>\n",
       "      <th>0</th>\n",
       "      <th>1</th>\n",
       "      <th>2</th>\n",
       "    </tr>\n",
       "  </thead>\n",
       "  <tbody>\n",
       "    <tr>\n",
       "      <th>0</th>\n",
       "      <td>1</td>\n",
       "      <td>Rubber Soul</td>\n",
       "      <td>163</td>\n",
       "    </tr>\n",
       "    <tr>\n",
       "      <th>1</th>\n",
       "      <td>2</td>\n",
       "      <td>Rubber Soul</td>\n",
       "      <td>137</td>\n",
       "    </tr>\n",
       "    <tr>\n",
       "      <th>2</th>\n",
       "      <td>3</td>\n",
       "      <td>Rubber Soul</td>\n",
       "      <td>145</td>\n",
       "    </tr>\n",
       "    <tr>\n",
       "      <th>3</th>\n",
       "      <td>4</td>\n",
       "      <td>Let It Be</td>\n",
       "      <td>240</td>\n",
       "    </tr>\n",
       "    <tr>\n",
       "      <th>4</th>\n",
       "      <td>5</td>\n",
       "      <td>Let It Be</td>\n",
       "      <td>227</td>\n",
       "    </tr>\n",
       "    <tr>\n",
       "      <th>5</th>\n",
       "      <td>1</td>\n",
       "      <td>Rubber Soul</td>\n",
       "      <td>163</td>\n",
       "    </tr>\n",
       "    <tr>\n",
       "      <th>6</th>\n",
       "      <td>2</td>\n",
       "      <td>Rubber Soul</td>\n",
       "      <td>137</td>\n",
       "    </tr>\n",
       "    <tr>\n",
       "      <th>7</th>\n",
       "      <td>3</td>\n",
       "      <td>Rubber Soul</td>\n",
       "      <td>145</td>\n",
       "    </tr>\n",
       "    <tr>\n",
       "      <th>8</th>\n",
       "      <td>4</td>\n",
       "      <td>Let It Be</td>\n",
       "      <td>240</td>\n",
       "    </tr>\n",
       "    <tr>\n",
       "      <th>9</th>\n",
       "      <td>5</td>\n",
       "      <td>Let It Be</td>\n",
       "      <td>227</td>\n",
       "    </tr>\n",
       "  </tbody>\n",
       "</table>\n",
       "</div>"
      ],
      "text/plain": [
       "   0            1    2\n",
       "0  1  Rubber Soul  163\n",
       "1  2  Rubber Soul  137\n",
       "2  3  Rubber Soul  145\n",
       "3  4    Let It Be  240\n",
       "4  5    Let It Be  227\n",
       "5  1  Rubber Soul  163\n",
       "6  2  Rubber Soul  137\n",
       "7  3  Rubber Soul  145\n",
       "8  4    Let It Be  240\n",
       "9  5    Let It Be  227"
      ]
     },
     "execution_count": 16,
     "metadata": {},
     "output_type": "execute_result"
    }
   ],
   "source": [
    "import pandas as pd\n",
    "cur.execute(\"select * from album_length\")\n",
    "rows = pd.DataFrame(cur.fetchall())\n",
    "rows"
   ]
  },
  {
   "cell_type": "markdown",
   "metadata": {},
   "source": [
    "#### Now let's run our query"
   ]
  },
  {
   "cell_type": "code",
   "execution_count": 17,
   "metadata": {},
   "outputs": [
    {
     "name": "stdout",
     "output_type": "stream",
     "text": [
      "Time Taken: 0.0070192813873291016\n",
      "('Rubber Soul', 890)\n",
      "('Let It Be', 934)\n"
     ]
    }
   ],
   "source": [
    "t = time.time()\n",
    "\n",
    "try: \n",
    "    cur.execute(\"SELECT album_name, SUM(song_length) FROM album_length GROUP BY album_name;\")\n",
    "\n",
    "except psycopg2.Error as e: \n",
    "    print(\"Error: select *\")\n",
    "    print (e)\n",
    "    \n",
    "print('Time Taken:',time.time()-t)\n",
    "\n",
    "row = cur.fetchone()\n",
    "while row:\n",
    "   print(row)\n",
    "   row = cur.fetchone()"
   ]
  },
  {
   "cell_type": "markdown",
   "metadata": {},
   "source": [
    "### Create a whole new table"
   ]
  },
  {
   "cell_type": "code",
   "execution_count": 18,
   "metadata": {},
   "outputs": [
    {
     "name": "stdout",
     "output_type": "stream",
     "text": [
      "Time Taken: 0.0\n",
      "('Rubber Soul', 445)\n",
      "('Let It Be', 467)\n"
     ]
    }
   ],
   "source": [
    "\n",
    "try: \n",
    "    cur.execute(\"CREATE TABLE if not exists song_len_agg AS SELECT album_name, sum(song_length)\\\n",
    "                          FROM song_library JOIN album_library ON \\\n",
    "                            song_library.album_id = album_library.album_id \\\n",
    "                            group by album_name;\")\n",
    "except psycopg2.Error as e: \n",
    "    print(\"Error: Issue creating table\")\n",
    "    print (e)\n",
    "    \n",
    "t = time.time()\n",
    "cur.execute('Select * from song_len_agg')    \n",
    "print('Time Taken:',time.time()-t)\n",
    "\n",
    "row = cur.fetchone()\n",
    "while row:\n",
    "   print(row)\n",
    "   row = cur.fetchone()"
   ]
  },
  {
   "cell_type": "markdown",
   "metadata": {},
   "source": [
    "#### We have successfully taken normalized table and denormalized them inorder to speed up our performance and allow for simplier queries to be executed. "
   ]
  },
  {
   "cell_type": "markdown",
   "metadata": {},
   "source": [
    "### For the sake of the demo, I will drop the tables. "
   ]
  },
  {
   "cell_type": "code",
   "execution_count": 19,
   "metadata": {},
   "outputs": [],
   "source": [
    "cur.execute(\"drop table album_library, artist_library, song_library, album_length, song_len_agg,song_library1,album_library1\")"
   ]
  },
  {
   "cell_type": "markdown",
   "metadata": {},
   "source": [
    "### And finally close your cursor and connection. "
   ]
  },
  {
   "cell_type": "code",
   "execution_count": 20,
   "metadata": {},
   "outputs": [],
   "source": [
    "cur.close()\n",
    "conn.close()"
   ]
  },
  {
   "cell_type": "markdown",
   "metadata": {},
   "source": [
    "# Normalization\n",
    "is about trying to increase data integrity by reducing the number of copies of the data. Data that needs to be added or updated will be done in as few places as possible.\n",
    "\n",
    "# Denormalization\n",
    "is trying to increase performance by reducing the number of joins between tables (as joins can be slow). Data integrity will take a bit of a potential hit, as there will be more copies of the data (to reduce JOINS)."
   ]
  },
  {
   "cell_type": "code",
   "execution_count": null,
   "metadata": {},
   "outputs": [],
   "source": []
  }
 ],
 "metadata": {
  "kernelspec": {
   "display_name": "Python 3 (ipykernel)",
   "language": "python",
   "name": "python3"
  },
  "language_info": {
   "codemirror_mode": {
    "name": "ipython",
    "version": 3
   },
   "file_extension": ".py",
   "mimetype": "text/x-python",
   "name": "python",
   "nbconvert_exporter": "python",
   "pygments_lexer": "ipython3",
   "version": "3.9.7"
  }
 },
 "nbformat": 4,
 "nbformat_minor": 2
}
