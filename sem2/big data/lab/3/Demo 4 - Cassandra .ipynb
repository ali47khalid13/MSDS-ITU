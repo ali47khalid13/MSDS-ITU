{
 "cells": [
  {
   "cell_type": "markdown",
   "metadata": {},
   "source": [
    "# Demo 4: Apache Cassandra"
   ]
  },
  {
   "cell_type": "markdown",
   "metadata": {},
   "source": [
    "### Use a python wrapper/ python driver called cassandra to run the Apache Cassandra queries. This library should be preinstalled but in the future to install this library you can run this command in a notebook to install locally: \n",
    "More documentation can be found here:  https://datastax.github.io/python-driver/"
   ]
  },
  {
   "cell_type": "markdown",
   "metadata": {},
   "source": [
    "### Import Apache Cassandra python package"
   ]
  },
  {
   "cell_type": "code",
   "execution_count": 3,
   "metadata": {},
   "outputs": [
    {
     "name": "stdout",
     "output_type": "stream",
     "text": [
      "Requirement already satisfied: cassandra-driver in c:\\programdata\\anaconda3\\lib\\site-packages (3.25.0)\n",
      "Requirement already satisfied: six>=1.9 in c:\\programdata\\anaconda3\\lib\\site-packages (from cassandra-driver) (1.16.0)\n",
      "Requirement already satisfied: geomet<0.3,>=0.1 in c:\\programdata\\anaconda3\\lib\\site-packages (from cassandra-driver) (0.2.1.post1)\n",
      "Requirement already satisfied: click in c:\\programdata\\anaconda3\\lib\\site-packages (from geomet<0.3,>=0.1->cassandra-driver) (8.0.3)\n",
      "Requirement already satisfied: colorama in c:\\programdata\\anaconda3\\lib\\site-packages (from click->geomet<0.3,>=0.1->cassandra-driver) (0.4.4)\n",
      "Requirement already satisfied: cassandra-driver in c:\\programdata\\anaconda3\\lib\\site-packages (3.25.0)\n",
      "Requirement already satisfied: geomet<0.3,>=0.1 in c:\\programdata\\anaconda3\\lib\\site-packages (from cassandra-driver) (0.2.1.post1)\n",
      "Requirement already satisfied: six>=1.9 in c:\\programdata\\anaconda3\\lib\\site-packages (from cassandra-driver) (1.16.0)\n",
      "Requirement already satisfied: click in c:\\programdata\\anaconda3\\lib\\site-packages (from geomet<0.3,>=0.1->cassandra-driver) (8.0.3)\n",
      "Requirement already satisfied: colorama in c:\\programdata\\anaconda3\\lib\\site-packages (from click->geomet<0.3,>=0.1->cassandra-driver) (0.4.4)\n"
     ]
    }
   ],
   "source": [
    "! pip install cassandra-driver"
   ]
  },
  {
   "cell_type": "code",
   "execution_count": 4,
   "metadata": {},
   "outputs": [],
   "source": [
    "import cassandra"
   ]
  },
  {
   "cell_type": "markdown",
   "metadata": {},
   "source": [
    "### Create a connection to the database\n",
    "1. Connect to the local instance of Apache Cassandra *['127.0.0.1']*.\n",
    "2. Once we get back the cluster object, we need to connect and that will create our session that we will use to execute queries.<BR><BR>\n",
    "    \n",
    "*Note 1:* This block of code will be standard in all notebooks"
   ]
  },
  {
   "cell_type": "code",
   "execution_count": 1,
   "metadata": {},
   "outputs": [],
   "source": [
    "from cassandra.cluster import Cluster\n",
    "try: \n",
    "    cluster = Cluster(['127.0.0.1'], port=9042) \n",
    "    session = cluster.connect()\n",
    "except Exception as e:\n",
    "    print(e)\n",
    " "
   ]
  },
  {
   "cell_type": "code",
   "execution_count": 2,
   "metadata": {},
   "outputs": [
    {
     "name": "stdout",
     "output_type": "stream",
     "text": [
      "Row(keyspace_name='demokeyspace', type='keyspace', name='demokeyspace')\n",
      "Row(keyspace_name='system', type='keyspace', name='system')\n",
      "Row(keyspace_name='system_auth', type='keyspace', name='system_auth')\n",
      "Row(keyspace_name='system_distributed', type='keyspace', name='system_distributed')\n",
      "Row(keyspace_name='system_schema', type='keyspace', name='system_schema')\n",
      "Row(keyspace_name='system_traces', type='keyspace', name='system_traces')\n",
      "Row(keyspace_name='system_views', type='keyspace', name='system_views')\n",
      "Row(keyspace_name='system_virtual_schema', type='keyspace', name='system_virtual_schema')\n",
      "Row(keyspace_name='university', type='keyspace', name='university')\n"
     ]
    }
   ],
   "source": [
    "try: \n",
    "    rows = session.execute(\"\"\"DESCRIBE keyspaces\"\"\")\n",
    "except Exception as e:\n",
    "    print(e)\n",
    "\n",
    "for row in rows:\n",
    "    print (row)"
   ]
  },
  {
   "cell_type": "code",
   "execution_count": 7,
   "metadata": {},
   "outputs": [
    {
     "name": "stdout",
     "output_type": "stream",
     "text": [
      "Row(keyspace_name='system_auth', durable_writes=True, replication=OrderedMapSerializedKey([('class', 'org.apache.cassandra.locator.SimpleStrategy'), ('replication_factor', '1')]))\n",
      "Row(keyspace_name='system_schema', durable_writes=True, replication=OrderedMapSerializedKey([('class', 'org.apache.cassandra.locator.LocalStrategy')]))\n",
      "Row(keyspace_name='system_distributed', durable_writes=True, replication=OrderedMapSerializedKey([('class', 'org.apache.cassandra.locator.SimpleStrategy'), ('replication_factor', '3')]))\n",
      "Row(keyspace_name='system', durable_writes=True, replication=OrderedMapSerializedKey([('class', 'org.apache.cassandra.locator.LocalStrategy')]))\n",
      "Row(keyspace_name='system_traces', durable_writes=True, replication=OrderedMapSerializedKey([('class', 'org.apache.cassandra.locator.SimpleStrategy'), ('replication_factor', '2')]))\n"
     ]
    }
   ],
   "source": [
    "try: \n",
    "    rows = session.execute(\"\"\"SELECT * FROM system_schema.keyspaces\"\"\")\n",
    "except Exception as e:\n",
    "    print(e)\n",
    "\n",
    "for row in rows:\n",
    "    print (row)"
   ]
  },
  {
   "cell_type": "markdown",
   "metadata": {},
   "source": [
    "### Create a keyspace to the work in \n",
    "*Note:* We will ignore the Replication Strategy and factor information right now as those concepts will be covered in detail as we go along. Remember, this will be the strategy and replication factor on a one node local instance. "
   ]
  },
  {
   "cell_type": "code",
   "execution_count": 3,
   "metadata": {},
   "outputs": [
    {
     "name": "stdout",
     "output_type": "stream",
     "text": [
      "Row(keyspace_name='system_auth', durable_writes=True, replication=OrderedMapSerializedKey([('class', 'org.apache.cassandra.locator.SimpleStrategy'), ('replication_factor', '1')]))\n",
      "Row(keyspace_name='demokeyspace', durable_writes=True, replication=OrderedMapSerializedKey([('class', 'org.apache.cassandra.locator.SimpleStrategy'), ('replication_factor', '2')]))\n",
      "Row(keyspace_name='system_schema', durable_writes=True, replication=OrderedMapSerializedKey([('class', 'org.apache.cassandra.locator.LocalStrategy')]))\n",
      "Row(keyspace_name='system_distributed', durable_writes=True, replication=OrderedMapSerializedKey([('class', 'org.apache.cassandra.locator.SimpleStrategy'), ('replication_factor', '3')]))\n",
      "Row(keyspace_name='system', durable_writes=True, replication=OrderedMapSerializedKey([('class', 'org.apache.cassandra.locator.LocalStrategy')]))\n",
      "Row(keyspace_name='system_traces', durable_writes=True, replication=OrderedMapSerializedKey([('class', 'org.apache.cassandra.locator.SimpleStrategy'), ('replication_factor', '2')]))\n",
      "Row(keyspace_name='university', durable_writes=True, replication=OrderedMapSerializedKey([('class', 'org.apache.cassandra.locator.SimpleStrategy'), ('replication_factor', '2')]))\n"
     ]
    }
   ],
   "source": [
    "try:\n",
    "    session.execute(\"\"\"\n",
    "    CREATE KEYSPACE IF NOT EXISTS demokeyspace \n",
    "    WITH REPLICATION = \n",
    "    { 'class' : 'SimpleStrategy', 'replication_factor' : 1 }\"\"\"\n",
    ")\n",
    "#  { 'class' : 'NetworkTopologyStrategy', 'datacenter1' : 3 }\n",
    "#  { 'class' : 'NetworkTopologyStrategy', 'DCSydney' : 3, 'DCSingapore' : 1, 'DCUSA' : 1 } \n",
    "\n",
    "    rows = session.execute(\"\"\"SELECT * FROM system_schema.keyspaces\"\"\")\n",
    "except Exception as e:\n",
    "    print(e)\n",
    "    \n",
    "for row in rows:\n",
    "    print (row)"
   ]
  },
  {
   "cell_type": "code",
   "execution_count": 4,
   "metadata": {},
   "outputs": [
    {
     "name": "stdout",
     "output_type": "stream",
     "text": [
      "Row(keyspace_name='system_auth', durable_writes=True, replication=OrderedMapSerializedKey([('class', 'org.apache.cassandra.locator.SimpleStrategy'), ('replication_factor', '1')]))\n",
      "Row(keyspace_name='demokeyspace', durable_writes=True, replication=OrderedMapSerializedKey([('class', 'org.apache.cassandra.locator.SimpleStrategy'), ('replication_factor', '2')]))\n",
      "Row(keyspace_name='system_schema', durable_writes=True, replication=OrderedMapSerializedKey([('class', 'org.apache.cassandra.locator.LocalStrategy')]))\n",
      "Row(keyspace_name='system_distributed', durable_writes=True, replication=OrderedMapSerializedKey([('class', 'org.apache.cassandra.locator.SimpleStrategy'), ('replication_factor', '3')]))\n",
      "Row(keyspace_name='system', durable_writes=True, replication=OrderedMapSerializedKey([('class', 'org.apache.cassandra.locator.LocalStrategy')]))\n",
      "Row(keyspace_name='system_traces', durable_writes=True, replication=OrderedMapSerializedKey([('class', 'org.apache.cassandra.locator.SimpleStrategy'), ('replication_factor', '2')]))\n",
      "Row(keyspace_name='university', durable_writes=True, replication=OrderedMapSerializedKey([('class', 'org.apache.cassandra.locator.SimpleStrategy'), ('replication_factor', '2')]))\n"
     ]
    }
   ],
   "source": [
    "try: \n",
    "    session.execute(\"\"\"ALTER KEYSPACE demokeyspace \n",
    "    WITH REPLICATION = \n",
    "    { 'class' : 'SimpleStrategy', 'replication_factor' : 2 }\"\"\")\n",
    "    rows = session.execute(\"\"\"SELECT * FROM system_schema.keyspaces\"\"\")\n",
    "except Exception as e:\n",
    "    print(e)\n",
    "\n",
    "for row in rows:\n",
    "    print (row)"
   ]
  },
  {
   "cell_type": "markdown",
   "metadata": {},
   "source": [
    "### Connect to our Keyspace.<br>\n",
    "*Compare this to how a new session in PostgreSQL is created.*"
   ]
  },
  {
   "cell_type": "code",
   "execution_count": 5,
   "metadata": {},
   "outputs": [],
   "source": [
    "try:\n",
    "    session.set_keyspace('demokeyspace')\n",
    "except Exception as e:\n",
    "    print(e)"
   ]
  },
  {
   "cell_type": "markdown",
   "metadata": {},
   "source": [
    "### Begin with creating a Music Library of albums. Each album has a lot of information we could add to the music library table. We will  start with album name, artist name, year. "
   ]
  },
  {
   "cell_type": "markdown",
   "metadata": {},
   "source": [
    "### But ...Stop\n",
    "\n",
    "### We are working with Apache Cassandra a NoSQL database. We can't model our data and create our table without more information.\n",
    "\n",
    "### Think about what queries will you be performing on this data?"
   ]
  },
  {
   "cell_type": "markdown",
   "metadata": {},
   "source": [
    "#### We want to be able to get every album that was released in a particular year. \n",
    "`select * from music_library WHERE YEAR=1970`\n",
    "\n",
    "*To do that:* <ol><li> We need to be able to do a WHERE on YEAR. <li>YEAR will become my partition key,<li>artist name will be my clustering column to make each Primary Key unique. <li>**Remember there are no duplicates in Apache Cassandra.**</ol>\n",
    "\n",
    "**Table Name:** music_library<br>\n",
    "**column 1:** Album Name<br>\n",
    "**column 2:** Artist Name<br>\n",
    "**column 3:** Year <br>\n",
    "PRIMARY KEY(year, artist name)\n",
    "\n",
    "\n",
    "### Now to translate this information into a Create Table Statement. \n",
    "More information on Data Types can be found here: https://datastax.github.io/python-driver/<br>"
   ]
  },
  {
   "cell_type": "code",
   "execution_count": 6,
   "metadata": {},
   "outputs": [],
   "source": [
    "query = \"\"\"CREATE TABLE IF NOT EXISTS music_library (year int, artist_name text, album_name text, \n",
    "PRIMARY KEY (year,artist_name));\"\"\"\n",
    "\n",
    "# query = \"\"\"CREATE TABLE IF NOT EXISTS music_library (year int, artist_name text, album_name text, \n",
    "# PRIMARY KEY ((year,artist_name), album_name)) WITH clustering ORDER BY(album_name DESC);\"\"\"\n",
    "\n",
    "try:\n",
    "    session.execute(\"drop table if exists music_library\")\n",
    "    session.execute(query)\n",
    "except Exception as e:\n",
    "    print(e)"
   ]
  },
  {
   "cell_type": "markdown",
   "metadata": {},
   "source": [
    "### Insert a record"
   ]
  },
  {
   "cell_type": "code",
   "execution_count": 7,
   "metadata": {},
   "outputs": [],
   "source": [
    "query = \"INSERT INTO music_library (year, artist_name, album_name)\"\n",
    "query = query + \" VALUES (%s, %s, %s)\"\n",
    "\n",
    "try:\n",
    "    session.execute(query, (1970, \"The Beatles\", \"Let it Be\"))\n",
    "except Exception as e:\n",
    "    print(e)       "
   ]
  },
  {
   "cell_type": "markdown",
   "metadata": {},
   "source": [
    "### Validate your data was inserted into the table."
   ]
  },
  {
   "cell_type": "code",
   "execution_count": 8,
   "metadata": {
    "scrolled": true
   },
   "outputs": [
    {
     "name": "stdout",
     "output_type": "stream",
     "text": [
      "1970 Let it Be The Beatles\n"
     ]
    }
   ],
   "source": [
    "query = 'SELECT * FROM music_library'\n",
    "try:\n",
    "    rows = session.execute(query)\n",
    "except Exception as e:\n",
    "    print(e)\n",
    "    \n",
    "for row in rows:\n",
    "    print (row.year, row.album_name, row.artist_name)"
   ]
  },
  {
   "cell_type": "markdown",
   "metadata": {},
   "source": [
    "#### Altering a  table and adding or dropping a new column"
   ]
  },
  {
   "cell_type": "code",
   "execution_count": 9,
   "metadata": {},
   "outputs": [
    {
     "name": "stdout",
     "output_type": "stream",
     "text": [
      "Row(year=1970, artist_name='The Beatles', album_name='Let it Be', sales=None)\n"
     ]
    }
   ],
   "source": [
    "query = \"ALTER TABLE music_library ADD  sales int \"\n",
    "try:\n",
    "    session.execute(query)\n",
    "    rows = session.execute('SELECT * FROM music_library')\n",
    "except Exception as e:\n",
    "    print(e)\n",
    "    \n",
    "for row in rows:\n",
    "    print (row)"
   ]
  },
  {
   "cell_type": "markdown",
   "metadata": {},
   "source": [
    "#### Adding Multiple Records at a time "
   ]
  },
  {
   "cell_type": "code",
   "execution_count": 10,
   "metadata": {},
   "outputs": [
    {
     "name": "stdout",
     "output_type": "stream",
     "text": [
      "Row(year=2001, artist_name='A', album_name='B', sales=1000)\n",
      "Row(year=2001, artist_name='E', album_name='H', sales=2000)\n",
      "Row(year=2002, artist_name='C', album_name='D', sales=5000)\n",
      "Row(year=2002, artist_name='G', album_name='F', sales=5000)\n",
      "Row(year=1970, artist_name='The Beatles', album_name='Let it Be', sales=None)\n"
     ]
    }
   ],
   "source": [
    "from cassandra.query import BatchStatement\n",
    "\n",
    "data = [[2001,'A','B',1000],\n",
    "        [2002,'C','D',5000],\n",
    "        [2001,'E','H',2000],\n",
    "        [2002,'G','F',1000],\n",
    "        [2002,'G','F',5000]] \n",
    "\n",
    "prepared = session.prepare(\"INSERT INTO music_library (year, artist_name, album_name, sales) VALUES (?,?, ?, ?)\")\n",
    "try:\n",
    "    batch = BatchStatement()\n",
    "    for i in range(len(data)):\n",
    "        batch.add(prepared, (data[i][0], data[i][1], data[i][2], data[i][3]))\n",
    "    \n",
    "    session.execute(batch)\n",
    "    rows = session.execute('SELECT * FROM music_library')\n",
    "except Exception as e:\n",
    "    print(e)\n",
    "    \n",
    "for row in rows:\n",
    "    print (row)"
   ]
  },
  {
   "cell_type": "markdown",
   "metadata": {},
   "source": [
    "### Data Filtering (Using Partitioning Columns)"
   ]
  },
  {
   "cell_type": "code",
   "execution_count": 17,
   "metadata": {},
   "outputs": [
    {
     "name": "stdout",
     "output_type": "stream",
     "text": [
      "Error from server: code=2200 [Invalid query] message=\"Cannot execute this query as it might involve data filtering and thus may have unpredictable performance. If you want to execute this query despite the performance unpredictability, use ALLOW FILTERING\"\n"
     ]
    }
   ],
   "source": [
    "# query = \"select * from music_library WHERE year=1970\"\n",
    "# query = \"select * from music_library WHERE artist_name='A'\"\n",
    "# query = \"select * from music_library WHERE artist_name='C' ALLOW FILTERING\"\n",
    "# query = \"select * from music_library WHERE album_name='B'\"\n",
    "# query = \"select * from music_library WHERE YEAR=1970 and artist_name='The Beatles'\"\n",
    "# query = \"select * from music_library WHERE YEAR=2002 and artist_name='C' and album_name = 'D'\"\n",
    "try:\n",
    "    rows = session.execute(query)\n",
    "except Exception as e:\n",
    "    print(e)\n",
    "    \n",
    "for row in rows:\n",
    "    print (row.year, row.album_name, row.artist_name)"
   ]
  },
  {
   "cell_type": "markdown",
   "metadata": {},
   "source": [
    "### Creating an Index"
   ]
  },
  {
   "cell_type": "code",
   "execution_count": 18,
   "metadata": {},
   "outputs": [],
   "source": [
    "try:\n",
    "    session.execute('CREATE INDEX indexname ON music_library  (album_name);')\n",
    "except Exception as e:\n",
    "    print(e)"
   ]
  },
  {
   "cell_type": "markdown",
   "metadata": {},
   "source": [
    "### Order By"
   ]
  },
  {
   "cell_type": "code",
   "execution_count": 28,
   "metadata": {},
   "outputs": [
    {
     "name": "stdout",
     "output_type": "stream",
     "text": [
      "2001 B A\n",
      "2001 H E\n"
     ]
    }
   ],
   "source": [
    "#query = 'SELECT * FROM music_library ORDER BY YEAR'\n",
    "#query = 'SELECT * FROM music_library WHERE YEAR IN (2001,2002)'\n",
    "#query = 'SELECT * FROM music_library WHERE YEAR IN (2001,2002) ORDER BY YEAR DESC'\n",
    "#query = 'SELECT * FROM music_library WHERE YEAR IN (2001,2002) ORDER BY ARTIST_NAME DESC'\n",
    "#query = 'SELECT * FROM music_library ORDER BY ALBUM_NAME'\n",
    "#query = 'SELECT * FROM music_library WHERE YEAR = 2001 ORDER BY ALBUM_NAME'\n",
    "#query = 'SELECT * FROM music_library WHERE YEAR = 2001 ORDER BY ARTIST_NAME'\n",
    "\n",
    "try:\n",
    "    rows = session.execute(query)\n",
    "except Exception as e:\n",
    "    print(e)\n",
    "    \n",
    "for row in rows:\n",
    "    print (row.year, row.album_name, row.artist_name)"
   ]
  },
  {
   "cell_type": "markdown",
   "metadata": {},
   "source": [
    "### Group By"
   ]
  },
  {
   "cell_type": "code",
   "execution_count": 31,
   "metadata": {},
   "outputs": [
    {
     "name": "stdout",
     "output_type": "stream",
     "text": [
      "2001 B A\n",
      "2001 H E\n",
      "2002 D C\n",
      "2002 F G\n",
      "1970 Let it Be The Beatles\n"
     ]
    }
   ],
   "source": [
    "#query = 'SELECT * FROM music_library Group By Year'\n",
    "#query = 'SELECT * FROM music_library Group By artist_name'\n",
    "query = 'SELECT * FROM music_library Group By year, artist_name'\n",
    "# query = 'SELECT * FROM music_library Group By album_name'\n",
    "\n",
    "try:\n",
    "    rows = session.execute(query)\n",
    "except Exception as e:\n",
    "    print(e)\n",
    "    \n",
    "for row in rows:\n",
    "    print (row.year, row.album_name, row.artist_name)"
   ]
  },
  {
   "cell_type": "markdown",
   "metadata": {},
   "source": [
    "### Aggregations "
   ]
  },
  {
   "cell_type": "code",
   "execution_count": 44,
   "metadata": {},
   "outputs": [
    {
     "name": "stdout",
     "output_type": "stream",
     "text": [
      "Row(system_avg_sales=3250)\n"
     ]
    }
   ],
   "source": [
    "# query = 'SELECT count(*) FROM music_library'\n",
    "# query = 'SELECT max(year) FROM music_library'\n",
    "# query = 'SELECT min(year) FROM music_library'\n",
    "# query = 'SELECT sum(sales) FROM music_library'\n",
    "# query = 'SELECT avg(sales) FROM music_library'\n",
    "# query = 'SELECT avg(sales) FROM music_library where year = 2001'\n",
    "# query = 'SELECT avg(sales) FROM music_library where year in (2001,2002)'\n",
    "\n",
    "\n",
    "try:\n",
    "    rows = session.execute(query)\n",
    "except Exception as e:\n",
    "    print(e)\n",
    "    \n",
    "for row in rows:\n",
    "    print (row)"
   ]
  },
  {
   "cell_type": "markdown",
   "metadata": {},
   "source": [
    "### Altering Records "
   ]
  },
  {
   "cell_type": "code",
   "execution_count": 49,
   "metadata": {},
   "outputs": [
    {
     "name": "stdout",
     "output_type": "stream",
     "text": [
      "Row(year=2001, artist_name='A', album_name='B', sales=1000)\n",
      "Row(year=2001, artist_name='E', album_name='H', sales=2000)\n",
      "Row(year=2002, artist_name='C', album_name='D', sales=5000)\n",
      "Row(year=2002, artist_name='G', album_name='F', sales=5000)\n",
      "Row(year=1970, artist_name='The Beatles', album_name='Let it Be', sales=10000)\n"
     ]
    }
   ],
   "source": [
    "# query = 'UPDATE music_library SET sales=10000 WHERE year = 1970'\n",
    "query = \"UPDATE music_library SET sales=10000 WHERE year = 1970 and artist_name = 'The Beatles'\"\n",
    "\n",
    "try:\n",
    "    session.execute(query)\n",
    "    rows = session.execute('SELECT * FROM music_library')\n",
    "except Exception as e:\n",
    "    print(e)\n",
    "    \n",
    "for row in rows:\n",
    "    print (row)"
   ]
  },
  {
   "cell_type": "markdown",
   "metadata": {},
   "source": [
    "### Drop the table and keyspace to avoid duplicates and clean up. "
   ]
  },
  {
   "cell_type": "code",
   "execution_count": 50,
   "metadata": {},
   "outputs": [],
   "source": [
    "query = \"drop table music_library\"\n",
    "try:\n",
    "    session.execute(query)\n",
    "except Exception as e:\n",
    "    print(e)\n",
    "    "
   ]
  },
  {
   "cell_type": "code",
   "execution_count": 51,
   "metadata": {},
   "outputs": [
    {
     "name": "stdout",
     "output_type": "stream",
     "text": [
      "Row(keyspace_name='system', type='keyspace', name='system')\n",
      "Row(keyspace_name='system_auth', type='keyspace', name='system_auth')\n",
      "Row(keyspace_name='system_distributed', type='keyspace', name='system_distributed')\n",
      "Row(keyspace_name='system_schema', type='keyspace', name='system_schema')\n",
      "Row(keyspace_name='system_traces', type='keyspace', name='system_traces')\n",
      "Row(keyspace_name='system_views', type='keyspace', name='system_views')\n",
      "Row(keyspace_name='system_virtual_schema', type='keyspace', name='system_virtual_schema')\n"
     ]
    }
   ],
   "source": [
    "try: \n",
    "    session.execute(\"\"\"DROP KEYSPACE demokeyspace\"\"\")\n",
    "    rows = session.execute(\"\"\"DESCRIBE keyspaces\"\"\")\n",
    "except Exception as e:\n",
    "    print(e)\n",
    "\n",
    "for row in rows:\n",
    "    print (row)"
   ]
  },
  {
   "cell_type": "markdown",
   "metadata": {},
   "source": [
    "### Close the session and cluster connection"
   ]
  },
  {
   "cell_type": "code",
   "execution_count": 53,
   "metadata": {},
   "outputs": [],
   "source": [
    "session.shutdown()\n",
    "cluster.shutdown()"
   ]
  }
 ],
 "metadata": {
  "kernelspec": {
   "display_name": "Python 3 (ipykernel)",
   "language": "python",
   "name": "python3"
  },
  "language_info": {
   "codemirror_mode": {
    "name": "ipython",
    "version": 3
   },
   "file_extension": ".py",
   "mimetype": "text/x-python",
   "name": "python",
   "nbconvert_exporter": "python",
   "pygments_lexer": "ipython3",
   "version": "3.9.7"
  }
 },
 "nbformat": 4,
 "nbformat_minor": 2
}
