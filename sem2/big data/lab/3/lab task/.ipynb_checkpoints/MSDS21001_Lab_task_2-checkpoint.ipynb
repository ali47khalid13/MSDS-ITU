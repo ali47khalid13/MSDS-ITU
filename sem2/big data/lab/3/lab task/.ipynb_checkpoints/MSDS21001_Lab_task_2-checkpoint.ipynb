{
 "cells": [
  {
   "cell_type": "markdown",
   "id": "28c7bd56",
   "metadata": {},
   "source": [
    "### Lab Task: Cassandra Practice \n",
    "#### To Do Steps:\n",
    "1. Create a keyspace with simple strategy and repliccation factor of 2\n",
    "2. Create a column family that can store the following information of a student \n",
    "<ul><li>Student Roll Number</li>\n",
    "<li>Student Name</li>\n",
    "<li>Enrolled Course (Each student can have multiple courses)</li>\n",
    "<li>Semester (E.g Spring 2022)</li>\n",
    "<li>Percentage of Marks Obtained By Students in Each Enrolled Course</li>\n",
    "<li>Grade Obtained By Students in Each Enrolled Course</li>\n",
    "<li>GPA Obtained By Students in Each Enrolled Course</li>\n",
    "<li>If a student is Fresh or Repeating the Course</li></ul>\n",
    "3. Now insert data of 5 Distinct and none or 1 with repeatation for each student \n",
    "4. Thier should be data of atleast 10 students\n",
    "5. Now you have to explore following insights from data\n",
    "<ul><li>Display semester wise students in a sorted way. For example all student in Spring 2022 sorted on the basis of percentages they obtained.</li>\n",
    "<li>Display only students that are enrolled in specific semester.</li>\n",
    "<li>Display only students that are enrolled in specific course.</li>\n",
    "<li>Students having grade 'A' in a specific course in a given semester. (For example I want to see who scored 'A' in Deep Learning)</li>\n",
    "<li>Students who are repeating specific course in a given semester.</li>\n",
    "<li>Total Number of students who are repeating specific course in a given semester.</li>\n",
    "<li>In which course a student obtained maximum or minimum percentange.</li>\n",
    "<li>Can you calculate the CGPA of each student using the data you created.</li></ul>"
   ]
  },
  {
   "cell_type": "code",
   "execution_count": 1,
   "id": "dd79495e",
   "metadata": {},
   "outputs": [],
   "source": [
    "import cassandra\n",
    "from cassandra.cluster import Cluster\n",
    "try: \n",
    "    cluster = Cluster(['127.0.0.1'], port=9042) \n",
    "    session = cluster.connect()\n",
    "except Exception as e:\n",
    "    print(e)"
   ]
  },
  {
   "cell_type": "markdown",
   "id": "ddb2e782",
   "metadata": {},
   "source": [
    "**Step 1**: Create a keyspace with simple strategy and repliccation factor of 2"
   ]
  },
  {
   "cell_type": "code",
   "execution_count": 2,
   "id": "cb22b586",
   "metadata": {},
   "outputs": [
    {
     "name": "stdout",
     "output_type": "stream",
     "text": [
      "Row(keyspace_name='system_auth', durable_writes=True, replication=OrderedMapSerializedKey([('class', 'org.apache.cassandra.locator.SimpleStrategy'), ('replication_factor', '1')]))\n",
      "Row(keyspace_name='system_schema', durable_writes=True, replication=OrderedMapSerializedKey([('class', 'org.apache.cassandra.locator.LocalStrategy')]))\n",
      "Row(keyspace_name='system_distributed', durable_writes=True, replication=OrderedMapSerializedKey([('class', 'org.apache.cassandra.locator.SimpleStrategy'), ('replication_factor', '3')]))\n",
      "Row(keyspace_name='system', durable_writes=True, replication=OrderedMapSerializedKey([('class', 'org.apache.cassandra.locator.LocalStrategy')]))\n",
      "Row(keyspace_name='system_traces', durable_writes=True, replication=OrderedMapSerializedKey([('class', 'org.apache.cassandra.locator.SimpleStrategy'), ('replication_factor', '2')]))\n",
      "Row(keyspace_name='university', durable_writes=True, replication=OrderedMapSerializedKey([('class', 'org.apache.cassandra.locator.SimpleStrategy'), ('replication_factor', '2')]))\n"
     ]
    }
   ],
   "source": [
    "try:\n",
    "    session.execute(\"\"\"\n",
    "    CREATE KEYSPACE IF NOT EXISTS university \n",
    "    WITH REPLICATION = \n",
    "    { 'class' : 'SimpleStrategy', 'replication_factor' : 2 }\"\"\"\n",
    ")   \n",
    "    rows = session.execute(\"\"\"SELECT * FROM system_schema.keyspaces\"\"\")\n",
    "except Exception as e:\n",
    "    print(e)\n",
    "    \n",
    "for row in rows:\n",
    "    print (row)"
   ]
  },
  {
   "cell_type": "code",
   "execution_count": 3,
   "id": "e7399957",
   "metadata": {},
   "outputs": [],
   "source": [
    "try:\n",
    "    session.set_keyspace('university')\n",
    "except Exception as e:\n",
    "    print(e)"
   ]
  },
  {
   "cell_type": "markdown",
   "id": "d6d15ee3",
   "metadata": {},
   "source": [
    "**Step 2**: Create a column family that can store the following information of a student \n",
    "<ul><li>Student Roll Number</li>\n",
    "<li>Student Name</li>\n",
    "<li>Enrolled Course (Each student can have multiple courses)</li>\n",
    "<li>Semester (E.g Spring 2022)</li>\n",
    "<li>Percentage of Marks Obtained By Students in Each Enrolled Course</li>\n",
    "<li>Grade Obtained By Students in Each Enrolled Course</li>\n",
    "<li>GPA Obtained By Students in Each Enrolled Course</li>\n",
    "<li>If a student is Fresh or Repeating the Course</li></ul>"
   ]
  },
  {
   "cell_type": "code",
   "execution_count": 4,
   "id": "3d48e69b",
   "metadata": {},
   "outputs": [],
   "source": [
    "query = \"\"\"CREATE TABLE IF NOT EXISTS record (s_rn int, s_name text, e_course text, semester text, percentage float, grade text, gpa float, status text,\n",
    "PRIMARY KEY (semester, percentage));\"\"\"\n",
    "\n",
    "try:\n",
    "    session.execute(\"drop table if exists record\")\n",
    "    session.execute(query)\n",
    "except Exception as e:\n",
    "    print(e)"
   ]
  },
  {
   "cell_type": "markdown",
   "id": "9b70f475",
   "metadata": {},
   "source": [
    "**Step 3 and 4**\n",
    "* Now insert data of 5 Distinct and none or 1 with repeatation for each student \n",
    "* Thier should be data of atleast 10 students"
   ]
  },
  {
   "cell_type": "code",
   "execution_count": 5,
   "id": "c2d53444",
   "metadata": {},
   "outputs": [
    {
     "name": "stdout",
     "output_type": "stream",
     "text": [
      "Row(semester='Spring 2022', percentage=50.5, e_course='BD', gpa=3.5999999046325684, grade='E', s_name='S-5', s_rn=5, status='Fresh')\n",
      "Row(semester='Spring 2022', percentage=60.599998474121094, e_course='ML', gpa=3.700000047683716, grade='D', s_name='S-4', s_rn=4, status='Fresh')\n",
      "Row(semester='Spring 2022', percentage=70.69999694824219, e_course='DL', gpa=3.799999952316284, grade='C', s_name='S-3', s_rn=3, status='Fresh')\n",
      "Row(semester='Spring 2022', percentage=80.80000305175781, e_course='BD', gpa=3.9000000953674316, grade='B', s_name='S-2', s_rn=2, status='Fresh')\n",
      "Row(semester='Spring 2022', percentage=90.9000015258789, e_course='ML', gpa=4.0, grade='A', s_name='S-1', s_rn=1, status='Fresh')\n",
      "Row(semester='Fall 2022', percentage=50.5, e_course='DL', gpa=3.5999999046325684, grade='E', s_name='S-1', s_rn=1, status='Repeating')\n",
      "Row(semester='Fall 2022', percentage=60.599998474121094, e_course='ML', gpa=3.700000047683716, grade='D', s_name='S-2', s_rn=2, status='Repeating')\n",
      "Row(semester='Fall 2022', percentage=70.69999694824219, e_course='BD', gpa=3.799999952316284, grade='C', s_name='S-3', s_rn=3, status='Repeating')\n",
      "Row(semester='Fall 2022', percentage=80.80000305175781, e_course='DL', gpa=3.9000000953674316, grade='B', s_name='S-4', s_rn=4, status='Repeating')\n",
      "Row(semester='Fall 2022', percentage=90.9000015258789, e_course='ML', gpa=4.0, grade='A', s_name='S-5', s_rn=5, status='Repeating')\n"
     ]
    }
   ],
   "source": [
    "from cassandra.query import BatchStatement\n",
    "\n",
    "data = [[1,'S-1','ML','Spring 2022', 90.9, 'A', 4.0, 'Fresh'],\n",
    "        [2,'S-2','BD','Spring 2022', 80.8, 'B', 3.9, 'Fresh'],\n",
    "        [3,'S-3','DL','Spring 2022', 70.7, 'C', 3.8, 'Fresh'],\n",
    "        [4,'S-4','ML','Spring 2022', 60.6, 'D', 3.7, 'Fresh'],\n",
    "        [5,'S-5','BD','Spring 2022', 50.5, 'E', 3.6, 'Fresh'],\n",
    "        [1,'S-1','DL','Fall 2022', 50.5, 'E', 3.6, 'Repeating'],\n",
    "        [2,'S-2','ML','Fall 2022', 60.6, 'D', 3.7, 'Repeating'],\n",
    "        [3,'S-3','BD','Fall 2022', 70.7, 'C', 3.8, 'Repeating'],\n",
    "        [4,'S-4','DL','Fall 2022', 80.8, 'B', 3.9, 'Repeating'],\n",
    "        [5,'S-5','ML','Fall 2022', 90.9, 'A', 4, 'Repeating']] \n",
    "\n",
    "prepared = session.prepare(\"INSERT INTO record (s_rn, s_name, e_course, semester, percentage, grade, gpa, status) VALUES (?,?,?,?,?,?,?,?)\")\n",
    "try:\n",
    "    batch = BatchStatement()\n",
    "    for i in range(len(data)):\n",
    "        batch.add(prepared, (data[i][0], data[i][1], data[i][2], data[i][3], data[i][4], data[i][5], data[i][6], data[i][7]))\n",
    "    \n",
    "    session.execute(batch)\n",
    "    rows = session.execute('SELECT * FROM record')\n",
    "except Exception as e:\n",
    "    print(e)\n",
    "    \n",
    "for row in rows:\n",
    "    print (row)"
   ]
  },
  {
   "cell_type": "markdown",
   "id": "334252fb",
   "metadata": {},
   "source": [
    "**Step 5**: Now you have to explore following insights from data"
   ]
  },
  {
   "cell_type": "markdown",
   "id": "a93a5089",
   "metadata": {},
   "source": [
    "* Display semester wise students in a sorted way. For example all student in Spring 2022 sorted on the basis of percentages they obtained."
   ]
  },
  {
   "cell_type": "code",
   "execution_count": 6,
   "id": "8dfdff7e",
   "metadata": {},
   "outputs": [
    {
     "name": "stdout",
     "output_type": "stream",
     "text": [
      "Row(semester='Spring 2022', percentage=50.5, e_course='BD', gpa=3.5999999046325684, grade='E', s_name='S-5', s_rn=5, status='Fresh')\n",
      "Row(semester='Spring 2022', percentage=60.599998474121094, e_course='ML', gpa=3.700000047683716, grade='D', s_name='S-4', s_rn=4, status='Fresh')\n",
      "Row(semester='Spring 2022', percentage=70.69999694824219, e_course='DL', gpa=3.799999952316284, grade='C', s_name='S-3', s_rn=3, status='Fresh')\n",
      "Row(semester='Spring 2022', percentage=80.80000305175781, e_course='BD', gpa=3.9000000953674316, grade='B', s_name='S-2', s_rn=2, status='Fresh')\n",
      "Row(semester='Spring 2022', percentage=90.9000015258789, e_course='ML', gpa=4.0, grade='A', s_name='S-1', s_rn=1, status='Fresh')\n"
     ]
    }
   ],
   "source": [
    "query = \"SELECT * FROM record WHERE semester = 'Spring 2022' ORDER BY percentage\"\n",
    "try:\n",
    "    rows = session.execute(query)\n",
    "except Exception as e:\n",
    "    print(e)\n",
    "    \n",
    "for row in rows:\n",
    "    print (row)"
   ]
  },
  {
   "cell_type": "markdown",
   "id": "2a02d937",
   "metadata": {},
   "source": [
    "* Display only students that are enrolled in specific semester."
   ]
  },
  {
   "cell_type": "code",
   "execution_count": 7,
   "id": "cbc0750a",
   "metadata": {},
   "outputs": [
    {
     "name": "stdout",
     "output_type": "stream",
     "text": [
      "Row(semester='Spring 2022', percentage=50.5, e_course='BD', gpa=3.5999999046325684, grade='E', s_name='S-5', s_rn=5, status='Fresh')\n",
      "Row(semester='Spring 2022', percentage=60.599998474121094, e_course='ML', gpa=3.700000047683716, grade='D', s_name='S-4', s_rn=4, status='Fresh')\n",
      "Row(semester='Spring 2022', percentage=70.69999694824219, e_course='DL', gpa=3.799999952316284, grade='C', s_name='S-3', s_rn=3, status='Fresh')\n",
      "Row(semester='Spring 2022', percentage=80.80000305175781, e_course='BD', gpa=3.9000000953674316, grade='B', s_name='S-2', s_rn=2, status='Fresh')\n",
      "Row(semester='Spring 2022', percentage=90.9000015258789, e_course='ML', gpa=4.0, grade='A', s_name='S-1', s_rn=1, status='Fresh')\n"
     ]
    }
   ],
   "source": [
    "query = \"SELECT * FROM record WHERE semester = 'Spring 2022'\"\n",
    "try:\n",
    "    rows = session.execute(query)\n",
    "except Exception as e:\n",
    "    print(e)\n",
    "    \n",
    "for row in rows:\n",
    "    print (row)"
   ]
  },
  {
   "cell_type": "markdown",
   "id": "237d48b7",
   "metadata": {},
   "source": [
    "* Display only students that are enrolled in specific course"
   ]
  },
  {
   "cell_type": "code",
   "execution_count": 8,
   "id": "ec83b23b",
   "metadata": {},
   "outputs": [
    {
     "name": "stdout",
     "output_type": "stream",
     "text": [
      "Row(semester='Spring 2022', percentage=60.599998474121094, e_course='ML', gpa=3.700000047683716, grade='D', s_name='S-4', s_rn=4, status='Fresh')\n",
      "Row(semester='Spring 2022', percentage=90.9000015258789, e_course='ML', gpa=4.0, grade='A', s_name='S-1', s_rn=1, status='Fresh')\n",
      "Row(semester='Fall 2022', percentage=60.599998474121094, e_course='ML', gpa=3.700000047683716, grade='D', s_name='S-2', s_rn=2, status='Repeating')\n",
      "Row(semester='Fall 2022', percentage=90.9000015258789, e_course='ML', gpa=4.0, grade='A', s_name='S-5', s_rn=5, status='Repeating')\n"
     ]
    }
   ],
   "source": [
    "query = \"SELECT * FROM record WHERE e_course = 'ML' AllOW FILTERING\"\n",
    "try:\n",
    "    rows = session.execute(query)\n",
    "except Exception as e:\n",
    "    print(e)\n",
    "    \n",
    "for row in rows:\n",
    "    print (row)"
   ]
  },
  {
   "cell_type": "markdown",
   "id": "ce96a87c",
   "metadata": {},
   "source": [
    "* Students having grade 'A' in a specific course in a given semester. (For example I want to see who scored 'A' in Deep Learning)"
   ]
  },
  {
   "cell_type": "code",
   "execution_count": 9,
   "id": "a583450f",
   "metadata": {},
   "outputs": [
    {
     "name": "stdout",
     "output_type": "stream",
     "text": [
      "Row(semester='Spring 2022', percentage=90.9000015258789, e_course='ML', gpa=4.0, grade='A', s_name='S-1', s_rn=1, status='Fresh')\n"
     ]
    }
   ],
   "source": [
    "query = \"SELECT * FROM record WHERE semester = 'Spring 2022' and e_course ='ML' and grade = 'A' ALLOW FILTERING\"\n",
    "try:\n",
    "    rows = session.execute(query)\n",
    "except Exception as e:\n",
    "    print(e)\n",
    "    \n",
    "for row in rows:\n",
    "    print (row)"
   ]
  },
  {
   "cell_type": "markdown",
   "id": "f7690584",
   "metadata": {},
   "source": [
    "* Students who are repeating specific course in a given semester"
   ]
  },
  {
   "cell_type": "code",
   "execution_count": 10,
   "id": "5d4ce3ca",
   "metadata": {},
   "outputs": [
    {
     "name": "stdout",
     "output_type": "stream",
     "text": [
      "Row(semester='Fall 2022', percentage=60.599998474121094, e_course='ML', gpa=3.700000047683716, grade='D', s_name='S-2', s_rn=2, status='Repeating')\n",
      "Row(semester='Fall 2022', percentage=90.9000015258789, e_course='ML', gpa=4.0, grade='A', s_name='S-5', s_rn=5, status='Repeating')\n"
     ]
    }
   ],
   "source": [
    "query = \"SELECT * FROM record WHERE semester = 'Fall 2022' and e_course ='ML' and status = 'Repeating' ALLOW FILTERING\"\n",
    "try:\n",
    "    rows = session.execute(query)\n",
    "except Exception as e:\n",
    "    print(e)\n",
    "    \n",
    "for row in rows:\n",
    "    print (row)"
   ]
  },
  {
   "cell_type": "markdown",
   "id": "cf9571cd",
   "metadata": {},
   "source": [
    "* Total Number of students who are repeating specific course in a given semester"
   ]
  },
  {
   "cell_type": "code",
   "execution_count": 11,
   "id": "8b43d4c5",
   "metadata": {},
   "outputs": [
    {
     "name": "stdout",
     "output_type": "stream",
     "text": [
      "Row(count=2)\n"
     ]
    }
   ],
   "source": [
    "query = \"SELECT count(*) FROM record WHERE semester = 'Fall 2022' and e_course ='ML' and status = 'Repeating' ALLOW FILTERING\"\n",
    "try:\n",
    "    rows = session.execute(query)\n",
    "except Exception as e:\n",
    "    print(e)\n",
    "    \n",
    "for row in rows:\n",
    "    print (row)"
   ]
  },
  {
   "cell_type": "markdown",
   "id": "156fb13c",
   "metadata": {},
   "source": [
    "* In which course a student obtained maximum or minimum percentange."
   ]
  },
  {
   "cell_type": "code",
   "execution_count": 12,
   "id": "e8c7391a",
   "metadata": {},
   "outputs": [
    {
     "name": "stdout",
     "output_type": "stream",
     "text": [
      "Row(system_max_percentage=90.9000015258789, system_min_percentage=50.5)\n"
     ]
    }
   ],
   "source": [
    "query = \"SELECT MAX(percentage), MIN(PERCENTAGE) FROM record WHERE s_rn = 1 ALLOW FILTERING\"\n",
    "try:\n",
    "    rows = session.execute(query)\n",
    "except Exception as e:\n",
    "    print(e)\n",
    "    \n",
    "for row in rows:\n",
    "    print (row)"
   ]
  },
  {
   "cell_type": "markdown",
   "id": "b3c8cf46",
   "metadata": {},
   "source": [
    "* Can you calculate the CGPA of each student using the data you created.\n",
    "\n",
    "We dont have the actual credit hours for each course. So, we wont be able to calculate CGPA. But, considering that CGPA is average of GPA in each course (all course have same  credit hourse) we can calculate cgpa for student as follows."
   ]
  },
  {
   "cell_type": "code",
   "execution_count": 13,
   "id": "6606cbdb",
   "metadata": {},
   "outputs": [
    {
     "name": "stdout",
     "output_type": "stream",
     "text": [
      "Row(system_avg_gpa=3.799999952316284)\n"
     ]
    }
   ],
   "source": [
    "query = \"SELECT AVG(gpa) FROM record WHERE s_rn = 1 ALLOW FILTERING\"\n",
    "try:\n",
    "    rows = session.execute(query)\n",
    "except Exception as e:\n",
    "    print(e)\n",
    "    \n",
    "for row in rows:\n",
    "    print (row)"
   ]
  }
 ],
 "metadata": {
  "kernelspec": {
   "display_name": "Python 3 (ipykernel)",
   "language": "python",
   "name": "python3"
  },
  "language_info": {
   "codemirror_mode": {
    "name": "ipython",
    "version": 3
   },
   "file_extension": ".py",
   "mimetype": "text/x-python",
   "name": "python",
   "nbconvert_exporter": "python",
   "pygments_lexer": "ipython3",
   "version": "3.9.7"
  }
 },
 "nbformat": 4,
 "nbformat_minor": 5
}
