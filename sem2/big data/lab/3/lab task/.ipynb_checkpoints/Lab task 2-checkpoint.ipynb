{
 "cells": [
  {
   "cell_type": "markdown",
   "id": "e841efde",
   "metadata": {},
   "source": [
    "### Lab Task: Cassandra Practice \n",
    "#### To Do Steps:\n",
    "1. Create a keyspace with simple strategy and repliccation factor of 2\n",
    "2. Create a column family that can store the following information of a student \n",
    "<ul><li>Student Roll Number</li>\n",
    "<li>Student Name</li>\n",
    "<li>Enrolled Course (Each student can have multiple courses)</li>\n",
    "<li>Semester (E.g Spring 2022)</li>\n",
    "<li>Percentage of Marks Obtained By Students in Each Enrolled Course</li>\n",
    "<li>Grade Obtained By Students in Each Enrolled Course</li>\n",
    "<li>GPA Obtained By Students in Each Enrolled Course</li>\n",
    "<li>If a student is Fresh or Repeating the Course</li></ul>\n",
    "3. Now insert data of 5 Distinct and none or 1 with repeatation for each student \n",
    "4. Thier should be data of atleast 10 students\n",
    "5. Now you have to explore following insights from data\n",
    "<ul><li>Display semester wise students in a sorted way. For example all student in Spring 2022 sorted on the basis of percentages they obtained.</li>\n",
    "<li>Display only students that are enrolled in specific semester.</li>\n",
    "<li>Display only students that are enrolled in specific course.</li>\n",
    "<li>Students having grade 'A' in a specific course in a given semester. (For example I want to see who scored 'A' in Deep Learning)</li>\n",
    "<li>Students who are repeating specific course in a given semester.</li>\n",
    "<li>Total Number of students who are repeating specific course in a given semester.</li>\n",
    "<li>In which course a student obtained maximum or minimum percentange.</li>\n",
    "<li>Can you calculate the CGPA of each student using the data you created.</li></ul>"
   ]
  }
 ],
 "metadata": {
  "kernelspec": {
   "display_name": "Python 3 (ipykernel)",
   "language": "python",
   "name": "python3"
  },
  "language_info": {
   "codemirror_mode": {
    "name": "ipython",
    "version": 3
   },
   "file_extension": ".py",
   "mimetype": "text/x-python",
   "name": "python",
   "nbconvert_exporter": "python",
   "pygments_lexer": "ipython3",
   "version": "3.9.7"
  }
 },
 "nbformat": 4,
 "nbformat_minor": 5
}
