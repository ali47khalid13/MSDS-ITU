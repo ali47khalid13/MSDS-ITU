{
 "cells": [
  {
   "cell_type": "code",
   "execution_count": 1,
   "id": "8815c4ac",
   "metadata": {},
   "outputs": [],
   "source": [
    "import findspark"
   ]
  },
  {
   "cell_type": "code",
   "execution_count": 2,
   "id": "d81160f7",
   "metadata": {},
   "outputs": [],
   "source": [
    "findspark.init()"
   ]
  },
  {
   "cell_type": "code",
   "execution_count": 3,
   "id": "29e02789",
   "metadata": {},
   "outputs": [],
   "source": [
    "from pyspark.sql import SparkSession"
   ]
  },
  {
   "cell_type": "code",
   "execution_count": 4,
   "id": "d5565892",
   "metadata": {},
   "outputs": [],
   "source": [
    "spark = SparkSession.builder.appName('dag').getOrCreate()"
   ]
  },
  {
   "cell_type": "code",
   "execution_count": 5,
   "id": "8e1ba659",
   "metadata": {},
   "outputs": [
    {
     "data": {
      "text/plain": [
       "'http://SaadTariq:4040'"
      ]
     },
     "execution_count": 5,
     "metadata": {},
     "output_type": "execute_result"
    }
   ],
   "source": [
    "spark._jsc.sc().uiWebUrl().get()"
   ]
  },
  {
   "cell_type": "code",
   "execution_count": 6,
   "id": "4aa48b39",
   "metadata": {},
   "outputs": [],
   "source": [
    "# df = spark.read.csv(\"sales_info.csv\",header=True)"
   ]
  },
  {
   "cell_type": "code",
   "execution_count": 7,
   "id": "89c6dce1",
   "metadata": {},
   "outputs": [],
   "source": [
    "# df.show()"
   ]
  },
  {
   "cell_type": "markdown",
   "id": "812df564",
   "metadata": {},
   "source": [
    "## Group By"
   ]
  },
  {
   "cell_type": "code",
   "execution_count": 8,
   "id": "9ac3dc4a",
   "metadata": {},
   "outputs": [],
   "source": [
    "# company = df.groupby('Company')"
   ]
  },
  {
   "cell_type": "code",
   "execution_count": 9,
   "id": "a7ec54f7",
   "metadata": {},
   "outputs": [],
   "source": [
    "# type(df.groupby('Company'))"
   ]
  },
  {
   "cell_type": "code",
   "execution_count": 10,
   "id": "9ff01f59",
   "metadata": {},
   "outputs": [],
   "source": [
    "# type(company)"
   ]
  },
  {
   "cell_type": "code",
   "execution_count": 11,
   "id": "cd133362",
   "metadata": {},
   "outputs": [],
   "source": [
    "# company.agg({'Sales':'avg'}).show()"
   ]
  },
  {
   "cell_type": "code",
   "execution_count": 12,
   "id": "5d436bfe",
   "metadata": {},
   "outputs": [],
   "source": [
    "# type(company.agg({'Sales':'avg'}))"
   ]
  },
  {
   "cell_type": "code",
   "execution_count": 13,
   "id": "8666d606",
   "metadata": {},
   "outputs": [],
   "source": [
    "df = spark.read.json('sparkify_log_small.json')"
   ]
  },
  {
   "cell_type": "code",
   "execution_count": 19,
   "id": "58da0f3d",
   "metadata": {},
   "outputs": [
    {
     "name": "stdout",
     "output_type": "stream",
     "text": [
      "root\n",
      " |-- artist: string (nullable = true)\n",
      " |-- auth: string (nullable = true)\n",
      " |-- firstName: string (nullable = true)\n",
      " |-- gender: string (nullable = true)\n",
      " |-- itemInSession: long (nullable = true)\n",
      " |-- lastName: string (nullable = true)\n",
      " |-- length: double (nullable = true)\n",
      " |-- level: string (nullable = true)\n",
      " |-- location: string (nullable = true)\n",
      " |-- method: string (nullable = true)\n",
      " |-- page: string (nullable = true)\n",
      " |-- registration: long (nullable = true)\n",
      " |-- sessionId: long (nullable = true)\n",
      " |-- song: string (nullable = true)\n",
      " |-- status: long (nullable = true)\n",
      " |-- ts: long (nullable = true)\n",
      " |-- userAgent: string (nullable = true)\n",
      " |-- userId: string (nullable = true)\n",
      "\n"
     ]
    }
   ],
   "source": [
    "df.printSchema()"
   ]
  },
  {
   "cell_type": "code",
   "execution_count": 45,
   "id": "ed55fa88",
   "metadata": {},
   "outputs": [
    {
     "name": "stdout",
     "output_type": "stream",
     "text": [
      "Number of Null Artists: 1653\n"
     ]
    }
   ],
   "source": [
    "print(\"Number of Null Artists: {}\".format(df.filter('artist is NULL').count()))"
   ]
  },
  {
   "cell_type": "markdown",
   "id": "ae215405",
   "metadata": {},
   "source": [
    "## Dropping Artist that contains null values"
   ]
  },
  {
   "cell_type": "code",
   "execution_count": 47,
   "id": "108048f5",
   "metadata": {},
   "outputs": [],
   "source": [
    "df = df.filter('artist is not NULL')"
   ]
  },
  {
   "cell_type": "code",
   "execution_count": 48,
   "id": "27561822",
   "metadata": {},
   "outputs": [
    {
     "name": "stdout",
     "output_type": "stream",
     "text": [
      "Number of Null Artists: 0\n"
     ]
    }
   ],
   "source": [
    "print(\"Number of Null Artists: {}\".format(df.filter('artist is NULL').count()))"
   ]
  },
  {
   "cell_type": "markdown",
   "id": "fc4f20bf",
   "metadata": {},
   "source": [
    "## Exploring Gender Column"
   ]
  },
  {
   "cell_type": "code",
   "execution_count": 49,
   "id": "315efe2a",
   "metadata": {},
   "outputs": [
    {
     "name": "stdout",
     "output_type": "stream",
     "text": [
      "Number of Gender Missing: 0\n"
     ]
    }
   ],
   "source": [
    "print(\"Number of Gender Missing: {}\".format(df.filter('gender is NULL').count()))"
   ]
  },
  {
   "cell_type": "markdown",
   "id": "a6085664",
   "metadata": {},
   "source": [
    "## Importing Spark Functions"
   ]
  },
  {
   "cell_type": "code",
   "execution_count": 22,
   "id": "7a82cd25",
   "metadata": {},
   "outputs": [],
   "source": [
    "from pyspark.sql.functions import countDistinct,count,avg,sum,stddev"
   ]
  },
  {
   "cell_type": "markdown",
   "id": "54b06133",
   "metadata": {},
   "source": [
    "## Counting Number of Rows"
   ]
  },
  {
   "cell_type": "code",
   "execution_count": 50,
   "id": "72c84672",
   "metadata": {},
   "outputs": [
    {
     "name": "stdout",
     "output_type": "stream",
     "text": [
      "Number of Rows: 8347\n"
     ]
    }
   ],
   "source": [
    "print(\"Number of Rows: {}\".format(df.count()))"
   ]
  },
  {
   "cell_type": "markdown",
   "id": "9634f920",
   "metadata": {},
   "source": [
    "## Counting Number of Distinct Artists"
   ]
  },
  {
   "cell_type": "code",
   "execution_count": 51,
   "id": "83d138dd",
   "metadata": {},
   "outputs": [
    {
     "name": "stdout",
     "output_type": "stream",
     "text": [
      "+--------------+\n",
      "|Unique Artists|\n",
      "+--------------+\n",
      "|          3617|\n",
      "+--------------+\n",
      "\n"
     ]
    }
   ],
   "source": [
    "distinct_artists = df.select(countDistinct('artist').alias('Unique Artists'))\n",
    "distinct_artists.show()"
   ]
  },
  {
   "cell_type": "markdown",
   "id": "8a887c90",
   "metadata": {},
   "source": [
    "## Checking Number of Times each song has been played once"
   ]
  },
  {
   "cell_type": "code",
   "execution_count": 54,
   "id": "8bf735cc",
   "metadata": {},
   "outputs": [
    {
     "name": "stdout",
     "output_type": "stream",
     "text": [
      "+------------+\n",
      "|Unique Songs|\n",
      "+------------+\n",
      "|        6125|\n",
      "+------------+\n",
      "\n"
     ]
    }
   ],
   "source": [
    "distinct_song = df.select(countDistinct('song').alias('Unique Songs'))\n",
    "distinct_song.show()"
   ]
  },
  {
   "cell_type": "markdown",
   "id": "e62f9d47",
   "metadata": {},
   "source": [
    "## Counting Which Artist has more albums"
   ]
  },
  {
   "cell_type": "code",
   "execution_count": 60,
   "id": "e6d573c3",
   "metadata": {},
   "outputs": [],
   "source": [
    "artist_albums = df.groupBy('artist').agg(count('*').alias('Albums Count'))"
   ]
  },
  {
   "cell_type": "code",
   "execution_count": 61,
   "id": "3831e8bc",
   "metadata": {},
   "outputs": [
    {
     "name": "stdout",
     "output_type": "stream",
     "text": [
      "+--------------------+------------+\n",
      "|              artist|Albums Count|\n",
      "+--------------------+------------+\n",
      "|            Coldplay|          83|\n",
      "|       Kings Of Leon|          69|\n",
      "|Florence + The Ma...|          52|\n",
      "|            BjÃÂ¶rk|          46|\n",
      "|       Dwight Yoakam|          45|\n",
      "|       Justin Bieber|          43|\n",
      "|      The Black Keys|          40|\n",
      "|         OneRepublic|          37|\n",
      "|        Jack Johnson|          36|\n",
      "|                Muse|          36|\n",
      "+--------------------+------------+\n",
      "only showing top 10 rows\n",
      "\n"
     ]
    }
   ],
   "source": [
    "artist_albums.sort(artist_albums['Albums Count'].desc()).show(10)"
   ]
  },
  {
   "cell_type": "markdown",
   "id": "420bb1f6",
   "metadata": {},
   "source": [
    "## Counting Which Song has been Played More"
   ]
  },
  {
   "cell_type": "code",
   "execution_count": 58,
   "id": "466dca69",
   "metadata": {},
   "outputs": [],
   "source": [
    "max_song = df.groupBy('song').agg(count('*').alias('Song Played Most'))"
   ]
  },
  {
   "cell_type": "code",
   "execution_count": 59,
   "id": "3d259036",
   "metadata": {},
   "outputs": [
    {
     "name": "stdout",
     "output_type": "stream",
     "text": [
      "+--------------------+----------------+\n",
      "|                song|Song Played Most|\n",
      "+--------------------+----------------+\n",
      "|      You're The One|              46|\n",
      "|                Undo|              44|\n",
      "|Horn Concerto No....|              28|\n",
      "|             Secrets|              25|\n",
      "|Dog Days Are Over...|              23|\n",
      "|       Sehr kosmisch|              22|\n",
      "|             Revelry|              22|\n",
      "|              Yellow|              21|\n",
      "|        Use Somebody|              19|\n",
      "|              Canada|              18|\n",
      "+--------------------+----------------+\n",
      "only showing top 10 rows\n",
      "\n"
     ]
    }
   ],
   "source": [
    "max_song.sort(max_song['Song Played Most'].desc()).show(10)"
   ]
  },
  {
   "cell_type": "markdown",
   "id": "31cb35a2",
   "metadata": {},
   "source": [
    "## Checking Which Gender has more interest in Songs"
   ]
  },
  {
   "cell_type": "code",
   "execution_count": 74,
   "id": "5c97c455",
   "metadata": {},
   "outputs": [],
   "source": [
    "gender = df.groupBy('gender').agg(count('*').alias('Songs Played By Gender'))"
   ]
  },
  {
   "cell_type": "code",
   "execution_count": 75,
   "id": "2f944e7b",
   "metadata": {},
   "outputs": [
    {
     "name": "stdout",
     "output_type": "stream",
     "text": [
      "+------+----------------------+\n",
      "|gender|Songs Played By Gender|\n",
      "+------+----------------------+\n",
      "|     M|                  5082|\n",
      "|     F|                  3265|\n",
      "+------+----------------------+\n",
      "\n"
     ]
    }
   ],
   "source": [
    "gender.sort(gender['Songs Played By Gender'].desc()).show()"
   ]
  },
  {
   "cell_type": "code",
   "execution_count": 79,
   "id": "bd9a0002",
   "metadata": {},
   "outputs": [],
   "source": [
    "# df.groupBy('gender').agg(count('*').alias('Songs Played By Gender')).orderBy('Songs Played By Gender',ascending=False).show()"
   ]
  },
  {
   "cell_type": "markdown",
   "id": "d03e6278",
   "metadata": {},
   "source": [
    "## Checking Songs that have maximum length"
   ]
  },
  {
   "cell_type": "code",
   "execution_count": 66,
   "id": "5541986e",
   "metadata": {},
   "outputs": [],
   "source": [
    "df.createOrReplaceTempView('Table')"
   ]
  },
  {
   "cell_type": "code",
   "execution_count": 82,
   "id": "4e04148a",
   "metadata": {},
   "outputs": [
    {
     "name": "stdout",
     "output_type": "stream",
     "text": [
      "+--------------------+----------+\n",
      "|                song|    length|\n",
      "+--------------------+----------+\n",
      "|This Dust Makes T...| 1806.8371|\n",
      "|240 Years Before ...| 1400.2673|\n",
      "|240 Years Before ...| 1400.2673|\n",
      "|On The Mountain A...|1278.45832|\n",
      "|            Two Step|1141.52444|\n",
      "+--------------------+----------+\n",
      "\n"
     ]
    }
   ],
   "source": [
    "spark.sql(\"SELECT song,length FROM Table ORDER BY length DESC LIMIT 5\").show()"
   ]
  },
  {
   "cell_type": "code",
   "execution_count": 90,
   "id": "531027ef",
   "metadata": {},
   "outputs": [
    {
     "name": "stdout",
     "output_type": "stream",
     "text": [
      "+--------------------+----------+\n",
      "|                song|    length|\n",
      "+--------------------+----------+\n",
      "|This Dust Makes T...| 1806.8371|\n",
      "|240 Years Before ...| 1400.2673|\n",
      "|On The Mountain A...|1278.45832|\n",
      "|            Two Step|1141.52444|\n",
      "|     Blackwater Park|1139.59138|\n",
      "+--------------------+----------+\n",
      "\n"
     ]
    }
   ],
   "source": [
    "spark.sql(\"SELECT DISTINCT(song), length FROM table ORDER BY length DESC LIMIT 5\").show()"
   ]
  },
  {
   "cell_type": "markdown",
   "id": "cff9f134",
   "metadata": {},
   "source": [
    "## Checking Average Length of Songs"
   ]
  },
  {
   "cell_type": "code",
   "execution_count": 93,
   "id": "aa954004",
   "metadata": {},
   "outputs": [
    {
     "name": "stdout",
     "output_type": "stream",
     "text": [
      "+-----------------+\n",
      "|      avg(length)|\n",
      "+-----------------+\n",
      "|249.6486587492506|\n",
      "+-----------------+\n",
      "\n"
     ]
    }
   ],
   "source": [
    "spark.sql(\"SELECT AVG(length) FROM table\").show()"
   ]
  },
  {
   "cell_type": "markdown",
   "id": "314be151",
   "metadata": {},
   "source": [
    "## SPARK SQL"
   ]
  },
  {
   "cell_type": "markdown",
   "id": "9df95c9d",
   "metadata": {},
   "source": [
    "**Counting Number of Rows in Data Frame**"
   ]
  },
  {
   "cell_type": "code",
   "execution_count": 103,
   "id": "abe3e5e1",
   "metadata": {},
   "outputs": [
    {
     "name": "stdout",
     "output_type": "stream",
     "text": [
      "+----------+\n",
      "|Total_Rows|\n",
      "+----------+\n",
      "|      8347|\n",
      "+----------+\n",
      "\n"
     ]
    }
   ],
   "source": [
    "spark.sql('SELECT COUNT(*) AS Total_Rows FROM table').show()"
   ]
  },
  {
   "cell_type": "markdown",
   "id": "b61f605f",
   "metadata": {},
   "source": [
    "**Counting Number of Unique Rows in Data Frame**"
   ]
  },
  {
   "cell_type": "code",
   "execution_count": 102,
   "id": "835b1342",
   "metadata": {},
   "outputs": [
    {
     "name": "stdout",
     "output_type": "stream",
     "text": [
      "+-------------+\n",
      "|Distinct_Rows|\n",
      "+-------------+\n",
      "|         8347|\n",
      "+-------------+\n",
      "\n"
     ]
    }
   ],
   "source": [
    "spark.sql('SELECT COUNT(DISTINCT(*)) AS Distinct_Rows FROM Table').show()"
   ]
  },
  {
   "cell_type": "code",
   "execution_count": null,
   "id": "91a2c55f",
   "metadata": {},
   "outputs": [],
   "source": []
  }
 ],
 "metadata": {
  "kernelspec": {
   "display_name": "Python 3 (ipykernel)",
   "language": "python",
   "name": "python3"
  },
  "language_info": {
   "codemirror_mode": {
    "name": "ipython",
    "version": 3
   },
   "file_extension": ".py",
   "mimetype": "text/x-python",
   "name": "python",
   "nbconvert_exporter": "python",
   "pygments_lexer": "ipython3",
   "version": "3.9.7"
  }
 },
 "nbformat": 4,
 "nbformat_minor": 5
}
