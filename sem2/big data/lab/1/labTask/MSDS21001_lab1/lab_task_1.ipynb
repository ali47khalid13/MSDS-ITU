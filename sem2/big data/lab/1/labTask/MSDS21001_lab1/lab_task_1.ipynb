{
 "cells": [
  {
   "cell_type": "markdown",
   "id": "4257bf27",
   "metadata": {},
   "source": [
    "# LAB TASK 1\n",
    "\n",
    "Practice of CRUD operations"
   ]
  },
  {
   "cell_type": "markdown",
   "id": "04b3efd5",
   "metadata": {},
   "source": [
    "# Basic Setup"
   ]
  },
  {
   "cell_type": "markdown",
   "id": "2c963add",
   "metadata": {},
   "source": [
    "**Import libraries**"
   ]
  },
  {
   "cell_type": "code",
   "execution_count": 1,
   "id": "a7a3a2ed",
   "metadata": {},
   "outputs": [],
   "source": [
    "import psycopg2"
   ]
  },
  {
   "cell_type": "markdown",
   "id": "19f5b5b4",
   "metadata": {},
   "source": [
    "**Create connection to database**"
   ]
  },
  {
   "cell_type": "code",
   "execution_count": 2,
   "id": "9f72bc54",
   "metadata": {},
   "outputs": [],
   "source": [
    "try: \n",
    "    conn = psycopg2.connect(\"host=127.0.0.1 user=postgres password=ali123ali\")\n",
    "except psycopg2.Error as e: \n",
    "    print(\"Error: Could not make connection to the Postgres database\")\n",
    "    print(e)"
   ]
  },
  {
   "cell_type": "markdown",
   "id": "3ff97d47",
   "metadata": {},
   "source": [
    "**Get a cursor**"
   ]
  },
  {
   "cell_type": "code",
   "execution_count": 3,
   "id": "8f88332c",
   "metadata": {},
   "outputs": [],
   "source": [
    "try: \n",
    "    cur = conn.cursor()\n",
    "except psycopg2.Error as e: \n",
    "    print(\"Error: Could not get curser to the Database\")\n",
    "    print(e)"
   ]
  },
  {
   "cell_type": "markdown",
   "id": "a73e67e0",
   "metadata": {},
   "source": [
    "**Enable autocommit**"
   ]
  },
  {
   "cell_type": "code",
   "execution_count": 4,
   "id": "e576fb33",
   "metadata": {},
   "outputs": [],
   "source": [
    "conn.set_session(autocommit=True)"
   ]
  },
  {
   "cell_type": "markdown",
   "id": "579c22c0",
   "metadata": {},
   "source": [
    "# Create Database "
   ]
  },
  {
   "cell_type": "markdown",
   "id": "426449e8",
   "metadata": {},
   "source": [
    "Create database using the Entity-Relation Diagram (ERD) below\n",
    "<img src=\"schema.png\">"
   ]
  },
  {
   "cell_type": "code",
   "execution_count": 5,
   "id": "16e3d686",
   "metadata": {},
   "outputs": [
    {
     "name": "stdout",
     "output_type": "stream",
     "text": [
      "database \"bookstore\" already exists\n",
      "\n"
     ]
    }
   ],
   "source": [
    "# create database\n",
    "try: \n",
    "    cur.execute(\"CREATE DATABASE bookstore;\")\n",
    "except psycopg2.Error as e:\n",
    "    print(e)"
   ]
  },
  {
   "cell_type": "code",
   "execution_count": 6,
   "id": "7736d48e",
   "metadata": {},
   "outputs": [],
   "source": [
    "# close connection to default database     \n",
    "try: \n",
    "    conn.close()\n",
    "except psycopg2.Error as e:\n",
    "    print(e)"
   ]
  },
  {
   "cell_type": "code",
   "execution_count": 7,
   "id": "817d7ee9",
   "metadata": {},
   "outputs": [],
   "source": [
    "# connect to the created data base\n",
    "try: \n",
    "    conn = psycopg2.connect(\"host=127.0.0.1 dbname=bookstore user=postgres password=ali123ali\")\n",
    "except psycopg2.Error as e: \n",
    "    print(\"Error: Could not make connection to the Postgres database\")\n",
    "    print(e)"
   ]
  },
  {
   "cell_type": "code",
   "execution_count": 8,
   "id": "28a3f18f",
   "metadata": {},
   "outputs": [],
   "source": [
    "# create a cursor\n",
    "try: \n",
    "    cur = conn.cursor()\n",
    "except psycopg2.Error as e: \n",
    "    print(\"Error: Could not get curser to the Database\")\n",
    "    print(e)"
   ]
  },
  {
   "cell_type": "code",
   "execution_count": 9,
   "id": "d2bf9f02",
   "metadata": {},
   "outputs": [],
   "source": [
    "# enable autocommit\n",
    "conn.set_session(autocommit=True)"
   ]
  },
  {
   "cell_type": "markdown",
   "id": "91b741d0",
   "metadata": {},
   "source": [
    "## Create tables"
   ]
  },
  {
   "cell_type": "markdown",
   "id": "11cfd008",
   "metadata": {},
   "source": [
    "**AUTHOR**"
   ]
  },
  {
   "cell_type": "code",
   "execution_count": 10,
   "id": "8ec5f273",
   "metadata": {},
   "outputs": [],
   "source": [
    "cur.execute('DROP TABLE IF EXISTS AUTHOR CASCADE')\n",
    "query = \"\"\"CREATE TABLE IF NOT EXISTS AUTHOR \n",
    "(\n",
    "    Name VARCHAR(255), \n",
    "    Address VARCHAR(255),\n",
    "    Url VARCHAR(255),\n",
    "    PRIMARY KEY(Name,Address)\n",
    ");\"\"\"\n",
    "try: \n",
    "    cur.execute(query)\n",
    "except psycopg2.Error as e: \n",
    "    print(\"Error: Issue creating table\")\n",
    "    print (e)"
   ]
  },
  {
   "cell_type": "markdown",
   "id": "d762a12a",
   "metadata": {},
   "source": [
    "**PUBLISHER**"
   ]
  },
  {
   "cell_type": "code",
   "execution_count": 11,
   "id": "fd502e74",
   "metadata": {},
   "outputs": [],
   "source": [
    "cur.execute('DROP TABLE IF EXISTS PUBLISHER CASCADE')\n",
    "query = \"\"\"CREATE TABLE IF NOT EXISTS PUBLISHER \n",
    "(\n",
    "    Name VARCHAR(255), \n",
    "    Address VARCHAR(255),\n",
    "    Phone VARCHAR(255),\n",
    "    Url INT,\n",
    "    PRIMARY KEY(Name)\n",
    ");\"\"\"\n",
    "try: \n",
    "    cur.execute(query)\n",
    "except psycopg2.Error as e: \n",
    "    print(\"Error: Issue creating table\")\n",
    "    print (e)"
   ]
  },
  {
   "cell_type": "markdown",
   "id": "e27c66b4",
   "metadata": {},
   "source": [
    "**CUSTOMER**"
   ]
  },
  {
   "cell_type": "code",
   "execution_count": 12,
   "id": "dabb3012",
   "metadata": {},
   "outputs": [],
   "source": [
    "cur.execute('DROP TABLE IF EXISTS CUSTOMER CASCADE')\n",
    "query = \"\"\"CREATE TABLE IF NOT EXISTS CUSTOMER \n",
    "(\n",
    "    Name VARCHAR(255), \n",
    "    Address VARCHAR(255),\n",
    "    Phone VARCHAR(255),\n",
    "    Email VARCHAR(255),\n",
    "    PRIMARY KEY(Email)\n",
    ");\"\"\"\n",
    "try: \n",
    "    cur.execute(query)\n",
    "except psycopg2.Error as e: \n",
    "    print(\"Error: Issue creating table\")\n",
    "    print (e)"
   ]
  },
  {
   "cell_type": "markdown",
   "id": "e215c75f",
   "metadata": {},
   "source": [
    "**BOOK**"
   ]
  },
  {
   "cell_type": "code",
   "execution_count": 13,
   "id": "e4f0ace7",
   "metadata": {},
   "outputs": [],
   "source": [
    "cur.execute('DROP TABLE IF EXISTS BOOK CASCADE')\n",
    "query = \"\"\"CREATE TABLE IF NOT EXISTS BOOK \n",
    "(\n",
    "    ISBN VARCHAR(255), \n",
    "    PublisherName VARCHAR(255),\n",
    "    AuthorName VARCHAR(255),\n",
    "    AuthorAddress VARCHAR(255),\n",
    "    Year INT,\n",
    "    Title VARCHAR(255),\n",
    "    Price NUMERIC(19,0),\n",
    "    PRIMARY KEY(ISBN),\n",
    "    CONSTRAINT fkc_PublisherName FOREIGN KEY(PublisherName) REFERENCES PUBLISHER(Name) ON DELETE SET NULL,\n",
    "    CONSTRAINT fkc_AuthorName FOREIGN KEY(AuthorName, AuthorAddress) REFERENCES AUTHOR(Name,Address) ON DELETE SET NULL    \n",
    ");\"\"\"\n",
    "try: \n",
    "    cur.execute(query)\n",
    "except psycopg2.Error as e: \n",
    "    print(\"Error: Issue creating table\")\n",
    "    print (e)"
   ]
  },
  {
   "cell_type": "markdown",
   "id": "5b6da188",
   "metadata": {},
   "source": [
    "**SHOPPINGBASKET**"
   ]
  },
  {
   "cell_type": "code",
   "execution_count": 14,
   "id": "ff989436",
   "metadata": {},
   "outputs": [],
   "source": [
    "cur.execute('DROP TABLE IF EXISTS SHOPPINGBASKET CASCADE')\n",
    "query = \"\"\"CREATE TABLE IF NOT EXISTS SHOPPINGBASKET \n",
    "(\n",
    "    ID INT, \n",
    "    CustomerEmail VARCHAR(255),\n",
    "    PRIMARY KEY(ID),\n",
    "    CONSTRAINT fkc_CustomerEmail FOREIGN KEY(CustomerEmail) REFERENCES CUSTOMER(Email) ON DELETE SET NULL    \n",
    ");\"\"\"\n",
    "try: \n",
    "    cur.execute(query)\n",
    "except psycopg2.Error as e: \n",
    "    print(\"Error: Issue creating table\")\n",
    "    print (e)"
   ]
  },
  {
   "cell_type": "markdown",
   "id": "8d5b84e3",
   "metadata": {},
   "source": [
    "**SHOPPINGBASKET_BOOK**"
   ]
  },
  {
   "cell_type": "code",
   "execution_count": 15,
   "id": "f853169e",
   "metadata": {},
   "outputs": [],
   "source": [
    "cur.execute('DROP TABLE IF EXISTS SHOPPINGBASKET_BOOK CASCADE')\n",
    "query = \"\"\"CREATE TABLE IF NOT EXISTS SHOPPINGBASKET_BOOK \n",
    "(\n",
    "    ShoppingBasketID INT, \n",
    "    BookISBN VARCHAR(255),\n",
    "    Count INT,\n",
    "    PRIMARY KEY(ShoppingBasketID,BookISBN),\n",
    "    CONSTRAINT fkc_ShoppingBasketID FOREIGN KEY(ShoppingBasketID) REFERENCES SHOPPINGBASKET(ID) ON DELETE SET NULL,\n",
    "    CONSTRAINT fkc_BookISBN FOREIGN KEY(BookISBN) REFERENCES BOOK(ISBN) ON DELETE SET NULL   \n",
    ");\"\"\"\n",
    "try: \n",
    "    cur.execute(query)\n",
    "except psycopg2.Error as e: \n",
    "    print(\"Error: Issue creating table\")\n",
    "    print (e)"
   ]
  },
  {
   "cell_type": "markdown",
   "id": "96b61aa9",
   "metadata": {},
   "source": [
    "**WAREHOUSE**"
   ]
  },
  {
   "cell_type": "code",
   "execution_count": 16,
   "id": "46ee82a9",
   "metadata": {},
   "outputs": [],
   "source": [
    "cur.execute('DROP TABLE IF EXISTS WAREHOUSE CASCADE')\n",
    "query = \"\"\"CREATE TABLE IF NOT EXISTS WAREHOUSE \n",
    "(\n",
    "    Code INT, \n",
    "    Phone VARCHAR(255),\n",
    "    Address VARCHAR(255),\n",
    "    PRIMARY KEY(Code)\n",
    ");\"\"\"\n",
    "try: \n",
    "    cur.execute(query)\n",
    "except psycopg2.Error as e: \n",
    "    print(\"Error: Issue creating table\")\n",
    "    print (e)"
   ]
  },
  {
   "cell_type": "markdown",
   "id": "9243e1a4",
   "metadata": {},
   "source": [
    "**WAREHOUSE_BOOK**"
   ]
  },
  {
   "cell_type": "code",
   "execution_count": 17,
   "id": "5a6d256d",
   "metadata": {},
   "outputs": [],
   "source": [
    "cur.execute('DROP TABLE IF EXISTS WAREHOUSE_BOOK CASCADE')\n",
    "query = \"\"\"CREATE TABLE IF NOT EXISTS WAREHOUSE_BOOK \n",
    "(\n",
    "    WarehouseCode INT, \n",
    "    BookISBN VARCHAR(255),\n",
    "    Count INT,\n",
    "    PRIMARY KEY(WarehouseCode,BookISBN),\n",
    "    CONSTRAINT fkc_WarehouseCode FOREIGN KEY(WarehouseCode) REFERENCES WAREHOUSE(Code) ON DELETE SET NULL,\n",
    "    CONSTRAINT fkc_BookISBN FOREIGN KEY(BookISBN) REFERENCES BOOK(ISBN) ON DELETE SET NULL    \n",
    ");\"\"\"\n",
    "try: \n",
    "    cur.execute(query)\n",
    "except psycopg2.Error as e: \n",
    "    print(\"Error: Issue creating table\")\n",
    "    print (e)"
   ]
  },
  {
   "cell_type": "markdown",
   "id": "31751d9b",
   "metadata": {},
   "source": [
    "## Insert Data"
   ]
  },
  {
   "cell_type": "code",
   "execution_count": 18,
   "id": "21dfca98",
   "metadata": {},
   "outputs": [],
   "source": [
    "# Inster data in Author Table\n",
    "query = \"INSERT INTO AUTHOR (Name, Address, Url) VALUES (%s, %s, %s)\"\n",
    "data = [(\"Au1\",\"Lahore1\",\"http1\"),\n",
    "        (\"Au2\",\"Lahore2\",\"http2\"),\n",
    "        (\"Au3\",\"Lahore3\",\"http3\")]\n",
    "\n",
    "try:\n",
    "    cur.executemany(query,data)\n",
    "except psycopg2.Error as e: \n",
    "    print(\"Error: Inserting Rows\")\n",
    "    print (e)"
   ]
  },
  {
   "cell_type": "code",
   "execution_count": 19,
   "id": "d60f2b5d",
   "metadata": {},
   "outputs": [],
   "source": [
    "# Inster data in Publisher Table\n",
    "query = \"INSERT INTO PUBLISHER (Name, Address, Phone,Url) VALUES (%s, %s, %s , %s)\"\n",
    "data = [(\"Pub1\",\"Lahore1\",\"1\",1),\n",
    "        (\"Pub2\",\"Lahore2\",\"2\",2),\n",
    "        (\"Pub3\",\"Lahore3\",\"3\",3)]\n",
    "\n",
    "try:\n",
    "    cur.executemany(query,data)\n",
    "except psycopg2.Error as e: \n",
    "    print(\"Error: Inserting Rows\")\n",
    "    print (e)"
   ]
  },
  {
   "cell_type": "code",
   "execution_count": 20,
   "id": "24b78d5f",
   "metadata": {},
   "outputs": [],
   "source": [
    "# Inster data in Customer Table\n",
    "query = \"INSERT INTO CUSTOMER (Name, Address, Phone, Email) VALUES (%s, %s, %s , %s)\"\n",
    "data = [(\"Cus1\",\"Lahore1\",\"1\",\"1@gmail.com\"),\n",
    "        (\"Cus2\",\"Lahore2\",\"2\",\"2@gmail.com\"),\n",
    "        (\"Cus3\",\"Lahore3\",\"3\",\"3@gmail.com\")]\n",
    "\n",
    "try:\n",
    "    cur.executemany(query,data)\n",
    "except psycopg2.Error as e: \n",
    "    print(\"Error: Inserting Rows\")\n",
    "    print (e)"
   ]
  },
  {
   "cell_type": "code",
   "execution_count": 21,
   "id": "bea18e9b",
   "metadata": {},
   "outputs": [],
   "source": [
    "# Inster data in Book Table\n",
    "query = \"INSERT INTO BOOK (ISBN, PublisherName,AuthorName,AuthorAddress,Year,Title,Price) VALUES (%s,%s,%s,%s,%s,%s,%s)\"\n",
    "data = [(\"1\", \"Pub1\", \"Au1\",\"Lahore1\",1,\"T1\",1.1),\n",
    "        (\"2\", \"Pub2\", \"Au2\",\"Lahore2\",2,\"T2\",2.2),\n",
    "        (\"3\", \"Pub3\", \"Au3\",\"Lahore3\",3,\"T3\",3.3)]\n",
    "\n",
    "try:\n",
    "    cur.executemany(query,data)\n",
    "except psycopg2.Error as e: \n",
    "    print(\"Error: Inserting Rows\")\n",
    "    print (e)"
   ]
  },
  {
   "cell_type": "code",
   "execution_count": 22,
   "id": "47e8aac0",
   "metadata": {},
   "outputs": [],
   "source": [
    "# Inster data in ShoppingBasket Table\n",
    "query = \"INSERT INTO SHOPPINGBASKET (ID, CustomerEmail) VALUES (%s,%s)\"\n",
    "data = [(\"1\", \"1@gmail.com\"),\n",
    "        (\"2\", \"2@gmail.com\"),\n",
    "        (\"3\", \"3@gmail.com\")]\n",
    "\n",
    "try:\n",
    "    cur.executemany(query,data)\n",
    "except psycopg2.Error as e: \n",
    "    print(\"Error: Inserting Rows\")\n",
    "    print (e)\n"
   ]
  },
  {
   "cell_type": "code",
   "execution_count": 23,
   "id": "3dff86b9",
   "metadata": {},
   "outputs": [],
   "source": [
    "# Inster data in ShoppingBasket_book Table\n",
    "query = \"INSERT INTO SHOPPINGBASKET_BOOK (ShoppingBasketID, BookISBN, Count) VALUES (%s,%s, %s)\"\n",
    "data = [(\"1\", \"1\",1),\n",
    "        (\"2\", \"2\",2),\n",
    "        (\"3\", \"3\",3)]\n",
    "\n",
    "try:\n",
    "    cur.executemany(query,data)\n",
    "except psycopg2.Error as e: \n",
    "    print(\"Error: Inserting Rows\")\n",
    "    print (e)"
   ]
  },
  {
   "cell_type": "code",
   "execution_count": 24,
   "id": "7c3a47ca",
   "metadata": {},
   "outputs": [],
   "source": [
    "# Inster data in Warehouse Table\n",
    "query = \"INSERT INTO WAREHOUSE (Code, Phone, Address) VALUES (%s,%s, %s)\"\n",
    "data = [(1, \"1\",\"Lahore1\"),\n",
    "        (2, \"2\",\"Lahore2\"),\n",
    "        (3, \"3\",\"Lahore3\")]\n",
    "\n",
    "try:\n",
    "    cur.executemany(query,data)\n",
    "except psycopg2.Error as e: \n",
    "    print(\"Error: Inserting Rows\")\n",
    "    print (e)"
   ]
  },
  {
   "cell_type": "code",
   "execution_count": 25,
   "id": "21d23cf7",
   "metadata": {},
   "outputs": [],
   "source": [
    "# Inster data in Warehouse_Book Table\n",
    "query = \"INSERT INTO WAREHOUSE_BOOK (WarehouseCode, BookISBN, Count) VALUES (%s,%s, %s)\"\n",
    "data = [(1, \"1\",1),\n",
    "        (2, \"2\",2),\n",
    "        (3, \"3\",3)]\n",
    "\n",
    "try:\n",
    "    cur.executemany(query,data)\n",
    "except psycopg2.Error as e: \n",
    "    print(\"Error: Inserting Rows\")\n",
    "    print (e)"
   ]
  },
  {
   "cell_type": "markdown",
   "id": "b192bb66",
   "metadata": {},
   "source": [
    "# CRUD\n",
    "\n",
    "Create, Read, Update, Delete"
   ]
  },
  {
   "cell_type": "markdown",
   "id": "131f9254",
   "metadata": {},
   "source": [
    "## Create\n",
    "\n",
    "The create opperation has been performed above for createing tables"
   ]
  },
  {
   "cell_type": "markdown",
   "id": "fdacc382",
   "metadata": {},
   "source": [
    "## Read"
   ]
  },
  {
   "cell_type": "markdown",
   "id": "542f4db0",
   "metadata": {},
   "source": [
    "**Reading all data from the tables**"
   ]
  },
  {
   "cell_type": "code",
   "execution_count": 26,
   "id": "3f98c61a",
   "metadata": {},
   "outputs": [
    {
     "name": "stdout",
     "output_type": "stream",
     "text": [
      "('Au1', 'Lahore1', 'http1')\n",
      "('Au2', 'Lahore2', 'http2')\n",
      "('Au3', 'Lahore3', 'http3')\n"
     ]
    }
   ],
   "source": [
    "# Reading Author Table\n",
    "query = \"select * from AUTHOR\"\n",
    "cur.execute(query)\n",
    "rows = cur.fetchall()\n",
    "for row in rows:\n",
    "    print(row)"
   ]
  },
  {
   "cell_type": "code",
   "execution_count": 27,
   "id": "c904bc5f",
   "metadata": {},
   "outputs": [
    {
     "name": "stdout",
     "output_type": "stream",
     "text": [
      "('Pub1', 'Lahore1', '1', 1)\n",
      "('Pub2', 'Lahore2', '2', 2)\n",
      "('Pub3', 'Lahore3', '3', 3)\n"
     ]
    }
   ],
   "source": [
    "# Reading Publisher Table\n",
    "query = \"select * from Publisher\"\n",
    "cur.execute(query)\n",
    "rows = cur.fetchall()\n",
    "for row in rows:\n",
    "    print(row)"
   ]
  },
  {
   "cell_type": "code",
   "execution_count": 28,
   "id": "fc5637a9",
   "metadata": {},
   "outputs": [
    {
     "name": "stdout",
     "output_type": "stream",
     "text": [
      "('Cus1', 'Lahore1', '1', '1@gmail.com')\n",
      "('Cus2', 'Lahore2', '2', '2@gmail.com')\n",
      "('Cus3', 'Lahore3', '3', '3@gmail.com')\n"
     ]
    }
   ],
   "source": [
    "# Reading Customer Table\n",
    "query = \"select * from Customer\"\n",
    "cur.execute(query)\n",
    "rows = cur.fetchall()\n",
    "for row in rows:\n",
    "    print(row)"
   ]
  },
  {
   "cell_type": "code",
   "execution_count": 29,
   "id": "668e6657",
   "metadata": {},
   "outputs": [
    {
     "name": "stdout",
     "output_type": "stream",
     "text": [
      "('1', 'Pub1', 'Au1', 'Lahore1', 1, 'T1', Decimal('1'))\n",
      "('2', 'Pub2', 'Au2', 'Lahore2', 2, 'T2', Decimal('2'))\n",
      "('3', 'Pub3', 'Au3', 'Lahore3', 3, 'T3', Decimal('3'))\n"
     ]
    }
   ],
   "source": [
    "# Reading BOOK Table\n",
    "query = \"select * from BOOK\"\n",
    "cur.execute(query)\n",
    "rows = cur.fetchall()\n",
    "for row in rows:\n",
    "    print(row)"
   ]
  },
  {
   "cell_type": "code",
   "execution_count": 30,
   "id": "2eabf2c6",
   "metadata": {},
   "outputs": [
    {
     "name": "stdout",
     "output_type": "stream",
     "text": [
      "(1, '1@gmail.com')\n",
      "(2, '2@gmail.com')\n",
      "(3, '3@gmail.com')\n"
     ]
    }
   ],
   "source": [
    "# Reading ShoppingBasket Table\n",
    "query = \"select * from ShoppingBasket\"\n",
    "cur.execute(query)\n",
    "rows = cur.fetchall()\n",
    "for row in rows:\n",
    "    print(row)"
   ]
  },
  {
   "cell_type": "code",
   "execution_count": 31,
   "id": "70071a02",
   "metadata": {},
   "outputs": [
    {
     "name": "stdout",
     "output_type": "stream",
     "text": [
      "(1, '1', 1)\n",
      "(2, '2', 2)\n",
      "(3, '3', 3)\n"
     ]
    }
   ],
   "source": [
    "# Reading ShoppingBasket_book Table\n",
    "query = \"select * from ShoppingBasket_book\"\n",
    "cur.execute(query)\n",
    "rows = cur.fetchall()\n",
    "for row in rows:\n",
    "    print(row)"
   ]
  },
  {
   "cell_type": "code",
   "execution_count": 32,
   "id": "5ddac2d0",
   "metadata": {},
   "outputs": [
    {
     "name": "stdout",
     "output_type": "stream",
     "text": [
      "(1, '1', 'Lahore1')\n",
      "(2, '2', 'Lahore2')\n",
      "(3, '3', 'Lahore3')\n"
     ]
    }
   ],
   "source": [
    "# Reading Warehouse Table\n",
    "query = \"select * from Warehouse\"\n",
    "cur.execute(query)\n",
    "rows = cur.fetchall()\n",
    "for row in rows:\n",
    "    print(row)"
   ]
  },
  {
   "cell_type": "code",
   "execution_count": 33,
   "id": "bdb14437",
   "metadata": {},
   "outputs": [
    {
     "name": "stdout",
     "output_type": "stream",
     "text": [
      "(1, '1', 1)\n",
      "(2, '2', 2)\n",
      "(3, '3', 3)\n"
     ]
    }
   ],
   "source": [
    "# Reading Warehouse_book Table\n",
    "query = \"select * from Warehouse_book\"\n",
    "cur.execute(query)\n",
    "rows = cur.fetchall()\n",
    "for row in rows:\n",
    "    print(row)"
   ]
  },
  {
   "cell_type": "markdown",
   "id": "e360ea8d",
   "metadata": {},
   "source": [
    "**Reading with WHERE and JOIN**"
   ]
  },
  {
   "cell_type": "code",
   "execution_count": 34,
   "id": "fcd4b823",
   "metadata": {},
   "outputs": [
    {
     "name": "stdout",
     "output_type": "stream",
     "text": [
      "('Au1', 'Lahore1')\n",
      "('Au2', 'Lahore2')\n",
      "('Au3', 'Lahore3')\n"
     ]
    }
   ],
   "source": [
    "# Reading Author Table using WHERE\n",
    "query = \"select Name, Address from Author Where Name like 'Au%'\"\n",
    "cur.execute(query)\n",
    "rows = cur.fetchall()\n",
    "for row in rows:\n",
    "    print(row)"
   ]
  },
  {
   "cell_type": "code",
   "execution_count": 35,
   "id": "d34776f9",
   "metadata": {},
   "outputs": [
    {
     "name": "stdout",
     "output_type": "stream",
     "text": [
      "('1', 'Pub1', 'Au1', 'Lahore1', 1, 'T1', Decimal('1'), 'Pub1', 'Lahore1', '1', 1)\n",
      "('2', 'Pub2', 'Au2', 'Lahore2', 2, 'T2', Decimal('2'), 'Pub2', 'Lahore2', '2', 2)\n",
      "('3', 'Pub3', 'Au3', 'Lahore3', 3, 'T3', Decimal('3'), 'Pub3', 'Lahore3', '3', 3)\n"
     ]
    }
   ],
   "source": [
    "# Reading BOOK Table USING JOIN\n",
    "query = \"select * from Book JOIN Publisher ON book.publishername = publisher.name \"\n",
    "cur.execute(query)\n",
    "rows = cur.fetchall()\n",
    "for row in rows:\n",
    "    print(row)"
   ]
  },
  {
   "cell_type": "markdown",
   "id": "6a1ecbd4",
   "metadata": {},
   "source": [
    "## Update"
   ]
  },
  {
   "cell_type": "code",
   "execution_count": 36,
   "id": "3a283029",
   "metadata": {},
   "outputs": [
    {
     "name": "stdout",
     "output_type": "stream",
     "text": [
      "('Au1', 'Lahore1', 'http1')\n",
      "('Au2', 'Lahore2', 'http2')\n",
      "('Au3', 'Lahore3', 'http3')\n"
     ]
    }
   ],
   "source": [
    "# Before Upadte \n",
    "query = \"select * from Author\"\n",
    "cur.execute(query)\n",
    "rows = cur.fetchall()\n",
    "for row in rows:\n",
    "    print(row)"
   ]
  },
  {
   "cell_type": "code",
   "execution_count": 37,
   "id": "d158687b",
   "metadata": {},
   "outputs": [
    {
     "name": "stdout",
     "output_type": "stream",
     "text": [
      "('Au1', 'Lahore1', 'http1')\n",
      "('Au2', 'Lahore2', 'http2')\n",
      "('Au3', 'Lahore3', 'http3')\n"
     ]
    }
   ],
   "source": [
    "# After Update\n",
    "query = \"UPDATE Author SET Name = 'AliAli' where Name = 'Ali' and Address = 'Lahore1'\"\n",
    "cur.execute(query)\n",
    "\n",
    "query = \"select * from Author\"\n",
    "cur.execute(query)\n",
    "rows = cur.fetchall()\n",
    "for row in rows:\n",
    "    print(row)"
   ]
  },
  {
   "cell_type": "markdown",
   "id": "f62f8ae9",
   "metadata": {},
   "source": [
    "## Delete"
   ]
  },
  {
   "cell_type": "markdown",
   "id": "8e07a428",
   "metadata": {},
   "source": [
    "**Deleting Rows**"
   ]
  },
  {
   "cell_type": "code",
   "execution_count": 38,
   "id": "19dfa46d",
   "metadata": {},
   "outputs": [
    {
     "name": "stdout",
     "output_type": "stream",
     "text": [
      "('Au1', 'Lahore1', 'http1')\n",
      "('Au2', 'Lahore2', 'http2')\n",
      "('Au3', 'Lahore3', 'http3')\n"
     ]
    }
   ],
   "source": [
    "query = \"DELETE FROM Author WHERE Name= 'AliAli';\"\n",
    "cur.execute(query)\n",
    "\n",
    "query = \"select * from Author\"\n",
    "cur.execute(query)\n",
    "rows = cur.fetchall()\n",
    "for row in rows:\n",
    "    print(row)"
   ]
  },
  {
   "cell_type": "markdown",
   "id": "c8af7899",
   "metadata": {},
   "source": [
    "**Deleting tables**"
   ]
  },
  {
   "cell_type": "code",
   "execution_count": 39,
   "id": "fb89474e",
   "metadata": {},
   "outputs": [],
   "source": [
    "try: \n",
    "    cur.execute(\"DROP table IF EXISTS Author CASCADE\")\n",
    "except psycopg2.Error as e: \n",
    "    print(\"Error: Dropping table\")\n",
    "    print (e)"
   ]
  },
  {
   "cell_type": "markdown",
   "id": "06f0ee3e",
   "metadata": {},
   "source": [
    "# Closing cursor and connection"
   ]
  },
  {
   "cell_type": "code",
   "execution_count": 40,
   "id": "2c078cf2",
   "metadata": {},
   "outputs": [],
   "source": [
    "cur.close()\n",
    "conn.close()"
   ]
  }
 ],
 "metadata": {
  "kernelspec": {
   "display_name": "Python 3 (ipykernel)",
   "language": "python",
   "name": "python3"
  },
  "language_info": {
   "codemirror_mode": {
    "name": "ipython",
    "version": 3
   },
   "file_extension": ".py",
   "mimetype": "text/x-python",
   "name": "python",
   "nbconvert_exporter": "python",
   "pygments_lexer": "ipython3",
   "version": "3.9.7"
  }
 },
 "nbformat": 4,
 "nbformat_minor": 5
}
