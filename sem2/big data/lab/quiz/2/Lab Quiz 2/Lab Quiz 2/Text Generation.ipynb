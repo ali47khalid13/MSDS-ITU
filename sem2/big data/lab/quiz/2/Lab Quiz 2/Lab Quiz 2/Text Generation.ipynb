{
 "cells": [
  {
   "cell_type": "code",
   "execution_count": 2,
   "id": "21dfd790",
   "metadata": {},
   "outputs": [
    {
     "name": "stdout",
     "output_type": "stream",
     "text": [
      "Enter your Roll No: MSCS20029\n",
      "Anybody Anybody Anybody can can can can become become become angry angry angry angry that that is is easy easy but but to to be be be angry angry angry angry with with with the the the the right\n",
      "right person person and and to to the the right right right degree degree degree degree and and and at at at at the the right right time time and and for for the the the right right right\n",
      "right purpose purpose purpose and and and and in in the the right right way way that that is is is not not not not within within within everybodys everybodys everybodys everybodys power power and and is is not\n",
      "not easy easy Excellence Excellence Excellence is is is is an an an art art art art won won by by training training and and habituation habituation We We We do do do do not not not act act\n",
      "act act rightly rightly because because we we have have virtue virtue or or or excellence excellence excellence excellence but but but we we we we rather rather have have those those because because we we have have have\n",
      "acted acted acted acted rightly rightly rightly We We We We are are what what we we repeatedly repeatedly do do Excellence Excellence Excellence then then then then is is is not not not not an an act act\n",
      "but but a a habit habit The The The beauty beauty beauty beauty of of of the the the the soul soul shines shines out out when when a a man man man bears bears bears bears with with\n",
      "with composure composure composure composure one one heavy heavy mischance mischance after after another another not not not because because because because he he he does does does does not not feel feel them them but but because because\n",
      "he he he is is is is a a a man man man man of of high high and and heroic heroic temper temper\n"
     ]
    }
   ],
   "source": [
    "text = \"\"\"Anybody can become angry that is easy but to be angry with the right person and to the right\n",
    "degree and at the right time and for the right purpose and in the right way\n",
    "that is not within everybodys power and is not easy Excellence is an art won by training and habituation\n",
    "We do not act rightly because we have virtue or excellence but we rather have those because we have acted rightly \n",
    "We are what we repeatedly do Excellence then is not an act but a habit The beauty of the soul shines out when \n",
    "a man bears with composure one heavy mischance after another not because he does not feel them\n",
    "but because he is a man of high and heroic temper\"\"\".split()\n",
    "\n",
    "roll_no = input(\"Enter your Roll No: \")\n",
    "\n",
    "lt = len(text)\n",
    "lr = len(roll_no)\n",
    "gen_text = []\n",
    "j = 0\n",
    "for i in range(lt):\n",
    "    gen_text.append(str(text[i]+\" \") * (int(ord(roll_no[j]))//int(roll_no[4:6])))\n",
    "    j+=1\n",
    "    if j >= lr:\n",
    "        j=0\n",
    "        \n",
    "generated_text = ' '.join(gen_text)\n",
    "generated_text = generated_text.split()\n",
    "ch = int(roll_no[7:])+10\n",
    "lines = []\n",
    "i = 0\n",
    "while i < len(generated_text):\n",
    "    line = generated_text[i:i+(ch)]\n",
    "    lines.append(' '.join(line))\n",
    "    i+=ch\n",
    "    \n",
    "generated_text = '\\n'.join(lines) \n",
    "print(generated_text)"
   ]
  },
  {
   "cell_type": "code",
   "execution_count": null,
   "id": "c765e43a",
   "metadata": {},
   "outputs": [],
   "source": []
  }
 ],
 "metadata": {
  "kernelspec": {
   "display_name": "Python 3 (ipykernel)",
   "language": "python",
   "name": "python3"
  },
  "language_info": {
   "codemirror_mode": {
    "name": "ipython",
    "version": 3
   },
   "file_extension": ".py",
   "mimetype": "text/x-python",
   "name": "python",
   "nbconvert_exporter": "python",
   "pygments_lexer": "ipython3",
   "version": "3.9.7"
  }
 },
 "nbformat": 4,
 "nbformat_minor": 5
}
