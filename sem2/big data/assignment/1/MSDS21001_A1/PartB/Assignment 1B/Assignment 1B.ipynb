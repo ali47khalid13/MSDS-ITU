{
 "cells": [
  {
   "cell_type": "markdown",
   "metadata": {},
   "source": [
    "# Part I. ETL Pipeline for Pre-Processing the Files"
   ]
  },
  {
   "cell_type": "markdown",
   "metadata": {},
   "source": [
    "#### Import Python packages "
   ]
  },
  {
   "cell_type": "code",
   "execution_count": 1,
   "metadata": {},
   "outputs": [],
   "source": [
    "# Import Python packages \n",
    "import os\n",
    "import pandas as pd\n",
    "import math\n",
    "import warnings\n",
    "warnings.filterwarnings('ignore')\n",
    "\n",
    "import cassandra\n",
    "from cassandra.cluster import Cluster\n",
    "from cassandra.query import BatchStatement"
   ]
  },
  {
   "cell_type": "markdown",
   "metadata": {},
   "source": [
    "#### Creating list of filepaths to process original event csv data files"
   ]
  },
  {
   "cell_type": "code",
   "execution_count": 2,
   "metadata": {},
   "outputs": [],
   "source": [
    "# Write your code here\n",
    "dirName = 'youtube_event_data'\n",
    "listOfFile = os.listdir(dirName)\n",
    "allFiles = list()\n",
    "# Iterate over all the entries\n",
    "for entry in listOfFile:\n",
    "    # Create full path\n",
    "    fullPath = os.path.join(dirName, entry)\n",
    "    # If entry is a directory then get the list of files in this directory \n",
    "    if os.path.isdir(fullPath):\n",
    "        allFiles = allFiles + getListOfFiles(fullPath)\n",
    "    else:\n",
    "        allFiles.append(fullPath)"
   ]
  },
  {
   "cell_type": "markdown",
   "metadata": {},
   "source": [
    "#### Processing the CSV files to create the new `youtube_events_data_new.csv` file"
   ]
  },
  {
   "cell_type": "code",
   "execution_count": 3,
   "metadata": {},
   "outputs": [],
   "source": [
    "# Write your code here\n",
    "df = pd.DataFrame()\n",
    "for file in allFiles:\n",
    "    df1 = pd.read_csv (file)\n",
    "    df = df.append(df1)\n",
    "df.to_csv('youtube_events_data_new.csv') "
   ]
  },
  {
   "cell_type": "code",
   "execution_count": 4,
   "metadata": {},
   "outputs": [
    {
     "data": {
      "text/plain": [
       "8056"
      ]
     },
     "execution_count": 4,
     "metadata": {},
     "output_type": "execute_result"
    }
   ],
   "source": [
    "# check the number of rows in your new csv file\n",
    "df = pd.read_csv('youtube_events_data_new.csv')\n",
    "len(df)"
   ]
  },
  {
   "cell_type": "markdown",
   "metadata": {},
   "source": [
    "# Part II. Complete the Apache Cassandra coding portion of your project. "
   ]
  },
  {
   "cell_type": "markdown",
   "metadata": {},
   "source": [
    "**TODO: You have to complete the cell below with your `youtube_events_data_new.csv`columns and a screenshot of CSV file data**"
   ]
  },
  {
   "cell_type": "markdown",
   "metadata": {},
   "source": [
    "## The new CSV file titled `youtube_events_data_new.csv`, The event_datafile_new.csv contains the following columns: \n",
    "\n",
    "- Column 1\n",
    "- Column 2\n",
    "- Column 3\n",
    "- Column 4\n",
    ".\n",
    ".\n",
    ".\n",
    "\n",
    "\n",
    "The image below is a screenshot of what the denormalized data should appear like in the <font color=red>**youtube_events_data_new.csv**</font> after the code above is run:<br>\n",
    "\n",
    "<img src=\"images/i.jpg\">"
   ]
  },
  {
   "cell_type": "markdown",
   "metadata": {},
   "source": [
    "#### Creating a Cluster"
   ]
  },
  {
   "cell_type": "code",
   "execution_count": 5,
   "metadata": {},
   "outputs": [],
   "source": [
    "# Create a Cassandra Cluster\n",
    "try: \n",
    "    cluster = Cluster(['127.0.0.1'], port=9042) \n",
    "    session = cluster.connect()\n",
    "except Exception as e:\n",
    "    print(e)"
   ]
  },
  {
   "cell_type": "markdown",
   "metadata": {},
   "source": [
    "#### Create Keyspace `youtubedb`"
   ]
  },
  {
   "cell_type": "code",
   "execution_count": 6,
   "metadata": {},
   "outputs": [
    {
     "name": "stdout",
     "output_type": "stream",
     "text": [
      "Row(keyspace_name='system_auth', durable_writes=True, replication=OrderedMapSerializedKey([('class', 'org.apache.cassandra.locator.SimpleStrategy'), ('replication_factor', '1')]))\n",
      "Row(keyspace_name='system_schema', durable_writes=True, replication=OrderedMapSerializedKey([('class', 'org.apache.cassandra.locator.LocalStrategy')]))\n",
      "Row(keyspace_name='youtubedb', durable_writes=True, replication=OrderedMapSerializedKey([('class', 'org.apache.cassandra.locator.SimpleStrategy'), ('replication_factor', '1')]))\n",
      "Row(keyspace_name='system_distributed', durable_writes=True, replication=OrderedMapSerializedKey([('class', 'org.apache.cassandra.locator.SimpleStrategy'), ('replication_factor', '3')]))\n",
      "Row(keyspace_name='system', durable_writes=True, replication=OrderedMapSerializedKey([('class', 'org.apache.cassandra.locator.LocalStrategy')]))\n",
      "Row(keyspace_name='system_traces', durable_writes=True, replication=OrderedMapSerializedKey([('class', 'org.apache.cassandra.locator.SimpleStrategy'), ('replication_factor', '2')]))\n",
      "Row(keyspace_name='university', durable_writes=True, replication=OrderedMapSerializedKey([('class', 'org.apache.cassandra.locator.SimpleStrategy'), ('replication_factor', '2')]))\n"
     ]
    }
   ],
   "source": [
    "try:\n",
    "    session.execute(\"\"\"\n",
    "    CREATE KEYSPACE IF NOT EXISTS youtubedb \n",
    "    WITH REPLICATION = \n",
    "    { 'class' : 'SimpleStrategy', 'replication_factor' : 1 }\"\"\")\n",
    "    \n",
    "    rows = session.execute(\"\"\"SELECT * FROM system_schema.keyspaces\"\"\")\n",
    "except Exception as e:\n",
    "    print(e)\n",
    "    \n",
    "for row in rows:\n",
    "    print (row)"
   ]
  },
  {
   "cell_type": "markdown",
   "metadata": {},
   "source": [
    "#### Set Keyspace `youtubedb`"
   ]
  },
  {
   "cell_type": "code",
   "execution_count": 7,
   "metadata": {},
   "outputs": [],
   "source": [
    "try:\n",
    "    session.set_keyspace('youtubedb')\n",
    "except Exception as e:\n",
    "    print(e)"
   ]
  },
  {
   "cell_type": "markdown",
   "metadata": {},
   "source": [
    "#### Create Table `youtube`"
   ]
  },
  {
   "cell_type": "code",
   "execution_count": 8,
   "metadata": {},
   "outputs": [],
   "source": [
    "query = \"\"\"CREATE TABLE IF NOT EXISTS youtube (youtuber text, auth text, firstName text, gender text, itemInSession text, lastName text, length text, level text, location text, method text, page text, registration text, sessionId text, video text, status text,ts text,userId text, \n",
    "PRIMARY KEY (userId,sessionId,itemInSession));\"\"\"\n",
    "\n",
    "try:\n",
    "    session.execute(\"drop table if exists youtube\")\n",
    "    session.execute(query)\n",
    "except Exception as e:\n",
    "    print(e)"
   ]
  },
  {
   "cell_type": "markdown",
   "metadata": {},
   "source": [
    "#### Insert Data in `youtube`Tabel"
   ]
  },
  {
   "cell_type": "code",
   "execution_count": 9,
   "metadata": {},
   "outputs": [],
   "source": [
    "query = \"INSERT INTO youtube (youtuber,auth,firstName,gender,itemInSession,lastName,length,level,location,method,page,registration,sessionId,video,status,ts,userId)\"\n",
    "query = query + \" VALUES (?, ?, ?, ?, ?, ?, ?, ?, ?, ?, ?, ?, ?, ?, ?, ?,?)\"\n",
    "\n",
    "df = pd.read_csv('youtube_events_data_new.csv')\n",
    "data_all = df.values.astype('str')\n",
    "\n",
    "prepared = session.prepare(query)\n",
    "\n",
    "#dividing data into chunks\n",
    "chunks = 100\n",
    "chunk_size = math.ceil(len(data_all)/chunks)\n",
    "\n",
    "# loop over the chunks and insert it in keyspace\n",
    "for i in range(chunks): \n",
    "    if i==chunks-1:\n",
    "        data = data_all[i*chunk_size:-1]\n",
    "    else:\n",
    "        data = data_all[i*chunk_size:(i+1)*chunk_size]    \n",
    "    try:\n",
    "        batch = BatchStatement()\n",
    "        for i in range(len(data)):\n",
    "            batch.add(prepared, (data[i][1], data[i][2], data[i][3], data[i][4], data[i][5], data[i][6], data[i][7], data[i][8], data[i][9], data[i][10], data[i][11], data[i][12], data[i][13], data[i][14], data[i][15], data[i][16], data[i][17]))\n",
    "\n",
    "        session.execute(batch)\n",
    "    except Exception as e:\n",
    "        print(e)"
   ]
  },
  {
   "cell_type": "markdown",
   "metadata": {},
   "source": [
    "## Create queries to ask the following three questions of the data\n",
    "\n",
    "1. Give me the youtuber, video title and video's length in the YouTube app history that was heard during  sessionId = 338, and itemInSession  = 4\n",
    "\n",
    "\n",
    "2. Give me only the following: name of youtuber, video (sorted by itemInSession) and user (first and last name) for userid = 10, sessionid = 182\n",
    "    \n",
    "\n",
    "3. Give me every user name (first and last) in my YouTube app history who watched the video 'All Hands Against His Own'"
   ]
  },
  {
   "cell_type": "markdown",
   "metadata": {},
   "source": [
    "####  `Query 1`"
   ]
  },
  {
   "cell_type": "code",
   "execution_count": 10,
   "metadata": {},
   "outputs": [
    {
     "name": "stdout",
     "output_type": "stream",
     "text": [
      "Row(youtuber='Faithless', video='Music Matters (Mark Knight Dub)', length='495.3073')\n"
     ]
    }
   ],
   "source": [
    "query = \"select youtuber,video,length from youtube where sessionId = '338' and itemInSession='4' allow filtering\"\n",
    "try:\n",
    "    rows = session.execute(query)\n",
    "except Exception as e:\n",
    "    print(e)\n",
    "    \n",
    "for row in rows:\n",
    "    print(row)"
   ]
  },
  {
   "cell_type": "markdown",
   "metadata": {},
   "source": [
    "####  `Query 2`"
   ]
  },
  {
   "cell_type": "code",
   "execution_count": 11,
   "metadata": {},
   "outputs": [
    {
     "name": "stdout",
     "output_type": "stream",
     "text": [
      "Row(youtuber='Down To The Bone', video=\"Keep On Keepin' On\", firstname='Sylvie', lastname='Cruz')\n",
      "Row(youtuber='Three Drives', video='Greece 2000', firstname='Sylvie', lastname='Cruz')\n",
      "Row(youtuber='Sebastien Tellier', video='Kilometer', firstname='Sylvie', lastname='Cruz')\n",
      "Row(youtuber='Lonnie Gordon', video='Catch You Baby (Steve Pitron & Max Sanna Radio Edit)', firstname='Sylvie', lastname='Cruz')\n"
     ]
    }
   ],
   "source": [
    "query = \"select youtuber, video, firstname, lastname from youtube WHERE userId ='10.0' and sessionId ='182' allow filtering\"\n",
    "try:\n",
    "    rows = session.execute(query)\n",
    "except Exception as e:\n",
    "    print(e)\n",
    "    \n",
    "for row in rows:\n",
    "    print (row)"
   ]
  },
  {
   "cell_type": "markdown",
   "metadata": {},
   "source": [
    "####  `Query 3`"
   ]
  },
  {
   "cell_type": "code",
   "execution_count": 12,
   "metadata": {},
   "outputs": [
    {
     "name": "stdout",
     "output_type": "stream",
     "text": [
      "Row(firstname='Sara', lastname='Johnson')\n",
      "Row(firstname='Tegan', lastname='Levine')\n",
      "Row(firstname='Jacqueline', lastname='Lynch')\n"
     ]
    }
   ],
   "source": [
    "query = \"select firstname, lastname from youtube WHERE video ='All Hands Against His Own' ALLOW FILTERING\"\n",
    "try:\n",
    "    rows = session.execute(query)\n",
    "except Exception as e:\n",
    "    print(e)\n",
    "    \n",
    "for row in rows:\n",
    "    print(row)"
   ]
  },
  {
   "cell_type": "markdown",
   "metadata": {},
   "source": []
  },
  {
   "cell_type": "markdown",
   "metadata": {},
   "source": [
    "### Drop the tables before closing out the sessions"
   ]
  },
  {
   "cell_type": "code",
   "execution_count": 13,
   "metadata": {},
   "outputs": [],
   "source": [
    "# droping table\n",
    "query = \"drop table youtube\"\n",
    "try:\n",
    "    session.execute(query)\n",
    "except Exception as e:\n",
    "    print(e)"
   ]
  },
  {
   "cell_type": "code",
   "execution_count": 14,
   "metadata": {},
   "outputs": [
    {
     "name": "stdout",
     "output_type": "stream",
     "text": [
      "Row(keyspace_name='system', type='keyspace', name='system')\n",
      "Row(keyspace_name='system_auth', type='keyspace', name='system_auth')\n",
      "Row(keyspace_name='system_distributed', type='keyspace', name='system_distributed')\n",
      "Row(keyspace_name='system_schema', type='keyspace', name='system_schema')\n",
      "Row(keyspace_name='system_traces', type='keyspace', name='system_traces')\n",
      "Row(keyspace_name='system_views', type='keyspace', name='system_views')\n",
      "Row(keyspace_name='system_virtual_schema', type='keyspace', name='system_virtual_schema')\n",
      "Row(keyspace_name='university', type='keyspace', name='university')\n"
     ]
    }
   ],
   "source": [
    "# droping keyspace\n",
    "try: \n",
    "    session.execute(\"\"\"DROP KEYSPACE youtubedb\"\"\")\n",
    "    rows = session.execute(\"\"\"DESCRIBE keyspaces\"\"\")\n",
    "except Exception as e:\n",
    "    print(e)\n",
    "\n",
    "for row in rows:\n",
    "    print (row)"
   ]
  },
  {
   "cell_type": "markdown",
   "metadata": {},
   "source": [
    "### Close the session and cluster connection¶"
   ]
  },
  {
   "cell_type": "code",
   "execution_count": 15,
   "metadata": {},
   "outputs": [],
   "source": [
    "# clossing connection\n",
    "session.shutdown()\n",
    "cluster.shutdown()"
   ]
  }
 ],
 "metadata": {
  "kernelspec": {
   "display_name": "Python 3 (ipykernel)",
   "language": "python",
   "name": "python3"
  },
  "language_info": {
   "codemirror_mode": {
    "name": "ipython",
    "version": 3
   },
   "file_extension": ".py",
   "mimetype": "text/x-python",
   "name": "python",
   "nbconvert_exporter": "python",
   "pygments_lexer": "ipython3",
   "version": "3.9.7"
  }
 },
 "nbformat": 4,
 "nbformat_minor": 2
}
